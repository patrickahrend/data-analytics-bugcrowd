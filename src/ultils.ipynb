{
 "cells": [
  {
   "attachments": {},
   "cell_type": "markdown",
   "metadata": {},
   "source": [
    "## Looking for difference in data set "
   ]
  },
  {
   "cell_type": "code",
   "execution_count": 2,
   "metadata": {},
   "outputs": [],
   "source": [
    "import pandas as pd\n",
    "\n",
    "\n",
    "df_07_01= pd.read_excel('/Users/patrickahrend/Developer/data-analytics-bugcrowd/data-octa/Bugcrowd_all_programs_7_01.xlsx')\n",
    "df_24_12= pd.read_excel('/Users/patrickahrend/Developer/data-analytics-bugcrowd/data-octa/Bugcrowd_industry-asc_24.12.xlsx')"
   ]
  },
  {
   "cell_type": "code",
   "execution_count": 3,
   "metadata": {},
   "outputs": [],
   "source": [
    "\n",
    "list_df_07_01= df_07_01['ccinlineclamp2']\n",
    "list_df_24_12 = df_24_12['Name']"
   ]
  },
  {
   "cell_type": "code",
   "execution_count": 4,
   "metadata": {},
   "outputs": [
    {
     "name": "stdout",
     "output_type": "stream",
     "text": [
      "326\n",
      "263\n"
     ]
    }
   ],
   "source": [
    "set_df_07_01 = set(list_df_07_01)\n",
    "set_df_24_12 = set(list_df_24_12)\n",
    "\n",
    "print(len(set_df_07_01))\n",
    "print(len(set_df_24_12))"
   ]
  },
  {
   "cell_type": "code",
   "execution_count": 5,
   "metadata": {},
   "outputs": [
    {
     "name": "stdout",
     "output_type": "stream",
     "text": [
      "66\n",
      "{'Square Open Source', 'Wise (ex-TransferWise)', 'Leading threat management company needs your help !', 'Help Secure The Leader in Online Fundraising', 'Tamedia', 'U.S. Chemical Safety and Hazard Investigation Board - Vulnerability Disclosure Program', 'Santos Vulnerability Disclosure Program', 'Wyze Bug Bounty', 'OLX Autos', 'Fleet Management Application', 'Simplifying complex work wherever, and you can help secure it! (2x bonus rewards)', 'Upwork', 'Asana', 'Sky Disclosure Program', 'LifterLMS', 'HostGator Latam Bug Bounty', 'Chia Network', 'Office of Natural Resources Revenue', 'Newfold Vdeck Bug Bounty', 'Made in the USA', 'A Leading Financial Services and Insurance Company', 'A multinational telecommunications is looking for top talent to secure their huge attack surface!', 'MediaLab - Kik Vulnerability Disclosure Program', 'Hack Me!', \"WestJet's Vulnerability Disclosure Program\", 'Bullish.com', 'Help secure a shocking new eCommerce platform', 'Binance', 'Professional Counselling Provider', 'Moneytree KK', 'OneTrust', 'Mathematical software solutions provider', 'Intercom', 'Newfold Builder VDP', 'Caffeine', 'OLX EMEA', 'Appliances - Barracuda Networks, Inc.', 'Siteplus Vulnerability Disclosure Program', 'Xfinity Home & xFi', 'Latitude Financial Services Vulnerability Disclosure Program', 'Mettle', 'An electronics retailer would like your help!', 'Large US Insurance Provider', 'Ibotta', 'Netflix', 'Nine Entertainment Vulnerability Disclosure Program', 'Indeed', 'Retail Company', 'Application to find help around the house.', 'Bureau of Indian Affairs', 'Kistler Vulnerability Disclosure Program', 'NETGEAR Cash Rewards', 'IOOF Vulnerability Disclosure Program', 'Help Keep a Financial Company Secure!', 'Cisco Meraki', 'Bitget', 'Step Public Applications', 'The Scotts Miracle-Gro Company Responsible Disclosure', 'Square', 'U.S. Geological Survey', 'A consumer device maker is looking for help securing its hardware/software assets', 'Bullish exchange', 'Click here to submit a support ticket!', 'Arrow Electronics VDP', 'SoundCloud', 'Hostopia Australias Vulnerability Disclosure Program'}\n"
     ]
    }
   ],
   "source": [
    "difference = set_df_07_01.difference(set_df_24_12)\n",
    "print(len(difference))\n",
    "print(difference)"
   ]
  },
  {
   "attachments": {},
   "cell_type": "markdown",
   "metadata": {},
   "source": [
    "## Merging all data sets "
   ]
  },
  {
   "attachments": {},
   "cell_type": "markdown",
   "metadata": {},
   "source": [
    "### Features "
   ]
  },
  {
   "cell_type": "code",
   "execution_count": 6,
   "metadata": {},
   "outputs": [],
   "source": [
    "df_BCTEAMHUNT = pd.read_excel('/Users/patrickahrend/Developer/data-analytics-bugcrowd/discovery-page-data /featured/BCTeamHunt2022 - Discovery - Bugcrowd.xlsx')\n",
    "df_ATLASSiAN = pd.read_excel('/Users/patrickahrend/Developer/data-analytics-bugcrowd/discovery-page-data /featured/Explore Atlassian - Discovery - Bugcrowd.xlsx')\n",
    "df_HIGHESTREWARD = pd.read_excel('/Users/patrickahrend/Developer/data-analytics-bugcrowd/discovery-page-data /featured/Highest Reward Range - Discovery - Bugcrowd.xlsx')\n",
    "df_P1WARRIOR= pd.read_excel('/Users/patrickahrend/Developer/data-analytics-bugcrowd/discovery-page-data /featured/Needs a P1 warrior - Discovery - Bugcrowd.xlsx')\n",
    "df_COORDINATORDISCLOSED= pd.read_excel('/Users/patrickahrend/Developer/data-analytics-bugcrowd/discovery-page-data /featured/Programs with Coordinated Disclosure - Discovery - Bugcrowd.xlsx')\n",
    "df_SELFSERVICE = pd.read_excel('/Users/patrickahrend/Developer/data-analytics-bugcrowd/discovery-page-data /featured/Self Service - Discovery - Bugcrowd.xlsx')\n",
    "df_STAFFPICK= pd.read_excel('/Users/patrickahrend/Developer/data-analytics-bugcrowd/discovery-page-data /featured/Staff Picks - Discovery - Bugcrowd.xlsx')\n",
    "df_NEWSCOPE= pd.read_excel('/Users/patrickahrend/Developer/data-analytics-bugcrowd/discovery-page-data /featured/New Scope _amp; Increased Rewards - Discovery - Bugcrowd.xlsx')"
   ]
  },
  {
   "cell_type": "code",
   "execution_count": 7,
   "metadata": {},
   "outputs": [
    {
     "name": "stdout",
     "output_type": "stream",
     "text": [
      "8\n"
     ]
    }
   ],
   "source": [
    "df_list = [df_BCTEAMHUNT, df_ATLASSiAN, df_HIGHESTREWARD, df_P1WARRIOR, df_COORDINATORDISCLOSED, df_SELFSERVICE, df_STAFFPICK, df_NEWSCOPE]\n",
    "print(len(df_list))"
   ]
  },
  {
   "cell_type": "code",
   "execution_count": 8,
   "metadata": {},
   "outputs": [
    {
     "data": {
      "text/html": [
       "<div>\n",
       "<style scoped>\n",
       "    .dataframe tbody tr th:only-of-type {\n",
       "        vertical-align: middle;\n",
       "    }\n",
       "\n",
       "    .dataframe tbody tr th {\n",
       "        vertical-align: top;\n",
       "    }\n",
       "\n",
       "    .dataframe thead th {\n",
       "        text-align: right;\n",
       "    }\n",
       "</style>\n",
       "<table border=\"1\" class=\"dataframe\">\n",
       "  <thead>\n",
       "    <tr style=\"text-align: right;\">\n",
       "      <th></th>\n",
       "      <th>Title</th>\n",
       "      <th>Title_URL</th>\n",
       "      <th>Image</th>\n",
       "      <th>bcprogramcard__byline</th>\n",
       "      <th>Reward</th>\n",
       "    </tr>\n",
       "  </thead>\n",
       "  <tbody>\n",
       "    <tr>\n",
       "      <th>0</th>\n",
       "      <td>Nextup.ai</td>\n",
       "      <td>https://bugcrowd.com/nextupai</td>\n",
       "      <td>https://logos.bugcrowdusercontent.com/logos/c0...</td>\n",
       "      <td>Please submit your finding to Nextup.ai's bug ...</td>\n",
       "      <td>$1,500</td>\n",
       "    </tr>\n",
       "    <tr>\n",
       "      <th>1</th>\n",
       "      <td>K15t</td>\n",
       "      <td>https://bugcrowd.com/k15t</td>\n",
       "      <td>https://logos.bugcrowdusercontent.com/logos/ae...</td>\n",
       "      <td>Apps to Amplify the Atlassian Experience for E...</td>\n",
       "      <td>$1,500</td>\n",
       "    </tr>\n",
       "    <tr>\n",
       "      <th>2</th>\n",
       "      <td>Stiltsoft</td>\n",
       "      <td>https://bugcrowd.com/stiltsoft</td>\n",
       "      <td>https://logos.bugcrowdusercontent.com/logos/7e...</td>\n",
       "      <td>Stiltsoft's bug bounty program</td>\n",
       "      <td>$3,000</td>\n",
       "    </tr>\n",
       "    <tr>\n",
       "      <th>3</th>\n",
       "      <td>Atlassian</td>\n",
       "      <td>https://bugcrowd.com/atlassian</td>\n",
       "      <td>https://logos.bugcrowdusercontent.com/logos/28...</td>\n",
       "      <td>Collaboration tools for teams of all sizes</td>\n",
       "      <td>$10,000</td>\n",
       "    </tr>\n",
       "    <tr>\n",
       "      <th>4</th>\n",
       "      <td>Trello</td>\n",
       "      <td>https://bugcrowd.com/trello</td>\n",
       "      <td>https://logos.bugcrowdusercontent.com/logos/18...</td>\n",
       "      <td>Trello keeps track of everything, from the big...</td>\n",
       "      <td>$10,000</td>\n",
       "    </tr>\n",
       "  </tbody>\n",
       "</table>\n",
       "</div>"
      ],
      "text/plain": [
       "       Title                       Title_URL  \\\n",
       "0  Nextup.ai   https://bugcrowd.com/nextupai   \n",
       "1       K15t       https://bugcrowd.com/k15t   \n",
       "2  Stiltsoft  https://bugcrowd.com/stiltsoft   \n",
       "3  Atlassian  https://bugcrowd.com/atlassian   \n",
       "4     Trello     https://bugcrowd.com/trello   \n",
       "\n",
       "                                               Image  \\\n",
       "0  https://logos.bugcrowdusercontent.com/logos/c0...   \n",
       "1  https://logos.bugcrowdusercontent.com/logos/ae...   \n",
       "2  https://logos.bugcrowdusercontent.com/logos/7e...   \n",
       "3  https://logos.bugcrowdusercontent.com/logos/28...   \n",
       "4  https://logos.bugcrowdusercontent.com/logos/18...   \n",
       "\n",
       "                               bcprogramcard__byline   Reward  \n",
       "0  Please submit your finding to Nextup.ai's bug ...   $1,500  \n",
       "1  Apps to Amplify the Atlassian Experience for E...   $1,500  \n",
       "2                     Stiltsoft's bug bounty program   $3,000  \n",
       "3         Collaboration tools for teams of all sizes  $10,000  \n",
       "4  Trello keeps track of everything, from the big...  $10,000  "
      ]
     },
     "execution_count": 8,
     "metadata": {},
     "output_type": "execute_result"
    }
   ],
   "source": [
    "df_ATLASSiAN.head()"
   ]
  },
  {
   "cell_type": "code",
   "execution_count": 9,
   "metadata": {},
   "outputs": [],
   "source": [
    "df_ATLASSiAN[\"Featured\"]=\"Atlassian\""
   ]
  },
  {
   "cell_type": "code",
   "execution_count": 10,
   "metadata": {},
   "outputs": [],
   "source": [
    "df_BCTEAMHUNT[\"Featured\"]= \"BCTeamHunt2022\""
   ]
  },
  {
   "cell_type": "code",
   "execution_count": 11,
   "metadata": {},
   "outputs": [],
   "source": [
    "df_HIGHESTREWARD[\"Featured\"]= \"Highest Reward Range\""
   ]
  },
  {
   "cell_type": "code",
   "execution_count": 12,
   "metadata": {},
   "outputs": [],
   "source": [
    "df_P1WARRIOR[\"Featured\"]= \"Needs a P1 warrior\""
   ]
  },
  {
   "cell_type": "code",
   "execution_count": 13,
   "metadata": {},
   "outputs": [],
   "source": [
    "df_COORDINATORDISCLOSED[\"Featured\"]= \"Coordinated Disclosure\""
   ]
  },
  {
   "cell_type": "code",
   "execution_count": 14,
   "metadata": {},
   "outputs": [],
   "source": [
    "df_SELFSERVICE[\"Featured\"]= \"Self Service\""
   ]
  },
  {
   "cell_type": "code",
   "execution_count": 15,
   "metadata": {},
   "outputs": [
    {
     "data": {
      "text/html": [
       "<div>\n",
       "<style scoped>\n",
       "    .dataframe tbody tr th:only-of-type {\n",
       "        vertical-align: middle;\n",
       "    }\n",
       "\n",
       "    .dataframe tbody tr th {\n",
       "        vertical-align: top;\n",
       "    }\n",
       "\n",
       "    .dataframe thead th {\n",
       "        text-align: right;\n",
       "    }\n",
       "</style>\n",
       "<table border=\"1\" class=\"dataframe\">\n",
       "  <thead>\n",
       "    <tr style=\"text-align: right;\">\n",
       "      <th></th>\n",
       "      <th>Title</th>\n",
       "      <th>Title_URL</th>\n",
       "      <th>Image</th>\n",
       "      <th>bcprogramcard__byline</th>\n",
       "      <th>Reward</th>\n",
       "      <th>Featured</th>\n",
       "    </tr>\n",
       "  </thead>\n",
       "  <tbody>\n",
       "    <tr>\n",
       "      <th>0</th>\n",
       "      <td>Upwork</td>\n",
       "      <td>https://bugcrowd.com/upwork</td>\n",
       "      <td>https://logos.bugcrowdusercontent.com/logos/25...</td>\n",
       "      <td>Hire Freelancers &amp; Get Freelance Jobs Online</td>\n",
       "      <td>$120 - $10,000</td>\n",
       "      <td>Staff Picks</td>\n",
       "    </tr>\n",
       "    <tr>\n",
       "      <th>1</th>\n",
       "      <td>TripAdvisor</td>\n",
       "      <td>https://bugcrowd.com/tripadvisor-bb-og</td>\n",
       "      <td>https://logos.bugcrowdusercontent.com/logos/85...</td>\n",
       "      <td>The world’s largest travel site. Know better. ...</td>\n",
       "      <td>$100 - $5,000</td>\n",
       "      <td>Staff Picks</td>\n",
       "    </tr>\n",
       "    <tr>\n",
       "      <th>2</th>\n",
       "      <td>ClickHouse</td>\n",
       "      <td>https://bugcrowd.com/clickhouse</td>\n",
       "      <td>https://logos.bugcrowdusercontent.com/logos/4a...</td>\n",
       "      <td>ClickHouse is an open-source, column-oriented ...</td>\n",
       "      <td>$50 - $2,500</td>\n",
       "      <td>Staff Picks</td>\n",
       "    </tr>\n",
       "    <tr>\n",
       "      <th>3</th>\n",
       "      <td>Bullish.com</td>\n",
       "      <td>https://bugcrowd.com/bullish</td>\n",
       "      <td>https://logos.bugcrowdusercontent.com/logos/a0...</td>\n",
       "      <td>Help Secure Bullish - a new breed of exchange</td>\n",
       "      <td>$200 - $12,000</td>\n",
       "      <td>Staff Picks</td>\n",
       "    </tr>\n",
       "    <tr>\n",
       "      <th>4</th>\n",
       "      <td>USAA</td>\n",
       "      <td>https://bugcrowd.com/usaa</td>\n",
       "      <td>https://logos.bugcrowdusercontent.com/logos/31...</td>\n",
       "      <td>We proudly serve millions of military members ...</td>\n",
       "      <td>$100 - $6,000</td>\n",
       "      <td>Staff Picks</td>\n",
       "    </tr>\n",
       "  </tbody>\n",
       "</table>\n",
       "</div>"
      ],
      "text/plain": [
       "         Title                               Title_URL  \\\n",
       "0       Upwork             https://bugcrowd.com/upwork   \n",
       "1  TripAdvisor  https://bugcrowd.com/tripadvisor-bb-og   \n",
       "2   ClickHouse         https://bugcrowd.com/clickhouse   \n",
       "3  Bullish.com            https://bugcrowd.com/bullish   \n",
       "4         USAA               https://bugcrowd.com/usaa   \n",
       "\n",
       "                                               Image  \\\n",
       "0  https://logos.bugcrowdusercontent.com/logos/25...   \n",
       "1  https://logos.bugcrowdusercontent.com/logos/85...   \n",
       "2  https://logos.bugcrowdusercontent.com/logos/4a...   \n",
       "3  https://logos.bugcrowdusercontent.com/logos/a0...   \n",
       "4  https://logos.bugcrowdusercontent.com/logos/31...   \n",
       "\n",
       "                               bcprogramcard__byline          Reward  \\\n",
       "0       Hire Freelancers & Get Freelance Jobs Online  $120 - $10,000   \n",
       "1  The world’s largest travel site. Know better. ...   $100 - $5,000   \n",
       "2  ClickHouse is an open-source, column-oriented ...    $50 - $2,500   \n",
       "3      Help Secure Bullish - a new breed of exchange  $200 - $12,000   \n",
       "4  We proudly serve millions of military members ...   $100 - $6,000   \n",
       "\n",
       "      Featured  \n",
       "0  Staff Picks  \n",
       "1  Staff Picks  \n",
       "2  Staff Picks  \n",
       "3  Staff Picks  \n",
       "4  Staff Picks  "
      ]
     },
     "execution_count": 15,
     "metadata": {},
     "output_type": "execute_result"
    }
   ],
   "source": [
    "df_STAFFPICK[\"Featured\"]= \"Staff Picks\"\n",
    "df_STAFFPICK.head()"
   ]
  },
  {
   "cell_type": "code",
   "execution_count": 16,
   "metadata": {},
   "outputs": [],
   "source": [
    "df_NEWSCOPE[\"Featured\"]= \"New Scope & Increased Rewards\""
   ]
  },
  {
   "attachments": {},
   "cell_type": "markdown",
   "metadata": {},
   "source": [
    "### Merging features "
   ]
  },
  {
   "cell_type": "code",
   "execution_count": 17,
   "metadata": {},
   "outputs": [],
   "source": [
    "df_normal = pd.read_excel('/Users/patrickahrend/Developer/data-analytics-bugcrowd/data-octa/bugcrowd_modified_24.12.xlsx')"
   ]
  },
  {
   "cell_type": "code",
   "execution_count": 18,
   "metadata": {},
   "outputs": [],
   "source": [
    "# concatenate DataFrames\n",
    "result_df = pd.concat(df_list, axis=0, ignore_index=True, join='outer',keys=[\"df_BCTEAMHUNT\", \"df_ATLASSiAN\", \"df_HIGHESTREWARD\", \"df_P1WARRIOR\", \"df_COORDINATORDISCLOSED\", \"df_SELFSERVICE\", \"df_STAFFPICK\", \"df_NEWSCOPE\"])\n"
   ]
  },
  {
   "cell_type": "code",
   "execution_count": 19,
   "metadata": {},
   "outputs": [
    {
     "data": {
      "text/plain": [
       "Index(['Title', 'Title_URL', 'Image', 'bcprogramcard__byline', 'Reward',\n",
       "       'Featured'],\n",
       "      dtype='object')"
      ]
     },
     "execution_count": 19,
     "metadata": {},
     "output_type": "execute_result"
    }
   ],
   "source": [
    "result_df.columns"
   ]
  },
  {
   "cell_type": "code",
   "execution_count": 28,
   "metadata": {},
   "outputs": [],
   "source": [
    "result_df =result_df.drop(labels=['Title_URL','Image', 'bcprogramcard__byline', 'Reward'], axis=1)"
   ]
  },
  {
   "cell_type": "code",
   "execution_count": 29,
   "metadata": {},
   "outputs": [
    {
     "data": {
      "text/html": [
       "<div>\n",
       "<style scoped>\n",
       "    .dataframe tbody tr th:only-of-type {\n",
       "        vertical-align: middle;\n",
       "    }\n",
       "\n",
       "    .dataframe tbody tr th {\n",
       "        vertical-align: top;\n",
       "    }\n",
       "\n",
       "    .dataframe thead th {\n",
       "        text-align: right;\n",
       "    }\n",
       "</style>\n",
       "<table border=\"1\" class=\"dataframe\">\n",
       "  <thead>\n",
       "    <tr style=\"text-align: right;\">\n",
       "      <th></th>\n",
       "      <th>Title</th>\n",
       "      <th>Featured</th>\n",
       "    </tr>\n",
       "  </thead>\n",
       "  <tbody>\n",
       "    <tr>\n",
       "      <th>0</th>\n",
       "      <td>Video Viewing Platform</td>\n",
       "      <td>BCTeamHunt2022</td>\n",
       "    </tr>\n",
       "    <tr>\n",
       "      <th>1</th>\n",
       "      <td>Help Secure The Leader in Online Fundraising</td>\n",
       "      <td>BCTeamHunt2022</td>\n",
       "    </tr>\n",
       "    <tr>\n",
       "      <th>2</th>\n",
       "      <td>FIS</td>\n",
       "      <td>BCTeamHunt2022</td>\n",
       "    </tr>\n",
       "    <tr>\n",
       "      <th>3</th>\n",
       "      <td>Professional Counselling Provider</td>\n",
       "      <td>BCTeamHunt2022</td>\n",
       "    </tr>\n",
       "    <tr>\n",
       "      <th>4</th>\n",
       "      <td>A consumer device maker is looking for help se...</td>\n",
       "      <td>BCTeamHunt2022</td>\n",
       "    </tr>\n",
       "  </tbody>\n",
       "</table>\n",
       "</div>"
      ],
      "text/plain": [
       "                                               Title        Featured\n",
       "0                             Video Viewing Platform  BCTeamHunt2022\n",
       "1       Help Secure The Leader in Online Fundraising  BCTeamHunt2022\n",
       "2                                                FIS  BCTeamHunt2022\n",
       "3                  Professional Counselling Provider  BCTeamHunt2022\n",
       "4  A consumer device maker is looking for help se...  BCTeamHunt2022"
      ]
     },
     "execution_count": 29,
     "metadata": {},
     "output_type": "execute_result"
    }
   ],
   "source": [
    "result_df.head()"
   ]
  },
  {
   "cell_type": "code",
   "execution_count": 30,
   "metadata": {},
   "outputs": [],
   "source": [
    "result_df.to_excel(\"/Users/patrickahrend/Developer/data-analytics-bugcrowd/discovery-page-data /featured/featured_programs.xlsx\", index=False)"
   ]
  },
  {
   "attachments": {},
   "cell_type": "markdown",
   "metadata": {},
   "source": [
    "### Industries"
   ]
  },
  {
   "cell_type": "code",
   "execution_count": 34,
   "metadata": {},
   "outputs": [],
   "source": [
    "df_BANKING = pd.read_excel('/Users/patrickahrend/Developer/data-analytics-bugcrowd/discovery-page-data /industry/Banking and Financial Services - Discovery - Bugcrowd.xlsx')\n",
    "df_BUSINESS = pd.read_excel('/Users/patrickahrend/Developer/data-analytics-bugcrowd/discovery-page-data /industry/Business Management Solutions and Software - Discovery - Bugcrowd.xlsx')\n",
    "df_CLOUD= pd.read_excel('/Users/patrickahrend/Developer/data-analytics-bugcrowd/discovery-page-data /industry/Cloud Services - Discovery - Bugcrowd.xlsx')\n",
    "df_ECOMMERCE= pd.read_excel('/Users/patrickahrend/Developer/data-analytics-bugcrowd/discovery-page-data /industry/eCommerce and Retail - Discovery - Bugcrowd.xlsx')\n",
    "df_ELECTRONICS= pd.read_excel('/Users/patrickahrend/Developer/data-analytics-bugcrowd/discovery-page-data /industry/Electronics and Technology - Discovery - Bugcrowd.xlsx')"
   ]
  },
  {
   "cell_type": "code",
   "execution_count": 35,
   "metadata": {},
   "outputs": [],
   "source": [
    "df_list_industry = [df_BANKING, df_BUSINESS, df_CLOUD, df_ECOMMERCE, df_ELECTRONICS]"
   ]
  },
  {
   "cell_type": "code",
   "execution_count": 37,
   "metadata": {},
   "outputs": [],
   "source": [
    "df_BANKING[\"Industry\"]=\"Banking and Financial Services\"\n",
    "df_BUSINESS[\"Industry\"]=\"Business Management Solutions and Software\"\n",
    "df_CLOUD[\"Industry\"]=\"Cloud Services\"\n",
    "df_ECOMMERCE[\"Industry\"]=\"eCommerce and Retail\"\n",
    "df_ELECTRONICS[\"Industry\"]=\"Electronics and Technology\""
   ]
  },
  {
   "cell_type": "code",
   "execution_count": 38,
   "metadata": {},
   "outputs": [],
   "source": [
    "result_industry = pd.concat(df_list_industry, axis=0, ignore_index=True, join='outer',keys=[\"df_BANKING\", \"df_BUSINESS\", \"df_CLOUD\", \"df_ECOMMERCE\", \"df_ELECTRONICS\"])\n"
   ]
  },
  {
   "cell_type": "code",
   "execution_count": 39,
   "metadata": {},
   "outputs": [
    {
     "data": {
      "text/html": [
       "<div>\n",
       "<style scoped>\n",
       "    .dataframe tbody tr th:only-of-type {\n",
       "        vertical-align: middle;\n",
       "    }\n",
       "\n",
       "    .dataframe tbody tr th {\n",
       "        vertical-align: top;\n",
       "    }\n",
       "\n",
       "    .dataframe thead th {\n",
       "        text-align: right;\n",
       "    }\n",
       "</style>\n",
       "<table border=\"1\" class=\"dataframe\">\n",
       "  <thead>\n",
       "    <tr style=\"text-align: right;\">\n",
       "      <th></th>\n",
       "      <th>Title</th>\n",
       "      <th>Title_URL</th>\n",
       "      <th>Image</th>\n",
       "      <th>bcprogramcard__byline</th>\n",
       "      <th>Reward</th>\n",
       "      <th>Industry</th>\n",
       "    </tr>\n",
       "  </thead>\n",
       "  <tbody>\n",
       "    <tr>\n",
       "      <th>0</th>\n",
       "      <td>Bullish.com</td>\n",
       "      <td>https://bugcrowd.com/bullish</td>\n",
       "      <td>https://logos.bugcrowdusercontent.com/logos/a0...</td>\n",
       "      <td>Help Secure Bullish - a new breed of exchange</td>\n",
       "      <td>$200 - $12,000</td>\n",
       "      <td>Banking and Financial Services</td>\n",
       "    </tr>\n",
       "    <tr>\n",
       "      <th>1</th>\n",
       "      <td>Step Public Applications</td>\n",
       "      <td>https://bugcrowd.com/step-public</td>\n",
       "      <td>https://logos.bugcrowdusercontent.com/logos/25...</td>\n",
       "      <td>Step’s mission is to equip younger generations...</td>\n",
       "      <td>$200 - $10,000</td>\n",
       "      <td>Banking and Financial Services</td>\n",
       "    </tr>\n",
       "    <tr>\n",
       "      <th>2</th>\n",
       "      <td>USAA</td>\n",
       "      <td>https://bugcrowd.com/usaa</td>\n",
       "      <td>https://logos.bugcrowdusercontent.com/logos/31...</td>\n",
       "      <td>We proudly serve millions of military members ...</td>\n",
       "      <td>$100 - $6,000</td>\n",
       "      <td>Banking and Financial Services</td>\n",
       "    </tr>\n",
       "    <tr>\n",
       "      <th>3</th>\n",
       "      <td>End to End Payment Solution</td>\n",
       "      <td>https://bugcrowd.com/programs/teasers/NN5Yd45g...</td>\n",
       "      <td>https://assets.bugcrowdusercontent.com/assets/...</td>\n",
       "      <td>Wide Scope Web and Mobile Targets</td>\n",
       "      <td>$100 - $3,500</td>\n",
       "      <td>Banking and Financial Services</td>\n",
       "    </tr>\n",
       "    <tr>\n",
       "      <th>4</th>\n",
       "      <td>Global Financial Institution</td>\n",
       "      <td>https://bugcrowd.com/programs/teasers/little-s...</td>\n",
       "      <td>https://assets.bugcrowdusercontent.com/assets/...</td>\n",
       "      <td>Help to secure our Financial web applications ...</td>\n",
       "      <td>NaN</td>\n",
       "      <td>Banking and Financial Services</td>\n",
       "    </tr>\n",
       "  </tbody>\n",
       "</table>\n",
       "</div>"
      ],
      "text/plain": [
       "                          Title  \\\n",
       "0                   Bullish.com   \n",
       "1      Step Public Applications   \n",
       "2                          USAA   \n",
       "3   End to End Payment Solution   \n",
       "4  Global Financial Institution   \n",
       "\n",
       "                                           Title_URL  \\\n",
       "0                       https://bugcrowd.com/bullish   \n",
       "1                   https://bugcrowd.com/step-public   \n",
       "2                          https://bugcrowd.com/usaa   \n",
       "3  https://bugcrowd.com/programs/teasers/NN5Yd45g...   \n",
       "4  https://bugcrowd.com/programs/teasers/little-s...   \n",
       "\n",
       "                                               Image  \\\n",
       "0  https://logos.bugcrowdusercontent.com/logos/a0...   \n",
       "1  https://logos.bugcrowdusercontent.com/logos/25...   \n",
       "2  https://logos.bugcrowdusercontent.com/logos/31...   \n",
       "3  https://assets.bugcrowdusercontent.com/assets/...   \n",
       "4  https://assets.bugcrowdusercontent.com/assets/...   \n",
       "\n",
       "                               bcprogramcard__byline          Reward  \\\n",
       "0      Help Secure Bullish - a new breed of exchange  $200 - $12,000   \n",
       "1  Step’s mission is to equip younger generations...  $200 - $10,000   \n",
       "2  We proudly serve millions of military members ...   $100 - $6,000   \n",
       "3                  Wide Scope Web and Mobile Targets   $100 - $3,500   \n",
       "4  Help to secure our Financial web applications ...             NaN   \n",
       "\n",
       "                         Industry  \n",
       "0  Banking and Financial Services  \n",
       "1  Banking and Financial Services  \n",
       "2  Banking and Financial Services  \n",
       "3  Banking and Financial Services  \n",
       "4  Banking and Financial Services  "
      ]
     },
     "execution_count": 39,
     "metadata": {},
     "output_type": "execute_result"
    }
   ],
   "source": [
    "result_industry.head()"
   ]
  },
  {
   "cell_type": "code",
   "execution_count": 41,
   "metadata": {},
   "outputs": [],
   "source": [
    "result_industry =result_industry.drop(labels=['Title_URL','Image', 'bcprogramcard__byline', 'Reward'], axis=1)"
   ]
  },
  {
   "cell_type": "code",
   "execution_count": 43,
   "metadata": {},
   "outputs": [
    {
     "data": {
      "text/html": [
       "<div>\n",
       "<style scoped>\n",
       "    .dataframe tbody tr th:only-of-type {\n",
       "        vertical-align: middle;\n",
       "    }\n",
       "\n",
       "    .dataframe tbody tr th {\n",
       "        vertical-align: top;\n",
       "    }\n",
       "\n",
       "    .dataframe thead th {\n",
       "        text-align: right;\n",
       "    }\n",
       "</style>\n",
       "<table border=\"1\" class=\"dataframe\">\n",
       "  <thead>\n",
       "    <tr style=\"text-align: right;\">\n",
       "      <th></th>\n",
       "      <th>Title</th>\n",
       "      <th>Industry</th>\n",
       "    </tr>\n",
       "  </thead>\n",
       "  <tbody>\n",
       "    <tr>\n",
       "      <th>0</th>\n",
       "      <td>Bullish.com</td>\n",
       "      <td>Banking and Financial Services</td>\n",
       "    </tr>\n",
       "    <tr>\n",
       "      <th>1</th>\n",
       "      <td>Step Public Applications</td>\n",
       "      <td>Banking and Financial Services</td>\n",
       "    </tr>\n",
       "    <tr>\n",
       "      <th>2</th>\n",
       "      <td>USAA</td>\n",
       "      <td>Banking and Financial Services</td>\n",
       "    </tr>\n",
       "    <tr>\n",
       "      <th>3</th>\n",
       "      <td>End to End Payment Solution</td>\n",
       "      <td>Banking and Financial Services</td>\n",
       "    </tr>\n",
       "    <tr>\n",
       "      <th>4</th>\n",
       "      <td>Global Financial Institution</td>\n",
       "      <td>Banking and Financial Services</td>\n",
       "    </tr>\n",
       "  </tbody>\n",
       "</table>\n",
       "</div>"
      ],
      "text/plain": [
       "                          Title                        Industry\n",
       "0                   Bullish.com  Banking and Financial Services\n",
       "1      Step Public Applications  Banking and Financial Services\n",
       "2                          USAA  Banking and Financial Services\n",
       "3   End to End Payment Solution  Banking and Financial Services\n",
       "4  Global Financial Institution  Banking and Financial Services"
      ]
     },
     "execution_count": 43,
     "metadata": {},
     "output_type": "execute_result"
    }
   ],
   "source": [
    "result_industry.head()"
   ]
  },
  {
   "attachments": {},
   "cell_type": "markdown",
   "metadata": {},
   "source": [
    "### Technology"
   ]
  },
  {
   "cell_type": "code",
   "execution_count": 45,
   "metadata": {},
   "outputs": [],
   "source": [
    "df_ANDROID= pd.read_excel(\"/Users/patrickahrend/Developer/data-analytics-bugcrowd/discovery-page-data /technology/Android Targets - Discovery - Bugcrowd.xlsx\")\n",
    "df_API= pd.read_excel(\"/Users/patrickahrend/Developer/data-analytics-bugcrowd/discovery-page-data /technology/API Targets - Discovery - Bugcrowd.xlsx\")\n",
    "df_HARDWARE= pd.read_excel(\"/Users/patrickahrend/Developer/data-analytics-bugcrowd/discovery-page-data /technology/Hardware Targets - Discovery - Bugcrowd.xlsx\")\n",
    "df_iOS= pd.read_excel(\"/Users/patrickahrend/Developer/data-analytics-bugcrowd/discovery-page-data /technology/iOS Targets - Discovery - Bugcrowd.xlsx\")\n",
    "df_IoT= pd.read_excel(\"/Users/patrickahrend/Developer/data-analytics-bugcrowd/discovery-page-data /technology/IoT Targets - Discovery - Bugcrowd.xlsx\")\n",
    "df_WEB= pd.read_excel(\"/Users/patrickahrend/Developer/data-analytics-bugcrowd/discovery-page-data /technology/Web Targets - Discovery - Bugcrowd.xlsx\")"
   ]
  },
  {
   "cell_type": "code",
   "execution_count": 46,
   "metadata": {},
   "outputs": [],
   "source": [
    "df_list_industry= [df_ANDROID, df_API, df_HARDWARE, df_iOS, df_IoT, df_WEB]"
   ]
  },
  {
   "cell_type": "code",
   "execution_count": 47,
   "metadata": {},
   "outputs": [],
   "source": [
    "df_ANDROID[\"Technology\"]=\"Android Targets\"\n",
    "df_API[\"Technology\"]=\"API Targets\"\n",
    "df_HARDWARE[\"Technology\"]=\"Hardware Targets\"\n",
    "df_iOS[\"Technology\"]=\"iOS Targets\"\n",
    "df_IoT[\"Technology\"]=\"IoT Targets\"\n",
    "df_WEB[\"Technology\"]=\"Web Targets\"\n",
    "\n"
   ]
  },
  {
   "cell_type": "code",
   "execution_count": 48,
   "metadata": {},
   "outputs": [],
   "source": [
    "result_technology= pd.concat(df_list_industry, axis=0, ignore_index=True, join='outer',keys=[\"df_ANDROID\", \"df_API\", \"df_HARDWARE\", \"df_iOS\", \"df_IoT\", \"df_WEB\"])\n"
   ]
  },
  {
   "cell_type": "code",
   "execution_count": 49,
   "metadata": {},
   "outputs": [
    {
     "data": {
      "text/html": [
       "<div>\n",
       "<style scoped>\n",
       "    .dataframe tbody tr th:only-of-type {\n",
       "        vertical-align: middle;\n",
       "    }\n",
       "\n",
       "    .dataframe tbody tr th {\n",
       "        vertical-align: top;\n",
       "    }\n",
       "\n",
       "    .dataframe thead th {\n",
       "        text-align: right;\n",
       "    }\n",
       "</style>\n",
       "<table border=\"1\" class=\"dataframe\">\n",
       "  <thead>\n",
       "    <tr style=\"text-align: right;\">\n",
       "      <th></th>\n",
       "      <th>Title</th>\n",
       "      <th>Title_URL</th>\n",
       "      <th>Reward</th>\n",
       "      <th>Technology</th>\n",
       "      <th>Image</th>\n",
       "      <th>bcprogramcard__byline</th>\n",
       "    </tr>\n",
       "  </thead>\n",
       "  <tbody>\n",
       "    <tr>\n",
       "      <th>0</th>\n",
       "      <td>Indeed</td>\n",
       "      <td>https://bugcrowd.com/indeed</td>\n",
       "      <td>$50 - $10,000</td>\n",
       "      <td>Android Targets</td>\n",
       "      <td>NaN</td>\n",
       "      <td>NaN</td>\n",
       "    </tr>\n",
       "    <tr>\n",
       "      <th>1</th>\n",
       "      <td>Step Public Applications</td>\n",
       "      <td>https://bugcrowd.com/step-public</td>\n",
       "      <td>$200 - $10,000</td>\n",
       "      <td>Android Targets</td>\n",
       "      <td>NaN</td>\n",
       "      <td>NaN</td>\n",
       "    </tr>\n",
       "    <tr>\n",
       "      <th>2</th>\n",
       "      <td>Rec Room Video Games</td>\n",
       "      <td>https://bugcrowd.com/recroom-og</td>\n",
       "      <td>$150 - $2,500</td>\n",
       "      <td>Android Targets</td>\n",
       "      <td>NaN</td>\n",
       "      <td>NaN</td>\n",
       "    </tr>\n",
       "    <tr>\n",
       "      <th>3</th>\n",
       "      <td>Keeper Security Public Bounty Program</td>\n",
       "      <td>https://bugcrowd.com/keepersecurity</td>\n",
       "      <td>$300 - $10,000</td>\n",
       "      <td>Android Targets</td>\n",
       "      <td>NaN</td>\n",
       "      <td>NaN</td>\n",
       "    </tr>\n",
       "    <tr>\n",
       "      <th>4</th>\n",
       "      <td>Bitget</td>\n",
       "      <td>https://bugcrowd.com/bitget-og</td>\n",
       "      <td>$100 - $1,500</td>\n",
       "      <td>Android Targets</td>\n",
       "      <td>NaN</td>\n",
       "      <td>NaN</td>\n",
       "    </tr>\n",
       "  </tbody>\n",
       "</table>\n",
       "</div>"
      ],
      "text/plain": [
       "                                   Title                            Title_URL  \\\n",
       "0                                 Indeed          https://bugcrowd.com/indeed   \n",
       "1               Step Public Applications     https://bugcrowd.com/step-public   \n",
       "2                   Rec Room Video Games      https://bugcrowd.com/recroom-og   \n",
       "3  Keeper Security Public Bounty Program  https://bugcrowd.com/keepersecurity   \n",
       "4                                 Bitget       https://bugcrowd.com/bitget-og   \n",
       "\n",
       "           Reward       Technology Image bcprogramcard__byline  \n",
       "0   $50 - $10,000  Android Targets   NaN                   NaN  \n",
       "1  $200 - $10,000  Android Targets   NaN                   NaN  \n",
       "2   $150 - $2,500  Android Targets   NaN                   NaN  \n",
       "3  $300 - $10,000  Android Targets   NaN                   NaN  \n",
       "4   $100 - $1,500  Android Targets   NaN                   NaN  "
      ]
     },
     "execution_count": 49,
     "metadata": {},
     "output_type": "execute_result"
    }
   ],
   "source": [
    "result_technology.head()"
   ]
  },
  {
   "cell_type": "code",
   "execution_count": 51,
   "metadata": {},
   "outputs": [],
   "source": [
    "result_technology =result_technology.drop(labels=['Title_URL','Image', 'bcprogramcard__byline', 'Reward'], axis=1)"
   ]
  },
  {
   "cell_type": "code",
   "execution_count": 52,
   "metadata": {},
   "outputs": [
    {
     "data": {
      "text/html": [
       "<div>\n",
       "<style scoped>\n",
       "    .dataframe tbody tr th:only-of-type {\n",
       "        vertical-align: middle;\n",
       "    }\n",
       "\n",
       "    .dataframe tbody tr th {\n",
       "        vertical-align: top;\n",
       "    }\n",
       "\n",
       "    .dataframe thead th {\n",
       "        text-align: right;\n",
       "    }\n",
       "</style>\n",
       "<table border=\"1\" class=\"dataframe\">\n",
       "  <thead>\n",
       "    <tr style=\"text-align: right;\">\n",
       "      <th></th>\n",
       "      <th>Title</th>\n",
       "      <th>Technology</th>\n",
       "    </tr>\n",
       "  </thead>\n",
       "  <tbody>\n",
       "    <tr>\n",
       "      <th>0</th>\n",
       "      <td>Indeed</td>\n",
       "      <td>Android Targets</td>\n",
       "    </tr>\n",
       "    <tr>\n",
       "      <th>1</th>\n",
       "      <td>Step Public Applications</td>\n",
       "      <td>Android Targets</td>\n",
       "    </tr>\n",
       "    <tr>\n",
       "      <th>2</th>\n",
       "      <td>Rec Room Video Games</td>\n",
       "      <td>Android Targets</td>\n",
       "    </tr>\n",
       "    <tr>\n",
       "      <th>3</th>\n",
       "      <td>Keeper Security Public Bounty Program</td>\n",
       "      <td>Android Targets</td>\n",
       "    </tr>\n",
       "    <tr>\n",
       "      <th>4</th>\n",
       "      <td>Bitget</td>\n",
       "      <td>Android Targets</td>\n",
       "    </tr>\n",
       "  </tbody>\n",
       "</table>\n",
       "</div>"
      ],
      "text/plain": [
       "                                   Title       Technology\n",
       "0                                 Indeed  Android Targets\n",
       "1               Step Public Applications  Android Targets\n",
       "2                   Rec Room Video Games  Android Targets\n",
       "3  Keeper Security Public Bounty Program  Android Targets\n",
       "4                                 Bitget  Android Targets"
      ]
     },
     "execution_count": 52,
     "metadata": {},
     "output_type": "execute_result"
    }
   ],
   "source": [
    "result_technology.head()"
   ]
  }
 ],
 "metadata": {
  "kernelspec": {
   "display_name": "Python 3",
   "language": "python",
   "name": "python3"
  },
  "language_info": {
   "codemirror_mode": {
    "name": "ipython",
    "version": 3
   },
   "file_extension": ".py",
   "mimetype": "text/x-python",
   "name": "python",
   "nbconvert_exporter": "python",
   "pygments_lexer": "ipython3",
   "version": "3.9.12"
  },
  "orig_nbformat": 4,
  "vscode": {
   "interpreter": {
    "hash": "d3ddb9a339dcfec66cb1d066e0234a99f8d679773fa71ee722ae52c5be71efea"
   }
  }
 },
 "nbformat": 4,
 "nbformat_minor": 2
}
