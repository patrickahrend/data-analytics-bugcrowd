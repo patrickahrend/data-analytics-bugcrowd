{
 "cells": [
  {
   "attachments": {},
   "cell_type": "markdown",
   "metadata": {},
   "source": [
    "## Looking for difference in data set "
   ]
  },
  {
   "cell_type": "code",
   "execution_count": 2,
   "metadata": {},
   "outputs": [],
   "source": [
    "import pandas as pd\n",
    "\n",
    "\n",
    "df_07_01= pd.read_excel('/Users/patrickahrend/Developer/data-analytics-bugcrowd/data-octa/Bugcrowd_all_programs_7_01.xlsx')\n",
    "df_24_12= pd.read_excel('/Users/patrickahrend/Developer/data-analytics-bugcrowd/data-octa/Bugcrowd_industry-asc_24.12.xlsx')"
   ]
  },
  {
   "cell_type": "code",
   "execution_count": 12,
   "metadata": {},
   "outputs": [
    {
     "name": "stdout",
     "output_type": "stream",
     "text": [
      "<class 'pandas.core.series.Series'>\n"
     ]
    }
   ],
   "source": [
    "\n",
    "list_df_07_01= df_07_01['ccinlineclamp2']\n",
    "list_df_24_12 = df_24_12['Name']"
   ]
  },
  {
   "cell_type": "code",
   "execution_count": 20,
   "metadata": {},
   "outputs": [
    {
     "name": "stdout",
     "output_type": "stream",
     "text": [
      "326\n",
      "263\n"
     ]
    }
   ],
   "source": [
    "set_df_07_01 = set(list_df_07_01)\n",
    "set_df_24_12 = set(list_df_24_12)\n",
    "\n",
    "print(len(set_df_07_01))\n",
    "print(len(set_df_24_12))"
   ]
  },
  {
   "cell_type": "code",
   "execution_count": 18,
   "metadata": {},
   "outputs": [
    {
     "name": "stdout",
     "output_type": "stream",
     "text": [
      "66\n",
      "{'Appliances - Barracuda Networks, Inc.', 'Leading threat management company needs your help !', 'The Scotts Miracle-Gro Company Responsible Disclosure', 'Bitget', 'Cisco Meraki', 'Moneytree KK', 'Latitude Financial Services Vulnerability Disclosure Program', 'Help Secure The Leader in Online Fundraising', 'Upwork', 'Help secure a shocking new eCommerce platform', 'Nine Entertainment Vulnerability Disclosure Program', 'LifterLMS', 'Bullish exchange', 'Binance', 'OneTrust', 'Newfold Vdeck Bug Bounty', 'Simplifying complex work wherever, and you can help secure it! (2x bonus rewards)', 'SoundCloud', 'Wyze Bug Bounty', 'Bullish.com', 'MediaLab - Kik Vulnerability Disclosure Program', 'HostGator Latam Bug Bounty', 'Chia Network', 'Fleet Management Application', 'Intercom', 'Newfold Builder VDP', 'Santos Vulnerability Disclosure Program', 'Office of Natural Resources Revenue', 'Xfinity Home & xFi', 'Bureau of Indian Affairs', 'Step Public Applications', 'Asana', 'An electronics retailer would like your help!', 'OLX Autos', 'Caffeine', 'Tamedia', 'Click here to submit a support ticket!', 'Retail Company', 'Square', 'OLX EMEA', 'Large US Insurance Provider', 'A Leading Financial Services and Insurance Company', 'Made in the USA', 'U.S. Geological Survey', 'Netflix', 'Help Keep a Financial Company Secure!', 'Mettle', 'Ibotta', 'Kistler Vulnerability Disclosure Program', 'A multinational telecommunications is looking for top talent to secure their huge attack surface!', 'Mathematical software solutions provider', 'Professional Counselling Provider', 'Hostopia Australias Vulnerability Disclosure Program', \"WestJet's Vulnerability Disclosure Program\", 'Arrow Electronics VDP', 'Square Open Source', 'U.S. Chemical Safety and Hazard Investigation Board - Vulnerability Disclosure Program', 'NETGEAR Cash Rewards', 'Hack Me!', 'Indeed', 'A consumer device maker is looking for help securing its hardware/software assets', 'Siteplus Vulnerability Disclosure Program', 'Wise (ex-TransferWise)', 'Sky Disclosure Program', 'Application to find help around the house.', 'IOOF Vulnerability Disclosure Program'}\n"
     ]
    }
   ],
   "source": [
    "difference = set_df_07_01.difference(set_df_24_12)\n",
    "print(len(difference))\n",
    "print(difference)"
   ]
  },
  {
   "attachments": {},
   "cell_type": "markdown",
   "metadata": {},
   "source": [
    "## Merging all data sets "
   ]
  },
  {
   "cell_type": "code",
   "execution_count": 35,
   "metadata": {},
   "outputs": [],
   "source": [
    "df_BCTEAMHUNT = pd.read_excel('/Users/patrickahrend/Developer/data-analytics-bugcrowd/discovery-page-data /featured/BCTeamHunt2022 - Discovery - Bugcrowd.xlsx')\n",
    "df_ATLASSiAN = pd.read_excel('/Users/patrickahrend/Developer/data-analytics-bugcrowd/discovery-page-data /featured/Explore Atlassian - Discovery - Bugcrowd.xlsx')\n",
    "df_HIGHESTREWARD = pd.read_excel('/Users/patrickahrend/Developer/data-analytics-bugcrowd/discovery-page-data /featured/Highest Reward Range - Discovery - Bugcrowd.xlsx')\n",
    "df_P1WARRIOR= pd.read_excel('/Users/patrickahrend/Developer/data-analytics-bugcrowd/discovery-page-data /featured/Needs a P1 warrior - Discovery - Bugcrowd.xlsx')\n",
    "df_COORDINATORDISCLOSED= pd.read_excel('/Users/patrickahrend/Developer/data-analytics-bugcrowd/discovery-page-data /featured/Programs with Coordinated Disclosure - Discovery - Bugcrowd.xlsx')\n",
    "df_SELFSERVICE = pd.read_excel('/Users/patrickahrend/Developer/data-analytics-bugcrowd/discovery-page-data /featured/Self Service - Discovery - Bugcrowd.xlsx')\n",
    "df_STAFFPICK= pd.read_excel('/Users/patrickahrend/Developer/data-analytics-bugcrowd/discovery-page-data /featured/Staff Picks - Discovery - Bugcrowd.xlsx')\n",
    "df_NEWSCOPE= pd.read_excel('/Users/patrickahrend/Developer/data-analytics-bugcrowd/discovery-page-data /featured/New Scope _amp; Increased Rewards - Discovery - Bugcrowd.xlsx')"
   ]
  },
  {
   "cell_type": "code",
   "execution_count": 74,
   "metadata": {},
   "outputs": [
    {
     "name": "stdout",
     "output_type": "stream",
     "text": [
      "8\n"
     ]
    }
   ],
   "source": [
    "df_list = [df_BCTEAMHUNT, df_ATLASSiAN, df_HIGHESTREWARD, df_P1WARRIOR, df_COORDINATORDISCLOSED, df_SELFSERVICE, df_STAFFPICK, df_NEWSCOPE]\n",
    "print(len(df_list))"
   ]
  },
  {
   "cell_type": "code",
   "execution_count": 37,
   "metadata": {},
   "outputs": [
    {
     "data": {
      "text/html": [
       "<div>\n",
       "<style scoped>\n",
       "    .dataframe tbody tr th:only-of-type {\n",
       "        vertical-align: middle;\n",
       "    }\n",
       "\n",
       "    .dataframe tbody tr th {\n",
       "        vertical-align: top;\n",
       "    }\n",
       "\n",
       "    .dataframe thead th {\n",
       "        text-align: right;\n",
       "    }\n",
       "</style>\n",
       "<table border=\"1\" class=\"dataframe\">\n",
       "  <thead>\n",
       "    <tr style=\"text-align: right;\">\n",
       "      <th></th>\n",
       "      <th>Title</th>\n",
       "      <th>Title_URL</th>\n",
       "      <th>Image</th>\n",
       "      <th>bcprogramcard__byline</th>\n",
       "      <th>Reward</th>\n",
       "    </tr>\n",
       "  </thead>\n",
       "  <tbody>\n",
       "    <tr>\n",
       "      <th>0</th>\n",
       "      <td>Nextup.ai</td>\n",
       "      <td>https://bugcrowd.com/nextupai</td>\n",
       "      <td>https://logos.bugcrowdusercontent.com/logos/c0...</td>\n",
       "      <td>Please submit your finding to Nextup.ai's bug ...</td>\n",
       "      <td>$1,500</td>\n",
       "    </tr>\n",
       "    <tr>\n",
       "      <th>1</th>\n",
       "      <td>K15t</td>\n",
       "      <td>https://bugcrowd.com/k15t</td>\n",
       "      <td>https://logos.bugcrowdusercontent.com/logos/ae...</td>\n",
       "      <td>Apps to Amplify the Atlassian Experience for E...</td>\n",
       "      <td>$1,500</td>\n",
       "    </tr>\n",
       "    <tr>\n",
       "      <th>2</th>\n",
       "      <td>Stiltsoft</td>\n",
       "      <td>https://bugcrowd.com/stiltsoft</td>\n",
       "      <td>https://logos.bugcrowdusercontent.com/logos/7e...</td>\n",
       "      <td>Stiltsoft's bug bounty program</td>\n",
       "      <td>$3,000</td>\n",
       "    </tr>\n",
       "    <tr>\n",
       "      <th>3</th>\n",
       "      <td>Atlassian</td>\n",
       "      <td>https://bugcrowd.com/atlassian</td>\n",
       "      <td>https://logos.bugcrowdusercontent.com/logos/28...</td>\n",
       "      <td>Collaboration tools for teams of all sizes</td>\n",
       "      <td>$10,000</td>\n",
       "    </tr>\n",
       "    <tr>\n",
       "      <th>4</th>\n",
       "      <td>Trello</td>\n",
       "      <td>https://bugcrowd.com/trello</td>\n",
       "      <td>https://logos.bugcrowdusercontent.com/logos/18...</td>\n",
       "      <td>Trello keeps track of everything, from the big...</td>\n",
       "      <td>$10,000</td>\n",
       "    </tr>\n",
       "  </tbody>\n",
       "</table>\n",
       "</div>"
      ],
      "text/plain": [
       "       Title                       Title_URL  \\\n",
       "0  Nextup.ai   https://bugcrowd.com/nextupai   \n",
       "1       K15t       https://bugcrowd.com/k15t   \n",
       "2  Stiltsoft  https://bugcrowd.com/stiltsoft   \n",
       "3  Atlassian  https://bugcrowd.com/atlassian   \n",
       "4     Trello     https://bugcrowd.com/trello   \n",
       "\n",
       "                                               Image  \\\n",
       "0  https://logos.bugcrowdusercontent.com/logos/c0...   \n",
       "1  https://logos.bugcrowdusercontent.com/logos/ae...   \n",
       "2  https://logos.bugcrowdusercontent.com/logos/7e...   \n",
       "3  https://logos.bugcrowdusercontent.com/logos/28...   \n",
       "4  https://logos.bugcrowdusercontent.com/logos/18...   \n",
       "\n",
       "                               bcprogramcard__byline   Reward  \n",
       "0  Please submit your finding to Nextup.ai's bug ...   $1,500  \n",
       "1  Apps to Amplify the Atlassian Experience for E...   $1,500  \n",
       "2                     Stiltsoft's bug bounty program   $3,000  \n",
       "3         Collaboration tools for teams of all sizes  $10,000  \n",
       "4  Trello keeps track of everything, from the big...  $10,000  "
      ]
     },
     "execution_count": 37,
     "metadata": {},
     "output_type": "execute_result"
    }
   ],
   "source": [
    "df_ATLASSiAN.head()"
   ]
  },
  {
   "cell_type": "code",
   "execution_count": 38,
   "metadata": {},
   "outputs": [],
   "source": [
    "df_ATLASSiAN[\"Featured\"]=\"Atlassian\""
   ]
  },
  {
   "cell_type": "code",
   "execution_count": 39,
   "metadata": {},
   "outputs": [],
   "source": [
    "df_BCTEAMHUNT[\"Featured\"]= \"BCTeamHunt2022\""
   ]
  },
  {
   "cell_type": "code",
   "execution_count": 40,
   "metadata": {},
   "outputs": [],
   "source": [
    "df_HIGHESTREWARD[\"Featured\"]= \"Highest Reward Range\""
   ]
  },
  {
   "cell_type": "code",
   "execution_count": 41,
   "metadata": {},
   "outputs": [],
   "source": [
    "df_P1WARRIOR[\"Featured\"]= \"Needs a P1 warrior\""
   ]
  },
  {
   "cell_type": "code",
   "execution_count": 42,
   "metadata": {},
   "outputs": [],
   "source": [
    "df_COORDINATORDISCLOSED[\"Featured\"]= \"Coordinated Disclosure\""
   ]
  },
  {
   "cell_type": "code",
   "execution_count": 43,
   "metadata": {},
   "outputs": [],
   "source": [
    "df_SELFSERVICE[\"Featured\"]= \"Self Service\""
   ]
  },
  {
   "cell_type": "code",
   "execution_count": 44,
   "metadata": {},
   "outputs": [
    {
     "data": {
      "text/html": [
       "<div>\n",
       "<style scoped>\n",
       "    .dataframe tbody tr th:only-of-type {\n",
       "        vertical-align: middle;\n",
       "    }\n",
       "\n",
       "    .dataframe tbody tr th {\n",
       "        vertical-align: top;\n",
       "    }\n",
       "\n",
       "    .dataframe thead th {\n",
       "        text-align: right;\n",
       "    }\n",
       "</style>\n",
       "<table border=\"1\" class=\"dataframe\">\n",
       "  <thead>\n",
       "    <tr style=\"text-align: right;\">\n",
       "      <th></th>\n",
       "      <th>Title</th>\n",
       "      <th>Title_URL</th>\n",
       "      <th>Image</th>\n",
       "      <th>bcprogramcard__byline</th>\n",
       "      <th>Reward</th>\n",
       "      <th>Featured</th>\n",
       "    </tr>\n",
       "  </thead>\n",
       "  <tbody>\n",
       "    <tr>\n",
       "      <th>0</th>\n",
       "      <td>Upwork</td>\n",
       "      <td>https://bugcrowd.com/upwork</td>\n",
       "      <td>https://logos.bugcrowdusercontent.com/logos/25...</td>\n",
       "      <td>Hire Freelancers &amp; Get Freelance Jobs Online</td>\n",
       "      <td>$120 - $10,000</td>\n",
       "      <td>Staff Picks</td>\n",
       "    </tr>\n",
       "    <tr>\n",
       "      <th>1</th>\n",
       "      <td>TripAdvisor</td>\n",
       "      <td>https://bugcrowd.com/tripadvisor-bb-og</td>\n",
       "      <td>https://logos.bugcrowdusercontent.com/logos/85...</td>\n",
       "      <td>The world’s largest travel site. Know better. ...</td>\n",
       "      <td>$100 - $5,000</td>\n",
       "      <td>Staff Picks</td>\n",
       "    </tr>\n",
       "    <tr>\n",
       "      <th>2</th>\n",
       "      <td>ClickHouse</td>\n",
       "      <td>https://bugcrowd.com/clickhouse</td>\n",
       "      <td>https://logos.bugcrowdusercontent.com/logos/4a...</td>\n",
       "      <td>ClickHouse is an open-source, column-oriented ...</td>\n",
       "      <td>$50 - $2,500</td>\n",
       "      <td>Staff Picks</td>\n",
       "    </tr>\n",
       "    <tr>\n",
       "      <th>3</th>\n",
       "      <td>Bullish.com</td>\n",
       "      <td>https://bugcrowd.com/bullish</td>\n",
       "      <td>https://logos.bugcrowdusercontent.com/logos/a0...</td>\n",
       "      <td>Help Secure Bullish - a new breed of exchange</td>\n",
       "      <td>$200 - $12,000</td>\n",
       "      <td>Staff Picks</td>\n",
       "    </tr>\n",
       "    <tr>\n",
       "      <th>4</th>\n",
       "      <td>USAA</td>\n",
       "      <td>https://bugcrowd.com/usaa</td>\n",
       "      <td>https://logos.bugcrowdusercontent.com/logos/31...</td>\n",
       "      <td>We proudly serve millions of military members ...</td>\n",
       "      <td>$100 - $6,000</td>\n",
       "      <td>Staff Picks</td>\n",
       "    </tr>\n",
       "  </tbody>\n",
       "</table>\n",
       "</div>"
      ],
      "text/plain": [
       "         Title                               Title_URL  \\\n",
       "0       Upwork             https://bugcrowd.com/upwork   \n",
       "1  TripAdvisor  https://bugcrowd.com/tripadvisor-bb-og   \n",
       "2   ClickHouse         https://bugcrowd.com/clickhouse   \n",
       "3  Bullish.com            https://bugcrowd.com/bullish   \n",
       "4         USAA               https://bugcrowd.com/usaa   \n",
       "\n",
       "                                               Image  \\\n",
       "0  https://logos.bugcrowdusercontent.com/logos/25...   \n",
       "1  https://logos.bugcrowdusercontent.com/logos/85...   \n",
       "2  https://logos.bugcrowdusercontent.com/logos/4a...   \n",
       "3  https://logos.bugcrowdusercontent.com/logos/a0...   \n",
       "4  https://logos.bugcrowdusercontent.com/logos/31...   \n",
       "\n",
       "                               bcprogramcard__byline          Reward  \\\n",
       "0       Hire Freelancers & Get Freelance Jobs Online  $120 - $10,000   \n",
       "1  The world’s largest travel site. Know better. ...   $100 - $5,000   \n",
       "2  ClickHouse is an open-source, column-oriented ...    $50 - $2,500   \n",
       "3      Help Secure Bullish - a new breed of exchange  $200 - $12,000   \n",
       "4  We proudly serve millions of military members ...   $100 - $6,000   \n",
       "\n",
       "      Featured  \n",
       "0  Staff Picks  \n",
       "1  Staff Picks  \n",
       "2  Staff Picks  \n",
       "3  Staff Picks  \n",
       "4  Staff Picks  "
      ]
     },
     "execution_count": 44,
     "metadata": {},
     "output_type": "execute_result"
    }
   ],
   "source": [
    "df_STAFFPICK[\"Featured\"]= \"Staff Picks\"\n",
    "df_STAFFPICK.head()"
   ]
  },
  {
   "cell_type": "code",
   "execution_count": 46,
   "metadata": {},
   "outputs": [],
   "source": [
    "df_NEWSCOPE[\"Featured\"]= \"New Scope & Increased Rewards\""
   ]
  },
  {
   "attachments": {},
   "cell_type": "markdown",
   "metadata": {},
   "source": [
    "### Merging features "
   ]
  },
  {
   "cell_type": "code",
   "execution_count": 48,
   "metadata": {},
   "outputs": [],
   "source": [
    "df_normal = pd.read_excel('/Users/patrickahrend/Developer/data-analytics-bugcrowd/data-octa/bugcrowd_modified_24.12.xlsx')"
   ]
  },
  {
   "cell_type": "code",
   "execution_count": 75,
   "metadata": {},
   "outputs": [],
   "source": [
    "# concatenate DataFrames\n",
    "result_df = pd.concat(df_list, axis=0, ignore_index=True, join='outer',keys=[\"df_BCTEAMHUNT\", \"df_ATLASSiAN\", \"df_HIGHESTREWARD\", \"df_P1WARRIOR\", \"df_COORDINATORDISCLOSED\", \"df_SELFSERVICE\", \"df_STAFFPICK\", \"df_NEWSCOPE\"])\n"
   ]
  },
  {
   "cell_type": "code",
   "execution_count": 76,
   "metadata": {},
   "outputs": [
    {
     "data": {
      "text/plain": [
       "Index(['Title', 'Title_URL', 'Image', 'bcprogramcard__byline', 'Reward',\n",
       "       'Featured'],\n",
       "      dtype='object')"
      ]
     },
     "execution_count": 76,
     "metadata": {},
     "output_type": "execute_result"
    }
   ],
   "source": [
    "result_df.columns"
   ]
  },
  {
   "cell_type": "code",
   "execution_count": 77,
   "metadata": {},
   "outputs": [
    {
     "data": {
      "text/html": [
       "<div>\n",
       "<style scoped>\n",
       "    .dataframe tbody tr th:only-of-type {\n",
       "        vertical-align: middle;\n",
       "    }\n",
       "\n",
       "    .dataframe tbody tr th {\n",
       "        vertical-align: top;\n",
       "    }\n",
       "\n",
       "    .dataframe thead th {\n",
       "        text-align: right;\n",
       "    }\n",
       "</style>\n",
       "<table border=\"1\" class=\"dataframe\">\n",
       "  <thead>\n",
       "    <tr style=\"text-align: right;\">\n",
       "      <th></th>\n",
       "      <th>Title</th>\n",
       "      <th>Featured</th>\n",
       "    </tr>\n",
       "  </thead>\n",
       "  <tbody>\n",
       "    <tr>\n",
       "      <th>0</th>\n",
       "      <td>Video Viewing Platform</td>\n",
       "      <td>BCTeamHunt2022</td>\n",
       "    </tr>\n",
       "    <tr>\n",
       "      <th>1</th>\n",
       "      <td>Help Secure The Leader in Online Fundraising</td>\n",
       "      <td>BCTeamHunt2022</td>\n",
       "    </tr>\n",
       "    <tr>\n",
       "      <th>2</th>\n",
       "      <td>FIS</td>\n",
       "      <td>BCTeamHunt2022</td>\n",
       "    </tr>\n",
       "    <tr>\n",
       "      <th>3</th>\n",
       "      <td>Professional Counselling Provider</td>\n",
       "      <td>BCTeamHunt2022</td>\n",
       "    </tr>\n",
       "    <tr>\n",
       "      <th>4</th>\n",
       "      <td>A consumer device maker is looking for help se...</td>\n",
       "      <td>BCTeamHunt2022</td>\n",
       "    </tr>\n",
       "    <tr>\n",
       "      <th>...</th>\n",
       "      <td>...</td>\n",
       "      <td>...</td>\n",
       "    </tr>\n",
       "    <tr>\n",
       "      <th>118</th>\n",
       "      <td>Personal Capital</td>\n",
       "      <td>New Scope &amp; Increased Rewards</td>\n",
       "    </tr>\n",
       "    <tr>\n",
       "      <th>119</th>\n",
       "      <td>Centrify</td>\n",
       "      <td>New Scope &amp; Increased Rewards</td>\n",
       "    </tr>\n",
       "    <tr>\n",
       "      <th>120</th>\n",
       "      <td>Arlo Cash Rewards</td>\n",
       "      <td>New Scope &amp; Increased Rewards</td>\n",
       "    </tr>\n",
       "    <tr>\n",
       "      <th>121</th>\n",
       "      <td>Caffeine</td>\n",
       "      <td>New Scope &amp; Increased Rewards</td>\n",
       "    </tr>\n",
       "    <tr>\n",
       "      <th>122</th>\n",
       "      <td>Cloudways</td>\n",
       "      <td>New Scope &amp; Increased Rewards</td>\n",
       "    </tr>\n",
       "  </tbody>\n",
       "</table>\n",
       "<p>123 rows × 2 columns</p>\n",
       "</div>"
      ],
      "text/plain": [
       "                                                 Title  \\\n",
       "0                               Video Viewing Platform   \n",
       "1         Help Secure The Leader in Online Fundraising   \n",
       "2                                                  FIS   \n",
       "3                    Professional Counselling Provider   \n",
       "4    A consumer device maker is looking for help se...   \n",
       "..                                                 ...   \n",
       "118                                   Personal Capital   \n",
       "119                                           Centrify   \n",
       "120                                  Arlo Cash Rewards   \n",
       "121                                           Caffeine   \n",
       "122                                          Cloudways   \n",
       "\n",
       "                          Featured  \n",
       "0                   BCTeamHunt2022  \n",
       "1                   BCTeamHunt2022  \n",
       "2                   BCTeamHunt2022  \n",
       "3                   BCTeamHunt2022  \n",
       "4                   BCTeamHunt2022  \n",
       "..                             ...  \n",
       "118  New Scope & Increased Rewards  \n",
       "119  New Scope & Increased Rewards  \n",
       "120  New Scope & Increased Rewards  \n",
       "121  New Scope & Increased Rewards  \n",
       "122  New Scope & Increased Rewards  \n",
       "\n",
       "[123 rows x 2 columns]"
      ]
     },
     "execution_count": 77,
     "metadata": {},
     "output_type": "execute_result"
    }
   ],
   "source": [
    "result_df.drop(labels=['Title_URL','Image', 'bcprogramcard__byline', 'Reward'], axis=1)"
   ]
  },
  {
   "cell_type": "code",
   "execution_count": 64,
   "metadata": {},
   "outputs": [],
   "source": [
    "def drop_columns(df_list):\n",
    "    for df in df_list:\n",
    "        # columns that you want to keep\n",
    "        keep_columns = ['Title', 'Featured']\n",
    "\n",
    "        # Get a list of all columns to drop\n",
    "        drop_columns = list(set(df.columns) - set(keep_columns))\n",
    "\n",
    "        # drop all other columns\n",
    "        df.drop(labels=drop_columns, axis=1)\n",
    "    return df_list"
   ]
  },
  {
   "cell_type": "code",
   "execution_count": 65,
   "metadata": {},
   "outputs": [],
   "source": [
    "df_list = drop_columns(df_list)"
   ]
  },
  {
   "cell_type": "code",
   "execution_count": 66,
   "metadata": {},
   "outputs": [
    {
     "data": {
      "text/html": [
       "<div>\n",
       "<style scoped>\n",
       "    .dataframe tbody tr th:only-of-type {\n",
       "        vertical-align: middle;\n",
       "    }\n",
       "\n",
       "    .dataframe tbody tr th {\n",
       "        vertical-align: top;\n",
       "    }\n",
       "\n",
       "    .dataframe thead th {\n",
       "        text-align: right;\n",
       "    }\n",
       "</style>\n",
       "<table border=\"1\" class=\"dataframe\">\n",
       "  <thead>\n",
       "    <tr style=\"text-align: right;\">\n",
       "      <th></th>\n",
       "      <th>Title</th>\n",
       "      <th>Title_URL</th>\n",
       "      <th>Image</th>\n",
       "      <th>bcprogramcard__byline</th>\n",
       "      <th>Reward</th>\n",
       "      <th>Featured</th>\n",
       "    </tr>\n",
       "  </thead>\n",
       "  <tbody>\n",
       "    <tr>\n",
       "      <th>0</th>\n",
       "      <td>Video Viewing Platform</td>\n",
       "      <td>https://bugcrowd.com/programs/teasers/D28qs1YD...</td>\n",
       "      <td>https://assets.bugcrowdusercontent.com/assets/...</td>\n",
       "      <td>Help Secure Users of All Ages</td>\n",
       "      <td>$200 - $5,000</td>\n",
       "      <td>BCTeamHunt2022</td>\n",
       "    </tr>\n",
       "    <tr>\n",
       "      <th>1</th>\n",
       "      <td>Help Secure The Leader in Online Fundraising</td>\n",
       "      <td>https://bugcrowd.com/programs/teasers/spring-s...</td>\n",
       "      <td>https://assets.bugcrowdusercontent.com/assets/...</td>\n",
       "      <td>Striving to keep our customers safe everyday, ...</td>\n",
       "      <td>$150 - $5,000</td>\n",
       "      <td>BCTeamHunt2022</td>\n",
       "    </tr>\n",
       "    <tr>\n",
       "      <th>2</th>\n",
       "      <td>FIS</td>\n",
       "      <td>https://bugcrowd.com/fis</td>\n",
       "      <td>https://logos.bugcrowdusercontent.com/logos/26...</td>\n",
       "      <td>Advancing the ways the world pays, banks and i...</td>\n",
       "      <td>$200 - $100,000</td>\n",
       "      <td>BCTeamHunt2022</td>\n",
       "    </tr>\n",
       "    <tr>\n",
       "      <th>3</th>\n",
       "      <td>Professional Counselling Provider</td>\n",
       "      <td>https://bugcrowd.com/programs/teasers/dKZe19Mn...</td>\n",
       "      <td>https://assets.bugcrowdusercontent.com/assets/...</td>\n",
       "      <td>Help us care for our patients more securely by...</td>\n",
       "      <td>$500 - $20,000</td>\n",
       "      <td>BCTeamHunt2022</td>\n",
       "    </tr>\n",
       "    <tr>\n",
       "      <th>4</th>\n",
       "      <td>A consumer device maker is looking for help se...</td>\n",
       "      <td>https://bugcrowd.com/programs/teasers/rp9tjj4W...</td>\n",
       "      <td>https://assets.bugcrowdusercontent.com/assets/...</td>\n",
       "      <td>A consumer device maker is looking for help se...</td>\n",
       "      <td>$150 - $4,000</td>\n",
       "      <td>BCTeamHunt2022</td>\n",
       "    </tr>\n",
       "  </tbody>\n",
       "</table>\n",
       "</div>"
      ],
      "text/plain": [
       "                                               Title  \\\n",
       "0                             Video Viewing Platform   \n",
       "1       Help Secure The Leader in Online Fundraising   \n",
       "2                                                FIS   \n",
       "3                  Professional Counselling Provider   \n",
       "4  A consumer device maker is looking for help se...   \n",
       "\n",
       "                                           Title_URL  \\\n",
       "0  https://bugcrowd.com/programs/teasers/D28qs1YD...   \n",
       "1  https://bugcrowd.com/programs/teasers/spring-s...   \n",
       "2                           https://bugcrowd.com/fis   \n",
       "3  https://bugcrowd.com/programs/teasers/dKZe19Mn...   \n",
       "4  https://bugcrowd.com/programs/teasers/rp9tjj4W...   \n",
       "\n",
       "                                               Image  \\\n",
       "0  https://assets.bugcrowdusercontent.com/assets/...   \n",
       "1  https://assets.bugcrowdusercontent.com/assets/...   \n",
       "2  https://logos.bugcrowdusercontent.com/logos/26...   \n",
       "3  https://assets.bugcrowdusercontent.com/assets/...   \n",
       "4  https://assets.bugcrowdusercontent.com/assets/...   \n",
       "\n",
       "                               bcprogramcard__byline           Reward  \\\n",
       "0                      Help Secure Users of All Ages    $200 - $5,000   \n",
       "1  Striving to keep our customers safe everyday, ...    $150 - $5,000   \n",
       "2  Advancing the ways the world pays, banks and i...  $200 - $100,000   \n",
       "3  Help us care for our patients more securely by...   $500 - $20,000   \n",
       "4  A consumer device maker is looking for help se...    $150 - $4,000   \n",
       "\n",
       "         Featured  \n",
       "0  BCTeamHunt2022  \n",
       "1  BCTeamHunt2022  \n",
       "2  BCTeamHunt2022  \n",
       "3  BCTeamHunt2022  \n",
       "4  BCTeamHunt2022  "
      ]
     },
     "execution_count": 66,
     "metadata": {},
     "output_type": "execute_result"
    }
   ],
   "source": []
  }
 ],
 "metadata": {
  "kernelspec": {
   "display_name": "Python 3",
   "language": "python",
   "name": "python3"
  },
  "language_info": {
   "codemirror_mode": {
    "name": "ipython",
    "version": 3
   },
   "file_extension": ".py",
   "mimetype": "text/x-python",
   "name": "python",
   "nbconvert_exporter": "python",
   "pygments_lexer": "ipython3",
   "version": "3.9.12"
  },
  "orig_nbformat": 4,
  "vscode": {
   "interpreter": {
    "hash": "d3ddb9a339dcfec66cb1d066e0234a99f8d679773fa71ee722ae52c5be71efea"
   }
  }
 },
 "nbformat": 4,
 "nbformat_minor": 2
}
