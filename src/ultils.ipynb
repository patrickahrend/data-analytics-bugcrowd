{
 "cells": [
  {
   "attachments": {},
   "cell_type": "markdown",
   "metadata": {},
   "source": [
    "## Looking for difference in data set "
   ]
  },
  {
   "cell_type": "code",
   "execution_count": 1,
   "metadata": {},
   "outputs": [],
   "source": [
    "import pandas as pd "
   ]
  },
  {
   "cell_type": "code",
   "execution_count": 18,
   "metadata": {},
   "outputs": [
    {
     "data": {
      "text/plain": [
       "Index(['Title', 'Safe Harbor', 'Vulnearbilities Rewarded', 'Average Payout',\n",
       "       'Hall of Famers', 'Number People', 'Maximum Reword', 'annocument_count',\n",
       "       'Industry', 'Technology', 'Technology API Target',\n",
       "       'Technology Web Targets', 'Technology Android Targets',\n",
       "       'Technology IoT Targets', 'Technology iOS Targets',\n",
       "       'Technology Hardware Targets', 'Featured Staff Picks',\n",
       "       'Featured BCTeamHunt2022', 'Featured New Scope & Increased Rewards',\n",
       "       'Featured Self Service', 'Featured Highest Reward Range',\n",
       "       'Featured Coordinated Disclosure', 'Featured Atlassian',\n",
       "       'Featured Needs a P1 warrior', 'Has Technology', 'Has Featured',\n",
       "       'Has Industry', 'Reward Range Average', 'Validation Within Hours',\n",
       "       'P1 Average', 'P2 Average', 'P3 Average', 'P4 Average', 'Is Private'],\n",
       "      dtype='object')"
      ]
     },
     "execution_count": 18,
     "metadata": {},
     "output_type": "execute_result"
    }
   ],
   "source": [
    "df = pd.read_excel('/Users/patrickahrend/Developer/data-analytics-bugcrowd/used_data/cleaned-dataset.xlsx')\n",
    "df.columns"
   ]
  },
  {
   "cell_type": "code",
   "execution_count": 37,
   "metadata": {},
   "outputs": [],
   "source": [
    "df_hardware = df[df['Technology Hardware Targets'] == 1]"
   ]
  },
  {
   "cell_type": "code",
   "execution_count": 39,
   "metadata": {},
   "outputs": [
    {
     "data": {
      "text/plain": [
       "7.545454545454546"
      ]
     },
     "execution_count": 39,
     "metadata": {},
     "output_type": "execute_result"
    }
   ],
   "source": [
    "df_hardware[\"annocument_count\"].mean()"
   ]
  },
  {
   "cell_type": "code",
   "execution_count": 40,
   "metadata": {},
   "outputs": [
    {
     "data": {
      "text/plain": [
       "3.6231003039513676"
      ]
     },
     "execution_count": 40,
     "metadata": {},
     "output_type": "execute_result"
    }
   ],
   "source": [
    "df[\"annocument_count\"].mean()"
   ]
  },
  {
   "cell_type": "code",
   "execution_count": 34,
   "metadata": {},
   "outputs": [
    {
     "data": {
      "text/html": [
       "<div>\n",
       "<style scoped>\n",
       "    .dataframe tbody tr th:only-of-type {\n",
       "        vertical-align: middle;\n",
       "    }\n",
       "\n",
       "    .dataframe tbody tr th {\n",
       "        vertical-align: top;\n",
       "    }\n",
       "\n",
       "    .dataframe thead th {\n",
       "        text-align: right;\n",
       "    }\n",
       "</style>\n",
       "<table border=\"1\" class=\"dataframe\">\n",
       "  <thead>\n",
       "    <tr style=\"text-align: right;\">\n",
       "      <th></th>\n",
       "      <th>Title</th>\n",
       "      <th>Safe Harbor</th>\n",
       "      <th>Vulnearbilities Rewarded</th>\n",
       "      <th>Average Payout</th>\n",
       "      <th>Hall of Famers</th>\n",
       "      <th>Number People</th>\n",
       "      <th>Maximum Reword</th>\n",
       "      <th>annocument_count</th>\n",
       "      <th>Industry</th>\n",
       "      <th>Technology</th>\n",
       "      <th>...</th>\n",
       "      <th>Has Technology</th>\n",
       "      <th>Has Featured</th>\n",
       "      <th>Has Industry</th>\n",
       "      <th>Reward Range Average</th>\n",
       "      <th>Validation Within Hours</th>\n",
       "      <th>P1 Average</th>\n",
       "      <th>P2 Average</th>\n",
       "      <th>P3 Average</th>\n",
       "      <th>P4 Average</th>\n",
       "      <th>Is Private</th>\n",
       "    </tr>\n",
       "  </thead>\n",
       "  <tbody>\n",
       "    <tr>\n",
       "      <th>94</th>\n",
       "      <td>FIS</td>\n",
       "      <td>Safe harbor</td>\n",
       "      <td>614</td>\n",
       "      <td>6190.50</td>\n",
       "      <td>127</td>\n",
       "      <td>260</td>\n",
       "      <td>100000</td>\n",
       "      <td>39</td>\n",
       "      <td>Banking and Ficial Services</td>\n",
       "      <td>NaN</td>\n",
       "      <td>...</td>\n",
       "      <td>False</td>\n",
       "      <td>True</td>\n",
       "      <td>True</td>\n",
       "      <td>50000.0</td>\n",
       "      <td>360</td>\n",
       "      <td>17500.0</td>\n",
       "      <td>6250.0</td>\n",
       "      <td>1350.0</td>\n",
       "      <td>100.0</td>\n",
       "      <td>0</td>\n",
       "    </tr>\n",
       "    <tr>\n",
       "      <th>315</th>\n",
       "      <td>Xfinity Home &amp; xFi</td>\n",
       "      <td>Not Safe Harbor</td>\n",
       "      <td>113</td>\n",
       "      <td>6062.50</td>\n",
       "      <td>114</td>\n",
       "      <td>734</td>\n",
       "      <td>10000</td>\n",
       "      <td>4</td>\n",
       "      <td>NaN</td>\n",
       "      <td>Hardware Targets,IoT Targets</td>\n",
       "      <td>...</td>\n",
       "      <td>True</td>\n",
       "      <td>True</td>\n",
       "      <td>False</td>\n",
       "      <td>1750.0</td>\n",
       "      <td>120</td>\n",
       "      <td>2500.0</td>\n",
       "      <td>975.0</td>\n",
       "      <td>450.0</td>\n",
       "      <td>125.0</td>\n",
       "      <td>0</td>\n",
       "    </tr>\n",
       "    <tr>\n",
       "      <th>226</th>\n",
       "      <td>Rarible</td>\n",
       "      <td>Safe harbor</td>\n",
       "      <td>29</td>\n",
       "      <td>5250.00</td>\n",
       "      <td>56</td>\n",
       "      <td>598</td>\n",
       "      <td>10000</td>\n",
       "      <td>3</td>\n",
       "      <td>Electronics and Technology</td>\n",
       "      <td>API Targets,Web Targets</td>\n",
       "      <td>...</td>\n",
       "      <td>True</td>\n",
       "      <td>True</td>\n",
       "      <td>True</td>\n",
       "      <td>2500.0</td>\n",
       "      <td>48</td>\n",
       "      <td>4000.0</td>\n",
       "      <td>1500.0</td>\n",
       "      <td>175.0</td>\n",
       "      <td>25.0</td>\n",
       "      <td>0</td>\n",
       "    </tr>\n",
       "    <tr>\n",
       "      <th>1</th>\n",
       "      <td>1Password</td>\n",
       "      <td>Not Safe Harbor</td>\n",
       "      <td>138</td>\n",
       "      <td>3162.50</td>\n",
       "      <td>132</td>\n",
       "      <td>783</td>\n",
       "      <td>1000000</td>\n",
       "      <td>12</td>\n",
       "      <td>Electronics and Technology</td>\n",
       "      <td>NaN</td>\n",
       "      <td>...</td>\n",
       "      <td>False</td>\n",
       "      <td>True</td>\n",
       "      <td>True</td>\n",
       "      <td>15150.0</td>\n",
       "      <td>144</td>\n",
       "      <td>30000.0</td>\n",
       "      <td>6000.0</td>\n",
       "      <td>600.0</td>\n",
       "      <td>300.0</td>\n",
       "      <td>0</td>\n",
       "    </tr>\n",
       "    <tr>\n",
       "      <th>293</th>\n",
       "      <td>Under Armour AppSec</td>\n",
       "      <td>Partial safe harbor</td>\n",
       "      <td>427</td>\n",
       "      <td>2500.00</td>\n",
       "      <td>1138</td>\n",
       "      <td>1769</td>\n",
       "      <td>0</td>\n",
       "      <td>8</td>\n",
       "      <td>eCommerce and Retail</td>\n",
       "      <td>NaN</td>\n",
       "      <td>...</td>\n",
       "      <td>False</td>\n",
       "      <td>False</td>\n",
       "      <td>True</td>\n",
       "      <td>1312.5</td>\n",
       "      <td>48</td>\n",
       "      <td>1850.0</td>\n",
       "      <td>1100.0</td>\n",
       "      <td>500.0</td>\n",
       "      <td>125.0</td>\n",
       "      <td>0</td>\n",
       "    </tr>\n",
       "    <tr>\n",
       "      <th>47</th>\n",
       "      <td>Cash App</td>\n",
       "      <td>Not Safe Harbor</td>\n",
       "      <td>31</td>\n",
       "      <td>2428.57</td>\n",
       "      <td>44</td>\n",
       "      <td>289</td>\n",
       "      <td>0</td>\n",
       "      <td>1</td>\n",
       "      <td>Banking and Ficial Services</td>\n",
       "      <td>NaN</td>\n",
       "      <td>...</td>\n",
       "      <td>False</td>\n",
       "      <td>False</td>\n",
       "      <td>True</td>\n",
       "      <td>4075.0</td>\n",
       "      <td>72</td>\n",
       "      <td>7000.0</td>\n",
       "      <td>2750.0</td>\n",
       "      <td>1050.0</td>\n",
       "      <td>175.0</td>\n",
       "      <td>0</td>\n",
       "    </tr>\n",
       "    <tr>\n",
       "      <th>102</th>\n",
       "      <td>Gearset: Managed Bug Bounty</td>\n",
       "      <td>Safe harbor</td>\n",
       "      <td>23</td>\n",
       "      <td>2300.00</td>\n",
       "      <td>20</td>\n",
       "      <td>209</td>\n",
       "      <td>0</td>\n",
       "      <td>3</td>\n",
       "      <td>Electronics and Technology</td>\n",
       "      <td>API Targets</td>\n",
       "      <td>...</td>\n",
       "      <td>True</td>\n",
       "      <td>True</td>\n",
       "      <td>True</td>\n",
       "      <td>3100.0</td>\n",
       "      <td>96</td>\n",
       "      <td>5500.0</td>\n",
       "      <td>2750.0</td>\n",
       "      <td>725.0</td>\n",
       "      <td>225.0</td>\n",
       "      <td>0</td>\n",
       "    </tr>\n",
       "    <tr>\n",
       "      <th>72</th>\n",
       "      <td>Dell Technologies' Products Bug Bounty Program</td>\n",
       "      <td>Partial safe harbor</td>\n",
       "      <td>55</td>\n",
       "      <td>2100.00</td>\n",
       "      <td>23</td>\n",
       "      <td>104</td>\n",
       "      <td>0</td>\n",
       "      <td>1</td>\n",
       "      <td>Electronics and Technology</td>\n",
       "      <td>Hardware Targets</td>\n",
       "      <td>...</td>\n",
       "      <td>True</td>\n",
       "      <td>False</td>\n",
       "      <td>True</td>\n",
       "      <td>2600.0</td>\n",
       "      <td>1440</td>\n",
       "      <td>5000.0</td>\n",
       "      <td>3000.0</td>\n",
       "      <td>1500.0</td>\n",
       "      <td>200.0</td>\n",
       "      <td>0</td>\n",
       "    </tr>\n",
       "    <tr>\n",
       "      <th>277</th>\n",
       "      <td>Tesla</td>\n",
       "      <td>Partial safe harbor</td>\n",
       "      <td>682</td>\n",
       "      <td>1740.00</td>\n",
       "      <td>680</td>\n",
       "      <td>3004</td>\n",
       "      <td>0</td>\n",
       "      <td>1</td>\n",
       "      <td>NaN</td>\n",
       "      <td>Hardware Targets</td>\n",
       "      <td>...</td>\n",
       "      <td>True</td>\n",
       "      <td>True</td>\n",
       "      <td>False</td>\n",
       "      <td>7550.0</td>\n",
       "      <td>48</td>\n",
       "      <td>9000.0</td>\n",
       "      <td>1750.0</td>\n",
       "      <td>350.0</td>\n",
       "      <td>150.0</td>\n",
       "      <td>0</td>\n",
       "    </tr>\n",
       "    <tr>\n",
       "      <th>254</th>\n",
       "      <td>SpaceX/Starlink</td>\n",
       "      <td>Not Safe Harbor</td>\n",
       "      <td>55</td>\n",
       "      <td>1660.56</td>\n",
       "      <td>43</td>\n",
       "      <td>397</td>\n",
       "      <td>0</td>\n",
       "      <td>3</td>\n",
       "      <td>NaN</td>\n",
       "      <td>NaN</td>\n",
       "      <td>...</td>\n",
       "      <td>False</td>\n",
       "      <td>True</td>\n",
       "      <td>False</td>\n",
       "      <td>12500.0</td>\n",
       "      <td>96</td>\n",
       "      <td>12500.0</td>\n",
       "      <td>5000.0</td>\n",
       "      <td>2500.0</td>\n",
       "      <td>500.0</td>\n",
       "      <td>0</td>\n",
       "    </tr>\n",
       "  </tbody>\n",
       "</table>\n",
       "<p>10 rows × 34 columns</p>\n",
       "</div>"
      ],
      "text/plain": [
       "                                              Title          Safe Harbor  \\\n",
       "94                                              FIS          Safe harbor   \n",
       "315                              Xfinity Home & xFi      Not Safe Harbor   \n",
       "226                                         Rarible          Safe harbor   \n",
       "1                                         1Password      Not Safe Harbor   \n",
       "293                             Under Armour AppSec  Partial safe harbor   \n",
       "47                                         Cash App      Not Safe Harbor   \n",
       "102                     Gearset: Managed Bug Bounty          Safe harbor   \n",
       "72   Dell Technologies' Products Bug Bounty Program  Partial safe harbor   \n",
       "277                                           Tesla  Partial safe harbor   \n",
       "254                                 SpaceX/Starlink      Not Safe Harbor   \n",
       "\n",
       "     Vulnearbilities Rewarded  Average Payout  Hall of Famers  Number People  \\\n",
       "94                        614         6190.50             127            260   \n",
       "315                       113         6062.50             114            734   \n",
       "226                        29         5250.00              56            598   \n",
       "1                         138         3162.50             132            783   \n",
       "293                       427         2500.00            1138           1769   \n",
       "47                         31         2428.57              44            289   \n",
       "102                        23         2300.00              20            209   \n",
       "72                         55         2100.00              23            104   \n",
       "277                       682         1740.00             680           3004   \n",
       "254                        55         1660.56              43            397   \n",
       "\n",
       "     Maximum Reword  annocument_count                     Industry  \\\n",
       "94           100000                39  Banking and Ficial Services   \n",
       "315           10000                 4                          NaN   \n",
       "226           10000                 3   Electronics and Technology   \n",
       "1           1000000                12   Electronics and Technology   \n",
       "293               0                 8         eCommerce and Retail   \n",
       "47                0                 1  Banking and Ficial Services   \n",
       "102               0                 3   Electronics and Technology   \n",
       "72                0                 1   Electronics and Technology   \n",
       "277               0                 1                          NaN   \n",
       "254               0                 3                          NaN   \n",
       "\n",
       "                       Technology  ...  Has Technology  Has Featured  \\\n",
       "94                            NaN  ...           False          True   \n",
       "315  Hardware Targets,IoT Targets  ...            True          True   \n",
       "226       API Targets,Web Targets  ...            True          True   \n",
       "1                             NaN  ...           False          True   \n",
       "293                           NaN  ...           False         False   \n",
       "47                            NaN  ...           False         False   \n",
       "102                   API Targets  ...            True          True   \n",
       "72               Hardware Targets  ...            True         False   \n",
       "277              Hardware Targets  ...            True          True   \n",
       "254                           NaN  ...           False          True   \n",
       "\n",
       "     Has Industry  Reward Range Average  Validation Within Hours  P1 Average  \\\n",
       "94           True               50000.0                      360     17500.0   \n",
       "315         False                1750.0                      120      2500.0   \n",
       "226          True                2500.0                       48      4000.0   \n",
       "1            True               15150.0                      144     30000.0   \n",
       "293          True                1312.5                       48      1850.0   \n",
       "47           True                4075.0                       72      7000.0   \n",
       "102          True                3100.0                       96      5500.0   \n",
       "72           True                2600.0                     1440      5000.0   \n",
       "277         False                7550.0                       48      9000.0   \n",
       "254         False               12500.0                       96     12500.0   \n",
       "\n",
       "     P2 Average  P3 Average  P4 Average  Is Private  \n",
       "94       6250.0      1350.0       100.0           0  \n",
       "315       975.0       450.0       125.0           0  \n",
       "226      1500.0       175.0        25.0           0  \n",
       "1        6000.0       600.0       300.0           0  \n",
       "293      1100.0       500.0       125.0           0  \n",
       "47       2750.0      1050.0       175.0           0  \n",
       "102      2750.0       725.0       225.0           0  \n",
       "72       3000.0      1500.0       200.0           0  \n",
       "277      1750.0       350.0       150.0           0  \n",
       "254      5000.0      2500.0       500.0           0  \n",
       "\n",
       "[10 rows x 34 columns]"
      ]
     },
     "execution_count": 34,
     "metadata": {},
     "output_type": "execute_result"
    }
   ],
   "source": [
    "largest_average_payout= df.nlargest(10, 'Average Payout')\n",
    "largest_average_payout"
   ]
  },
  {
   "cell_type": "code",
   "execution_count": 35,
   "metadata": {},
   "outputs": [
    {
     "data": {
      "text/html": [
       "<div>\n",
       "<style scoped>\n",
       "    .dataframe tbody tr th:only-of-type {\n",
       "        vertical-align: middle;\n",
       "    }\n",
       "\n",
       "    .dataframe tbody tr th {\n",
       "        vertical-align: top;\n",
       "    }\n",
       "\n",
       "    .dataframe thead th {\n",
       "        text-align: right;\n",
       "    }\n",
       "</style>\n",
       "<table border=\"1\" class=\"dataframe\">\n",
       "  <thead>\n",
       "    <tr style=\"text-align: right;\">\n",
       "      <th></th>\n",
       "      <th>Title</th>\n",
       "      <th>Safe Harbor</th>\n",
       "      <th>Vulnearbilities Rewarded</th>\n",
       "      <th>Average Payout</th>\n",
       "      <th>Hall of Famers</th>\n",
       "      <th>Number People</th>\n",
       "      <th>Maximum Reword</th>\n",
       "      <th>annocument_count</th>\n",
       "      <th>Industry</th>\n",
       "      <th>Technology</th>\n",
       "      <th>...</th>\n",
       "      <th>Has Technology</th>\n",
       "      <th>Has Featured</th>\n",
       "      <th>Has Industry</th>\n",
       "      <th>Reward Range Average</th>\n",
       "      <th>Validation Within Hours</th>\n",
       "      <th>P1 Average</th>\n",
       "      <th>P2 Average</th>\n",
       "      <th>P3 Average</th>\n",
       "      <th>P4 Average</th>\n",
       "      <th>Is Private</th>\n",
       "    </tr>\n",
       "  </thead>\n",
       "  <tbody>\n",
       "    <tr>\n",
       "      <th>172</th>\n",
       "      <td>Netflix</td>\n",
       "      <td>Not Safe Harbor</td>\n",
       "      <td>747</td>\n",
       "      <td>1020.37</td>\n",
       "      <td>1088</td>\n",
       "      <td>4742</td>\n",
       "      <td>0</td>\n",
       "      <td>7</td>\n",
       "      <td>NaN</td>\n",
       "      <td>Android Targets,API Targets,iOS Targets</td>\n",
       "      <td>...</td>\n",
       "      <td>True</td>\n",
       "      <td>True</td>\n",
       "      <td>False</td>\n",
       "      <td>10100.0</td>\n",
       "      <td>48</td>\n",
       "      <td>12000.0</td>\n",
       "      <td>2750.0</td>\n",
       "      <td>1000.0</td>\n",
       "      <td>350.0</td>\n",
       "      <td>0</td>\n",
       "    </tr>\n",
       "    <tr>\n",
       "      <th>128</th>\n",
       "      <td>Indeed</td>\n",
       "      <td>Safe harbor</td>\n",
       "      <td>1637</td>\n",
       "      <td>851.06</td>\n",
       "      <td>1497</td>\n",
       "      <td>3852</td>\n",
       "      <td>0</td>\n",
       "      <td>18</td>\n",
       "      <td>NaN</td>\n",
       "      <td>Android Targets,API Targets,Web Targets</td>\n",
       "      <td>...</td>\n",
       "      <td>True</td>\n",
       "      <td>True</td>\n",
       "      <td>False</td>\n",
       "      <td>5025.0</td>\n",
       "      <td>48</td>\n",
       "      <td>7000.0</td>\n",
       "      <td>2500.0</td>\n",
       "      <td>600.0</td>\n",
       "      <td>125.0</td>\n",
       "      <td>0</td>\n",
       "    </tr>\n",
       "    <tr>\n",
       "      <th>277</th>\n",
       "      <td>Tesla</td>\n",
       "      <td>Partial safe harbor</td>\n",
       "      <td>682</td>\n",
       "      <td>1740.00</td>\n",
       "      <td>680</td>\n",
       "      <td>3004</td>\n",
       "      <td>0</td>\n",
       "      <td>1</td>\n",
       "      <td>NaN</td>\n",
       "      <td>Hardware Targets</td>\n",
       "      <td>...</td>\n",
       "      <td>True</td>\n",
       "      <td>True</td>\n",
       "      <td>False</td>\n",
       "      <td>7550.0</td>\n",
       "      <td>48</td>\n",
       "      <td>9000.0</td>\n",
       "      <td>1750.0</td>\n",
       "      <td>350.0</td>\n",
       "      <td>150.0</td>\n",
       "      <td>0</td>\n",
       "    </tr>\n",
       "    <tr>\n",
       "      <th>38</th>\n",
       "      <td>Bugcrowd</td>\n",
       "      <td>Safe harbor</td>\n",
       "      <td>509</td>\n",
       "      <td>300.00</td>\n",
       "      <td>706</td>\n",
       "      <td>2822</td>\n",
       "      <td>0</td>\n",
       "      <td>2</td>\n",
       "      <td>NaN</td>\n",
       "      <td>NaN</td>\n",
       "      <td>...</td>\n",
       "      <td>False</td>\n",
       "      <td>True</td>\n",
       "      <td>False</td>\n",
       "      <td>5150.0</td>\n",
       "      <td>72</td>\n",
       "      <td>6250.5</td>\n",
       "      <td>1700.5</td>\n",
       "      <td>600.5</td>\n",
       "      <td>300.0</td>\n",
       "      <td>0</td>\n",
       "    </tr>\n",
       "    <tr>\n",
       "      <th>310</th>\n",
       "      <td>Western Union</td>\n",
       "      <td>Not Safe Harbor</td>\n",
       "      <td>455</td>\n",
       "      <td>550.00</td>\n",
       "      <td>898</td>\n",
       "      <td>2618</td>\n",
       "      <td>0</td>\n",
       "      <td>13</td>\n",
       "      <td>Banking and Ficial Services</td>\n",
       "      <td>Android Targets</td>\n",
       "      <td>...</td>\n",
       "      <td>True</td>\n",
       "      <td>False</td>\n",
       "      <td>True</td>\n",
       "      <td>1550.0</td>\n",
       "      <td>120</td>\n",
       "      <td>2250.0</td>\n",
       "      <td>1100.0</td>\n",
       "      <td>500.0</td>\n",
       "      <td>150.0</td>\n",
       "      <td>0</td>\n",
       "    </tr>\n",
       "    <tr>\n",
       "      <th>18</th>\n",
       "      <td>Atlassian</td>\n",
       "      <td>Not Safe Harbor</td>\n",
       "      <td>1890</td>\n",
       "      <td>1329.41</td>\n",
       "      <td>693</td>\n",
       "      <td>2603</td>\n",
       "      <td>0</td>\n",
       "      <td>12</td>\n",
       "      <td>NaN</td>\n",
       "      <td>NaN</td>\n",
       "      <td>...</td>\n",
       "      <td>False</td>\n",
       "      <td>True</td>\n",
       "      <td>False</td>\n",
       "      <td>5100.0</td>\n",
       "      <td>264</td>\n",
       "      <td>10000.0</td>\n",
       "      <td>3600.0</td>\n",
       "      <td>1200.0</td>\n",
       "      <td>300.0</td>\n",
       "      <td>0</td>\n",
       "    </tr>\n",
       "    <tr>\n",
       "      <th>111</th>\n",
       "      <td>Hack Me!</td>\n",
       "      <td>Not Safe Harbor</td>\n",
       "      <td>148</td>\n",
       "      <td>0.00</td>\n",
       "      <td>189</td>\n",
       "      <td>2474</td>\n",
       "      <td>0</td>\n",
       "      <td>3</td>\n",
       "      <td>NaN</td>\n",
       "      <td>NaN</td>\n",
       "      <td>...</td>\n",
       "      <td>False</td>\n",
       "      <td>False</td>\n",
       "      <td>False</td>\n",
       "      <td>0.0</td>\n",
       "      <td>0</td>\n",
       "      <td>5010.0</td>\n",
       "      <td>2500.0</td>\n",
       "      <td>500.0</td>\n",
       "      <td>150.5</td>\n",
       "      <td>0</td>\n",
       "    </tr>\n",
       "    <tr>\n",
       "      <th>215</th>\n",
       "      <td>Pinterest</td>\n",
       "      <td>Safe harbor</td>\n",
       "      <td>462</td>\n",
       "      <td>1132.50</td>\n",
       "      <td>817</td>\n",
       "      <td>2432</td>\n",
       "      <td>0</td>\n",
       "      <td>8</td>\n",
       "      <td>NaN</td>\n",
       "      <td>Android Targets</td>\n",
       "      <td>...</td>\n",
       "      <td>True</td>\n",
       "      <td>True</td>\n",
       "      <td>False</td>\n",
       "      <td>12500.0</td>\n",
       "      <td>96</td>\n",
       "      <td>22500.0</td>\n",
       "      <td>3000.0</td>\n",
       "      <td>800.0</td>\n",
       "      <td>100.0</td>\n",
       "      <td>0</td>\n",
       "    </tr>\n",
       "    <tr>\n",
       "      <th>27</th>\n",
       "      <td>Binance</td>\n",
       "      <td>Partial safe harbor</td>\n",
       "      <td>292</td>\n",
       "      <td>0.00</td>\n",
       "      <td>305</td>\n",
       "      <td>2403</td>\n",
       "      <td>100000</td>\n",
       "      <td>8</td>\n",
       "      <td>Banking and Ficial Services</td>\n",
       "      <td>iOS Targets</td>\n",
       "      <td>...</td>\n",
       "      <td>True</td>\n",
       "      <td>True</td>\n",
       "      <td>True</td>\n",
       "      <td>5100.0</td>\n",
       "      <td>24</td>\n",
       "      <td>7500.0</td>\n",
       "      <td>3250.0</td>\n",
       "      <td>1050.0</td>\n",
       "      <td>400.0</td>\n",
       "      <td>0</td>\n",
       "    </tr>\n",
       "    <tr>\n",
       "      <th>234</th>\n",
       "      <td>SEEK</td>\n",
       "      <td>Partial safe harbor</td>\n",
       "      <td>310</td>\n",
       "      <td>609.09</td>\n",
       "      <td>644</td>\n",
       "      <td>2340</td>\n",
       "      <td>0</td>\n",
       "      <td>11</td>\n",
       "      <td>Electronics and Technology</td>\n",
       "      <td>Android Targets,API Targets</td>\n",
       "      <td>...</td>\n",
       "      <td>True</td>\n",
       "      <td>False</td>\n",
       "      <td>True</td>\n",
       "      <td>5025.0</td>\n",
       "      <td>96</td>\n",
       "      <td>7500.0</td>\n",
       "      <td>2850.0</td>\n",
       "      <td>450.0</td>\n",
       "      <td>125.0</td>\n",
       "      <td>0</td>\n",
       "    </tr>\n",
       "  </tbody>\n",
       "</table>\n",
       "<p>10 rows × 34 columns</p>\n",
       "</div>"
      ],
      "text/plain": [
       "             Title          Safe Harbor  Vulnearbilities Rewarded  \\\n",
       "172        Netflix      Not Safe Harbor                       747   \n",
       "128         Indeed          Safe harbor                      1637   \n",
       "277          Tesla  Partial safe harbor                       682   \n",
       "38        Bugcrowd          Safe harbor                       509   \n",
       "310  Western Union      Not Safe Harbor                       455   \n",
       "18       Atlassian      Not Safe Harbor                      1890   \n",
       "111       Hack Me!      Not Safe Harbor                       148   \n",
       "215      Pinterest          Safe harbor                       462   \n",
       "27         Binance  Partial safe harbor                       292   \n",
       "234           SEEK  Partial safe harbor                       310   \n",
       "\n",
       "     Average Payout  Hall of Famers  Number People  Maximum Reword  \\\n",
       "172         1020.37            1088           4742               0   \n",
       "128          851.06            1497           3852               0   \n",
       "277         1740.00             680           3004               0   \n",
       "38           300.00             706           2822               0   \n",
       "310          550.00             898           2618               0   \n",
       "18          1329.41             693           2603               0   \n",
       "111            0.00             189           2474               0   \n",
       "215         1132.50             817           2432               0   \n",
       "27             0.00             305           2403          100000   \n",
       "234          609.09             644           2340               0   \n",
       "\n",
       "     annocument_count                     Industry  \\\n",
       "172                 7                          NaN   \n",
       "128                18                          NaN   \n",
       "277                 1                          NaN   \n",
       "38                  2                          NaN   \n",
       "310                13  Banking and Ficial Services   \n",
       "18                 12                          NaN   \n",
       "111                 3                          NaN   \n",
       "215                 8                          NaN   \n",
       "27                  8  Banking and Ficial Services   \n",
       "234                11   Electronics and Technology   \n",
       "\n",
       "                                  Technology  ...  Has Technology  \\\n",
       "172  Android Targets,API Targets,iOS Targets  ...            True   \n",
       "128  Android Targets,API Targets,Web Targets  ...            True   \n",
       "277                         Hardware Targets  ...            True   \n",
       "38                                       NaN  ...           False   \n",
       "310                          Android Targets  ...            True   \n",
       "18                                       NaN  ...           False   \n",
       "111                                      NaN  ...           False   \n",
       "215                          Android Targets  ...            True   \n",
       "27                               iOS Targets  ...            True   \n",
       "234              Android Targets,API Targets  ...            True   \n",
       "\n",
       "     Has Featured  Has Industry  Reward Range Average  \\\n",
       "172          True         False               10100.0   \n",
       "128          True         False                5025.0   \n",
       "277          True         False                7550.0   \n",
       "38           True         False                5150.0   \n",
       "310         False          True                1550.0   \n",
       "18           True         False                5100.0   \n",
       "111         False         False                   0.0   \n",
       "215          True         False               12500.0   \n",
       "27           True          True                5100.0   \n",
       "234         False          True                5025.0   \n",
       "\n",
       "     Validation Within Hours  P1 Average  P2 Average  P3 Average  P4 Average  \\\n",
       "172                       48     12000.0      2750.0      1000.0       350.0   \n",
       "128                       48      7000.0      2500.0       600.0       125.0   \n",
       "277                       48      9000.0      1750.0       350.0       150.0   \n",
       "38                        72      6250.5      1700.5       600.5       300.0   \n",
       "310                      120      2250.0      1100.0       500.0       150.0   \n",
       "18                       264     10000.0      3600.0      1200.0       300.0   \n",
       "111                        0      5010.0      2500.0       500.0       150.5   \n",
       "215                       96     22500.0      3000.0       800.0       100.0   \n",
       "27                        24      7500.0      3250.0      1050.0       400.0   \n",
       "234                       96      7500.0      2850.0       450.0       125.0   \n",
       "\n",
       "     Is Private  \n",
       "172           0  \n",
       "128           0  \n",
       "277           0  \n",
       "38            0  \n",
       "310           0  \n",
       "18            0  \n",
       "111           0  \n",
       "215           0  \n",
       "27            0  \n",
       "234           0  \n",
       "\n",
       "[10 rows x 34 columns]"
      ]
     },
     "execution_count": 35,
     "metadata": {},
     "output_type": "execute_result"
    }
   ],
   "source": [
    "largest_rows = df.nlargest(10, 'Number People')\n",
    "largest_rows"
   ]
  },
  {
   "cell_type": "code",
   "execution_count": 28,
   "metadata": {},
   "outputs": [
    {
     "data": {
      "text/plain": [
       "172"
      ]
     },
     "execution_count": 28,
     "metadata": {},
     "output_type": "execute_result"
    }
   ],
   "source": [
    "max = df[\"Number People\"].idxmax()\n",
    "max"
   ]
  },
  {
   "cell_type": "code",
   "execution_count": 14,
   "metadata": {},
   "outputs": [],
   "source": [
    "df = df[df[\"Has Technology\"] == False]"
   ]
  },
  {
   "cell_type": "code",
   "execution_count": 15,
   "metadata": {},
   "outputs": [
    {
     "name": "stdout",
     "output_type": "stream",
     "text": [
      "Banking vulnearbilty rewarded average:  123.39\n"
     ]
    }
   ],
   "source": [
    "non_technology_vulnearbilities = df['Vulnearbilities Rewarded'].mean()\n",
    "print(\"Banking vulnearbilty rewarded average: \",round(non_technology_vulnearbilities,2))\n"
   ]
  },
  {
   "cell_type": "code",
   "execution_count": 16,
   "metadata": {},
   "outputs": [
    {
     "name": "stdout",
     "output_type": "stream",
     "text": [
      "Banking vulnearbilty rewarded average:  452.92\n"
     ]
    }
   ],
   "source": [
    "non_technology_number = df['Number People'].mean()\n",
    "print(\"Banking vulnearbilty rewarded average: \",round(non_technology_number,2))"
   ]
  },
  {
   "cell_type": "code",
   "execution_count": 17,
   "metadata": {},
   "outputs": [
    {
     "name": "stdout",
     "output_type": "stream",
     "text": [
      "Banking vulnearbilty rewarded average:  302.33\n"
     ]
    }
   ],
   "source": [
    "non_technology_ap = df['Average Payout'].mean()\n",
    "print(\"Banking vulnearbilty rewarded average: \",round(non_technology_ap,2))"
   ]
  },
  {
   "cell_type": "code",
   "execution_count": null,
   "metadata": {},
   "outputs": [],
   "source": []
  },
  {
   "cell_type": "code",
   "execution_count": null,
   "metadata": {},
   "outputs": [],
   "source": []
  },
  {
   "cell_type": "code",
   "execution_count": null,
   "metadata": {},
   "outputs": [],
   "source": [
    "import pandas as pd\n",
    "\n",
    "\n",
    "df_07_01= pd.read_excel('/Users/patrickahrend/Developer/data-analytics-bugcrowd/data-octa/Bugcrowd_all_program_7_01_name_asc.xlsx')\n",
    "df_24_12= pd.read_excel('/Users/patrickahrend/Developer/data-analytics-bugcrowd/data-octa/bugcrowd_modified_24.12.xlsx')"
   ]
  },
  {
   "cell_type": "code",
   "execution_count": null,
   "metadata": {},
   "outputs": [],
   "source": [
    "list_df_07_01= df_07_01['Title']\n",
    "list_df_24_12 = df_24_12['Title']"
   ]
  },
  {
   "cell_type": "code",
   "execution_count": null,
   "metadata": {},
   "outputs": [
    {
     "name": "stdout",
     "output_type": "stream",
     "text": [
      "324\n",
      "263\n"
     ]
    }
   ],
   "source": [
    "set_df_07_01 = set(list_df_07_01)\n",
    "set_df_24_12 = set(list_df_24_12)\n",
    "\n",
    "print(len(set_df_07_01))\n",
    "print(len(set_df_24_12))"
   ]
  },
  {
   "cell_type": "code",
   "execution_count": null,
   "metadata": {},
   "outputs": [
    {
     "name": "stdout",
     "output_type": "stream",
     "text": [
      "66\n",
      "{'Square Open Source', 'Wise (ex-TransferWise)', 'Leading threat management company needs your help !', 'Help Secure The Leader in Online Fundraising', 'Tamedia', 'U.S. Chemical Safety and Hazard Investigation Board - Vulnerability Disclosure Program', 'Santos Vulnerability Disclosure Program', 'Wyze Bug Bounty', 'OLX Autos', 'Fleet Management Application', 'Simplifying complex work wherever, and you can help secure it! (2x bonus rewards)', 'Upwork', 'Asana', 'Sky Disclosure Program', 'LifterLMS', 'HostGator Latam Bug Bounty', 'Chia Network', 'Office of Natural Resources Revenue', 'Newfold Vdeck Bug Bounty', 'Made in the USA', 'A Leading Financial Services and Insurance Company', 'A multinational telecommunications is looking for top talent to secure their huge attack surface!', 'MediaLab - Kik Vulnerability Disclosure Program', 'Hack Me!', \"WestJet's Vulnerability Disclosure Program\", 'Bullish.com', 'Help secure a shocking new eCommerce platform', 'Binance', 'Professional Counselling Provider', 'Moneytree KK', 'OneTrust', 'Mathematical software solutions provider', 'Intercom', 'Newfold Builder VDP', 'Caffeine', 'OLX EMEA', 'Appliances - Barracuda Networks, Inc.', 'Siteplus Vulnerability Disclosure Program', 'Xfinity Home & xFi', 'Latitude Financial Services Vulnerability Disclosure Program', 'Mettle', 'An electronics retailer would like your help!', 'Large US Insurance Provider', 'Ibotta', 'Netflix', 'Nine Entertainment Vulnerability Disclosure Program', 'Indeed', 'Retail Company', 'Application to find help around the house.', 'Bureau of Indian Affairs', 'Kistler Vulnerability Disclosure Program', 'NETGEAR Cash Rewards', 'IOOF Vulnerability Disclosure Program', 'Help Keep a Financial Company Secure!', 'Cisco Meraki', 'Bitget', 'Step Public Applications', 'The Scotts Miracle-Gro Company Responsible Disclosure', 'Square', 'U.S. Geological Survey', 'A consumer device maker is looking for help securing its hardware/software assets', 'Bullish exchange', 'Click here to submit a support ticket!', 'Arrow Electronics VDP', 'SoundCloud', 'Hostopia Australias Vulnerability Disclosure Program'}\n"
     ]
    }
   ],
   "source": [
    "difference = set_df_07_01.difference(set_df_24_12)\n",
    "print(len(difference))\n",
    "print(difference)"
   ]
  },
  {
   "cell_type": "code",
   "execution_count": null,
   "metadata": {},
   "outputs": [
    {
     "data": {
      "text/plain": [
       "Index(['Reward Range', 'Link', 'Title', 'Short Description', 'Is Safe Harbor',\n",
       "       'Vulnearbilities Rewarded', 'Validation Within', 'Average Payout',\n",
       "       'Number People', 'Hall of Famers', 'P1', 'P2', 'P3', 'P4',\n",
       "       'Programm Rules'],\n",
       "      dtype='object')"
      ]
     },
     "execution_count": 354,
     "metadata": {},
     "output_type": "execute_result"
    }
   ],
   "source": [
    "df_24_12.columns"
   ]
  },
  {
   "cell_type": "code",
   "execution_count": null,
   "metadata": {},
   "outputs": [],
   "source": [
    "df_24_12 = df_24_12.rename(columns={'Name':'Title'})"
   ]
  },
  {
   "cell_type": "code",
   "execution_count": null,
   "metadata": {},
   "outputs": [
    {
     "data": {
      "text/plain": [
       "Index(['Reward Range', 'Link', 'Title', 'Short Description', 'Is Safe Harbor',\n",
       "       'Vulnearbilities Rewarded', 'Validation Within', 'Average Payout',\n",
       "       'Hall of Famers', 'Number People', 'P4', 'P3', 'P2', 'P1',\n",
       "       'Maximum Reword', 'programm_ruels', 'annocument_count'],\n",
       "      dtype='object')"
      ]
     },
     "execution_count": 356,
     "metadata": {},
     "output_type": "execute_result"
    }
   ],
   "source": [
    "df_07_01.columns"
   ]
  },
  {
   "cell_type": "code",
   "execution_count": null,
   "metadata": {},
   "outputs": [],
   "source": [
    "columns_to_update = [\"P1\",\"P2\",\"P3\",\"P4\"]\n",
    "for col in columns_to_update:\n",
    "    df_07_01.loc[:,col] = df_24_12.loc[:,col]"
   ]
  },
  {
   "cell_type": "code",
   "execution_count": null,
   "metadata": {},
   "outputs": [],
   "source": [
    "df_07_01.to_excel('7.01-check.xlsx', index=False)"
   ]
  },
  {
   "attachments": {},
   "cell_type": "markdown",
   "metadata": {},
   "source": [
    "## Merging all data sets "
   ]
  },
  {
   "attachments": {},
   "cell_type": "markdown",
   "metadata": {},
   "source": [
    "### Features "
   ]
  },
  {
   "cell_type": "code",
   "execution_count": null,
   "metadata": {},
   "outputs": [],
   "source": [
    "df_BCTEAMHUNT = pd.read_excel('/Users/patrickahrend/Developer/data-analytics-bugcrowd/discovery-page-data /featured/BCTeamHunt2022 - Discovery - Bugcrowd.xlsx')\n",
    "df_ATLASSiAN = pd.read_excel('/Users/patrickahrend/Developer/data-analytics-bugcrowd/discovery-page-data /featured/Explore Atlassian - Discovery - Bugcrowd.xlsx')\n",
    "df_HIGHESTREWARD = pd.read_excel('/Users/patrickahrend/Developer/data-analytics-bugcrowd/discovery-page-data /featured/Highest Reward Range - Discovery - Bugcrowd.xlsx')\n",
    "df_P1WARRIOR= pd.read_excel('/Users/patrickahrend/Developer/data-analytics-bugcrowd/discovery-page-data /featured/Needs a P1 warrior - Discovery - Bugcrowd.xlsx')\n",
    "df_COORDINATORDISCLOSED= pd.read_excel('/Users/patrickahrend/Developer/data-analytics-bugcrowd/discovery-page-data /featured/Programs with Coordinated Disclosure - Discovery - Bugcrowd.xlsx')\n",
    "df_SELFSERVICE = pd.read_excel('/Users/patrickahrend/Developer/data-analytics-bugcrowd/discovery-page-data /featured/Self Service - Discovery - Bugcrowd.xlsx')\n",
    "df_STAFFPICK= pd.read_excel('/Users/patrickahrend/Developer/data-analytics-bugcrowd/discovery-page-data /featured/Staff Picks - Discovery - Bugcrowd.xlsx')\n",
    "df_NEWSCOPE= pd.read_excel('/Users/patrickahrend/Developer/data-analytics-bugcrowd/discovery-page-data /featured/New Scope _amp; Increased Rewards - Discovery - Bugcrowd.xlsx')"
   ]
  },
  {
   "cell_type": "code",
   "execution_count": null,
   "metadata": {},
   "outputs": [
    {
     "name": "stdout",
     "output_type": "stream",
     "text": [
      "8\n"
     ]
    }
   ],
   "source": [
    "df_list = [df_BCTEAMHUNT, df_ATLASSiAN, df_HIGHESTREWARD, df_P1WARRIOR, df_COORDINATORDISCLOSED, df_SELFSERVICE, df_STAFFPICK, df_NEWSCOPE]\n",
    "print(len(df_list))"
   ]
  },
  {
   "cell_type": "code",
   "execution_count": null,
   "metadata": {},
   "outputs": [
    {
     "data": {
      "text/html": [
       "<div>\n",
       "<style scoped>\n",
       "    .dataframe tbody tr th:only-of-type {\n",
       "        vertical-align: middle;\n",
       "    }\n",
       "\n",
       "    .dataframe tbody tr th {\n",
       "        vertical-align: top;\n",
       "    }\n",
       "\n",
       "    .dataframe thead th {\n",
       "        text-align: right;\n",
       "    }\n",
       "</style>\n",
       "<table border=\"1\" class=\"dataframe\">\n",
       "  <thead>\n",
       "    <tr style=\"text-align: right;\">\n",
       "      <th></th>\n",
       "      <th>Title</th>\n",
       "      <th>Title_URL</th>\n",
       "      <th>Image</th>\n",
       "      <th>bcprogramcard__byline</th>\n",
       "      <th>Reward</th>\n",
       "    </tr>\n",
       "  </thead>\n",
       "  <tbody>\n",
       "    <tr>\n",
       "      <th>0</th>\n",
       "      <td>Nextup.ai</td>\n",
       "      <td>https://bugcrowd.com/nextupai</td>\n",
       "      <td>https://logos.bugcrowdusercontent.com/logos/c0...</td>\n",
       "      <td>Please submit your finding to Nextup.ai's bug ...</td>\n",
       "      <td>$1,500</td>\n",
       "    </tr>\n",
       "    <tr>\n",
       "      <th>1</th>\n",
       "      <td>K15t</td>\n",
       "      <td>https://bugcrowd.com/k15t</td>\n",
       "      <td>https://logos.bugcrowdusercontent.com/logos/ae...</td>\n",
       "      <td>Apps to Amplify the Atlassian Experience for E...</td>\n",
       "      <td>$1,500</td>\n",
       "    </tr>\n",
       "    <tr>\n",
       "      <th>2</th>\n",
       "      <td>Stiltsoft</td>\n",
       "      <td>https://bugcrowd.com/stiltsoft</td>\n",
       "      <td>https://logos.bugcrowdusercontent.com/logos/7e...</td>\n",
       "      <td>Stiltsoft's bug bounty program</td>\n",
       "      <td>$3,000</td>\n",
       "    </tr>\n",
       "    <tr>\n",
       "      <th>3</th>\n",
       "      <td>Atlassian</td>\n",
       "      <td>https://bugcrowd.com/atlassian</td>\n",
       "      <td>https://logos.bugcrowdusercontent.com/logos/28...</td>\n",
       "      <td>Collaboration tools for teams of all sizes</td>\n",
       "      <td>$10,000</td>\n",
       "    </tr>\n",
       "    <tr>\n",
       "      <th>4</th>\n",
       "      <td>Trello</td>\n",
       "      <td>https://bugcrowd.com/trello</td>\n",
       "      <td>https://logos.bugcrowdusercontent.com/logos/18...</td>\n",
       "      <td>Trello keeps track of everything, from the big...</td>\n",
       "      <td>$10,000</td>\n",
       "    </tr>\n",
       "  </tbody>\n",
       "</table>\n",
       "</div>"
      ],
      "text/plain": [
       "       Title                       Title_URL  \\\n",
       "0  Nextup.ai   https://bugcrowd.com/nextupai   \n",
       "1       K15t       https://bugcrowd.com/k15t   \n",
       "2  Stiltsoft  https://bugcrowd.com/stiltsoft   \n",
       "3  Atlassian  https://bugcrowd.com/atlassian   \n",
       "4     Trello     https://bugcrowd.com/trello   \n",
       "\n",
       "                                               Image  \\\n",
       "0  https://logos.bugcrowdusercontent.com/logos/c0...   \n",
       "1  https://logos.bugcrowdusercontent.com/logos/ae...   \n",
       "2  https://logos.bugcrowdusercontent.com/logos/7e...   \n",
       "3  https://logos.bugcrowdusercontent.com/logos/28...   \n",
       "4  https://logos.bugcrowdusercontent.com/logos/18...   \n",
       "\n",
       "                               bcprogramcard__byline   Reward  \n",
       "0  Please submit your finding to Nextup.ai's bug ...   $1,500  \n",
       "1  Apps to Amplify the Atlassian Experience for E...   $1,500  \n",
       "2                     Stiltsoft's bug bounty program   $3,000  \n",
       "3         Collaboration tools for teams of all sizes  $10,000  \n",
       "4  Trello keeps track of everything, from the big...  $10,000  "
      ]
     },
     "execution_count": 361,
     "metadata": {},
     "output_type": "execute_result"
    }
   ],
   "source": [
    "df_ATLASSiAN.head()"
   ]
  },
  {
   "cell_type": "code",
   "execution_count": null,
   "metadata": {},
   "outputs": [],
   "source": [
    "df_ATLASSiAN[\"Featured\"]=\"Atlassian\""
   ]
  },
  {
   "cell_type": "code",
   "execution_count": null,
   "metadata": {},
   "outputs": [],
   "source": [
    "df_BCTEAMHUNT[\"Featured\"]= \"BCTeamHunt2022\""
   ]
  },
  {
   "cell_type": "code",
   "execution_count": null,
   "metadata": {},
   "outputs": [],
   "source": [
    "df_HIGHESTREWARD[\"Featured\"]= \"Highest Reward Range\""
   ]
  },
  {
   "cell_type": "code",
   "execution_count": null,
   "metadata": {},
   "outputs": [],
   "source": [
    "df_P1WARRIOR[\"Featured\"]= \"Needs a P1 warrior\""
   ]
  },
  {
   "cell_type": "code",
   "execution_count": null,
   "metadata": {},
   "outputs": [],
   "source": [
    "df_COORDINATORDISCLOSED[\"Featured\"]= \"Coordinated Disclosure\""
   ]
  },
  {
   "cell_type": "code",
   "execution_count": null,
   "metadata": {},
   "outputs": [],
   "source": [
    "df_SELFSERVICE[\"Featured\"]= \"Self Service\""
   ]
  },
  {
   "cell_type": "code",
   "execution_count": null,
   "metadata": {},
   "outputs": [
    {
     "data": {
      "text/html": [
       "<div>\n",
       "<style scoped>\n",
       "    .dataframe tbody tr th:only-of-type {\n",
       "        vertical-align: middle;\n",
       "    }\n",
       "\n",
       "    .dataframe tbody tr th {\n",
       "        vertical-align: top;\n",
       "    }\n",
       "\n",
       "    .dataframe thead th {\n",
       "        text-align: right;\n",
       "    }\n",
       "</style>\n",
       "<table border=\"1\" class=\"dataframe\">\n",
       "  <thead>\n",
       "    <tr style=\"text-align: right;\">\n",
       "      <th></th>\n",
       "      <th>Title</th>\n",
       "      <th>Title_URL</th>\n",
       "      <th>Image</th>\n",
       "      <th>bcprogramcard__byline</th>\n",
       "      <th>Reward</th>\n",
       "      <th>Featured</th>\n",
       "    </tr>\n",
       "  </thead>\n",
       "  <tbody>\n",
       "    <tr>\n",
       "      <th>0</th>\n",
       "      <td>Upwork</td>\n",
       "      <td>https://bugcrowd.com/upwork</td>\n",
       "      <td>https://logos.bugcrowdusercontent.com/logos/25...</td>\n",
       "      <td>Hire Freelancers &amp; Get Freelance Jobs Online</td>\n",
       "      <td>$120 - $10,000</td>\n",
       "      <td>Staff Picks</td>\n",
       "    </tr>\n",
       "    <tr>\n",
       "      <th>1</th>\n",
       "      <td>TripAdvisor</td>\n",
       "      <td>https://bugcrowd.com/tripadvisor-bb-og</td>\n",
       "      <td>https://logos.bugcrowdusercontent.com/logos/85...</td>\n",
       "      <td>The world’s largest travel site. Know better. ...</td>\n",
       "      <td>$100 - $5,000</td>\n",
       "      <td>Staff Picks</td>\n",
       "    </tr>\n",
       "    <tr>\n",
       "      <th>2</th>\n",
       "      <td>ClickHouse</td>\n",
       "      <td>https://bugcrowd.com/clickhouse</td>\n",
       "      <td>https://logos.bugcrowdusercontent.com/logos/4a...</td>\n",
       "      <td>ClickHouse is an open-source, column-oriented ...</td>\n",
       "      <td>$50 - $2,500</td>\n",
       "      <td>Staff Picks</td>\n",
       "    </tr>\n",
       "    <tr>\n",
       "      <th>3</th>\n",
       "      <td>Bullish.com</td>\n",
       "      <td>https://bugcrowd.com/bullish</td>\n",
       "      <td>https://logos.bugcrowdusercontent.com/logos/a0...</td>\n",
       "      <td>Help Secure Bullish - a new breed of exchange</td>\n",
       "      <td>$200 - $12,000</td>\n",
       "      <td>Staff Picks</td>\n",
       "    </tr>\n",
       "    <tr>\n",
       "      <th>4</th>\n",
       "      <td>USAA</td>\n",
       "      <td>https://bugcrowd.com/usaa</td>\n",
       "      <td>https://logos.bugcrowdusercontent.com/logos/31...</td>\n",
       "      <td>We proudly serve millions of military members ...</td>\n",
       "      <td>$100 - $6,000</td>\n",
       "      <td>Staff Picks</td>\n",
       "    </tr>\n",
       "  </tbody>\n",
       "</table>\n",
       "</div>"
      ],
      "text/plain": [
       "         Title                               Title_URL  \\\n",
       "0       Upwork             https://bugcrowd.com/upwork   \n",
       "1  TripAdvisor  https://bugcrowd.com/tripadvisor-bb-og   \n",
       "2   ClickHouse         https://bugcrowd.com/clickhouse   \n",
       "3  Bullish.com            https://bugcrowd.com/bullish   \n",
       "4         USAA               https://bugcrowd.com/usaa   \n",
       "\n",
       "                                               Image  \\\n",
       "0  https://logos.bugcrowdusercontent.com/logos/25...   \n",
       "1  https://logos.bugcrowdusercontent.com/logos/85...   \n",
       "2  https://logos.bugcrowdusercontent.com/logos/4a...   \n",
       "3  https://logos.bugcrowdusercontent.com/logos/a0...   \n",
       "4  https://logos.bugcrowdusercontent.com/logos/31...   \n",
       "\n",
       "                               bcprogramcard__byline          Reward  \\\n",
       "0       Hire Freelancers & Get Freelance Jobs Online  $120 - $10,000   \n",
       "1  The world’s largest travel site. Know better. ...   $100 - $5,000   \n",
       "2  ClickHouse is an open-source, column-oriented ...    $50 - $2,500   \n",
       "3      Help Secure Bullish - a new breed of exchange  $200 - $12,000   \n",
       "4  We proudly serve millions of military members ...   $100 - $6,000   \n",
       "\n",
       "      Featured  \n",
       "0  Staff Picks  \n",
       "1  Staff Picks  \n",
       "2  Staff Picks  \n",
       "3  Staff Picks  \n",
       "4  Staff Picks  "
      ]
     },
     "execution_count": 368,
     "metadata": {},
     "output_type": "execute_result"
    }
   ],
   "source": [
    "df_STAFFPICK[\"Featured\"]= \"Staff Picks\"\n",
    "df_STAFFPICK.head()"
   ]
  },
  {
   "cell_type": "code",
   "execution_count": null,
   "metadata": {},
   "outputs": [],
   "source": [
    "df_NEWSCOPE[\"Featured\"]= \"New Scope & Increased Rewards\""
   ]
  },
  {
   "attachments": {},
   "cell_type": "markdown",
   "metadata": {},
   "source": [
    "### Merging features "
   ]
  },
  {
   "cell_type": "code",
   "execution_count": null,
   "metadata": {},
   "outputs": [],
   "source": [
    "# concatenate DataFrames\n",
    "result_df = pd.concat(df_list, axis=0, ignore_index=True, join='outer',keys=[\"df_BCTEAMHUNT\", \"df_ATLASSiAN\", \"df_HIGHESTREWARD\", \"df_P1WARRIOR\", \"df_COORDINATORDISCLOSED\", \"df_SELFSERVICE\", \"df_STAFFPICK\", \"df_NEWSCOPE\"])\n"
   ]
  },
  {
   "cell_type": "code",
   "execution_count": null,
   "metadata": {},
   "outputs": [
    {
     "data": {
      "text/plain": [
       "Index(['Title', 'Title_URL', 'Image', 'bcprogramcard__byline', 'Reward',\n",
       "       'Featured'],\n",
       "      dtype='object')"
      ]
     },
     "execution_count": 371,
     "metadata": {},
     "output_type": "execute_result"
    }
   ],
   "source": [
    "result_df.columns"
   ]
  },
  {
   "cell_type": "code",
   "execution_count": null,
   "metadata": {},
   "outputs": [],
   "source": [
    "result_df =result_df.drop(labels=['Title_URL','Image', 'bcprogramcard__byline', 'Reward'], axis=1)"
   ]
  },
  {
   "cell_type": "code",
   "execution_count": null,
   "metadata": {},
   "outputs": [
    {
     "data": {
      "text/html": [
       "<div>\n",
       "<style scoped>\n",
       "    .dataframe tbody tr th:only-of-type {\n",
       "        vertical-align: middle;\n",
       "    }\n",
       "\n",
       "    .dataframe tbody tr th {\n",
       "        vertical-align: top;\n",
       "    }\n",
       "\n",
       "    .dataframe thead th {\n",
       "        text-align: right;\n",
       "    }\n",
       "</style>\n",
       "<table border=\"1\" class=\"dataframe\">\n",
       "  <thead>\n",
       "    <tr style=\"text-align: right;\">\n",
       "      <th></th>\n",
       "      <th>Title</th>\n",
       "      <th>Featured</th>\n",
       "    </tr>\n",
       "  </thead>\n",
       "  <tbody>\n",
       "    <tr>\n",
       "      <th>0</th>\n",
       "      <td>Video Viewing Platform</td>\n",
       "      <td>BCTeamHunt2022</td>\n",
       "    </tr>\n",
       "    <tr>\n",
       "      <th>1</th>\n",
       "      <td>Help Secure The Leader in Online Fundraising</td>\n",
       "      <td>BCTeamHunt2022</td>\n",
       "    </tr>\n",
       "    <tr>\n",
       "      <th>2</th>\n",
       "      <td>FIS</td>\n",
       "      <td>BCTeamHunt2022</td>\n",
       "    </tr>\n",
       "    <tr>\n",
       "      <th>3</th>\n",
       "      <td>Professional Counselling Provider</td>\n",
       "      <td>BCTeamHunt2022</td>\n",
       "    </tr>\n",
       "    <tr>\n",
       "      <th>4</th>\n",
       "      <td>A consumer device maker is looking for help se...</td>\n",
       "      <td>BCTeamHunt2022</td>\n",
       "    </tr>\n",
       "  </tbody>\n",
       "</table>\n",
       "</div>"
      ],
      "text/plain": [
       "                                               Title        Featured\n",
       "0                             Video Viewing Platform  BCTeamHunt2022\n",
       "1       Help Secure The Leader in Online Fundraising  BCTeamHunt2022\n",
       "2                                                FIS  BCTeamHunt2022\n",
       "3                  Professional Counselling Provider  BCTeamHunt2022\n",
       "4  A consumer device maker is looking for help se...  BCTeamHunt2022"
      ]
     },
     "execution_count": 373,
     "metadata": {},
     "output_type": "execute_result"
    }
   ],
   "source": [
    "result_df.head()"
   ]
  },
  {
   "cell_type": "code",
   "execution_count": null,
   "metadata": {},
   "outputs": [],
   "source": [
    "result_df.to_excel(\"/Users/patrickahrend/Developer/data-analytics-bugcrowd/discovery-page-data /featured/featured_programs.xlsx\", index=False)"
   ]
  },
  {
   "attachments": {},
   "cell_type": "markdown",
   "metadata": {},
   "source": [
    "### Industries"
   ]
  },
  {
   "cell_type": "code",
   "execution_count": null,
   "metadata": {},
   "outputs": [],
   "source": [
    "df_BANKING = pd.read_excel('/Users/patrickahrend/Developer/data-analytics-bugcrowd/discovery-page-data /industry/Banking and Financial Services - Discovery - Bugcrowd.xlsx')\n",
    "df_BUSINESS = pd.read_excel('/Users/patrickahrend/Developer/data-analytics-bugcrowd/discovery-page-data /industry/Business Management Solutions and Software - Discovery - Bugcrowd.xlsx')\n",
    "df_CLOUD= pd.read_excel('/Users/patrickahrend/Developer/data-analytics-bugcrowd/discovery-page-data /industry/Cloud Services - Discovery - Bugcrowd.xlsx')\n",
    "df_ECOMMERCE= pd.read_excel('/Users/patrickahrend/Developer/data-analytics-bugcrowd/discovery-page-data /industry/eCommerce and Retail - Discovery - Bugcrowd.xlsx')\n",
    "df_ELECTRONICS= pd.read_excel('/Users/patrickahrend/Developer/data-analytics-bugcrowd/discovery-page-data /industry/Electronics and Technology - Discovery - Bugcrowd.xlsx')"
   ]
  },
  {
   "cell_type": "code",
   "execution_count": null,
   "metadata": {},
   "outputs": [],
   "source": [
    "df_list_industry = [df_BANKING, df_BUSINESS, df_CLOUD, df_ECOMMERCE, df_ELECTRONICS]"
   ]
  },
  {
   "cell_type": "code",
   "execution_count": null,
   "metadata": {},
   "outputs": [],
   "source": [
    "df_BANKING[\"Industry\"]=\"Banking and Financial Services\"\n",
    "df_BUSINESS[\"Industry\"]=\"Business Management Solutions and Software\"\n",
    "df_CLOUD[\"Industry\"]=\"Cloud Services\"\n",
    "df_ECOMMERCE[\"Industry\"]=\"eCommerce and Retail\"\n",
    "df_ELECTRONICS[\"Industry\"]=\"Electronics and Technology\""
   ]
  },
  {
   "cell_type": "code",
   "execution_count": null,
   "metadata": {},
   "outputs": [],
   "source": [
    "result_industry = pd.concat(df_list_industry, axis=0, ignore_index=True, join='outer',keys=[\"df_BANKING\", \"df_BUSINESS\", \"df_CLOUD\", \"df_ECOMMERCE\", \"df_ELECTRONICS\"])\n"
   ]
  },
  {
   "cell_type": "code",
   "execution_count": null,
   "metadata": {},
   "outputs": [
    {
     "data": {
      "text/html": [
       "<div>\n",
       "<style scoped>\n",
       "    .dataframe tbody tr th:only-of-type {\n",
       "        vertical-align: middle;\n",
       "    }\n",
       "\n",
       "    .dataframe tbody tr th {\n",
       "        vertical-align: top;\n",
       "    }\n",
       "\n",
       "    .dataframe thead th {\n",
       "        text-align: right;\n",
       "    }\n",
       "</style>\n",
       "<table border=\"1\" class=\"dataframe\">\n",
       "  <thead>\n",
       "    <tr style=\"text-align: right;\">\n",
       "      <th></th>\n",
       "      <th>Title</th>\n",
       "      <th>Title_URL</th>\n",
       "      <th>Image</th>\n",
       "      <th>bcprogramcard__byline</th>\n",
       "      <th>Reward</th>\n",
       "      <th>Industry</th>\n",
       "    </tr>\n",
       "  </thead>\n",
       "  <tbody>\n",
       "    <tr>\n",
       "      <th>0</th>\n",
       "      <td>Bullish.com</td>\n",
       "      <td>https://bugcrowd.com/bullish</td>\n",
       "      <td>https://logos.bugcrowdusercontent.com/logos/a0...</td>\n",
       "      <td>Help Secure Bullish - a new breed of exchange</td>\n",
       "      <td>$200 - $12,000</td>\n",
       "      <td>Banking and Financial Services</td>\n",
       "    </tr>\n",
       "    <tr>\n",
       "      <th>1</th>\n",
       "      <td>Step Public Applications</td>\n",
       "      <td>https://bugcrowd.com/step-public</td>\n",
       "      <td>https://logos.bugcrowdusercontent.com/logos/25...</td>\n",
       "      <td>Step’s mission is to equip younger generations...</td>\n",
       "      <td>$200 - $10,000</td>\n",
       "      <td>Banking and Financial Services</td>\n",
       "    </tr>\n",
       "    <tr>\n",
       "      <th>2</th>\n",
       "      <td>USAA</td>\n",
       "      <td>https://bugcrowd.com/usaa</td>\n",
       "      <td>https://logos.bugcrowdusercontent.com/logos/31...</td>\n",
       "      <td>We proudly serve millions of military members ...</td>\n",
       "      <td>$100 - $6,000</td>\n",
       "      <td>Banking and Financial Services</td>\n",
       "    </tr>\n",
       "    <tr>\n",
       "      <th>3</th>\n",
       "      <td>End to End Payment Solution</td>\n",
       "      <td>https://bugcrowd.com/programs/teasers/NN5Yd45g...</td>\n",
       "      <td>https://assets.bugcrowdusercontent.com/assets/...</td>\n",
       "      <td>Wide Scope Web and Mobile Targets</td>\n",
       "      <td>$100 - $3,500</td>\n",
       "      <td>Banking and Financial Services</td>\n",
       "    </tr>\n",
       "    <tr>\n",
       "      <th>4</th>\n",
       "      <td>Global Financial Institution</td>\n",
       "      <td>https://bugcrowd.com/programs/teasers/little-s...</td>\n",
       "      <td>https://assets.bugcrowdusercontent.com/assets/...</td>\n",
       "      <td>Help to secure our Financial web applications ...</td>\n",
       "      <td>NaN</td>\n",
       "      <td>Banking and Financial Services</td>\n",
       "    </tr>\n",
       "  </tbody>\n",
       "</table>\n",
       "</div>"
      ],
      "text/plain": [
       "                          Title  \\\n",
       "0                   Bullish.com   \n",
       "1      Step Public Applications   \n",
       "2                          USAA   \n",
       "3   End to End Payment Solution   \n",
       "4  Global Financial Institution   \n",
       "\n",
       "                                           Title_URL  \\\n",
       "0                       https://bugcrowd.com/bullish   \n",
       "1                   https://bugcrowd.com/step-public   \n",
       "2                          https://bugcrowd.com/usaa   \n",
       "3  https://bugcrowd.com/programs/teasers/NN5Yd45g...   \n",
       "4  https://bugcrowd.com/programs/teasers/little-s...   \n",
       "\n",
       "                                               Image  \\\n",
       "0  https://logos.bugcrowdusercontent.com/logos/a0...   \n",
       "1  https://logos.bugcrowdusercontent.com/logos/25...   \n",
       "2  https://logos.bugcrowdusercontent.com/logos/31...   \n",
       "3  https://assets.bugcrowdusercontent.com/assets/...   \n",
       "4  https://assets.bugcrowdusercontent.com/assets/...   \n",
       "\n",
       "                               bcprogramcard__byline          Reward  \\\n",
       "0      Help Secure Bullish - a new breed of exchange  $200 - $12,000   \n",
       "1  Step’s mission is to equip younger generations...  $200 - $10,000   \n",
       "2  We proudly serve millions of military members ...   $100 - $6,000   \n",
       "3                  Wide Scope Web and Mobile Targets   $100 - $3,500   \n",
       "4  Help to secure our Financial web applications ...             NaN   \n",
       "\n",
       "                         Industry  \n",
       "0  Banking and Financial Services  \n",
       "1  Banking and Financial Services  \n",
       "2  Banking and Financial Services  \n",
       "3  Banking and Financial Services  \n",
       "4  Banking and Financial Services  "
      ]
     },
     "execution_count": 379,
     "metadata": {},
     "output_type": "execute_result"
    }
   ],
   "source": [
    "result_industry.head()"
   ]
  },
  {
   "cell_type": "code",
   "execution_count": null,
   "metadata": {},
   "outputs": [],
   "source": [
    "result_industry =result_industry.drop(labels=['Title_URL','Image', 'bcprogramcard__byline', 'Reward'], axis=1)"
   ]
  },
  {
   "cell_type": "code",
   "execution_count": null,
   "metadata": {},
   "outputs": [
    {
     "data": {
      "text/html": [
       "<div>\n",
       "<style scoped>\n",
       "    .dataframe tbody tr th:only-of-type {\n",
       "        vertical-align: middle;\n",
       "    }\n",
       "\n",
       "    .dataframe tbody tr th {\n",
       "        vertical-align: top;\n",
       "    }\n",
       "\n",
       "    .dataframe thead th {\n",
       "        text-align: right;\n",
       "    }\n",
       "</style>\n",
       "<table border=\"1\" class=\"dataframe\">\n",
       "  <thead>\n",
       "    <tr style=\"text-align: right;\">\n",
       "      <th></th>\n",
       "      <th>Title</th>\n",
       "      <th>Industry</th>\n",
       "    </tr>\n",
       "  </thead>\n",
       "  <tbody>\n",
       "    <tr>\n",
       "      <th>0</th>\n",
       "      <td>Bullish.com</td>\n",
       "      <td>Banking and Financial Services</td>\n",
       "    </tr>\n",
       "    <tr>\n",
       "      <th>1</th>\n",
       "      <td>Step Public Applications</td>\n",
       "      <td>Banking and Financial Services</td>\n",
       "    </tr>\n",
       "    <tr>\n",
       "      <th>2</th>\n",
       "      <td>USAA</td>\n",
       "      <td>Banking and Financial Services</td>\n",
       "    </tr>\n",
       "    <tr>\n",
       "      <th>3</th>\n",
       "      <td>End to End Payment Solution</td>\n",
       "      <td>Banking and Financial Services</td>\n",
       "    </tr>\n",
       "    <tr>\n",
       "      <th>4</th>\n",
       "      <td>Global Financial Institution</td>\n",
       "      <td>Banking and Financial Services</td>\n",
       "    </tr>\n",
       "  </tbody>\n",
       "</table>\n",
       "</div>"
      ],
      "text/plain": [
       "                          Title                        Industry\n",
       "0                   Bullish.com  Banking and Financial Services\n",
       "1      Step Public Applications  Banking and Financial Services\n",
       "2                          USAA  Banking and Financial Services\n",
       "3   End to End Payment Solution  Banking and Financial Services\n",
       "4  Global Financial Institution  Banking and Financial Services"
      ]
     },
     "execution_count": 381,
     "metadata": {},
     "output_type": "execute_result"
    }
   ],
   "source": [
    "result_industry.head()"
   ]
  },
  {
   "attachments": {},
   "cell_type": "markdown",
   "metadata": {},
   "source": [
    "### Technology"
   ]
  },
  {
   "cell_type": "code",
   "execution_count": null,
   "metadata": {},
   "outputs": [],
   "source": [
    "df_ANDROID= pd.read_excel(\"/Users/patrickahrend/Developer/data-analytics-bugcrowd/discovery-page-data /technology/Android Targets - Discovery - Bugcrowd.xlsx\")\n",
    "df_API= pd.read_excel(\"/Users/patrickahrend/Developer/data-analytics-bugcrowd/discovery-page-data /technology/API Targets - Discovery - Bugcrowd.xlsx\")\n",
    "df_HARDWARE= pd.read_excel(\"/Users/patrickahrend/Developer/data-analytics-bugcrowd/discovery-page-data /technology/Hardware Targets - Discovery - Bugcrowd.xlsx\")\n",
    "df_iOS= pd.read_excel(\"/Users/patrickahrend/Developer/data-analytics-bugcrowd/discovery-page-data /technology/iOS Targets - Discovery - Bugcrowd.xlsx\")\n",
    "df_IoT= pd.read_excel(\"/Users/patrickahrend/Developer/data-analytics-bugcrowd/discovery-page-data /technology/IoT Targets - Discovery - Bugcrowd.xlsx\")\n",
    "df_WEB= pd.read_excel(\"/Users/patrickahrend/Developer/data-analytics-bugcrowd/discovery-page-data /technology/Web Targets - Discovery - Bugcrowd.xlsx\")"
   ]
  },
  {
   "cell_type": "code",
   "execution_count": null,
   "metadata": {},
   "outputs": [],
   "source": [
    "df_list_industry= [df_ANDROID, df_API, df_HARDWARE, df_iOS, df_IoT, df_WEB]"
   ]
  },
  {
   "cell_type": "code",
   "execution_count": null,
   "metadata": {},
   "outputs": [],
   "source": [
    "df_ANDROID[\"Technology\"]=\"Android Targets\"\n",
    "df_API[\"Technology\"]=\"API Targets\"\n",
    "df_HARDWARE[\"Technology\"]=\"Hardware Targets\"\n",
    "df_iOS[\"Technology\"]=\"iOS Targets\"\n",
    "df_IoT[\"Technology\"]=\"IoT Targets\"\n",
    "df_WEB[\"Technology\"]=\"Web Targets\"\n",
    "\n"
   ]
  },
  {
   "cell_type": "code",
   "execution_count": null,
   "metadata": {},
   "outputs": [],
   "source": [
    "result_technology= pd.concat(df_list_industry, axis=0, ignore_index=True, join='outer',keys=[\"df_ANDROID\", \"df_API\", \"df_HARDWARE\", \"df_iOS\", \"df_IoT\", \"df_WEB\"])\n"
   ]
  },
  {
   "cell_type": "code",
   "execution_count": null,
   "metadata": {},
   "outputs": [
    {
     "data": {
      "text/html": [
       "<div>\n",
       "<style scoped>\n",
       "    .dataframe tbody tr th:only-of-type {\n",
       "        vertical-align: middle;\n",
       "    }\n",
       "\n",
       "    .dataframe tbody tr th {\n",
       "        vertical-align: top;\n",
       "    }\n",
       "\n",
       "    .dataframe thead th {\n",
       "        text-align: right;\n",
       "    }\n",
       "</style>\n",
       "<table border=\"1\" class=\"dataframe\">\n",
       "  <thead>\n",
       "    <tr style=\"text-align: right;\">\n",
       "      <th></th>\n",
       "      <th>Title</th>\n",
       "      <th>Title_URL</th>\n",
       "      <th>Reward</th>\n",
       "      <th>Technology</th>\n",
       "      <th>Image</th>\n",
       "      <th>bcprogramcard__byline</th>\n",
       "    </tr>\n",
       "  </thead>\n",
       "  <tbody>\n",
       "    <tr>\n",
       "      <th>0</th>\n",
       "      <td>Indeed</td>\n",
       "      <td>https://bugcrowd.com/indeed</td>\n",
       "      <td>$50 - $10,000</td>\n",
       "      <td>Android Targets</td>\n",
       "      <td>NaN</td>\n",
       "      <td>NaN</td>\n",
       "    </tr>\n",
       "    <tr>\n",
       "      <th>1</th>\n",
       "      <td>Step Public Applications</td>\n",
       "      <td>https://bugcrowd.com/step-public</td>\n",
       "      <td>$200 - $10,000</td>\n",
       "      <td>Android Targets</td>\n",
       "      <td>NaN</td>\n",
       "      <td>NaN</td>\n",
       "    </tr>\n",
       "    <tr>\n",
       "      <th>2</th>\n",
       "      <td>Rec Room Video Games</td>\n",
       "      <td>https://bugcrowd.com/recroom-og</td>\n",
       "      <td>$150 - $2,500</td>\n",
       "      <td>Android Targets</td>\n",
       "      <td>NaN</td>\n",
       "      <td>NaN</td>\n",
       "    </tr>\n",
       "    <tr>\n",
       "      <th>3</th>\n",
       "      <td>Keeper Security Public Bounty Program</td>\n",
       "      <td>https://bugcrowd.com/keepersecurity</td>\n",
       "      <td>$300 - $10,000</td>\n",
       "      <td>Android Targets</td>\n",
       "      <td>NaN</td>\n",
       "      <td>NaN</td>\n",
       "    </tr>\n",
       "    <tr>\n",
       "      <th>4</th>\n",
       "      <td>Bitget</td>\n",
       "      <td>https://bugcrowd.com/bitget-og</td>\n",
       "      <td>$100 - $1,500</td>\n",
       "      <td>Android Targets</td>\n",
       "      <td>NaN</td>\n",
       "      <td>NaN</td>\n",
       "    </tr>\n",
       "  </tbody>\n",
       "</table>\n",
       "</div>"
      ],
      "text/plain": [
       "                                   Title                            Title_URL  \\\n",
       "0                                 Indeed          https://bugcrowd.com/indeed   \n",
       "1               Step Public Applications     https://bugcrowd.com/step-public   \n",
       "2                   Rec Room Video Games      https://bugcrowd.com/recroom-og   \n",
       "3  Keeper Security Public Bounty Program  https://bugcrowd.com/keepersecurity   \n",
       "4                                 Bitget       https://bugcrowd.com/bitget-og   \n",
       "\n",
       "           Reward       Technology Image bcprogramcard__byline  \n",
       "0   $50 - $10,000  Android Targets   NaN                   NaN  \n",
       "1  $200 - $10,000  Android Targets   NaN                   NaN  \n",
       "2   $150 - $2,500  Android Targets   NaN                   NaN  \n",
       "3  $300 - $10,000  Android Targets   NaN                   NaN  \n",
       "4   $100 - $1,500  Android Targets   NaN                   NaN  "
      ]
     },
     "execution_count": 386,
     "metadata": {},
     "output_type": "execute_result"
    }
   ],
   "source": [
    "result_technology.head()"
   ]
  },
  {
   "cell_type": "code",
   "execution_count": null,
   "metadata": {},
   "outputs": [],
   "source": [
    "result_technology =result_technology.drop(labels=['Title_URL','Image', 'bcprogramcard__byline', 'Reward'], axis=1)"
   ]
  },
  {
   "cell_type": "code",
   "execution_count": null,
   "metadata": {},
   "outputs": [
    {
     "data": {
      "text/html": [
       "<div>\n",
       "<style scoped>\n",
       "    .dataframe tbody tr th:only-of-type {\n",
       "        vertical-align: middle;\n",
       "    }\n",
       "\n",
       "    .dataframe tbody tr th {\n",
       "        vertical-align: top;\n",
       "    }\n",
       "\n",
       "    .dataframe thead th {\n",
       "        text-align: right;\n",
       "    }\n",
       "</style>\n",
       "<table border=\"1\" class=\"dataframe\">\n",
       "  <thead>\n",
       "    <tr style=\"text-align: right;\">\n",
       "      <th></th>\n",
       "      <th>Title</th>\n",
       "      <th>Technology</th>\n",
       "    </tr>\n",
       "  </thead>\n",
       "  <tbody>\n",
       "    <tr>\n",
       "      <th>0</th>\n",
       "      <td>Indeed</td>\n",
       "      <td>Android Targets</td>\n",
       "    </tr>\n",
       "    <tr>\n",
       "      <th>1</th>\n",
       "      <td>Step Public Applications</td>\n",
       "      <td>Android Targets</td>\n",
       "    </tr>\n",
       "    <tr>\n",
       "      <th>2</th>\n",
       "      <td>Rec Room Video Games</td>\n",
       "      <td>Android Targets</td>\n",
       "    </tr>\n",
       "    <tr>\n",
       "      <th>3</th>\n",
       "      <td>Keeper Security Public Bounty Program</td>\n",
       "      <td>Android Targets</td>\n",
       "    </tr>\n",
       "    <tr>\n",
       "      <th>4</th>\n",
       "      <td>Bitget</td>\n",
       "      <td>Android Targets</td>\n",
       "    </tr>\n",
       "  </tbody>\n",
       "</table>\n",
       "</div>"
      ],
      "text/plain": [
       "                                   Title       Technology\n",
       "0                                 Indeed  Android Targets\n",
       "1               Step Public Applications  Android Targets\n",
       "2                   Rec Room Video Games  Android Targets\n",
       "3  Keeper Security Public Bounty Program  Android Targets\n",
       "4                                 Bitget  Android Targets"
      ]
     },
     "execution_count": 388,
     "metadata": {},
     "output_type": "execute_result"
    }
   ],
   "source": [
    "result_technology.head()"
   ]
  },
  {
   "cell_type": "code",
   "execution_count": null,
   "metadata": {},
   "outputs": [],
   "source": [
    "result_industry.to_excel(\"industries.xlsx\", index=False)"
   ]
  },
  {
   "cell_type": "code",
   "execution_count": null,
   "metadata": {},
   "outputs": [
    {
     "data": {
      "text/html": [
       "<div>\n",
       "<style scoped>\n",
       "    .dataframe tbody tr th:only-of-type {\n",
       "        vertical-align: middle;\n",
       "    }\n",
       "\n",
       "    .dataframe tbody tr th {\n",
       "        vertical-align: top;\n",
       "    }\n",
       "\n",
       "    .dataframe thead th {\n",
       "        text-align: right;\n",
       "    }\n",
       "</style>\n",
       "<table border=\"1\" class=\"dataframe\">\n",
       "  <thead>\n",
       "    <tr style=\"text-align: right;\">\n",
       "      <th></th>\n",
       "      <th>Title</th>\n",
       "      <th>Industry</th>\n",
       "    </tr>\n",
       "  </thead>\n",
       "  <tbody>\n",
       "    <tr>\n",
       "      <th>0</th>\n",
       "      <td>Bullish.com</td>\n",
       "      <td>Banking and Financial Services</td>\n",
       "    </tr>\n",
       "    <tr>\n",
       "      <th>1</th>\n",
       "      <td>Step Public Applications</td>\n",
       "      <td>Banking and Financial Services</td>\n",
       "    </tr>\n",
       "    <tr>\n",
       "      <th>2</th>\n",
       "      <td>USAA</td>\n",
       "      <td>Banking and Financial Services</td>\n",
       "    </tr>\n",
       "    <tr>\n",
       "      <th>3</th>\n",
       "      <td>End to End Payment Solution</td>\n",
       "      <td>Banking and Financial Services</td>\n",
       "    </tr>\n",
       "    <tr>\n",
       "      <th>4</th>\n",
       "      <td>Global Financial Institution</td>\n",
       "      <td>Banking and Financial Services</td>\n",
       "    </tr>\n",
       "    <tr>\n",
       "      <th>...</th>\n",
       "      <td>...</td>\n",
       "      <td>...</td>\n",
       "    </tr>\n",
       "    <tr>\n",
       "      <th>124</th>\n",
       "      <td>NameJet</td>\n",
       "      <td>Electronics and Technology</td>\n",
       "    </tr>\n",
       "    <tr>\n",
       "      <th>125</th>\n",
       "      <td>Arrow Electronics VDP</td>\n",
       "      <td>Electronics and Technology</td>\n",
       "    </tr>\n",
       "    <tr>\n",
       "      <th>126</th>\n",
       "      <td>Appliances - Barracuda Networks, Inc.</td>\n",
       "      <td>Electronics and Technology</td>\n",
       "    </tr>\n",
       "    <tr>\n",
       "      <th>127</th>\n",
       "      <td>HostGator VDP</td>\n",
       "      <td>Electronics and Technology</td>\n",
       "    </tr>\n",
       "    <tr>\n",
       "      <th>128</th>\n",
       "      <td>SEEK</td>\n",
       "      <td>Electronics and Technology</td>\n",
       "    </tr>\n",
       "  </tbody>\n",
       "</table>\n",
       "<p>129 rows × 2 columns</p>\n",
       "</div>"
      ],
      "text/plain": [
       "                                     Title                        Industry\n",
       "0                              Bullish.com  Banking and Financial Services\n",
       "1                 Step Public Applications  Banking and Financial Services\n",
       "2                                     USAA  Banking and Financial Services\n",
       "3              End to End Payment Solution  Banking and Financial Services\n",
       "4             Global Financial Institution  Banking and Financial Services\n",
       "..                                     ...                             ...\n",
       "124                                NameJet      Electronics and Technology\n",
       "125                  Arrow Electronics VDP      Electronics and Technology\n",
       "126  Appliances - Barracuda Networks, Inc.      Electronics and Technology\n",
       "127                          HostGator VDP      Electronics and Technology\n",
       "128                                   SEEK      Electronics and Technology\n",
       "\n",
       "[129 rows x 2 columns]"
      ]
     },
     "execution_count": 390,
     "metadata": {},
     "output_type": "execute_result"
    }
   ],
   "source": [
    "result_industry"
   ]
  },
  {
   "attachments": {},
   "cell_type": "markdown",
   "metadata": {},
   "source": [
    "### Merging"
   ]
  },
  {
   "cell_type": "code",
   "execution_count": null,
   "metadata": {},
   "outputs": [
    {
     "name": "stdout",
     "output_type": "stream",
     "text": [
      "The following Titles have multiple observations: ['Indeed' 'Step Public Applications' 'Rec Room Video Games'\n",
      " 'Keeper Security Public Bounty Program' 'Bitget' 'CoolBitX' 'BigCommerce'\n",
      " 'Ostrom Vulnerability Disclosure Program'\n",
      " 'MediaLab - Kik Vulnerability Disclosure Program'\n",
      " 'Professional Counselling Provider' 'SEEK'\n",
      " 'Exciting cloud-based iPad point of sale software company needs your help to secure their Web, API and mobile targets!'\n",
      " 'Telstra VDP' 'Gusto VDP' 'Mobility Company Looking for Your Skills!'\n",
      " 'Upwork'\n",
      " 'Web, API, iOS and Android Applications in Ongoing Bounty Program'\n",
      " 'Love Music? Help Keep Our Marketplace Secure!' 'Ibotta' 'CyberGhost'\n",
      " 'Private Internet Access' 'Video Viewing Platform' 'NiceHash'\n",
      " 'MediaLab - WorldStar Hip Hop Vulnerability Disclosure Program'\n",
      " 'Leading Financial company needs your help!' 'Netflix'\n",
      " 'Blue Jeans Network' 'State Farm VDP' 'Monash MBB'\n",
      " 'Leading digital transaction provider. New mobile targets introduced recently!'\n",
      " 'A fantasy sports platform with over 100 million users'\n",
      " 'A Cryptocurrency payment system needs your help to secure multiple web applications, APIs and mobile applications!'\n",
      " 'The leader in transport fuels.'\n",
      " 'Identity platform for secure authentication'\n",
      " 'Help a News Company Stay Secure!' 'SDKs and APIs Oh My!'\n",
      " '3 Easy payments' 'End to End Payment Solution'\n",
      " 'Large US Insurance Provider' 'Retail Company'\n",
      " 'Leading Survey Solutions Provider'\n",
      " 'Test a unicorn in the airline ticketing and hotel booking industry!'\n",
      " 'Sports and Gaming with Large Attack Surface'\n",
      " 'Help secure the connection between teachers and students and build better classrooms'\n",
      " 'Electroneum' 'USAA'\n",
      " 'A consumer device maker is looking for help securing its hardware/software assets'\n",
      " 'Application to find help around the house.'\n",
      " 'Technology Company Looking to Work with You!'\n",
      " 'Leading Cybersecurity Solutions Provider'\n",
      " 'Help Secure The Leader in Online Fundraising'\n",
      " 'A Patient Engagement Platform' 'Wyze Bug Bounty' 'LifterLMS'\n",
      " 'Secure the Leading Sales Engagement Platform' 'Seagate VDP'\n",
      " 'Help an AdTech Company Stay Safe!'\n",
      " 'Transactional email service made for developers'\n",
      " 'Mathematical software solutions provider'\n",
      " 'Web + API Applications in this OnGoing Bug Bounty Program'\n",
      " 'Simplifying complex work wherever, and you can help secure it! (2x bonus rewards)'\n",
      " 'Web-Based Scientific Research Software'\n",
      " 'Help Create a Secure & Better Way to Live' 'Rarible'\n",
      " 'ThousandEyes Bug Bounty' 'iRobot' 'eero' 'Xfinity Home & xFi'\n",
      " 'Aruba Networks Public Program' 'NETGEAR Cash Rewards'\n",
      " 'Arlo Cash Rewards']\n"
     ]
    }
   ],
   "source": [
    "# checking for duplicates \n",
    "duplicate_titles = result_technology[result_technology.duplicated(subset='Title',keep=False)].Title.unique()\n",
    "if duplicate_titles.any():\n",
    "    print(f\"The following Titles have multiple observations: {duplicate_titles}\")\n",
    "else:\n",
    "    print(\"There are no duplicate Titles in the Dataframe\")\n",
    "\n",
    "## multiple duplicates in the data set"
   ]
  },
  {
   "cell_type": "code",
   "execution_count": null,
   "metadata": {},
   "outputs": [],
   "source": [
    "result_technology = result_technology.groupby(\"Title\").agg(lambda x: \",\".join(x)).reset_index()"
   ]
  },
  {
   "cell_type": "code",
   "execution_count": null,
   "metadata": {},
   "outputs": [
    {
     "name": "stdout",
     "output_type": "stream",
     "text": [
      "There are no duplicate Titles in the Dataframe\n"
     ]
    }
   ],
   "source": [
    "duplicate_titles = result_industry[result_industry.duplicated(subset='Title',keep=False)].Title.unique()\n",
    "if duplicate_titles.any():\n",
    "    print(f\"The following Titles have multiple observations: {duplicate_titles}\")\n",
    "else:\n",
    "    print(\"There are no duplicate Titles in the Dataframe\")\n",
    "\n",
    "## no duplicates in result_industry \n"
   ]
  },
  {
   "cell_type": "code",
   "execution_count": null,
   "metadata": {},
   "outputs": [
    {
     "name": "stdout",
     "output_type": "stream",
     "text": [
      "The following Titles have multiple observations: ['FIS' 'Professional Counselling Provider' 'Atlassian' 'Upwork'\n",
      " '3 Easy payments' 'Trello' 'Be the Authority!' 'eazyBI'\n",
      " 'Square Open Source' 'Pinterest' 'SpaceX/Starlink'\n",
      " 'A Cryptocurrency payment system needs your help to secure multiple web applications, APIs and mobile applications!'\n",
      " 'Keeper Security Public Bounty Program' 'Tesla' '1Password' 'ExpressVPN'\n",
      " 'Bullish.com' 'Arlo Cash Rewards' 'Binance' 'PlanetHoster'\n",
      " 'Tyler Technologies Data & Insights – Tyler Data Platform, powered by Socrata'\n",
      " 'USAA']\n"
     ]
    }
   ],
   "source": [
    "duplicate_titles = result_df[result_df.duplicated(subset='Title',keep=False)].Title.unique()\n",
    "if duplicate_titles.any():\n",
    "    print(f\"The following Titles have multiple observations: {duplicate_titles}\")\n",
    "else:\n",
    "    print(\"There are no duplicate Titles in the Dataframe\")\n",
    "\n",
    "## duplicates found\n"
   ]
  },
  {
   "cell_type": "code",
   "execution_count": null,
   "metadata": {},
   "outputs": [],
   "source": [
    "result_features = result_df.groupby(\"Title\").agg(lambda x: \",\".join(x)).reset_index()"
   ]
  },
  {
   "cell_type": "code",
   "execution_count": null,
   "metadata": {},
   "outputs": [
    {
     "data": {
      "text/html": [
       "<div>\n",
       "<style scoped>\n",
       "    .dataframe tbody tr th:only-of-type {\n",
       "        vertical-align: middle;\n",
       "    }\n",
       "\n",
       "    .dataframe tbody tr th {\n",
       "        vertical-align: top;\n",
       "    }\n",
       "\n",
       "    .dataframe thead th {\n",
       "        text-align: right;\n",
       "    }\n",
       "</style>\n",
       "<table border=\"1\" class=\"dataframe\">\n",
       "  <thead>\n",
       "    <tr style=\"text-align: right;\">\n",
       "      <th></th>\n",
       "      <th>Title</th>\n",
       "      <th>Featured</th>\n",
       "    </tr>\n",
       "  </thead>\n",
       "  <tbody>\n",
       "    <tr>\n",
       "      <th>0</th>\n",
       "      <td>1Password</td>\n",
       "      <td>Highest Reward Range,Coordinated Disclosure</td>\n",
       "    </tr>\n",
       "    <tr>\n",
       "      <th>1</th>\n",
       "      <td>20 Minuten</td>\n",
       "      <td>Coordinated Disclosure</td>\n",
       "    </tr>\n",
       "    <tr>\n",
       "      <th>2</th>\n",
       "      <td>3 Easy payments</td>\n",
       "      <td>BCTeamHunt2022,Coordinated Disclosure</td>\n",
       "    </tr>\n",
       "    <tr>\n",
       "      <th>3</th>\n",
       "      <td>A Cryptocurrency payment system needs your hel...</td>\n",
       "      <td>Highest Reward Range,Self Service</td>\n",
       "    </tr>\n",
       "    <tr>\n",
       "      <th>4</th>\n",
       "      <td>A consumer device maker is looking for help se...</td>\n",
       "      <td>BCTeamHunt2022</td>\n",
       "    </tr>\n",
       "  </tbody>\n",
       "</table>\n",
       "</div>"
      ],
      "text/plain": [
       "                                               Title  \\\n",
       "0                                          1Password   \n",
       "1                                         20 Minuten   \n",
       "2                                    3 Easy payments   \n",
       "3  A Cryptocurrency payment system needs your hel...   \n",
       "4  A consumer device maker is looking for help se...   \n",
       "\n",
       "                                      Featured  \n",
       "0  Highest Reward Range,Coordinated Disclosure  \n",
       "1                       Coordinated Disclosure  \n",
       "2        BCTeamHunt2022,Coordinated Disclosure  \n",
       "3            Highest Reward Range,Self Service  \n",
       "4                               BCTeamHunt2022  "
      ]
     },
     "execution_count": 396,
     "metadata": {},
     "output_type": "execute_result"
    }
   ],
   "source": [
    "result_features.head()"
   ]
  },
  {
   "cell_type": "code",
   "execution_count": null,
   "metadata": {},
   "outputs": [],
   "source": [
    "result = result_features.merge(result_industry,on='Title',how='outer').merge(result_technology,on='Title',how='outer')"
   ]
  },
  {
   "cell_type": "code",
   "execution_count": null,
   "metadata": {},
   "outputs": [
    {
     "data": {
      "text/html": [
       "<div>\n",
       "<style scoped>\n",
       "    .dataframe tbody tr th:only-of-type {\n",
       "        vertical-align: middle;\n",
       "    }\n",
       "\n",
       "    .dataframe tbody tr th {\n",
       "        vertical-align: top;\n",
       "    }\n",
       "\n",
       "    .dataframe thead th {\n",
       "        text-align: right;\n",
       "    }\n",
       "</style>\n",
       "<table border=\"1\" class=\"dataframe\">\n",
       "  <thead>\n",
       "    <tr style=\"text-align: right;\">\n",
       "      <th></th>\n",
       "      <th>Title</th>\n",
       "      <th>Featured</th>\n",
       "      <th>Industry</th>\n",
       "      <th>Technology</th>\n",
       "    </tr>\n",
       "  </thead>\n",
       "  <tbody>\n",
       "    <tr>\n",
       "      <th>0</th>\n",
       "      <td>1Password</td>\n",
       "      <td>Highest Reward Range,Coordinated Disclosure</td>\n",
       "      <td>Electronics and Technology</td>\n",
       "      <td>NaN</td>\n",
       "    </tr>\n",
       "    <tr>\n",
       "      <th>1</th>\n",
       "      <td>20 Minuten</td>\n",
       "      <td>Coordinated Disclosure</td>\n",
       "      <td>NaN</td>\n",
       "      <td>NaN</td>\n",
       "    </tr>\n",
       "    <tr>\n",
       "      <th>2</th>\n",
       "      <td>3 Easy payments</td>\n",
       "      <td>BCTeamHunt2022,Coordinated Disclosure</td>\n",
       "      <td>eCommerce and Retail</td>\n",
       "      <td>Android Targets,API Targets,iOS Targets,Web Ta...</td>\n",
       "    </tr>\n",
       "    <tr>\n",
       "      <th>3</th>\n",
       "      <td>A Cryptocurrency payment system needs your hel...</td>\n",
       "      <td>Highest Reward Range,Self Service</td>\n",
       "      <td>NaN</td>\n",
       "      <td>Android Targets,API Targets,iOS Targets</td>\n",
       "    </tr>\n",
       "    <tr>\n",
       "      <th>4</th>\n",
       "      <td>A consumer device maker is looking for help se...</td>\n",
       "      <td>BCTeamHunt2022</td>\n",
       "      <td>Electronics and Technology</td>\n",
       "      <td>Android Targets,API Targets,iOS Targets</td>\n",
       "    </tr>\n",
       "  </tbody>\n",
       "</table>\n",
       "</div>"
      ],
      "text/plain": [
       "                                               Title  \\\n",
       "0                                          1Password   \n",
       "1                                         20 Minuten   \n",
       "2                                    3 Easy payments   \n",
       "3  A Cryptocurrency payment system needs your hel...   \n",
       "4  A consumer device maker is looking for help se...   \n",
       "\n",
       "                                      Featured                    Industry  \\\n",
       "0  Highest Reward Range,Coordinated Disclosure  Electronics and Technology   \n",
       "1                       Coordinated Disclosure                         NaN   \n",
       "2        BCTeamHunt2022,Coordinated Disclosure        eCommerce and Retail   \n",
       "3            Highest Reward Range,Self Service                         NaN   \n",
       "4                               BCTeamHunt2022  Electronics and Technology   \n",
       "\n",
       "                                          Technology  \n",
       "0                                                NaN  \n",
       "1                                                NaN  \n",
       "2  Android Targets,API Targets,iOS Targets,Web Ta...  \n",
       "3            Android Targets,API Targets,iOS Targets  \n",
       "4            Android Targets,API Targets,iOS Targets  "
      ]
     },
     "execution_count": 398,
     "metadata": {},
     "output_type": "execute_result"
    }
   ],
   "source": [
    "result.head()"
   ]
  },
  {
   "cell_type": "code",
   "execution_count": null,
   "metadata": {},
   "outputs": [
    {
     "data": {
      "text/plain": [
       "Index(['Title', 'Featured', 'Industry', 'Technology'], dtype='object')"
      ]
     },
     "execution_count": 399,
     "metadata": {},
     "output_type": "execute_result"
    }
   ],
   "source": [
    "result.columns"
   ]
  },
  {
   "cell_type": "code",
   "execution_count": null,
   "metadata": {},
   "outputs": [
    {
     "data": {
      "text/plain": [
       "(237, 4)"
      ]
     },
     "execution_count": 400,
     "metadata": {},
     "output_type": "execute_result"
    }
   ],
   "source": [
    "result.shape"
   ]
  },
  {
   "cell_type": "code",
   "execution_count": null,
   "metadata": {},
   "outputs": [],
   "source": [
    "result.to_excel(\"results_discovery.xlsx\", index=False)"
   ]
  },
  {
   "cell_type": "code",
   "execution_count": null,
   "metadata": {},
   "outputs": [],
   "source": [
    "df_normal = pd.read_excel('/Users/patrickahrend/Developer/data-analytics-bugcrowd/data-octa/Bugcrowd_all_program_7_01_name_asc.xlsx')\n"
   ]
  },
  {
   "cell_type": "code",
   "execution_count": null,
   "metadata": {},
   "outputs": [
    {
     "data": {
      "text/plain": [
       "(325, 17)"
      ]
     },
     "execution_count": 403,
     "metadata": {},
     "output_type": "execute_result"
    }
   ],
   "source": [
    "df_normal.shape"
   ]
  },
  {
   "cell_type": "code",
   "execution_count": null,
   "metadata": {},
   "outputs": [],
   "source": [
    "df_result = df_normal.merge(result,on='Title',how='outer')\n",
    "\n"
   ]
  },
  {
   "cell_type": "code",
   "execution_count": null,
   "metadata": {},
   "outputs": [],
   "source": [
    "df_result.to_excel(\"07.01withdiscovery.xlsx\", index=False)"
   ]
  },
  {
   "cell_type": "code",
   "execution_count": null,
   "metadata": {},
   "outputs": [
    {
     "name": "stdout",
     "output_type": "stream",
     "text": [
      "The following Titles have multiple observations: ['20 Minuten']\n"
     ]
    }
   ],
   "source": [
    "duplicate_titles = df_result[df_result.duplicated(subset='Title',keep=False)].Title.unique()\n",
    "if duplicate_titles.any():\n",
    "    print(f\"The following Titles have multiple observations: {duplicate_titles}\")\n",
    "else:\n",
    "    print(\"There are no duplicate Titles in the Dataframe\")\n",
    "\n",
    "## duplicates found\n"
   ]
  }
 ],
 "metadata": {
  "kernelspec": {
   "display_name": "Python 3",
   "language": "python",
   "name": "python3"
  },
  "language_info": {
   "codemirror_mode": {
    "name": "ipython",
    "version": 3
   },
   "file_extension": ".py",
   "mimetype": "text/x-python",
   "name": "python",
   "nbconvert_exporter": "python",
   "pygments_lexer": "ipython3",
   "version": "3.9.12"
  },
  "orig_nbformat": 4,
  "vscode": {
   "interpreter": {
    "hash": "d3ddb9a339dcfec66cb1d066e0234a99f8d679773fa71ee722ae52c5be71efea"
   }
  }
 },
 "nbformat": 4,
 "nbformat_minor": 2
}
