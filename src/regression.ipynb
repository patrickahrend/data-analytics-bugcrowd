{
 "cells": [
  {
   "cell_type": "code",
   "execution_count": 2,
   "metadata": {},
   "outputs": [],
   "source": [
    "import pandas as pd \n",
    "import numpy as np \n",
    "from sklearn.linear_model import LinearRegression\n",
    "import statsmodels.api as sm"
   ]
  },
  {
   "attachments": {},
   "cell_type": "markdown",
   "metadata": {},
   "source": [
    "## Regression "
   ]
  },
  {
   "cell_type": "code",
   "execution_count": 4,
   "metadata": {},
   "outputs": [],
   "source": [
    "# Read in the data\n",
    "df = pd.read_excel('../used_data/cleaned-dataset-log.xlsx')"
   ]
  },
  {
   "cell_type": "code",
   "execution_count": 5,
   "metadata": {},
   "outputs": [
    {
     "data": {
      "text/plain": [
       "Index(['Title', 'Safe Harbor', 'Vulnearbilities Rewarded', 'Average Payout',\n",
       "       'Hall of Famers', 'Number People', 'Maximum Reword', 'annocument_count',\n",
       "       'Industry', 'Technology', 'Technology API Target',\n",
       "       'Technology Web Targets', 'Technology Android Targets',\n",
       "       'Technology IoT Targets', 'Technology iOS Targets',\n",
       "       'Technology Hardware Targets', 'Featured Staff Picks',\n",
       "       'Featured BCTeamHunt2022', 'Featured New Scope & Increased Rewards',\n",
       "       'Featured Self Service', 'Featured Highest Reward Range',\n",
       "       'Featured Coordinated Disclosure', 'Featured Atlassian',\n",
       "       'Featured Needs a P1 warrior', 'Has Technology', 'Has Featured',\n",
       "       'Has Industry', 'Reward Range Average', 'Validation Within Hours',\n",
       "       'P1 Average', 'P2 Average', 'P3 Average', 'P4 Average', 'Is Private',\n",
       "       'Older Than 2 Year', 'Older Than 6 Year'],\n",
       "      dtype='object')"
      ]
     },
     "execution_count": 5,
     "metadata": {},
     "output_type": "execute_result"
    }
   ],
   "source": [
    "df.columns"
   ]
  },
  {
   "cell_type": "code",
   "execution_count": 32,
   "metadata": {},
   "outputs": [],
   "source": [
    "#define the dependent and independent variables    \n",
    "X = df[[  'Average Payout',\n",
    "       'Hall of Famers', 'Number People', 'annocument_count',\n",
    "        'Reward Range Average', 'Validation Within Hours',\n",
    "       'P1 Average', 'P2 Average', 'P3 Average', 'P4 Average']]\n",
    "y = df['Vulnearbilities Rewarded']"
   ]
  },
  {
   "cell_type": "code",
   "execution_count": 41,
   "metadata": {},
   "outputs": [
    {
     "data": {
      "text/plain": [
       "LinearRegression()"
      ]
     },
     "execution_count": 41,
     "metadata": {},
     "output_type": "execute_result"
    }
   ],
   "source": [
    "# Create a linear regression model object\n",
    "model = LinearRegression()\n",
    "# Fit the model to the data\n",
    "model.fit(X, y)"
   ]
  },
  {
   "cell_type": "code",
   "execution_count": 37,
   "metadata": {},
   "outputs": [
    {
     "data": {
      "text/plain": [
       "0.8722040934543679"
      ]
     },
     "execution_count": 37,
     "metadata": {},
     "output_type": "execute_result"
    }
   ],
   "source": [
    "r2 = model.score(X, y)\n",
    "r2"
   ]
  },
  {
   "cell_type": "code",
   "execution_count": 38,
   "metadata": {},
   "outputs": [
    {
     "name": "stdout",
     "output_type": "stream",
     "text": [
      "Interception -0.31332871470595647\n",
      "Coefficents [ 0.01820745  0.51672833  0.22086208  0.16515422  0.01223473  0.10608761\n",
      "  0.21255971 -0.28880585  0.11433132 -0.03623204]\n",
      "R2 0.8722040934543679\n"
     ]
    }
   ],
   "source": [
    "print(\"Interception\", model.intercept_)\n",
    "print(\"Coefficents\", model.coef_)\n",
    "print(\"R2\",r2)\n",
    "\n"
   ]
  },
  {
   "cell_type": "code",
   "execution_count": 26,
   "metadata": {},
   "outputs": [
    {
     "data": {
      "text/plain": [
       "0.8620746321258008"
      ]
     },
     "execution_count": 26,
     "metadata": {},
     "output_type": "execute_result"
    }
   ],
   "source": [
    "#calculate the adjusted R2\n",
    "n, p = X.shape\n",
    "adjusted_r2 = 1 - (1 - r2) * (n - 1) / (n - p - 1)\n",
    "adjusted_r2"
   ]
  },
  {
   "cell_type": "code",
   "execution_count": 39,
   "metadata": {},
   "outputs": [],
   "source": [
    "# Add constant column to input features\n",
    "X = sm.add_constant(X)\n",
    "\n",
    "# Create an OLS model object\n",
    "ols_model = sm.OLS(y, X)\n",
    "\n",
    "# Fit the OLS model to the data\n",
    "ols_results = ols_model.fit()\n",
    "\n",
    "# Get p-values for coefficients\n",
    "p_values = ols_results.pvalues[1:]\n"
   ]
  },
  {
   "cell_type": "code",
   "execution_count": 40,
   "metadata": {},
   "outputs": [
    {
     "name": "stdout",
     "output_type": "stream",
     "text": [
      "P-values Average Payout             5.047822e-01\n",
      "Hall of Famers             3.061330e-24\n",
      "Number People              2.953889e-05\n",
      "annocument_count           1.143788e-02\n",
      "Reward Range Average       6.753497e-01\n",
      "Validation Within Hours    1.723037e-03\n",
      "P1 Average                 7.619588e-03\n",
      "P2 Average                 7.435792e-03\n",
      "P3 Average                 1.484224e-01\n",
      "P4 Average                 3.601675e-01\n",
      "dtype: float64\n"
     ]
    }
   ],
   "source": [
    "print(\"P-values\", p_values)"
   ]
  },
  {
   "cell_type": "code",
   "execution_count": 45,
   "metadata": {},
   "outputs": [
    {
     "name": "stdout",
     "output_type": "stream",
     "text": [
      "Hall of Famers: 3.0613297065771404e-24\n",
      "Number People: 2.953889474064349e-05\n",
      "annocument_count: 0.011437880931500666\n",
      "Validation Within Hours: 0.0017230366068532186\n",
      "P1 Average: 0.007619588049629848\n",
      "P2 Average: 0.007435791945397831\n"
     ]
    }
   ],
   "source": [
    "alpha = 0.05\n",
    "# Extract significant variables\n",
    "significant_vars = p_values[p_values < alpha]\n",
    "# Print variable names and p-values for significant variables\n",
    "for var, p_val in significant_vars.items():\n",
    "    print(f\"{var}: {p_val}\")"
   ]
  }
 ],
 "metadata": {
  "kernelspec": {
   "display_name": "Python 3",
   "language": "python",
   "name": "python3"
  },
  "language_info": {
   "codemirror_mode": {
    "name": "ipython",
    "version": 3
   },
   "file_extension": ".py",
   "mimetype": "text/x-python",
   "name": "python",
   "nbconvert_exporter": "python",
   "pygments_lexer": "ipython3",
   "version": "3.9.12"
  },
  "orig_nbformat": 4,
  "vscode": {
   "interpreter": {
    "hash": "d3ddb9a339dcfec66cb1d066e0234a99f8d679773fa71ee722ae52c5be71efea"
   }
  }
 },
 "nbformat": 4,
 "nbformat_minor": 2
}
