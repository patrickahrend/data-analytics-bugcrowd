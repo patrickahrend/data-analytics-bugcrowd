{
 "cells": [
  {
   "cell_type": "code",
   "execution_count": 1,
   "metadata": {},
   "outputs": [],
   "source": [
    "import pandas as pd"
   ]
  },
  {
   "cell_type": "code",
   "execution_count": 2,
   "metadata": {},
   "outputs": [],
   "source": [
    "df = pd.read_excel('../used_data/07.01withdiscovery.xlsx')"
   ]
  },
  {
   "cell_type": "code",
   "execution_count": 3,
   "metadata": {},
   "outputs": [
    {
     "data": {
      "text/plain": [
       "0                                              nan\n",
       "1      Highest Reward Range,Coordinated Disclosure\n",
       "2                                              nan\n",
       "3                                              nan\n",
       "4                           Coordinated Disclosure\n",
       "                          ...                     \n",
       "324                                            nan\n",
       "325                                            nan\n",
       "326                                            nan\n",
       "327                                            nan\n",
       "328                                            nan\n",
       "Name: Featured, Length: 329, dtype: object"
      ]
     },
     "execution_count": 3,
     "metadata": {},
     "output_type": "execute_result"
    }
   ],
   "source": [
    "df[\"Featured\"].astype(str)"
   ]
  },
  {
   "cell_type": "code",
   "execution_count": null,
   "metadata": {},
   "outputs": [],
   "source": []
  },
  {
   "cell_type": "code",
   "execution_count": 4,
   "metadata": {},
   "outputs": [],
   "source": [
    "df['Technology'] = df[\"Technology\"].astype(str)\n",
    "df[\"Technology API Target\"] = df[\"Technology\"].apply(lambda x: \"API Targets\" in x)\n",
    "df[\"Technology Web Targets\"] = df[\"Technology\"].apply(lambda x: \"Web Targets\" in x)\n",
    "df[\"Technology Android Targets\"] = df[\"Technology\"].apply(lambda x: \"Android Targets\" in x)\n",
    "df[\"Technology IoT Targets\"] = df[\"Technology\"].apply(lambda x: \"IoT Targets\" in x)\n",
    "df[\"Technology iOS Targets\"] = df[\"Technology\"].apply(lambda x: \"iOS Targets\" in x)\n",
    "df[\"Technology Hardware Targets\"] = df[\"Technology\"].apply(lambda x: \"Hardware Targets\" in x)\n"
   ]
  },
  {
   "cell_type": "code",
   "execution_count": 5,
   "metadata": {},
   "outputs": [],
   "source": [
    "df[\"Technology Hardware Targets\"] = df[\"Technology Hardware Targets\"].map({True: 1, False: 0})\n",
    "df[\"Technology iOS Targets\"] = df[\"Technology iOS Targets\"].map({True: 1, False: 0})\n",
    "df[\"Technology IoT Targets\"] = df[\"Technology IoT Targets\"].map({True: 1, False: 0})\n",
    "df[\"Technology Android Targets\"] = df[\"Technology Android Targets\"].map({True: 1, False: 0})\n",
    "df[\"Technology Web Targets\"] = df[\"Technology Web Targets\"].map({True: 1, False: 0})\n",
    "df[\"Technology API Target\"] = df[\"Technology API Target\"].map({True: 1, False: 0})\n",
    "\n"
   ]
  },
  {
   "cell_type": "code",
   "execution_count": 6,
   "metadata": {},
   "outputs": [
    {
     "data": {
      "text/plain": [
       "Index(['Reward Range', 'Link', 'Title', 'Short Description', 'Is Safe Harbor',\n",
       "       'Vulnearbilities Rewarded', 'Validation Within', 'Average Payout',\n",
       "       'Hall of Famers', 'Number People', 'P4', 'P3', 'P2', 'P1',\n",
       "       'Maximum Reword', 'programm_ruels', 'annocument_count', 'Featured',\n",
       "       'Industry', 'Technology', 'Technology API Target',\n",
       "       'Technology Web Targets', 'Technology Android Targets',\n",
       "       'Technology IoT Targets', 'Technology iOS Targets',\n",
       "       'Technology Hardware Targets'],\n",
       "      dtype='object')"
      ]
     },
     "execution_count": 6,
     "metadata": {},
     "output_type": "execute_result"
    }
   ],
   "source": [
    "df.columns"
   ]
  },
  {
   "cell_type": "code",
   "execution_count": 7,
   "metadata": {},
   "outputs": [],
   "source": [
    "df[\"Featured\"] = df[\"Featured\"].astype(str)\n",
    "df[\"Featured Staff Picks\"] = df[\"Featured\"].apply(lambda x: \"Staff Picks\" in x)\n",
    "df[\"Featured BCTeamHunt2022\"] = df[\"Featured\"].apply(lambda x: \"BCTeamHunt2022\" in x)\n",
    "df[\"Featured New Scope & Increased Rewards\"] = df[\"Featured\"].apply(lambda x: \"New Scope & Increased Rewards\" in x)\n",
    "df[\"Featured Self Service\"] = df[\"Featured\"].apply(lambda x: \"Self Service\" in x)\n",
    "df[\"Featured Highest Reward Range\"] = df[\"Featured\"].apply(lambda x: \"Highest Reward Range\" in x)\n",
    "df[\"Featured Coordinated Disclosure\"] = df[\"Featured\"].apply(lambda x: \"Coordinated Disclosure\" in x)\n",
    "df[\"Featured Atlassian\"] = df[\"Featured\"].apply(lambda x: \"Atlassian\" in x)\n",
    "df[\"Featured Needs a P1 warrior\"] = df[\"Featured\"].apply(lambda x: \"Needs a P1 warrior\" in x)\n"
   ]
  },
  {
   "cell_type": "code",
   "execution_count": 8,
   "metadata": {},
   "outputs": [],
   "source": [
    "df[\"Featured Staff Picks\"] = df[\"Featured Staff Picks\"].map({True: 1, False: 0})\n",
    "df[\"Featured BCTeamHunt2022\"] = df[\"Featured BCTeamHunt2022\"].map({True: 1, False: 0})\n",
    "df[\"Featured New Scope & Increased Rewards\"] = df[\"Featured New Scope & Increased Rewards\"].map({True: 1, False: 0})\n",
    "df[\"Featured Self Service\"] = df[\"Featured Self Service\"].map({True: 1, False: 0})\n",
    "df[\"Featured Highest Reward Range\"] = df[\"Featured Highest Reward Range\"].map({True: 1, False: 0})\n",
    "df[\"Featured Coordinated Disclosure\"] = df[\"Featured Coordinated Disclosure\"].map({True: 1, False: 0})\n",
    "df[\"Featured Atlassian\"] = df[\"Featured Atlassian\"].map({True: 1, False: 0})\n",
    "df[\"Featured Needs a P1 warrior\"] = df[\"Featured Needs a P1 warrior\"].map({True: 1, False: 0})\n"
   ]
  },
  {
   "cell_type": "code",
   "execution_count": 9,
   "metadata": {},
   "outputs": [
    {
     "data": {
      "text/plain": [
       "array(['API Targets,Web Targets', 'nan', 'Android Targets', 'API Targets',\n",
       "       'Web Targets', 'iOS Targets,IoT Targets',\n",
       "       'Hardware Targets,IoT Targets',\n",
       "       'Android Targets,API Targets,iOS Targets,Web Targets',\n",
       "       'iOS Targets', 'Android Targets,iOS Targets,Web Targets',\n",
       "       'Android Targets,iOS Targets', 'IoT Targets',\n",
       "       'Android Targets,API Targets',\n",
       "       'Android Targets,API Targets,iOS Targets', 'Hardware Targets',\n",
       "       'Android Targets,IoT Targets',\n",
       "       'Android Targets,API Targets,Web Targets',\n",
       "       'Android Targets,API Targets,Hardware Targets,Web Targets',\n",
       "       'Android Targets,API Targets,Hardware Targets,iOS Targets',\n",
       "       'Android Targets,API Targets,iOS Targets,IoT Targets',\n",
       "       'API Targets,Hardware Targets', 'Hardware Targets,iOS Targets'],\n",
       "      dtype=object)"
      ]
     },
     "execution_count": 9,
     "metadata": {},
     "output_type": "execute_result"
    }
   ],
   "source": [
    "df[\"Technology\"].unique()"
   ]
  },
  {
   "cell_type": "code",
   "execution_count": 10,
   "metadata": {},
   "outputs": [],
   "source": [
    "df[\"Technology\"]= df[\"Technology\"].astype(str)\n",
    "df[\"Technology API Target\"] = df[\"Technology\"].apply(lambda x: \"API Targets\" in x)\n",
    "df[\"Technology Web Targets\"] = df[\"Technology\"].apply(lambda x: \"Web Targets\" in x)\n",
    "df[\"Technology Android Targets\"] = df[\"Technology\"].apply(lambda x: \"Android Targets\" in x)\n",
    "df[\"Technology IoT Targets\"] = df[\"Technology\"].apply(lambda x: \"IoT Targets\" in x)\n",
    "df[\"Technology iOS Targets\"] = df[\"Technology\"].apply(lambda x: \"iOS Targets\" in x)\n",
    "df[\"Technology Hardware Targets\"] = df[\"Technology\"].apply(lambda x: \"Hardware Targets\" in x)\n",
    "\n"
   ]
  },
  {
   "cell_type": "code",
   "execution_count": 11,
   "metadata": {},
   "outputs": [],
   "source": [
    "df[\"Technology API Target\"] = df[\"Technology API Target\"].map({True: 1, False: 0})\n",
    "df[\"Technology Web Targets\"] = df[\"Technology Web Targets\"].map({True: 1, False: 0})\n",
    "df[\"Technology Android Targets\"] = df[\"Technology Android Targets\"].map({True: 1, False: 0})\n",
    "df[\"Technology IoT Targets\"] = df[\"Technology IoT Targets\"].map({True: 1, False: 0})\n",
    "df[\"Technology iOS Targets\"] = df[\"Technology iOS Targets\"].map({True: 1, False: 0})\n",
    "df[\"Technology Hardware Targets\"] = df[\"Technology Hardware Targets\"].map({True: 1, False: 0})\n"
   ]
  },
  {
   "cell_type": "code",
   "execution_count": 12,
   "metadata": {},
   "outputs": [],
   "source": [
    "## change the old column to has_Technology, has_Featured, has_Industry"
   ]
  },
  {
   "cell_type": "code",
   "execution_count": 13,
   "metadata": {},
   "outputs": [],
   "source": [
    "df[\"Industry\"]= df[\"Industry\"].fillna(\"nan\")"
   ]
  },
  {
   "cell_type": "code",
   "execution_count": null,
   "metadata": {},
   "outputs": [],
   "source": []
  },
  {
   "cell_type": "code",
   "execution_count": 14,
   "metadata": {},
   "outputs": [],
   "source": [
    "df[\"Has Technology\"] = df[\"Technology\"].apply(lambda x: x != \"nan\")\n",
    "df[\"Has Featured\"] = df[\"Featured\"].apply(lambda x: x != \"nan\")\n",
    "df[\"Has Industry\"] = df[\"Industry\"].apply(lambda x: x != \"nan\")"
   ]
  },
  {
   "cell_type": "code",
   "execution_count": 15,
   "metadata": {},
   "outputs": [],
   "source": [
    "# df = pd.get_dummies(df, columns=[\"Industry\"])\n",
    "# df"
   ]
  },
  {
   "cell_type": "code",
   "execution_count": 17,
   "metadata": {},
   "outputs": [],
   "source": [
    "df.to_excel('../used_data/one-hot-with-industry.xlsx')"
   ]
  }
 ],
 "metadata": {
  "kernelspec": {
   "display_name": "Python 3",
   "language": "python",
   "name": "python3"
  },
  "language_info": {
   "codemirror_mode": {
    "name": "ipython",
    "version": 3
   },
   "file_extension": ".py",
   "mimetype": "text/x-python",
   "name": "python",
   "nbconvert_exporter": "python",
   "pygments_lexer": "ipython3",
   "version": "3.9.12 (main, Apr  5 2022, 01:53:17) \n[Clang 12.0.0 ]"
  },
  "orig_nbformat": 4,
  "vscode": {
   "interpreter": {
    "hash": "d3ddb9a339dcfec66cb1d066e0234a99f8d679773fa71ee722ae52c5be71efea"
   }
  }
 },
 "nbformat": 4,
 "nbformat_minor": 2
}
