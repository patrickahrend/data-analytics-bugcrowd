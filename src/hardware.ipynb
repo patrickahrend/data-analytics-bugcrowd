{
 "cells": [
  {
   "cell_type": "code",
   "execution_count": 1,
   "metadata": {},
   "outputs": [],
   "source": [
    "import pandas as pd\n",
    "import numpy as np"
   ]
  },
  {
   "cell_type": "code",
   "execution_count": 2,
   "metadata": {},
   "outputs": [],
   "source": [
    "df = pd.read_excel('../used_data/cleaned-no-one-hot-encoding-technology.xlsx')"
   ]
  },
  {
   "cell_type": "code",
   "execution_count": 4,
   "metadata": {},
   "outputs": [
    {
     "data": {
      "text/plain": [
       "Index(['Title', 'Safe Harbor', 'Vulnearbilities Rewarded', 'Average Payout',\n",
       "       'Hall of Famers', 'Number People', 'Maximum Reword', 'annocument_count',\n",
       "       'Industry', 'Technology', 'Technology API Target',\n",
       "       'Technology Web Targets', 'Technology Android Targets',\n",
       "       'Technology IoT Targets', 'Technology iOS Targets',\n",
       "       'Technology Hardware Targets', 'Featured Staff Picks',\n",
       "       'Featured BCTeamHunt2022', 'Featured New Scope & Increased Rewards',\n",
       "       'Featured Self Service', 'Featured Highest Reward Range',\n",
       "       'Featured Coordinated Disclosure', 'Featured Atlassian',\n",
       "       'Featured Needs a P1 warrior', 'Has Technology', 'Has Featured',\n",
       "       'Has Industry', 'Reward Range Average', 'Validation Within Hours',\n",
       "       'P1 Average', 'P2 Average', 'P3 Average', 'P4 Average', 'Is Private'],\n",
       "      dtype='object')"
      ]
     },
     "execution_count": 4,
     "metadata": {},
     "output_type": "execute_result"
    }
   ],
   "source": [
    "df.columns"
   ]
  },
  {
   "cell_type": "code",
   "execution_count": 7,
   "metadata": {},
   "outputs": [
    {
     "data": {
      "text/plain": [
       "(318, 34)"
      ]
     },
     "execution_count": 7,
     "metadata": {},
     "output_type": "execute_result"
    }
   ],
   "source": [
    "df_none = df[df[\"Technology Hardware Targets\"] == 0]\n",
    "df_none.shape"
   ]
  },
  {
   "cell_type": "code",
   "execution_count": 9,
   "metadata": {},
   "outputs": [
    {
     "data": {
      "text/plain": [
       "(11, 34)"
      ]
     },
     "execution_count": 9,
     "metadata": {},
     "output_type": "execute_result"
    }
   ],
   "source": [
    "df_hardware = df[df[\"Technology Hardware Targets\"] == 1]\n",
    "df_hardware.shape"
   ]
  },
  {
   "cell_type": "code",
   "execution_count": 23,
   "metadata": {},
   "outputs": [
    {
     "name": "stdout",
     "output_type": "stream",
     "text": [
      "None-Hardware vulnearbilty rewarded average:  105.95\n",
      "None-Hardware Number of people average:  404.07\n",
      "None-Hardware number of pay average:  267.3\n",
      "None-Hardware number of announcement average:  3.49\n",
      "None-Hardware number of Hall of Famers average:  122.94\n"
     ]
    }
   ],
   "source": [
    "none_vuln_rewarded_mean = df_none['Vulnearbilities Rewarded'].mean()\n",
    "print(\"None-Hardware vulnearbilty rewarded average: \",round(none_vuln_rewarded_mean,2))\n",
    "none_people_mean = df_none['Number People'].mean()\n",
    "print(\"None-Hardware Number of people average: \",round(none_people_mean,2))\n",
    "normal_payout_mean = df_none['Average Payout'].mean()\n",
    "print(\"None-Hardware number of pay average: \",round(normal_payout_mean,2))\n",
    "normal_annocument_count = df_none['annocument_count'].mean()\n",
    "print(\"None-Hardware number of announcement average: \",round(normal_annocument_count,2))\n",
    "normal_hall_of_fame = df_none['Hall of Famers'].mean()\n",
    "print(\"None-Hardware number of Hall of Famers average: \",round(normal_hall_of_fame,2))"
   ]
  },
  {
   "cell_type": "code",
   "execution_count": 24,
   "metadata": {},
   "outputs": [
    {
     "name": "stdout",
     "output_type": "stream",
     "text": [
      "hardware vulnearbilty rewarded average:  288.91\n",
      "hardware Number of people average:  878.64\n",
      "hardware number of pay average:  1461.91\n",
      "hardware number of announcement average:  7.55\n",
      "hardware number of Hall of Famers average:  240.64\n"
     ]
    }
   ],
   "source": [
    "hardware_vuln_rewarded_mean = df_hardware['Vulnearbilities Rewarded'].mean()\n",
    "print(\"hardware vulnearbilty rewarded average: \",round(hardware_vuln_rewarded_mean,2))\n",
    "hardware_people_mean = df_hardware['Number People'].mean()\n",
    "print(\"hardware Number of people average: \",round(hardware_people_mean,2))\n",
    "hardware_payout_mean = df_hardware['Average Payout'].mean()\n",
    "print(\"hardware number of pay average: \",round(hardware_payout_mean,2))\n",
    "hardware_annocument_count = df_hardware['annocument_count'].mean()\n",
    "print(\"hardware number of announcement average: \",round(hardware_annocument_count,2))\n",
    "hardware_hall_of_fame = df_hardware['Hall of Famers'].mean()\n",
    "print(\"hardware number of Hall of Famers average: \",round(hardware_hall_of_fame,2))"
   ]
  },
  {
   "cell_type": "code",
   "execution_count": 25,
   "metadata": {},
   "outputs": [],
   "source": [
    "df = pd.read_excel(\"/Users/patrickahrend/Developer/data-analytics-bugcrowd/used_data/cleaned-log-nan.xlsx\")"
   ]
  },
  {
   "cell_type": "code",
   "execution_count": 28,
   "metadata": {},
   "outputs": [
    {
     "data": {
      "text/plain": [
       "Index(['Title', 'Safe Harbor', 'Vulnearbilities Rewarded', 'Average Payout',\n",
       "       'Hall of Famers', 'Number People', 'Maximum Reword', 'annocument_count',\n",
       "       'Industry', 'Technology', 'Technology API Target',\n",
       "       'Technology Web Targets', 'Technology Android Targets',\n",
       "       'Technology IoT Targets', 'Technology iOS Targets',\n",
       "       'Technology Hardware Targets', 'Featured Staff Picks',\n",
       "       'Featured BCTeamHunt2022', 'Featured New Scope & Increased Rewards',\n",
       "       'Featured Self Service', 'Featured Highest Reward Range',\n",
       "       'Featured Coordinated Disclosure', 'Featured Atlassian',\n",
       "       'Featured Needs a P1 warrior', 'Has Technology', 'Has Featured',\n",
       "       'Has Industry', 'Reward Range Average', 'Validation Within Hours',\n",
       "       'P1 Average', 'P2 Average', 'P3 Average', 'P4 Average', 'Is Private',\n",
       "       'Older Than 2 Year', 'Older Than 6 Year'],\n",
       "      dtype='object')"
      ]
     },
     "execution_count": 28,
     "metadata": {},
     "output_type": "execute_result"
    }
   ],
   "source": [
    "df.columns"
   ]
  },
  {
   "cell_type": "code",
   "execution_count": 32,
   "metadata": {},
   "outputs": [
    {
     "data": {
      "text/html": [
       "<div>\n",
       "<style scoped>\n",
       "    .dataframe tbody tr th:only-of-type {\n",
       "        vertical-align: middle;\n",
       "    }\n",
       "\n",
       "    .dataframe tbody tr th {\n",
       "        vertical-align: top;\n",
       "    }\n",
       "\n",
       "    .dataframe thead th {\n",
       "        text-align: right;\n",
       "    }\n",
       "</style>\n",
       "<table border=\"1\" class=\"dataframe\">\n",
       "  <thead>\n",
       "    <tr style=\"text-align: right;\">\n",
       "      <th></th>\n",
       "      <th>Title</th>\n",
       "      <th>Safe Harbor</th>\n",
       "      <th>Vulnearbilities Rewarded</th>\n",
       "      <th>Average Payout</th>\n",
       "      <th>Hall of Famers</th>\n",
       "      <th>Number People</th>\n",
       "      <th>Maximum Reword</th>\n",
       "      <th>annocument_count</th>\n",
       "      <th>Industry</th>\n",
       "      <th>Technology</th>\n",
       "      <th>...</th>\n",
       "      <th>Has Industry</th>\n",
       "      <th>Reward Range Average</th>\n",
       "      <th>Validation Within Hours</th>\n",
       "      <th>P1 Average</th>\n",
       "      <th>P2 Average</th>\n",
       "      <th>P3 Average</th>\n",
       "      <th>P4 Average</th>\n",
       "      <th>Is Private</th>\n",
       "      <th>Older Than 2 Year</th>\n",
       "      <th>Older Than 6 Year</th>\n",
       "    </tr>\n",
       "  </thead>\n",
       "  <tbody>\n",
       "    <tr>\n",
       "      <th>1</th>\n",
       "      <td>1Password</td>\n",
       "      <td>Not Safe Harbor</td>\n",
       "      <td>4.927254</td>\n",
       "      <td>8.059118</td>\n",
       "      <td>4.882802</td>\n",
       "      <td>6.663133</td>\n",
       "      <td>1000000</td>\n",
       "      <td>2.484907</td>\n",
       "      <td>Electronics and Technology</td>\n",
       "      <td>0</td>\n",
       "      <td>...</td>\n",
       "      <td>True</td>\n",
       "      <td>9.625756</td>\n",
       "      <td>4.969813</td>\n",
       "      <td>10.308953</td>\n",
       "      <td>8.699515</td>\n",
       "      <td>6.396930</td>\n",
       "      <td>5.703782</td>\n",
       "      <td>0</td>\n",
       "      <td>0</td>\n",
       "      <td>0</td>\n",
       "    </tr>\n",
       "    <tr>\n",
       "      <th>3</th>\n",
       "      <td>AMEX - Global Business Travel Vulnerability Di...</td>\n",
       "      <td>Safe harbor</td>\n",
       "      <td>6.570883</td>\n",
       "      <td>0.000000</td>\n",
       "      <td>5.056246</td>\n",
       "      <td>5.683580</td>\n",
       "      <td>0</td>\n",
       "      <td>2.302585</td>\n",
       "      <td>0</td>\n",
       "      <td>0</td>\n",
       "      <td>...</td>\n",
       "      <td>False</td>\n",
       "      <td>0.000000</td>\n",
       "      <td>0.000000</td>\n",
       "      <td>0.000000</td>\n",
       "      <td>0.000000</td>\n",
       "      <td>0.000000</td>\n",
       "      <td>0.000000</td>\n",
       "      <td>0</td>\n",
       "      <td>0</td>\n",
       "      <td>0</td>\n",
       "    </tr>\n",
       "    <tr>\n",
       "      <th>4</th>\n",
       "      <td>20 Minuten</td>\n",
       "      <td>Not Safe Harbor</td>\n",
       "      <td>4.584967</td>\n",
       "      <td>6.180700</td>\n",
       "      <td>4.477337</td>\n",
       "      <td>6.380123</td>\n",
       "      <td>0</td>\n",
       "      <td>2.197225</td>\n",
       "      <td>0</td>\n",
       "      <td>0</td>\n",
       "      <td>...</td>\n",
       "      <td>False</td>\n",
       "      <td>7.872836</td>\n",
       "      <td>4.787492</td>\n",
       "      <td>8.411833</td>\n",
       "      <td>7.696213</td>\n",
       "      <td>6.620073</td>\n",
       "      <td>5.616771</td>\n",
       "      <td>0</td>\n",
       "      <td>0</td>\n",
       "      <td>0</td>\n",
       "    </tr>\n",
       "    <tr>\n",
       "      <th>6</th>\n",
       "      <td>Acorns Grow, Inc.</td>\n",
       "      <td>Safe harbor</td>\n",
       "      <td>4.976734</td>\n",
       "      <td>6.032271</td>\n",
       "      <td>5.703782</td>\n",
       "      <td>7.042286</td>\n",
       "      <td>0</td>\n",
       "      <td>1.609438</td>\n",
       "      <td>Banking and Ficial Services</td>\n",
       "      <td>0</td>\n",
       "      <td>...</td>\n",
       "      <td>True</td>\n",
       "      <td>7.522941</td>\n",
       "      <td>4.564348</td>\n",
       "      <td>8.160518</td>\n",
       "      <td>7.467371</td>\n",
       "      <td>6.476972</td>\n",
       "      <td>5.298317</td>\n",
       "      <td>0</td>\n",
       "      <td>0</td>\n",
       "      <td>0</td>\n",
       "    </tr>\n",
       "    <tr>\n",
       "      <th>7</th>\n",
       "      <td>23andMe</td>\n",
       "      <td>Not Safe Harbor</td>\n",
       "      <td>4.430817</td>\n",
       "      <td>6.145601</td>\n",
       "      <td>3.891820</td>\n",
       "      <td>5.817111</td>\n",
       "      <td>0</td>\n",
       "      <td>1.945910</td>\n",
       "      <td>0</td>\n",
       "      <td>0</td>\n",
       "      <td>...</td>\n",
       "      <td>False</td>\n",
       "      <td>7.824046</td>\n",
       "      <td>4.564348</td>\n",
       "      <td>7.824046</td>\n",
       "      <td>6.437752</td>\n",
       "      <td>5.416100</td>\n",
       "      <td>4.317488</td>\n",
       "      <td>0</td>\n",
       "      <td>0</td>\n",
       "      <td>0</td>\n",
       "    </tr>\n",
       "    <tr>\n",
       "      <th>...</th>\n",
       "      <td>...</td>\n",
       "      <td>...</td>\n",
       "      <td>...</td>\n",
       "      <td>...</td>\n",
       "      <td>...</td>\n",
       "      <td>...</td>\n",
       "      <td>...</td>\n",
       "      <td>...</td>\n",
       "      <td>...</td>\n",
       "      <td>...</td>\n",
       "      <td>...</td>\n",
       "      <td>...</td>\n",
       "      <td>...</td>\n",
       "      <td>...</td>\n",
       "      <td>...</td>\n",
       "      <td>...</td>\n",
       "      <td>...</td>\n",
       "      <td>...</td>\n",
       "      <td>...</td>\n",
       "      <td>...</td>\n",
       "      <td>...</td>\n",
       "    </tr>\n",
       "    <tr>\n",
       "      <th>312</th>\n",
       "      <td>Wise (ex-TransferWise)</td>\n",
       "      <td>Safe harbor</td>\n",
       "      <td>5.111988</td>\n",
       "      <td>5.721459</td>\n",
       "      <td>5.945421</td>\n",
       "      <td>7.142827</td>\n",
       "      <td>6000</td>\n",
       "      <td>2.484907</td>\n",
       "      <td>Banking and Ficial Services</td>\n",
       "      <td>0</td>\n",
       "      <td>...</td>\n",
       "      <td>True</td>\n",
       "      <td>7.625595</td>\n",
       "      <td>4.564348</td>\n",
       "      <td>8.160518</td>\n",
       "      <td>7.130899</td>\n",
       "      <td>5.991465</td>\n",
       "      <td>4.828314</td>\n",
       "      <td>0</td>\n",
       "      <td>0</td>\n",
       "      <td>0</td>\n",
       "    </tr>\n",
       "    <tr>\n",
       "      <th>317</th>\n",
       "      <td>codefortynine</td>\n",
       "      <td>Partial safe harbor</td>\n",
       "      <td>2.708050</td>\n",
       "      <td>0.000000</td>\n",
       "      <td>2.397895</td>\n",
       "      <td>4.477337</td>\n",
       "      <td>0</td>\n",
       "      <td>0.693147</td>\n",
       "      <td>0</td>\n",
       "      <td>0</td>\n",
       "      <td>...</td>\n",
       "      <td>False</td>\n",
       "      <td>6.684612</td>\n",
       "      <td>3.871201</td>\n",
       "      <td>7.313220</td>\n",
       "      <td>6.802395</td>\n",
       "      <td>5.703782</td>\n",
       "      <td>4.605170</td>\n",
       "      <td>0</td>\n",
       "      <td>0</td>\n",
       "      <td>0</td>\n",
       "    </tr>\n",
       "    <tr>\n",
       "      <th>318</th>\n",
       "      <td>eazyBI</td>\n",
       "      <td>Partial safe harbor</td>\n",
       "      <td>3.044522</td>\n",
       "      <td>0.000000</td>\n",
       "      <td>3.135494</td>\n",
       "      <td>5.365976</td>\n",
       "      <td>0</td>\n",
       "      <td>0.693147</td>\n",
       "      <td>0</td>\n",
       "      <td>0</td>\n",
       "      <td>...</td>\n",
       "      <td>False</td>\n",
       "      <td>6.684612</td>\n",
       "      <td>3.044522</td>\n",
       "      <td>7.313220</td>\n",
       "      <td>6.802395</td>\n",
       "      <td>5.703782</td>\n",
       "      <td>4.605170</td>\n",
       "      <td>0</td>\n",
       "      <td>0</td>\n",
       "      <td>0</td>\n",
       "    </tr>\n",
       "    <tr>\n",
       "      <th>323</th>\n",
       "      <td>lululemon</td>\n",
       "      <td>Not Safe Harbor</td>\n",
       "      <td>5.424950</td>\n",
       "      <td>6.837762</td>\n",
       "      <td>5.389072</td>\n",
       "      <td>6.931472</td>\n",
       "      <td>10000</td>\n",
       "      <td>1.791759</td>\n",
       "      <td>0</td>\n",
       "      <td>0</td>\n",
       "      <td>...</td>\n",
       "      <td>False</td>\n",
       "      <td>7.329750</td>\n",
       "      <td>4.564348</td>\n",
       "      <td>7.955074</td>\n",
       "      <td>7.003065</td>\n",
       "      <td>5.991465</td>\n",
       "      <td>3.912023</td>\n",
       "      <td>0</td>\n",
       "      <td>0</td>\n",
       "      <td>0</td>\n",
       "    </tr>\n",
       "    <tr>\n",
       "      <th>324</th>\n",
       "      <td>Macquarie Group Vulnerability Disclosure Program</td>\n",
       "      <td>Not Safe Harbor</td>\n",
       "      <td>0.000000</td>\n",
       "      <td>0.000000</td>\n",
       "      <td>0.000000</td>\n",
       "      <td>3.044522</td>\n",
       "      <td>0</td>\n",
       "      <td>0.000000</td>\n",
       "      <td>Banking and Ficial Services</td>\n",
       "      <td>0</td>\n",
       "      <td>...</td>\n",
       "      <td>True</td>\n",
       "      <td>6.437752</td>\n",
       "      <td>4.276666</td>\n",
       "      <td>0.000000</td>\n",
       "      <td>0.000000</td>\n",
       "      <td>0.000000</td>\n",
       "      <td>0.000000</td>\n",
       "      <td>0</td>\n",
       "      <td>1</td>\n",
       "      <td>0</td>\n",
       "    </tr>\n",
       "  </tbody>\n",
       "</table>\n",
       "<p>181 rows × 36 columns</p>\n",
       "</div>"
      ],
      "text/plain": [
       "                                                 Title          Safe Harbor  \\\n",
       "1                                            1Password      Not Safe Harbor   \n",
       "3    AMEX - Global Business Travel Vulnerability Di...          Safe harbor   \n",
       "4                                           20 Minuten      Not Safe Harbor   \n",
       "6                                    Acorns Grow, Inc.          Safe harbor   \n",
       "7                                              23andMe      Not Safe Harbor   \n",
       "..                                                 ...                  ...   \n",
       "312                             Wise (ex-TransferWise)          Safe harbor   \n",
       "317                                      codefortynine  Partial safe harbor   \n",
       "318                                             eazyBI  Partial safe harbor   \n",
       "323                                          lululemon      Not Safe Harbor   \n",
       "324   Macquarie Group Vulnerability Disclosure Program      Not Safe Harbor   \n",
       "\n",
       "     Vulnearbilities Rewarded  Average Payout  Hall of Famers  Number People  \\\n",
       "1                    4.927254        8.059118        4.882802       6.663133   \n",
       "3                    6.570883        0.000000        5.056246       5.683580   \n",
       "4                    4.584967        6.180700        4.477337       6.380123   \n",
       "6                    4.976734        6.032271        5.703782       7.042286   \n",
       "7                    4.430817        6.145601        3.891820       5.817111   \n",
       "..                        ...             ...             ...            ...   \n",
       "312                  5.111988        5.721459        5.945421       7.142827   \n",
       "317                  2.708050        0.000000        2.397895       4.477337   \n",
       "318                  3.044522        0.000000        3.135494       5.365976   \n",
       "323                  5.424950        6.837762        5.389072       6.931472   \n",
       "324                  0.000000        0.000000        0.000000       3.044522   \n",
       "\n",
       "     Maximum Reword  annocument_count                     Industry Technology  \\\n",
       "1           1000000          2.484907   Electronics and Technology          0   \n",
       "3                 0          2.302585                            0          0   \n",
       "4                 0          2.197225                            0          0   \n",
       "6                 0          1.609438  Banking and Ficial Services          0   \n",
       "7                 0          1.945910                            0          0   \n",
       "..              ...               ...                          ...        ...   \n",
       "312            6000          2.484907  Banking and Ficial Services          0   \n",
       "317               0          0.693147                            0          0   \n",
       "318               0          0.693147                            0          0   \n",
       "323           10000          1.791759                            0          0   \n",
       "324               0          0.000000  Banking and Ficial Services          0   \n",
       "\n",
       "     ...  Has Industry  Reward Range Average  Validation Within Hours  \\\n",
       "1    ...          True              9.625756                 4.969813   \n",
       "3    ...         False              0.000000                 0.000000   \n",
       "4    ...         False              7.872836                 4.787492   \n",
       "6    ...          True              7.522941                 4.564348   \n",
       "7    ...         False              7.824046                 4.564348   \n",
       "..   ...           ...                   ...                      ...   \n",
       "312  ...          True              7.625595                 4.564348   \n",
       "317  ...         False              6.684612                 3.871201   \n",
       "318  ...         False              6.684612                 3.044522   \n",
       "323  ...         False              7.329750                 4.564348   \n",
       "324  ...          True              6.437752                 4.276666   \n",
       "\n",
       "     P1 Average  P2 Average  P3 Average  P4 Average  Is Private  \\\n",
       "1     10.308953    8.699515    6.396930    5.703782           0   \n",
       "3      0.000000    0.000000    0.000000    0.000000           0   \n",
       "4      8.411833    7.696213    6.620073    5.616771           0   \n",
       "6      8.160518    7.467371    6.476972    5.298317           0   \n",
       "7      7.824046    6.437752    5.416100    4.317488           0   \n",
       "..          ...         ...         ...         ...         ...   \n",
       "312    8.160518    7.130899    5.991465    4.828314           0   \n",
       "317    7.313220    6.802395    5.703782    4.605170           0   \n",
       "318    7.313220    6.802395    5.703782    4.605170           0   \n",
       "323    7.955074    7.003065    5.991465    3.912023           0   \n",
       "324    0.000000    0.000000    0.000000    0.000000           0   \n",
       "\n",
       "     Older Than 2 Year  Older Than 6 Year  \n",
       "1                    0                  0  \n",
       "3                    0                  0  \n",
       "4                    0                  0  \n",
       "6                    0                  0  \n",
       "7                    0                  0  \n",
       "..                 ...                ...  \n",
       "312                  0                  0  \n",
       "317                  0                  0  \n",
       "318                  0                  0  \n",
       "323                  0                  0  \n",
       "324                  1                  0  \n",
       "\n",
       "[181 rows x 36 columns]"
      ]
     },
     "execution_count": 32,
     "metadata": {},
     "output_type": "execute_result"
    }
   ],
   "source": [
    "df_none_tech = df[df[\"Has Technology\"] == False]\n"
   ]
  },
  {
   "cell_type": "code",
   "execution_count": null,
   "metadata": {},
   "outputs": [],
   "source": [
    "df['Is Private'] = np.where(df['Link'].str.contains('teaser'), True, False)\n",
    "df['Is Private']= df['Is Private'].map({True: 1, False: 0})"
   ]
  },
  {
   "cell_type": "code",
   "execution_count": 34,
   "metadata": {},
   "outputs": [],
   "source": [
    "df_none_tech.to_excel(\"/Users/patrickahrend/Developer/data-analytics-bugcrowd/used_data/none_tech.xlsx\", index=False)"
   ]
  },
  {
   "cell_type": "code",
   "execution_count": 41,
   "metadata": {},
   "outputs": [],
   "source": [
    "df = pd.read_excel(\"/Users/patrickahrend/Developer/data-analytics-bugcrowd/used_data/cleaned-log-nan.xlsx\")"
   ]
  },
  {
   "cell_type": "code",
   "execution_count": 42,
   "metadata": {},
   "outputs": [],
   "source": [
    "df['Has Technology'] = df['Has Technology'].map({True: 1, False: 0})"
   ]
  },
  {
   "cell_type": "code",
   "execution_count": 43,
   "metadata": {},
   "outputs": [
    {
     "data": {
      "text/plain": [
       "0      1\n",
       "1      0\n",
       "2      1\n",
       "3      0\n",
       "4      0\n",
       "      ..\n",
       "324    0\n",
       "325    1\n",
       "326    1\n",
       "327    1\n",
       "328    1\n",
       "Name: Has Technology, Length: 329, dtype: int64"
      ]
     },
     "execution_count": 43,
     "metadata": {},
     "output_type": "execute_result"
    }
   ],
   "source": [
    "df['Has Technology'] "
   ]
  },
  {
   "cell_type": "code",
   "execution_count": 44,
   "metadata": {},
   "outputs": [],
   "source": [
    "df.to_excel(\"/Users/patrickahrend/Developer/data-analytics-bugcrowd/used_data/log-technology-dummy.xlsx\", index=False)"
   ]
  },
  {
   "cell_type": "code",
   "execution_count": 35,
   "metadata": {},
   "outputs": [
    {
     "data": {
      "text/plain": [
       "Index(['Title', 'Safe Harbor', 'Vulnearbilities Rewarded', 'Average Payout',\n",
       "       'Hall of Famers', 'Number People', 'Maximum Reword', 'annocument_count',\n",
       "       'Industry', 'Technology', 'Technology API Target',\n",
       "       'Technology Web Targets', 'Technology Android Targets',\n",
       "       'Technology IoT Targets', 'Technology iOS Targets',\n",
       "       'Technology Hardware Targets', 'Featured Staff Picks',\n",
       "       'Featured BCTeamHunt2022', 'Featured New Scope & Increased Rewards',\n",
       "       'Featured Self Service', 'Featured Highest Reward Range',\n",
       "       'Featured Coordinated Disclosure', 'Featured Atlassian',\n",
       "       'Featured Needs a P1 warrior', 'Has Technology', 'Has Featured',\n",
       "       'Has Industry', 'Reward Range Average', 'Validation Within Hours',\n",
       "       'P1 Average', 'P2 Average', 'P3 Average', 'P4 Average', 'Is Private',\n",
       "       'Older Than 2 Year', 'Older Than 6 Year'],\n",
       "      dtype='object')"
      ]
     },
     "execution_count": 35,
     "metadata": {},
     "output_type": "execute_result"
    }
   ],
   "source": [
    "df.columns"
   ]
  },
  {
   "cell_type": "code",
   "execution_count": 37,
   "metadata": {},
   "outputs": [],
   "source": [
    "df['Has Technology']= df['Has Technology'].map({True: 1, False: 0})"
   ]
  },
  {
   "cell_type": "code",
   "execution_count": 38,
   "metadata": {},
   "outputs": [
    {
     "data": {
      "text/plain": [
       "0     NaN\n",
       "1     NaN\n",
       "2     NaN\n",
       "3     NaN\n",
       "4     NaN\n",
       "       ..\n",
       "324   NaN\n",
       "325   NaN\n",
       "326   NaN\n",
       "327   NaN\n",
       "328   NaN\n",
       "Name: Has Technology, Length: 329, dtype: float64"
      ]
     },
     "execution_count": 38,
     "metadata": {},
     "output_type": "execute_result"
    }
   ],
   "source": []
  },
  {
   "cell_type": "code",
   "execution_count": null,
   "metadata": {},
   "outputs": [],
   "source": []
  }
 ],
 "metadata": {
  "kernelspec": {
   "display_name": "Python 3",
   "language": "python",
   "name": "python3"
  },
  "language_info": {
   "codemirror_mode": {
    "name": "ipython",
    "version": 3
   },
   "file_extension": ".py",
   "mimetype": "text/x-python",
   "name": "python",
   "nbconvert_exporter": "python",
   "pygments_lexer": "ipython3",
   "version": "3.9.12"
  },
  "orig_nbformat": 4,
  "vscode": {
   "interpreter": {
    "hash": "d3ddb9a339dcfec66cb1d066e0234a99f8d679773fa71ee722ae52c5be71efea"
   }
  }
 },
 "nbformat": 4,
 "nbformat_minor": 2
}
