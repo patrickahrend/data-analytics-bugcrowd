{
 "cells": [
  {
   "cell_type": "code",
   "execution_count": 1,
   "metadata": {},
   "outputs": [],
   "source": [
    "import pandas as pd\n",
    "import numpy as np"
   ]
  },
  {
   "cell_type": "code",
   "execution_count": 2,
   "metadata": {},
   "outputs": [],
   "source": [
    "df = pd.read_excel('../used_data/cleaned-no-one-hot-encoding-technology.xlsx')"
   ]
  },
  {
   "cell_type": "code",
   "execution_count": 4,
   "metadata": {},
   "outputs": [
    {
     "data": {
      "text/plain": [
       "Index(['Title', 'Safe Harbor', 'Vulnearbilities Rewarded', 'Average Payout',\n",
       "       'Hall of Famers', 'Number People', 'Maximum Reword', 'annocument_count',\n",
       "       'Industry', 'Technology', 'Technology API Target',\n",
       "       'Technology Web Targets', 'Technology Android Targets',\n",
       "       'Technology IoT Targets', 'Technology iOS Targets',\n",
       "       'Technology Hardware Targets', 'Featured Staff Picks',\n",
       "       'Featured BCTeamHunt2022', 'Featured New Scope & Increased Rewards',\n",
       "       'Featured Self Service', 'Featured Highest Reward Range',\n",
       "       'Featured Coordinated Disclosure', 'Featured Atlassian',\n",
       "       'Featured Needs a P1 warrior', 'Has Technology', 'Has Featured',\n",
       "       'Has Industry', 'Reward Range Average', 'Validation Within Hours',\n",
       "       'P1 Average', 'P2 Average', 'P3 Average', 'P4 Average', 'Is Private'],\n",
       "      dtype='object')"
      ]
     },
     "execution_count": 4,
     "metadata": {},
     "output_type": "execute_result"
    }
   ],
   "source": [
    "df.columns"
   ]
  },
  {
   "cell_type": "code",
   "execution_count": 7,
   "metadata": {},
   "outputs": [
    {
     "data": {
      "text/plain": [
       "(318, 34)"
      ]
     },
     "execution_count": 7,
     "metadata": {},
     "output_type": "execute_result"
    }
   ],
   "source": [
    "df_none = df[df[\"Technology Hardware Targets\"] == 0]\n",
    "df_none.shape"
   ]
  },
  {
   "cell_type": "code",
   "execution_count": 9,
   "metadata": {},
   "outputs": [
    {
     "data": {
      "text/plain": [
       "(11, 34)"
      ]
     },
     "execution_count": 9,
     "metadata": {},
     "output_type": "execute_result"
    }
   ],
   "source": [
    "df_hardware = df[df[\"Technology Hardware Targets\"] == 1]\n",
    "df_hardware.shape"
   ]
  },
  {
   "cell_type": "code",
   "execution_count": 23,
   "metadata": {},
   "outputs": [
    {
     "name": "stdout",
     "output_type": "stream",
     "text": [
      "None-Hardware vulnearbilty rewarded average:  105.95\n",
      "None-Hardware Number of people average:  404.07\n",
      "None-Hardware number of pay average:  267.3\n",
      "None-Hardware number of announcement average:  3.49\n",
      "None-Hardware number of Hall of Famers average:  122.94\n"
     ]
    }
   ],
   "source": [
    "none_vuln_rewarded_mean = df_none['Vulnearbilities Rewarded'].mean()\n",
    "print(\"None-Hardware vulnearbilty rewarded average: \",round(none_vuln_rewarded_mean,2))\n",
    "none_people_mean = df_none['Number People'].mean()\n",
    "print(\"None-Hardware Number of people average: \",round(none_people_mean,2))\n",
    "normal_payout_mean = df_none['Average Payout'].mean()\n",
    "print(\"None-Hardware number of pay average: \",round(normal_payout_mean,2))\n",
    "normal_annocument_count = df_none['annocument_count'].mean()\n",
    "print(\"None-Hardware number of announcement average: \",round(normal_annocument_count,2))\n",
    "normal_hall_of_fame = df_none['Hall of Famers'].mean()\n",
    "print(\"None-Hardware number of Hall of Famers average: \",round(normal_hall_of_fame,2))"
   ]
  },
  {
   "cell_type": "code",
   "execution_count": 24,
   "metadata": {},
   "outputs": [
    {
     "name": "stdout",
     "output_type": "stream",
     "text": [
      "hardware vulnearbilty rewarded average:  288.91\n",
      "hardware Number of people average:  878.64\n",
      "hardware number of pay average:  1461.91\n",
      "hardware number of announcement average:  7.55\n",
      "hardware number of Hall of Famers average:  240.64\n"
     ]
    }
   ],
   "source": [
    "hardware_vuln_rewarded_mean = df_hardware['Vulnearbilities Rewarded'].mean()\n",
    "print(\"hardware vulnearbilty rewarded average: \",round(hardware_vuln_rewarded_mean,2))\n",
    "hardware_people_mean = df_hardware['Number People'].mean()\n",
    "print(\"hardware Number of people average: \",round(hardware_people_mean,2))\n",
    "hardware_payout_mean = df_hardware['Average Payout'].mean()\n",
    "print(\"hardware number of pay average: \",round(hardware_payout_mean,2))\n",
    "hardware_annocument_count = df_hardware['annocument_count'].mean()\n",
    "print(\"hardware number of announcement average: \",round(hardware_annocument_count,2))\n",
    "hardware_hall_of_fame = df_hardware['Hall of Famers'].mean()\n",
    "print(\"hardware number of Hall of Famers average: \",round(hardware_hall_of_fame,2))"
   ]
  }
 ],
 "metadata": {
  "kernelspec": {
   "display_name": "Python 3",
   "language": "python",
   "name": "python3"
  },
  "language_info": {
   "codemirror_mode": {
    "name": "ipython",
    "version": 3
   },
   "file_extension": ".py",
   "mimetype": "text/x-python",
   "name": "python",
   "nbconvert_exporter": "python",
   "pygments_lexer": "ipython3",
   "version": "3.9.12"
  },
  "orig_nbformat": 4,
  "vscode": {
   "interpreter": {
    "hash": "d3ddb9a339dcfec66cb1d066e0234a99f8d679773fa71ee722ae52c5be71efea"
   }
  }
 },
 "nbformat": 4,
 "nbformat_minor": 2
}
