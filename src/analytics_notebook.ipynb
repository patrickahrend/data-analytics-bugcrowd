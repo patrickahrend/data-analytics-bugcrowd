{
 "cells": [
  {
   "attachments": {},
   "cell_type": "markdown",
   "metadata": {},
   "source": [
    "# Analytics of the Bugcrowd programs"
   ]
  },
  {
   "cell_type": "code",
   "execution_count": 2,
   "metadata": {},
   "outputs": [],
   "source": [
    "import pandas as pd\n",
    "import matplotlib.pyplot as plt\n",
    "import csv\n",
    "import seaborn as sns"
   ]
  },
  {
   "cell_type": "code",
   "execution_count": 10,
   "metadata": {},
   "outputs": [],
   "source": [
    "df_old = pd.read_csv(\"/Users/patrickahrend/Developer/data-analytics-bugcrowd/data-octa/BugCrowd-Program-V3.csv\")\n",
    "df_new = pd.read_csv(\"/Users/patrickahrend/Developer/data-analytics-bugcrowd/data-octa/Bugcrowd_industry-asc_24.12.csv\")"
   ]
  },
  {
   "cell_type": "code",
   "execution_count": 12,
   "metadata": {},
   "outputs": [
    {
     "data": {
      "text/plain": [
       "Index(['Title', 'Image', 'ccinlineclamp2_URL', 'ccinlineclamp2',\n",
       "       'bcprogramcard__byline', 'bcstat', 'Info', 'bcbtn_URL', 'bcbtn',\n",
       "       'Vulnearbilities_rewarded', 'Validation_within', 'Average_payout',\n",
       "       'Number_people', 'Hall_of_famers', 'P1', 'P2', 'P3', 'P4',\n",
       "       'Programm_rules'],\n",
       "      dtype='object')"
      ]
     },
     "execution_count": 12,
     "metadata": {},
     "output_type": "execute_result"
    }
   ],
   "source": [
    "df_new.columns\n"
   ]
  },
  {
   "cell_type": "code",
   "execution_count": 14,
   "metadata": {},
   "outputs": [
    {
     "data": {
      "text/plain": [
       "Index(['Titel', 'Reward', 'Program_link', 'Short_Description',\n",
       "       'Is_Safe_harbor', 'User', 'Vulnearbilities_rewarded',\n",
       "       'Validation_within', 'Average_payout', 'P1_iOS_Android_API', 'P1_Web',\n",
       "       'P2_iOS_Android_API', 'P2_Web', 'P3_iOS_Android_API', 'P3_Web',\n",
       "       'P4_iOS_Android_API', 'P4_Web', 'Hall_of_famers', 'Num_Hacks',\n",
       "       'Scope_Target_Mobile_API', 'Scope_Target_Web_Targets', 'Cash_Out',\n",
       "       'Technology', 'Focus_areas'],\n",
       "      dtype='object')"
      ]
     },
     "execution_count": 14,
     "metadata": {},
     "output_type": "execute_result"
    }
   ],
   "source": [
    "df_old.columns\n"
   ]
  },
  {
   "attachments": {},
   "cell_type": "markdown",
   "metadata": {},
   "source": [
    "## Vulnerability plotting"
   ]
  },
  {
   "cell_type": "code",
   "execution_count": 1,
   "metadata": {},
   "outputs": [
    {
     "data": {
      "image/png": "[encoded data removed]",
      "text/plain": [
       "<Figure size 432x288 with 1 Axes>"
      ]
     },
     "metadata": {
      "needs_background": "light"
     },
     "output_type": "display_data"
    }
   ],
   "source": [
    "# read the CSV file into a DataFrame\n",
    "df = pd.read_csv(\"./data-octa/BugCrowd-Program-V3.csv\")\n",
    "\n",
    "# print the maximum and minimum values of the Vulnerabilities_rewarded column\n",
    "max_value = df[\"Vulnearbilities_rewarded\"].max()\n",
    "\n",
    "# create a histogram of the Vulnerabilities_rewarded column\n",
    "df[\"Vulnearbilities_rewarded\"].plot.hist(bins=30)\n",
    "plt.xlabel(\"Vulnerabilities Rewarded\")\n",
    "plt.ylabel(\"Frequency\")\n",
    "plt.text(max_value, 1, \"Max: \" + str(max_value))\n",
    "\n",
    "\n",
    "avg = df[\"Vulnearbilities_rewarded\"].mean()\n",
    "plt.axvline(avg, color=\"r\", linestyle=\"dashed\", linewidth=1)\n",
    "plt.text(avg, 100, \"Avg: \" + str(int(avg)), ha=\"center\", color=\"r\")\n",
    "\n",
    "plt.savefig(\"/Users/patrickahrend/Developer/data-analytics-bugcrowd/diagrams/Vulnearbilities_rewarded.png\")\n",
    "\n",
    "\n",
    "\n"
   ]
  },
  {
   "attachments": {},
   "cell_type": "markdown",
   "metadata": {},
   "source": [
    "## Average payout plotting"
   ]
  },
  {
   "cell_type": "code",
   "execution_count": 2,
   "metadata": {},
   "outputs": [
    {
     "name": "stderr",
     "output_type": "stream",
     "text": [
      "/var/folders/p8/j40fdn353n30l2nvsd_70qgc0000gn/T/ipykernel_50701/3818711280.py:8: FutureWarning: The default value of regex will change from True to False in a future version. In addition, single character regular expressions will *not* be treated as literal strings when regex=True.\n",
      "  df[\"Average_payout\"] = df[\"Average_payout\"].str.replace(\"$\", \"\").str.replace(\",\", \"\")\n"
     ]
    },
    {
     "data": {
      "image/png": "[encoded data removed]",
      "text/plain": [
       "<Figure size 432x288 with 1 Axes>"
      ]
     },
     "metadata": {
      "needs_background": "light"
     },
     "output_type": "display_data"
    }
   ],
   "source": [
    "# read the CSV file into a DataFrame\n",
    "df = pd.read_csv(\"/Users/patrickahrend/Developer/data-analytics-bugcrowd/data-octa/BugCrowd-Program-V3.csv\")\n",
    "\n",
    "# remove the $ sign and the comma from the Average_payout column\n",
    "df[\"Average_payout\"] = df[\"Average_payout\"].str.replace(\"$\", \"\").str.replace(\",\", \"\")\n",
    "\n",
    "\n",
    "\n",
    "\n",
    "\n",
    "\n",
    "# convert the Average_payout column to a numeric data type\n",
    "df[\"Average_payout\"] = pd.to_numeric(df[\"Average_payout\"])\n",
    "avg = df[\"Average_payout\"].mean()\n",
    "\n",
    "max_value = df[\"Average_payout\"].max()\n",
    "# create a histogram of the Average_payout column\n",
    "df[\"Average_payout\"].plot.hist(bins=100)\n",
    "\n",
    "# label the x and y axes\n",
    "plt.xlabel(\"Average Payout in $\")\n",
    "plt.ylabel(\"Frequency\")\n",
    "\n",
    "plt.text(max_value, 1, \"Max: \" + str(max_value))\n",
    "\n",
    "plt.axvline(avg, color=\"r\", linestyle=\"dashed\", linewidth=1)\n",
    "plt.text(avg, 10, \"Avg: \" + str(int(avg)), ha=\"center\", color=\"r\")\n",
    "\n",
    "# save the figure as a PNG file\n",
    "plt.savefig(\"/Users/patrickahrend/Developer/data-analytics-bugcrowd/diagrams/Average_payout.png\")\n",
    "\n",
    "\n"
   ]
  },
  {
   "attachments": {},
   "cell_type": "markdown",
   "metadata": {},
   "source": [
    "## Num of white head hackers"
   ]
  },
  {
   "cell_type": "code",
   "execution_count": 3,
   "metadata": {},
   "outputs": [
    {
     "name": "stdout",
     "output_type": "stream",
     "text": [
      "Average number of hacks: 526\n"
     ]
    },
    {
     "data": {
      "image/png": "[encoded data removed]",
      "text/plain": [
       "<Figure size 432x288 with 1 Axes>"
      ]
     },
     "metadata": {
      "needs_background": "light"
     },
     "output_type": "display_data"
    }
   ],
   "source": [
    "# read the CSV file into a DataFrame\n",
    "df = pd.read_csv(\"/Users/patrickahrend/Developer/data-analytics-bugcrowd/data-octa/BugCrowd-Program-V3.csv\")\n",
    "\n",
    "\n",
    "avg = df[\"Num_Hacks\"].mean()\n",
    "\n",
    "# print the average\n",
    "print(\"Average number of hacks:\", int(avg))\n",
    "\n",
    "# convert the Num_Hacks column to a numeric data type\n",
    "df[\"Num_Hacks\"] = pd.to_numeric(df[\"Num_Hacks\"])\n",
    "\n",
    "# create a histogram of the Num_Hacks column\n",
    "df[\"Num_Hacks\"].plot.hist(bins=100)\n",
    "\n",
    "# add a vertical line at the location of the average\n",
    "plt.axvline(avg, color=\"r\", linestyle=\"dashed\", linewidth=1)\n",
    "# label the x and y axes\n",
    "plt.xlabel(\"Number of Hacks\")\n",
    "plt.ylabel(\"Frequency\")\n",
    "max_value = df[\"Num_Hacks\"].max()\n",
    "plt.text(max_value, 2, \"Max: \" + str(max_value),ha=\"center\")\n",
    "\n",
    "plt.text(avg, 30, \"Avg: \" + str(int(avg)), ha=\"center\", color=\"r\")\n",
    "\n",
    "# save the figure as a PNG file\n",
    "plt.savefig(\"/Users/patrickahrend/Developer/data-analytics-bugcrowd/diagrams/Num_hacks.png\")\n",
    "\n",
    "\n"
   ]
  },
  {
   "attachments": {},
   "cell_type": "markdown",
   "metadata": {},
   "source": [
    "## Reward Average\n"
   ]
  },
  {
   "cell_type": "code",
   "execution_count": 35,
   "metadata": {},
   "outputs": [
    {
     "name": "stdout",
     "output_type": "stream",
     "text": [
      "Total count of values in the reward element column 176\n",
      "Average reward in $: 3242\n",
      "[2525.0, 5100.0, 1800.0, 5050.0, 5025.0, 2350.0, 10250.0, 5150.0, 1275.0, 2500.0, 662.5, 662.5, 1575.0, 3135.0, 1325.0, 1825.0, 1325.0, 2312.5, 6100.0, 5050.0, 25050.0, 5075.0, 5125.0, 10100.0, 800.0, 3100.0, 1250.0, 3050.0, 3100.0, 525.0, 5075.0, 1000.0, 1550.0, 3400.0, 3400.0, 3750.0, 2250.0, 2250.0, 1250.0, 1250.0, 2250.0, 1250.0, 1550.0, 2600.0, 1600.0, 1300.0, 12600.0, 3400.0, 3050.0, 4600.0, 3575.0, 15150.0, 2075.0, 3600.0, 1825.0, 3050.0, 3025.0, 2000.0, 2000.0, 850.0, 800.0, 1750.0, 675.0, 2600.0, 1275.0, 12625.0, 2100.0, 1325.0, 1325.0, 1575.0, 1325.0, 1800.0, 2525.0, 1325.0, 800.0, 2575.0, 2350.0, 1325.0, 800.0, 2550.0, 4250.0, 12550.0, 50000.0, 6100.0, 4800.0, 1250.0, 1550.0, 3050.0, 3050.0, 3050.0, 800.0, 1550.0, 2550.0, 1525.0, 2050.0, 2350.0, 1375.0, 1850.0, 2575.0, 4075.0, 1325.0, 1275.0, 5025.0, 2625.0, 625.0, 2500.0, 2550.0, 800.0, 5050.0, 2350.0, 3050.0, 2275.0, 1600.0, 1625.0, 1325.0, 1300.0, 5100.0, 3100.0, 4050.0, 4025.0, 3825.0, 2075.0, 800.0, 7550.0, 1550.0, 7550.0, 2350.0, 2325.0, 2025.0, 3075.0, 800.0, 2350.0, 2050.0, 2575.0, 1300.0, 1125.0, 6100.0, 2350.0, 2500.0, 5100.0, 2350.0, 2350.0, 1800.0, 2350.0, 1800.0, 1325.0, 1062.5, 2100.0, 1000.0, 1050.0, 1800.0, 3350.0, 2650.0, 1325.0, 5150.0, 1312.5, 3400.0, 2650.0, 5050.0, 2075.0, 5050.0, 5050.0, 2600.0, 7500.0, 1825.0, 1175.0, 675.0, 5025.0, 2350.0, 1262.5, 2500.0, 525.0, 1550.0, 500.0, 2500.0, 1300.0]\n",
      "this is the median 2350.0\n"
     ]
    },
    {
     "data": {
      "image/png": "[encoded data removed]",
      "text/plain": [
       "<Figure size 432x288 with 1 Axes>"
      ]
     },
     "metadata": {
      "needs_background": "light"
     },
     "output_type": "display_data"
    }
   ],
   "source": [
    "import csv \n",
    "import pandas as pd\n",
    "# Open the CSV file\n",
    "with open(\"/Users/patrickahrend/Developer/data-analytics-bugcrowd/data-octa/BugCrowd-Program-V3.csv\", 'r') as f:\n",
    "  # Create a CSV reader\n",
    "  reader = csv.reader(f)\n",
    "  # Skip the header row\n",
    "  next(reader)\n",
    "  total_average = 0\n",
    "  averages = []\n",
    "  count = 0\n",
    "  # Iterate over the rows of the CSV\n",
    "  for row in reader:\n",
    "    # Get the reward value from the current row\n",
    "    reward_range = row[1]\n",
    "\n",
    "    if reward_range == \"\":continue\n",
    "    #Split the reward range on the \"-\" character\n",
    "    if \"-\" in reward_range:\n",
    "  # Split the string on the \"-\" character\n",
    "      count += 1\n",
    "      lower, upper = reward_range.split(\"-\")\n",
    "    else:\n",
    "      # Assign the entire string to the lower variable\n",
    "      lower = reward_range\n",
    "      upper = None\n",
    "\n",
    "    \n",
    "    # Remove the \"$\" and \",\" characters from the strings\n",
    "    lower = lower.replace(\"$\", \"\").replace(\",\", \"\")\n",
    "    upper = upper.replace(\"$\", \"\").replace(\",\", \"\") if upper else None\n",
    "\n",
    "    if \"Points\" in lower:\n",
    "      lower = 0\n",
    "\n",
    "    # Convert the strings to integers\n",
    "\n",
    "    try :\n",
    "      lower = int(lower)\n",
    "      upper = int(upper) if upper else None\n",
    "    except ValueError:\n",
    "      print(\"ValueError\", lower, upper)\n",
    "\n",
    "      continue\n",
    "\n",
    "    # Calculate the average of the lower and upper bounds\n",
    "    if upper:\n",
    "      average = (lower + upper) / 2\n",
    "      total_average += average\n",
    "      averages.append(average)\n",
    "    else:\n",
    "      average = lower\n",
    "      total_average += average\n",
    "      averages.append(average)\n",
    "\n",
    "\n",
    "  print(\"Total count of values in the reward element column\",count)  \n",
    "  print(\"Average reward in $:\", int(total_average / count))\n",
    "  print(averages)\n",
    "  df = pd.DataFrame(averages, columns=[\"Average\"])\n",
    "  df.plot.hist(bins=100)\n",
    "  df_average = df[\"Average\"].mean()\n",
    "  df_median= df[\"Average\"].median()\n",
    "  print(\"this is the median\",df_median)\n",
    "  plt.axvline(df_median, color=\"g\", linestyle=\"dashed\", linewidth=1)\n",
    "  plt.axvline(df_average, color=\"r\", linestyle=\"dashed\", linewidth=1)\n",
    "  plt.text(df_median, 25, \"Median: \" + str(int(df_median)), color=\"g\")\n",
    "  plt.text(df_average, 25, \"Avg: \" + str(int(df_average)), color=\"r\")\n",
    "\n",
    "\n",
    "\n",
    "\n",
    "\n",
    "\n",
    "\n"
   ]
  },
  {
   "attachments": {},
   "cell_type": "markdown",
   "metadata": {},
   "source": [
    "## Safe Habour Plotted"
   ]
  },
  {
   "cell_type": "code",
   "execution_count": 5,
   "metadata": {},
   "outputs": [
    {
     "name": "stderr",
     "output_type": "stream",
     "text": [
      "/Users/patrickahrend/opt/anaconda3/lib/python3.9/site-packages/scipy/__init__.py:146: UserWarning: A NumPy version >=1.16.5 and <1.23.0 is required for this version of SciPy (detected version 1.23.4\n",
      "  warnings.warn(f\"A NumPy version >={np_minversion} and <{np_maxversion}\"\n"
     ]
    },
    {
     "name": "stdout",
     "output_type": "stream",
     "text": [
      "Safe Harbor: 111\n",
      "Partial Safe Harbor: 68\n",
      "Not Safe Harbor: 86\n"
     ]
    },
    {
     "data": {
      "image/png": "[encoded data removed]",
      "text/plain": [
       "<Figure size 432x288 with 1 Axes>"
      ]
     },
     "metadata": {
      "needs_background": "light"
     },
     "output_type": "display_data"
    }
   ],
   "source": [
    "# Initialize lists to store the data\n",
    "safe_harbor = []\n",
    "partial_safe_harbor = []\n",
    "not_safe_harbor = []\n",
    "\n",
    "# Open the CSV file\n",
    "with open(\"/Users/patrickahrend/Developer/data-analytics-bugcrowd/data-octa/BugCrowd-Program-V3.csv\", 'r') as f:\n",
    "  # Create a CSV reader\n",
    "  reader = csv.reader(f)\n",
    "  \n",
    "  # Iterate over the rows of the CSV\n",
    "  for row in reader:\n",
    "    # Get the \"Is_Safe_harbor\" value from the current row\n",
    "    value = row[4]\n",
    "    \n",
    "    # Check the value and increment the appropriate list\n",
    "    if value == \"True\":\n",
    "      safe_harbor.append(1)\n",
    "    elif \"Partial safe harbor\" in value:\n",
    "      partial_safe_harbor.append(1)\n",
    "    else:\n",
    "      not_safe_harbor.append(1)\n",
    "\n",
    "# Calculate the lengths of the lists\n",
    "safe_harbor_count = len(safe_harbor)\n",
    "print(\"Safe Harbor:\", safe_harbor_count)\n",
    "partial_safe_harbor_count = len(partial_safe_harbor)\n",
    "print(\"Partial Safe Harbor:\", partial_safe_harbor_count)\n",
    "not_safe_harbor_count = len(not_safe_harbor)\n",
    "print(\"Not Safe Harbor:\", not_safe_harbor_count)\n",
    "\n",
    "# Create the bar chart\n",
    "plt.bar([\"Safe Harbor\", \"Partial Safe Harbor\", \"Not Safe Harbor\"], [safe_harbor_count, partial_safe_harbor_count, not_safe_harbor_count], color=[\"green\", \"orange\", \"red\"])\n",
    "\n",
    "# Show the chart\n",
    "plt.show()\n"
   ]
  },
  {
   "attachments": {},
   "cell_type": "markdown",
   "metadata": {},
   "source": [
    "## Num hall of fame "
   ]
  },
  {
   "cell_type": "code",
   "execution_count": 56,
   "metadata": {},
   "outputs": [
    {
     "data": {
      "text/plain": [
       "Text(182, 15, 'Max: 182')"
      ]
     },
     "execution_count": 56,
     "metadata": {},
     "output_type": "execute_result"
    },
    {
     "data": {
      "image/png": "[encoded data removed]",
      "text/plain": [
       "<Figure size 432x288 with 1 Axes>"
      ]
     },
     "metadata": {
      "needs_background": "light"
     },
     "output_type": "display_data"
    }
   ],
   "source": [
    "df = pd.read_excel(\"/Users/patrickahrend/Developer/data-analytics-bugcrowd/data-octa/Bugcrowd_industry-asc_24.12.xlsx\")\n",
    "\n",
    "df = df_new[\"Hall_of_famers\"]\n",
    "df.dropna(inplace=True)\n",
    "\n",
    "df = df.str.replace(\"View the hall\", \"\").str.replace(\"View all \", \"\")\n",
    "\n",
    "df = pd.to_numeric(df)\n",
    "# create a histogram of the Num_Hacks column\n",
    "df.plot.hist(bins=100)\n",
    "\n",
    "average = df.mean()\n",
    "average = int(average)\n",
    "median = int(df.median())\n",
    "# add a vertical line at the location of the average\n",
    "plt.axvline(average, color=\"r\", linestyle=\"dashed\", linewidth=1)\n",
    "plt.axvline(median, color=\"g\", linestyle=\"dashed\", linewidth=1)\n",
    "plt.text(median, 20, \"Median: \" + str(median),ha=\"left\",color=\"g\")\n",
    "# label the x and y axes\n",
    "plt.xlabel(\"Number of Hacks\")\n",
    "plt.ylabel(\"Frequency\")\n",
    "plt.text(average, 15, \"Max: \" + str(average),ha=\"center\",color=\"r\")\n",
    "\n",
    "\n",
    "\n",
    "\n"
   ]
  },
  {
   "cell_type": "code",
   "execution_count": 16,
   "metadata": {},
   "outputs": [
    {
     "ename": "ValueError",
     "evalue": "Unable to parse string \"View all 678\" at position 0",
     "output_type": "error",
     "traceback": [
      "\u001b[0;31m---------------------------------------------------------------------------\u001b[0m",
      "\u001b[0;31mValueError\u001b[0m                                Traceback (most recent call last)",
      "File \u001b[0;32m~/opt/anaconda3/lib/python3.9/site-packages/pandas/_libs/lib.pyx:2363\u001b[0m, in \u001b[0;36mpandas._libs.lib.maybe_convert_numeric\u001b[0;34m()\u001b[0m\n",
      "\u001b[0;31mValueError\u001b[0m: Unable to parse string \"View all 678\"",
      "\nDuring handling of the above exception, another exception occurred:\n",
      "\u001b[0;31mValueError\u001b[0m                                Traceback (most recent call last)",
      "\u001b[1;32m/Users/patrickahrend/Developer/data-analytics-bugcrowd/src/analytics_notebook.ipynb Cell 18\u001b[0m in \u001b[0;36m<cell line: 9>\u001b[0;34m()\u001b[0m\n\u001b[1;32m      <a href='vscode-notebook-cell:/Users/patrickahrend/Developer/data-analytics-bugcrowd/src/analytics_notebook.ipynb#X35sZmlsZQ%3D%3D?line=4'>5</a>\u001b[0m   \u001b[39mif\u001b[39;00m ele \u001b[39m==\u001b[39m \u001b[39m\"\u001b[39m\u001b[39mView the hall\u001b[39m\u001b[39m\"\u001b[39m:\n\u001b[1;32m      <a href='vscode-notebook-cell:/Users/patrickahrend/Developer/data-analytics-bugcrowd/src/analytics_notebook.ipynb#X35sZmlsZQ%3D%3D?line=5'>6</a>\u001b[0m     df\u001b[39m.\u001b[39mreplace(ele, \u001b[39m0\u001b[39m, inplace\u001b[39m=\u001b[39m\u001b[39mTrue\u001b[39;00m)\n\u001b[0;32m----> <a href='vscode-notebook-cell:/Users/patrickahrend/Developer/data-analytics-bugcrowd/src/analytics_notebook.ipynb#X35sZmlsZQ%3D%3D?line=8'>9</a>\u001b[0m df \u001b[39m=\u001b[39m pd\u001b[39m.\u001b[39;49mto_numeric(df)\n\u001b[1;32m     <a href='vscode-notebook-cell:/Users/patrickahrend/Developer/data-analytics-bugcrowd/src/analytics_notebook.ipynb#X35sZmlsZQ%3D%3D?line=9'>10</a>\u001b[0m \u001b[39m# create a histogram of the Num_Hacks column\u001b[39;00m\n\u001b[1;32m     <a href='vscode-notebook-cell:/Users/patrickahrend/Developer/data-analytics-bugcrowd/src/analytics_notebook.ipynb#X35sZmlsZQ%3D%3D?line=10'>11</a>\u001b[0m df\u001b[39m.\u001b[39mplot\u001b[39m.\u001b[39mhist(bins\u001b[39m=\u001b[39m\u001b[39m100\u001b[39m)\n",
      "File \u001b[0;32m~/opt/anaconda3/lib/python3.9/site-packages/pandas/core/tools/numeric.py:185\u001b[0m, in \u001b[0;36mto_numeric\u001b[0;34m(arg, errors, downcast)\u001b[0m\n\u001b[1;32m    183\u001b[0m coerce_numeric \u001b[39m=\u001b[39m errors \u001b[39mnot\u001b[39;00m \u001b[39min\u001b[39;00m (\u001b[39m\"\u001b[39m\u001b[39mignore\u001b[39m\u001b[39m\"\u001b[39m, \u001b[39m\"\u001b[39m\u001b[39mraise\u001b[39m\u001b[39m\"\u001b[39m)\n\u001b[1;32m    184\u001b[0m \u001b[39mtry\u001b[39;00m:\n\u001b[0;32m--> 185\u001b[0m     values, _ \u001b[39m=\u001b[39m lib\u001b[39m.\u001b[39;49mmaybe_convert_numeric(\n\u001b[1;32m    186\u001b[0m         values, \u001b[39mset\u001b[39;49m(), coerce_numeric\u001b[39m=\u001b[39;49mcoerce_numeric\n\u001b[1;32m    187\u001b[0m     )\n\u001b[1;32m    188\u001b[0m \u001b[39mexcept\u001b[39;00m (\u001b[39mValueError\u001b[39;00m, \u001b[39mTypeError\u001b[39;00m):\n\u001b[1;32m    189\u001b[0m     \u001b[39mif\u001b[39;00m errors \u001b[39m==\u001b[39m \u001b[39m\"\u001b[39m\u001b[39mraise\u001b[39m\u001b[39m\"\u001b[39m:\n",
      "File \u001b[0;32m~/opt/anaconda3/lib/python3.9/site-packages/pandas/_libs/lib.pyx:2405\u001b[0m, in \u001b[0;36mpandas._libs.lib.maybe_convert_numeric\u001b[0;34m()\u001b[0m\n",
      "\u001b[0;31mValueError\u001b[0m: Unable to parse string \"View all 678\" at position 0"
     ]
    }
   ],
   "source": [
    "df = df_new[\"Hall_of_famers\"]\n",
    "df.dropna(inplace=True)\n",
    "\n",
    "for ele in df:\n",
    "  if ele == \"View the hall\":\n",
    "    df.replace(ele, 0, inplace=True)\n",
    "    \n",
    "\n",
    "df = pd.to_numeric(df)\n",
    "# create a histogram of the Num_Hacks column\n",
    "df.plot.hist(bins=100)\n",
    "\n",
    "average = df.mean()\n",
    "average = int(average)\n",
    "# add a vertical line at the location of the average\n",
    "plt.axvline(average, color=\"r\", linestyle=\"dashed\", linewidth=1)\n",
    "# label the x and y axes\n",
    "plt.xlabel(\"Number of Hacks\")\n",
    "plt.ylabel(\"Frequency\")\n",
    "plt.text(average, 15, \"Max: \" + str(average),ha=\"center\",color=\"r\")\n",
    "\n",
    "\n"
   ]
  },
  {
   "attachments": {},
   "cell_type": "markdown",
   "metadata": {},
   "source": [
    "## Validation within "
   ]
  },
  {
   "cell_type": "code",
   "execution_count": 7,
   "metadata": {},
   "outputs": [
    {
     "name": "stderr",
     "output_type": "stream",
     "text": [
      "/var/folders/p8/j40fdn353n30l2nvsd_70qgc0000gn/T/ipykernel_50701/348671543.py:51: FutureWarning: The frame.append method is deprecated and will be removed from pandas in a future version. Use pandas.concat instead.\n",
      "  df_final = df_final.append({'Validation_within': ele}, ignore_index=True)\n",
      "/var/folders/p8/j40fdn353n30l2nvsd_70qgc0000gn/T/ipykernel_50701/348671543.py:51: FutureWarning: The frame.append method is deprecated and will be removed from pandas in a future version. Use pandas.concat instead.\n",
      "  df_final = df_final.append({'Validation_within': ele}, ignore_index=True)\n",
      "/var/folders/p8/j40fdn353n30l2nvsd_70qgc0000gn/T/ipykernel_50701/348671543.py:51: FutureWarning: The frame.append method is deprecated and will be removed from pandas in a future version. Use pandas.concat instead.\n",
      "  df_final = df_final.append({'Validation_within': ele}, ignore_index=True)\n",
      "/var/folders/p8/j40fdn353n30l2nvsd_70qgc0000gn/T/ipykernel_50701/348671543.py:51: FutureWarning: The frame.append method is deprecated and will be removed from pandas in a future version. Use pandas.concat instead.\n",
      "  df_final = df_final.append({'Validation_within': ele}, ignore_index=True)\n",
      "/var/folders/p8/j40fdn353n30l2nvsd_70qgc0000gn/T/ipykernel_50701/348671543.py:51: FutureWarning: The frame.append method is deprecated and will be removed from pandas in a future version. Use pandas.concat instead.\n",
      "  df_final = df_final.append({'Validation_within': ele}, ignore_index=True)\n",
      "/var/folders/p8/j40fdn353n30l2nvsd_70qgc0000gn/T/ipykernel_50701/348671543.py:51: FutureWarning: The frame.append method is deprecated and will be removed from pandas in a future version. Use pandas.concat instead.\n",
      "  df_final = df_final.append({'Validation_within': ele}, ignore_index=True)\n",
      "/var/folders/p8/j40fdn353n30l2nvsd_70qgc0000gn/T/ipykernel_50701/348671543.py:51: FutureWarning: The frame.append method is deprecated and will be removed from pandas in a future version. Use pandas.concat instead.\n",
      "  df_final = df_final.append({'Validation_within': ele}, ignore_index=True)\n",
      "/var/folders/p8/j40fdn353n30l2nvsd_70qgc0000gn/T/ipykernel_50701/348671543.py:51: FutureWarning: The frame.append method is deprecated and will be removed from pandas in a future version. Use pandas.concat instead.\n",
      "  df_final = df_final.append({'Validation_within': ele}, ignore_index=True)\n",
      "/var/folders/p8/j40fdn353n30l2nvsd_70qgc0000gn/T/ipykernel_50701/348671543.py:51: FutureWarning: The frame.append method is deprecated and will be removed from pandas in a future version. Use pandas.concat instead.\n",
      "  df_final = df_final.append({'Validation_within': ele}, ignore_index=True)\n",
      "/var/folders/p8/j40fdn353n30l2nvsd_70qgc0000gn/T/ipykernel_50701/348671543.py:51: FutureWarning: The frame.append method is deprecated and will be removed from pandas in a future version. Use pandas.concat instead.\n",
      "  df_final = df_final.append({'Validation_within': ele}, ignore_index=True)\n",
      "/var/folders/p8/j40fdn353n30l2nvsd_70qgc0000gn/T/ipykernel_50701/348671543.py:51: FutureWarning: The frame.append method is deprecated and will be removed from pandas in a future version. Use pandas.concat instead.\n",
      "  df_final = df_final.append({'Validation_within': ele}, ignore_index=True)\n",
      "/var/folders/p8/j40fdn353n30l2nvsd_70qgc0000gn/T/ipykernel_50701/348671543.py:51: FutureWarning: The frame.append method is deprecated and will be removed from pandas in a future version. Use pandas.concat instead.\n",
      "  df_final = df_final.append({'Validation_within': ele}, ignore_index=True)\n",
      "/var/folders/p8/j40fdn353n30l2nvsd_70qgc0000gn/T/ipykernel_50701/348671543.py:51: FutureWarning: The frame.append method is deprecated and will be removed from pandas in a future version. Use pandas.concat instead.\n",
      "  df_final = df_final.append({'Validation_within': ele}, ignore_index=True)\n",
      "/var/folders/p8/j40fdn353n30l2nvsd_70qgc0000gn/T/ipykernel_50701/348671543.py:51: FutureWarning: The frame.append method is deprecated and will be removed from pandas in a future version. Use pandas.concat instead.\n",
      "  df_final = df_final.append({'Validation_within': ele}, ignore_index=True)\n",
      "/var/folders/p8/j40fdn353n30l2nvsd_70qgc0000gn/T/ipykernel_50701/348671543.py:51: FutureWarning: The frame.append method is deprecated and will be removed from pandas in a future version. Use pandas.concat instead.\n",
      "  df_final = df_final.append({'Validation_within': ele}, ignore_index=True)\n",
      "/var/folders/p8/j40fdn353n30l2nvsd_70qgc0000gn/T/ipykernel_50701/348671543.py:51: FutureWarning: The frame.append method is deprecated and will be removed from pandas in a future version. Use pandas.concat instead.\n",
      "  df_final = df_final.append({'Validation_within': ele}, ignore_index=True)\n",
      "/var/folders/p8/j40fdn353n30l2nvsd_70qgc0000gn/T/ipykernel_50701/348671543.py:51: FutureWarning: The frame.append method is deprecated and will be removed from pandas in a future version. Use pandas.concat instead.\n",
      "  df_final = df_final.append({'Validation_within': ele}, ignore_index=True)\n",
      "/var/folders/p8/j40fdn353n30l2nvsd_70qgc0000gn/T/ipykernel_50701/348671543.py:51: FutureWarning: The frame.append method is deprecated and will be removed from pandas in a future version. Use pandas.concat instead.\n",
      "  df_final = df_final.append({'Validation_within': ele}, ignore_index=True)\n",
      "/var/folders/p8/j40fdn353n30l2nvsd_70qgc0000gn/T/ipykernel_50701/348671543.py:51: FutureWarning: The frame.append method is deprecated and will be removed from pandas in a future version. Use pandas.concat instead.\n",
      "  df_final = df_final.append({'Validation_within': ele}, ignore_index=True)\n",
      "/var/folders/p8/j40fdn353n30l2nvsd_70qgc0000gn/T/ipykernel_50701/348671543.py:51: FutureWarning: The frame.append method is deprecated and will be removed from pandas in a future version. Use pandas.concat instead.\n",
      "  df_final = df_final.append({'Validation_within': ele}, ignore_index=True)\n",
      "/var/folders/p8/j40fdn353n30l2nvsd_70qgc0000gn/T/ipykernel_50701/348671543.py:51: FutureWarning: The frame.append method is deprecated and will be removed from pandas in a future version. Use pandas.concat instead.\n",
      "  df_final = df_final.append({'Validation_within': ele}, ignore_index=True)\n",
      "/var/folders/p8/j40fdn353n30l2nvsd_70qgc0000gn/T/ipykernel_50701/348671543.py:51: FutureWarning: The frame.append method is deprecated and will be removed from pandas in a future version. Use pandas.concat instead.\n",
      "  df_final = df_final.append({'Validation_within': ele}, ignore_index=True)\n",
      "/var/folders/p8/j40fdn353n30l2nvsd_70qgc0000gn/T/ipykernel_50701/348671543.py:51: FutureWarning: The frame.append method is deprecated and will be removed from pandas in a future version. Use pandas.concat instead.\n",
      "  df_final = df_final.append({'Validation_within': ele}, ignore_index=True)\n",
      "/var/folders/p8/j40fdn353n30l2nvsd_70qgc0000gn/T/ipykernel_50701/348671543.py:51: FutureWarning: The frame.append method is deprecated and will be removed from pandas in a future version. Use pandas.concat instead.\n",
      "  df_final = df_final.append({'Validation_within': ele}, ignore_index=True)\n",
      "/var/folders/p8/j40fdn353n30l2nvsd_70qgc0000gn/T/ipykernel_50701/348671543.py:51: FutureWarning: The frame.append method is deprecated and will be removed from pandas in a future version. Use pandas.concat instead.\n",
      "  df_final = df_final.append({'Validation_within': ele}, ignore_index=True)\n",
      "/var/folders/p8/j40fdn353n30l2nvsd_70qgc0000gn/T/ipykernel_50701/348671543.py:51: FutureWarning: The frame.append method is deprecated and will be removed from pandas in a future version. Use pandas.concat instead.\n",
      "  df_final = df_final.append({'Validation_within': ele}, ignore_index=True)\n",
      "/var/folders/p8/j40fdn353n30l2nvsd_70qgc0000gn/T/ipykernel_50701/348671543.py:51: FutureWarning: The frame.append method is deprecated and will be removed from pandas in a future version. Use pandas.concat instead.\n",
      "  df_final = df_final.append({'Validation_within': ele}, ignore_index=True)\n",
      "/var/folders/p8/j40fdn353n30l2nvsd_70qgc0000gn/T/ipykernel_50701/348671543.py:51: FutureWarning: The frame.append method is deprecated and will be removed from pandas in a future version. Use pandas.concat instead.\n",
      "  df_final = df_final.append({'Validation_within': ele}, ignore_index=True)\n",
      "/var/folders/p8/j40fdn353n30l2nvsd_70qgc0000gn/T/ipykernel_50701/348671543.py:51: FutureWarning: The frame.append method is deprecated and will be removed from pandas in a future version. Use pandas.concat instead.\n",
      "  df_final = df_final.append({'Validation_within': ele}, ignore_index=True)\n",
      "/var/folders/p8/j40fdn353n30l2nvsd_70qgc0000gn/T/ipykernel_50701/348671543.py:51: FutureWarning: The frame.append method is deprecated and will be removed from pandas in a future version. Use pandas.concat instead.\n",
      "  df_final = df_final.append({'Validation_within': ele}, ignore_index=True)\n",
      "/var/folders/p8/j40fdn353n30l2nvsd_70qgc0000gn/T/ipykernel_50701/348671543.py:51: FutureWarning: The frame.append method is deprecated and will be removed from pandas in a future version. Use pandas.concat instead.\n",
      "  df_final = df_final.append({'Validation_within': ele}, ignore_index=True)\n",
      "/var/folders/p8/j40fdn353n30l2nvsd_70qgc0000gn/T/ipykernel_50701/348671543.py:51: FutureWarning: The frame.append method is deprecated and will be removed from pandas in a future version. Use pandas.concat instead.\n",
      "  df_final = df_final.append({'Validation_within': ele}, ignore_index=True)\n",
      "/var/folders/p8/j40fdn353n30l2nvsd_70qgc0000gn/T/ipykernel_50701/348671543.py:51: FutureWarning: The frame.append method is deprecated and will be removed from pandas in a future version. Use pandas.concat instead.\n",
      "  df_final = df_final.append({'Validation_within': ele}, ignore_index=True)\n",
      "/var/folders/p8/j40fdn353n30l2nvsd_70qgc0000gn/T/ipykernel_50701/348671543.py:51: FutureWarning: The frame.append method is deprecated and will be removed from pandas in a future version. Use pandas.concat instead.\n",
      "  df_final = df_final.append({'Validation_within': ele}, ignore_index=True)\n",
      "/var/folders/p8/j40fdn353n30l2nvsd_70qgc0000gn/T/ipykernel_50701/348671543.py:51: FutureWarning: The frame.append method is deprecated and will be removed from pandas in a future version. Use pandas.concat instead.\n",
      "  df_final = df_final.append({'Validation_within': ele}, ignore_index=True)\n",
      "/var/folders/p8/j40fdn353n30l2nvsd_70qgc0000gn/T/ipykernel_50701/348671543.py:51: FutureWarning: The frame.append method is deprecated and will be removed from pandas in a future version. Use pandas.concat instead.\n",
      "  df_final = df_final.append({'Validation_within': ele}, ignore_index=True)\n",
      "/var/folders/p8/j40fdn353n30l2nvsd_70qgc0000gn/T/ipykernel_50701/348671543.py:51: FutureWarning: The frame.append method is deprecated and will be removed from pandas in a future version. Use pandas.concat instead.\n",
      "  df_final = df_final.append({'Validation_within': ele}, ignore_index=True)\n",
      "/var/folders/p8/j40fdn353n30l2nvsd_70qgc0000gn/T/ipykernel_50701/348671543.py:51: FutureWarning: The frame.append method is deprecated and will be removed from pandas in a future version. Use pandas.concat instead.\n",
      "  df_final = df_final.append({'Validation_within': ele}, ignore_index=True)\n",
      "/var/folders/p8/j40fdn353n30l2nvsd_70qgc0000gn/T/ipykernel_50701/348671543.py:51: FutureWarning: The frame.append method is deprecated and will be removed from pandas in a future version. Use pandas.concat instead.\n",
      "  df_final = df_final.append({'Validation_within': ele}, ignore_index=True)\n",
      "/var/folders/p8/j40fdn353n30l2nvsd_70qgc0000gn/T/ipykernel_50701/348671543.py:51: FutureWarning: The frame.append method is deprecated and will be removed from pandas in a future version. Use pandas.concat instead.\n",
      "  df_final = df_final.append({'Validation_within': ele}, ignore_index=True)\n",
      "/var/folders/p8/j40fdn353n30l2nvsd_70qgc0000gn/T/ipykernel_50701/348671543.py:51: FutureWarning: The frame.append method is deprecated and will be removed from pandas in a future version. Use pandas.concat instead.\n",
      "  df_final = df_final.append({'Validation_within': ele}, ignore_index=True)\n",
      "/var/folders/p8/j40fdn353n30l2nvsd_70qgc0000gn/T/ipykernel_50701/348671543.py:51: FutureWarning: The frame.append method is deprecated and will be removed from pandas in a future version. Use pandas.concat instead.\n",
      "  df_final = df_final.append({'Validation_within': ele}, ignore_index=True)\n",
      "/var/folders/p8/j40fdn353n30l2nvsd_70qgc0000gn/T/ipykernel_50701/348671543.py:51: FutureWarning: The frame.append method is deprecated and will be removed from pandas in a future version. Use pandas.concat instead.\n",
      "  df_final = df_final.append({'Validation_within': ele}, ignore_index=True)\n",
      "/var/folders/p8/j40fdn353n30l2nvsd_70qgc0000gn/T/ipykernel_50701/348671543.py:51: FutureWarning: The frame.append method is deprecated and will be removed from pandas in a future version. Use pandas.concat instead.\n",
      "  df_final = df_final.append({'Validation_within': ele}, ignore_index=True)\n",
      "/var/folders/p8/j40fdn353n30l2nvsd_70qgc0000gn/T/ipykernel_50701/348671543.py:51: FutureWarning: The frame.append method is deprecated and will be removed from pandas in a future version. Use pandas.concat instead.\n",
      "  df_final = df_final.append({'Validation_within': ele}, ignore_index=True)\n",
      "/var/folders/p8/j40fdn353n30l2nvsd_70qgc0000gn/T/ipykernel_50701/348671543.py:51: FutureWarning: The frame.append method is deprecated and will be removed from pandas in a future version. Use pandas.concat instead.\n",
      "  df_final = df_final.append({'Validation_within': ele}, ignore_index=True)\n",
      "/var/folders/p8/j40fdn353n30l2nvsd_70qgc0000gn/T/ipykernel_50701/348671543.py:51: FutureWarning: The frame.append method is deprecated and will be removed from pandas in a future version. Use pandas.concat instead.\n",
      "  df_final = df_final.append({'Validation_within': ele}, ignore_index=True)\n",
      "/var/folders/p8/j40fdn353n30l2nvsd_70qgc0000gn/T/ipykernel_50701/348671543.py:51: FutureWarning: The frame.append method is deprecated and will be removed from pandas in a future version. Use pandas.concat instead.\n",
      "  df_final = df_final.append({'Validation_within': ele}, ignore_index=True)\n",
      "/var/folders/p8/j40fdn353n30l2nvsd_70qgc0000gn/T/ipykernel_50701/348671543.py:51: FutureWarning: The frame.append method is deprecated and will be removed from pandas in a future version. Use pandas.concat instead.\n",
      "  df_final = df_final.append({'Validation_within': ele}, ignore_index=True)\n",
      "/var/folders/p8/j40fdn353n30l2nvsd_70qgc0000gn/T/ipykernel_50701/348671543.py:51: FutureWarning: The frame.append method is deprecated and will be removed from pandas in a future version. Use pandas.concat instead.\n",
      "  df_final = df_final.append({'Validation_within': ele}, ignore_index=True)\n",
      "/var/folders/p8/j40fdn353n30l2nvsd_70qgc0000gn/T/ipykernel_50701/348671543.py:51: FutureWarning: The frame.append method is deprecated and will be removed from pandas in a future version. Use pandas.concat instead.\n",
      "  df_final = df_final.append({'Validation_within': ele}, ignore_index=True)\n",
      "/var/folders/p8/j40fdn353n30l2nvsd_70qgc0000gn/T/ipykernel_50701/348671543.py:51: FutureWarning: The frame.append method is deprecated and will be removed from pandas in a future version. Use pandas.concat instead.\n",
      "  df_final = df_final.append({'Validation_within': ele}, ignore_index=True)\n",
      "/var/folders/p8/j40fdn353n30l2nvsd_70qgc0000gn/T/ipykernel_50701/348671543.py:51: FutureWarning: The frame.append method is deprecated and will be removed from pandas in a future version. Use pandas.concat instead.\n",
      "  df_final = df_final.append({'Validation_within': ele}, ignore_index=True)\n",
      "/var/folders/p8/j40fdn353n30l2nvsd_70qgc0000gn/T/ipykernel_50701/348671543.py:51: FutureWarning: The frame.append method is deprecated and will be removed from pandas in a future version. Use pandas.concat instead.\n",
      "  df_final = df_final.append({'Validation_within': ele}, ignore_index=True)\n",
      "/var/folders/p8/j40fdn353n30l2nvsd_70qgc0000gn/T/ipykernel_50701/348671543.py:51: FutureWarning: The frame.append method is deprecated and will be removed from pandas in a future version. Use pandas.concat instead.\n",
      "  df_final = df_final.append({'Validation_within': ele}, ignore_index=True)\n",
      "/var/folders/p8/j40fdn353n30l2nvsd_70qgc0000gn/T/ipykernel_50701/348671543.py:51: FutureWarning: The frame.append method is deprecated and will be removed from pandas in a future version. Use pandas.concat instead.\n",
      "  df_final = df_final.append({'Validation_within': ele}, ignore_index=True)\n",
      "/var/folders/p8/j40fdn353n30l2nvsd_70qgc0000gn/T/ipykernel_50701/348671543.py:51: FutureWarning: The frame.append method is deprecated and will be removed from pandas in a future version. Use pandas.concat instead.\n",
      "  df_final = df_final.append({'Validation_within': ele}, ignore_index=True)\n",
      "/var/folders/p8/j40fdn353n30l2nvsd_70qgc0000gn/T/ipykernel_50701/348671543.py:51: FutureWarning: The frame.append method is deprecated and will be removed from pandas in a future version. Use pandas.concat instead.\n",
      "  df_final = df_final.append({'Validation_within': ele}, ignore_index=True)\n",
      "/var/folders/p8/j40fdn353n30l2nvsd_70qgc0000gn/T/ipykernel_50701/348671543.py:51: FutureWarning: The frame.append method is deprecated and will be removed from pandas in a future version. Use pandas.concat instead.\n",
      "  df_final = df_final.append({'Validation_within': ele}, ignore_index=True)\n",
      "/var/folders/p8/j40fdn353n30l2nvsd_70qgc0000gn/T/ipykernel_50701/348671543.py:51: FutureWarning: The frame.append method is deprecated and will be removed from pandas in a future version. Use pandas.concat instead.\n",
      "  df_final = df_final.append({'Validation_within': ele}, ignore_index=True)\n",
      "/var/folders/p8/j40fdn353n30l2nvsd_70qgc0000gn/T/ipykernel_50701/348671543.py:51: FutureWarning: The frame.append method is deprecated and will be removed from pandas in a future version. Use pandas.concat instead.\n",
      "  df_final = df_final.append({'Validation_within': ele}, ignore_index=True)\n",
      "/var/folders/p8/j40fdn353n30l2nvsd_70qgc0000gn/T/ipykernel_50701/348671543.py:51: FutureWarning: The frame.append method is deprecated and will be removed from pandas in a future version. Use pandas.concat instead.\n",
      "  df_final = df_final.append({'Validation_within': ele}, ignore_index=True)\n",
      "/var/folders/p8/j40fdn353n30l2nvsd_70qgc0000gn/T/ipykernel_50701/348671543.py:51: FutureWarning: The frame.append method is deprecated and will be removed from pandas in a future version. Use pandas.concat instead.\n",
      "  df_final = df_final.append({'Validation_within': ele}, ignore_index=True)\n",
      "/var/folders/p8/j40fdn353n30l2nvsd_70qgc0000gn/T/ipykernel_50701/348671543.py:51: FutureWarning: The frame.append method is deprecated and will be removed from pandas in a future version. Use pandas.concat instead.\n",
      "  df_final = df_final.append({'Validation_within': ele}, ignore_index=True)\n",
      "/var/folders/p8/j40fdn353n30l2nvsd_70qgc0000gn/T/ipykernel_50701/348671543.py:51: FutureWarning: The frame.append method is deprecated and will be removed from pandas in a future version. Use pandas.concat instead.\n",
      "  df_final = df_final.append({'Validation_within': ele}, ignore_index=True)\n",
      "/var/folders/p8/j40fdn353n30l2nvsd_70qgc0000gn/T/ipykernel_50701/348671543.py:51: FutureWarning: The frame.append method is deprecated and will be removed from pandas in a future version. Use pandas.concat instead.\n",
      "  df_final = df_final.append({'Validation_within': ele}, ignore_index=True)\n",
      "/var/folders/p8/j40fdn353n30l2nvsd_70qgc0000gn/T/ipykernel_50701/348671543.py:51: FutureWarning: The frame.append method is deprecated and will be removed from pandas in a future version. Use pandas.concat instead.\n",
      "  df_final = df_final.append({'Validation_within': ele}, ignore_index=True)\n",
      "/var/folders/p8/j40fdn353n30l2nvsd_70qgc0000gn/T/ipykernel_50701/348671543.py:51: FutureWarning: The frame.append method is deprecated and will be removed from pandas in a future version. Use pandas.concat instead.\n",
      "  df_final = df_final.append({'Validation_within': ele}, ignore_index=True)\n",
      "/var/folders/p8/j40fdn353n30l2nvsd_70qgc0000gn/T/ipykernel_50701/348671543.py:51: FutureWarning: The frame.append method is deprecated and will be removed from pandas in a future version. Use pandas.concat instead.\n",
      "  df_final = df_final.append({'Validation_within': ele}, ignore_index=True)\n",
      "/var/folders/p8/j40fdn353n30l2nvsd_70qgc0000gn/T/ipykernel_50701/348671543.py:51: FutureWarning: The frame.append method is deprecated and will be removed from pandas in a future version. Use pandas.concat instead.\n",
      "  df_final = df_final.append({'Validation_within': ele}, ignore_index=True)\n",
      "/var/folders/p8/j40fdn353n30l2nvsd_70qgc0000gn/T/ipykernel_50701/348671543.py:51: FutureWarning: The frame.append method is deprecated and will be removed from pandas in a future version. Use pandas.concat instead.\n",
      "  df_final = df_final.append({'Validation_within': ele}, ignore_index=True)\n",
      "/var/folders/p8/j40fdn353n30l2nvsd_70qgc0000gn/T/ipykernel_50701/348671543.py:51: FutureWarning: The frame.append method is deprecated and will be removed from pandas in a future version. Use pandas.concat instead.\n",
      "  df_final = df_final.append({'Validation_within': ele}, ignore_index=True)\n",
      "/var/folders/p8/j40fdn353n30l2nvsd_70qgc0000gn/T/ipykernel_50701/348671543.py:51: FutureWarning: The frame.append method is deprecated and will be removed from pandas in a future version. Use pandas.concat instead.\n",
      "  df_final = df_final.append({'Validation_within': ele}, ignore_index=True)\n",
      "/var/folders/p8/j40fdn353n30l2nvsd_70qgc0000gn/T/ipykernel_50701/348671543.py:51: FutureWarning: The frame.append method is deprecated and will be removed from pandas in a future version. Use pandas.concat instead.\n",
      "  df_final = df_final.append({'Validation_within': ele}, ignore_index=True)\n",
      "/var/folders/p8/j40fdn353n30l2nvsd_70qgc0000gn/T/ipykernel_50701/348671543.py:51: FutureWarning: The frame.append method is deprecated and will be removed from pandas in a future version. Use pandas.concat instead.\n",
      "  df_final = df_final.append({'Validation_within': ele}, ignore_index=True)\n",
      "/var/folders/p8/j40fdn353n30l2nvsd_70qgc0000gn/T/ipykernel_50701/348671543.py:51: FutureWarning: The frame.append method is deprecated and will be removed from pandas in a future version. Use pandas.concat instead.\n",
      "  df_final = df_final.append({'Validation_within': ele}, ignore_index=True)\n",
      "/var/folders/p8/j40fdn353n30l2nvsd_70qgc0000gn/T/ipykernel_50701/348671543.py:51: FutureWarning: The frame.append method is deprecated and will be removed from pandas in a future version. Use pandas.concat instead.\n",
      "  df_final = df_final.append({'Validation_within': ele}, ignore_index=True)\n",
      "/var/folders/p8/j40fdn353n30l2nvsd_70qgc0000gn/T/ipykernel_50701/348671543.py:51: FutureWarning: The frame.append method is deprecated and will be removed from pandas in a future version. Use pandas.concat instead.\n",
      "  df_final = df_final.append({'Validation_within': ele}, ignore_index=True)\n",
      "/var/folders/p8/j40fdn353n30l2nvsd_70qgc0000gn/T/ipykernel_50701/348671543.py:51: FutureWarning: The frame.append method is deprecated and will be removed from pandas in a future version. Use pandas.concat instead.\n",
      "  df_final = df_final.append({'Validation_within': ele}, ignore_index=True)\n",
      "/var/folders/p8/j40fdn353n30l2nvsd_70qgc0000gn/T/ipykernel_50701/348671543.py:51: FutureWarning: The frame.append method is deprecated and will be removed from pandas in a future version. Use pandas.concat instead.\n",
      "  df_final = df_final.append({'Validation_within': ele}, ignore_index=True)\n",
      "/var/folders/p8/j40fdn353n30l2nvsd_70qgc0000gn/T/ipykernel_50701/348671543.py:51: FutureWarning: The frame.append method is deprecated and will be removed from pandas in a future version. Use pandas.concat instead.\n",
      "  df_final = df_final.append({'Validation_within': ele}, ignore_index=True)\n",
      "/var/folders/p8/j40fdn353n30l2nvsd_70qgc0000gn/T/ipykernel_50701/348671543.py:51: FutureWarning: The frame.append method is deprecated and will be removed from pandas in a future version. Use pandas.concat instead.\n",
      "  df_final = df_final.append({'Validation_within': ele}, ignore_index=True)\n",
      "/var/folders/p8/j40fdn353n30l2nvsd_70qgc0000gn/T/ipykernel_50701/348671543.py:51: FutureWarning: The frame.append method is deprecated and will be removed from pandas in a future version. Use pandas.concat instead.\n",
      "  df_final = df_final.append({'Validation_within': ele}, ignore_index=True)\n",
      "/var/folders/p8/j40fdn353n30l2nvsd_70qgc0000gn/T/ipykernel_50701/348671543.py:51: FutureWarning: The frame.append method is deprecated and will be removed from pandas in a future version. Use pandas.concat instead.\n",
      "  df_final = df_final.append({'Validation_within': ele}, ignore_index=True)\n",
      "/var/folders/p8/j40fdn353n30l2nvsd_70qgc0000gn/T/ipykernel_50701/348671543.py:51: FutureWarning: The frame.append method is deprecated and will be removed from pandas in a future version. Use pandas.concat instead.\n",
      "  df_final = df_final.append({'Validation_within': ele}, ignore_index=True)\n",
      "/var/folders/p8/j40fdn353n30l2nvsd_70qgc0000gn/T/ipykernel_50701/348671543.py:51: FutureWarning: The frame.append method is deprecated and will be removed from pandas in a future version. Use pandas.concat instead.\n",
      "  df_final = df_final.append({'Validation_within': ele}, ignore_index=True)\n",
      "/var/folders/p8/j40fdn353n30l2nvsd_70qgc0000gn/T/ipykernel_50701/348671543.py:51: FutureWarning: The frame.append method is deprecated and will be removed from pandas in a future version. Use pandas.concat instead.\n",
      "  df_final = df_final.append({'Validation_within': ele}, ignore_index=True)\n",
      "/var/folders/p8/j40fdn353n30l2nvsd_70qgc0000gn/T/ipykernel_50701/348671543.py:51: FutureWarning: The frame.append method is deprecated and will be removed from pandas in a future version. Use pandas.concat instead.\n",
      "  df_final = df_final.append({'Validation_within': ele}, ignore_index=True)\n",
      "/var/folders/p8/j40fdn353n30l2nvsd_70qgc0000gn/T/ipykernel_50701/348671543.py:51: FutureWarning: The frame.append method is deprecated and will be removed from pandas in a future version. Use pandas.concat instead.\n",
      "  df_final = df_final.append({'Validation_within': ele}, ignore_index=True)\n",
      "/var/folders/p8/j40fdn353n30l2nvsd_70qgc0000gn/T/ipykernel_50701/348671543.py:51: FutureWarning: The frame.append method is deprecated and will be removed from pandas in a future version. Use pandas.concat instead.\n",
      "  df_final = df_final.append({'Validation_within': ele}, ignore_index=True)\n",
      "/var/folders/p8/j40fdn353n30l2nvsd_70qgc0000gn/T/ipykernel_50701/348671543.py:51: FutureWarning: The frame.append method is deprecated and will be removed from pandas in a future version. Use pandas.concat instead.\n",
      "  df_final = df_final.append({'Validation_within': ele}, ignore_index=True)\n",
      "/var/folders/p8/j40fdn353n30l2nvsd_70qgc0000gn/T/ipykernel_50701/348671543.py:51: FutureWarning: The frame.append method is deprecated and will be removed from pandas in a future version. Use pandas.concat instead.\n",
      "  df_final = df_final.append({'Validation_within': ele}, ignore_index=True)\n",
      "/var/folders/p8/j40fdn353n30l2nvsd_70qgc0000gn/T/ipykernel_50701/348671543.py:51: FutureWarning: The frame.append method is deprecated and will be removed from pandas in a future version. Use pandas.concat instead.\n",
      "  df_final = df_final.append({'Validation_within': ele}, ignore_index=True)\n",
      "/var/folders/p8/j40fdn353n30l2nvsd_70qgc0000gn/T/ipykernel_50701/348671543.py:51: FutureWarning: The frame.append method is deprecated and will be removed from pandas in a future version. Use pandas.concat instead.\n",
      "  df_final = df_final.append({'Validation_within': ele}, ignore_index=True)\n",
      "/var/folders/p8/j40fdn353n30l2nvsd_70qgc0000gn/T/ipykernel_50701/348671543.py:51: FutureWarning: The frame.append method is deprecated and will be removed from pandas in a future version. Use pandas.concat instead.\n",
      "  df_final = df_final.append({'Validation_within': ele}, ignore_index=True)\n",
      "/var/folders/p8/j40fdn353n30l2nvsd_70qgc0000gn/T/ipykernel_50701/348671543.py:51: FutureWarning: The frame.append method is deprecated and will be removed from pandas in a future version. Use pandas.concat instead.\n",
      "  df_final = df_final.append({'Validation_within': ele}, ignore_index=True)\n",
      "/var/folders/p8/j40fdn353n30l2nvsd_70qgc0000gn/T/ipykernel_50701/348671543.py:51: FutureWarning: The frame.append method is deprecated and will be removed from pandas in a future version. Use pandas.concat instead.\n",
      "  df_final = df_final.append({'Validation_within': ele}, ignore_index=True)\n",
      "/var/folders/p8/j40fdn353n30l2nvsd_70qgc0000gn/T/ipykernel_50701/348671543.py:51: FutureWarning: The frame.append method is deprecated and will be removed from pandas in a future version. Use pandas.concat instead.\n",
      "  df_final = df_final.append({'Validation_within': ele}, ignore_index=True)\n",
      "/var/folders/p8/j40fdn353n30l2nvsd_70qgc0000gn/T/ipykernel_50701/348671543.py:51: FutureWarning: The frame.append method is deprecated and will be removed from pandas in a future version. Use pandas.concat instead.\n",
      "  df_final = df_final.append({'Validation_within': ele}, ignore_index=True)\n",
      "/var/folders/p8/j40fdn353n30l2nvsd_70qgc0000gn/T/ipykernel_50701/348671543.py:51: FutureWarning: The frame.append method is deprecated and will be removed from pandas in a future version. Use pandas.concat instead.\n",
      "  df_final = df_final.append({'Validation_within': ele}, ignore_index=True)\n",
      "/var/folders/p8/j40fdn353n30l2nvsd_70qgc0000gn/T/ipykernel_50701/348671543.py:51: FutureWarning: The frame.append method is deprecated and will be removed from pandas in a future version. Use pandas.concat instead.\n",
      "  df_final = df_final.append({'Validation_within': ele}, ignore_index=True)\n",
      "/var/folders/p8/j40fdn353n30l2nvsd_70qgc0000gn/T/ipykernel_50701/348671543.py:51: FutureWarning: The frame.append method is deprecated and will be removed from pandas in a future version. Use pandas.concat instead.\n",
      "  df_final = df_final.append({'Validation_within': ele}, ignore_index=True)\n",
      "/var/folders/p8/j40fdn353n30l2nvsd_70qgc0000gn/T/ipykernel_50701/348671543.py:51: FutureWarning: The frame.append method is deprecated and will be removed from pandas in a future version. Use pandas.concat instead.\n",
      "  df_final = df_final.append({'Validation_within': ele}, ignore_index=True)\n",
      "/var/folders/p8/j40fdn353n30l2nvsd_70qgc0000gn/T/ipykernel_50701/348671543.py:51: FutureWarning: The frame.append method is deprecated and will be removed from pandas in a future version. Use pandas.concat instead.\n",
      "  df_final = df_final.append({'Validation_within': ele}, ignore_index=True)\n",
      "/var/folders/p8/j40fdn353n30l2nvsd_70qgc0000gn/T/ipykernel_50701/348671543.py:51: FutureWarning: The frame.append method is deprecated and will be removed from pandas in a future version. Use pandas.concat instead.\n",
      "  df_final = df_final.append({'Validation_within': ele}, ignore_index=True)\n",
      "/var/folders/p8/j40fdn353n30l2nvsd_70qgc0000gn/T/ipykernel_50701/348671543.py:51: FutureWarning: The frame.append method is deprecated and will be removed from pandas in a future version. Use pandas.concat instead.\n",
      "  df_final = df_final.append({'Validation_within': ele}, ignore_index=True)\n",
      "/var/folders/p8/j40fdn353n30l2nvsd_70qgc0000gn/T/ipykernel_50701/348671543.py:51: FutureWarning: The frame.append method is deprecated and will be removed from pandas in a future version. Use pandas.concat instead.\n",
      "  df_final = df_final.append({'Validation_within': ele}, ignore_index=True)\n",
      "/var/folders/p8/j40fdn353n30l2nvsd_70qgc0000gn/T/ipykernel_50701/348671543.py:51: FutureWarning: The frame.append method is deprecated and will be removed from pandas in a future version. Use pandas.concat instead.\n",
      "  df_final = df_final.append({'Validation_within': ele}, ignore_index=True)\n",
      "/var/folders/p8/j40fdn353n30l2nvsd_70qgc0000gn/T/ipykernel_50701/348671543.py:51: FutureWarning: The frame.append method is deprecated and will be removed from pandas in a future version. Use pandas.concat instead.\n",
      "  df_final = df_final.append({'Validation_within': ele}, ignore_index=True)\n",
      "/var/folders/p8/j40fdn353n30l2nvsd_70qgc0000gn/T/ipykernel_50701/348671543.py:51: FutureWarning: The frame.append method is deprecated and will be removed from pandas in a future version. Use pandas.concat instead.\n",
      "  df_final = df_final.append({'Validation_within': ele}, ignore_index=True)\n",
      "/var/folders/p8/j40fdn353n30l2nvsd_70qgc0000gn/T/ipykernel_50701/348671543.py:51: FutureWarning: The frame.append method is deprecated and will be removed from pandas in a future version. Use pandas.concat instead.\n",
      "  df_final = df_final.append({'Validation_within': ele}, ignore_index=True)\n",
      "/var/folders/p8/j40fdn353n30l2nvsd_70qgc0000gn/T/ipykernel_50701/348671543.py:51: FutureWarning: The frame.append method is deprecated and will be removed from pandas in a future version. Use pandas.concat instead.\n",
      "  df_final = df_final.append({'Validation_within': ele}, ignore_index=True)\n",
      "/var/folders/p8/j40fdn353n30l2nvsd_70qgc0000gn/T/ipykernel_50701/348671543.py:51: FutureWarning: The frame.append method is deprecated and will be removed from pandas in a future version. Use pandas.concat instead.\n",
      "  df_final = df_final.append({'Validation_within': ele}, ignore_index=True)\n",
      "/var/folders/p8/j40fdn353n30l2nvsd_70qgc0000gn/T/ipykernel_50701/348671543.py:51: FutureWarning: The frame.append method is deprecated and will be removed from pandas in a future version. Use pandas.concat instead.\n",
      "  df_final = df_final.append({'Validation_within': ele}, ignore_index=True)\n",
      "/var/folders/p8/j40fdn353n30l2nvsd_70qgc0000gn/T/ipykernel_50701/348671543.py:51: FutureWarning: The frame.append method is deprecated and will be removed from pandas in a future version. Use pandas.concat instead.\n",
      "  df_final = df_final.append({'Validation_within': ele}, ignore_index=True)\n",
      "/var/folders/p8/j40fdn353n30l2nvsd_70qgc0000gn/T/ipykernel_50701/348671543.py:51: FutureWarning: The frame.append method is deprecated and will be removed from pandas in a future version. Use pandas.concat instead.\n",
      "  df_final = df_final.append({'Validation_within': ele}, ignore_index=True)\n",
      "/var/folders/p8/j40fdn353n30l2nvsd_70qgc0000gn/T/ipykernel_50701/348671543.py:51: FutureWarning: The frame.append method is deprecated and will be removed from pandas in a future version. Use pandas.concat instead.\n",
      "  df_final = df_final.append({'Validation_within': ele}, ignore_index=True)\n",
      "/var/folders/p8/j40fdn353n30l2nvsd_70qgc0000gn/T/ipykernel_50701/348671543.py:51: FutureWarning: The frame.append method is deprecated and will be removed from pandas in a future version. Use pandas.concat instead.\n",
      "  df_final = df_final.append({'Validation_within': ele}, ignore_index=True)\n",
      "/var/folders/p8/j40fdn353n30l2nvsd_70qgc0000gn/T/ipykernel_50701/348671543.py:51: FutureWarning: The frame.append method is deprecated and will be removed from pandas in a future version. Use pandas.concat instead.\n",
      "  df_final = df_final.append({'Validation_within': ele}, ignore_index=True)\n",
      "/var/folders/p8/j40fdn353n30l2nvsd_70qgc0000gn/T/ipykernel_50701/348671543.py:51: FutureWarning: The frame.append method is deprecated and will be removed from pandas in a future version. Use pandas.concat instead.\n",
      "  df_final = df_final.append({'Validation_within': ele}, ignore_index=True)\n",
      "/var/folders/p8/j40fdn353n30l2nvsd_70qgc0000gn/T/ipykernel_50701/348671543.py:51: FutureWarning: The frame.append method is deprecated and will be removed from pandas in a future version. Use pandas.concat instead.\n",
      "  df_final = df_final.append({'Validation_within': ele}, ignore_index=True)\n",
      "/var/folders/p8/j40fdn353n30l2nvsd_70qgc0000gn/T/ipykernel_50701/348671543.py:51: FutureWarning: The frame.append method is deprecated and will be removed from pandas in a future version. Use pandas.concat instead.\n",
      "  df_final = df_final.append({'Validation_within': ele}, ignore_index=True)\n",
      "/var/folders/p8/j40fdn353n30l2nvsd_70qgc0000gn/T/ipykernel_50701/348671543.py:51: FutureWarning: The frame.append method is deprecated and will be removed from pandas in a future version. Use pandas.concat instead.\n",
      "  df_final = df_final.append({'Validation_within': ele}, ignore_index=True)\n",
      "/var/folders/p8/j40fdn353n30l2nvsd_70qgc0000gn/T/ipykernel_50701/348671543.py:51: FutureWarning: The frame.append method is deprecated and will be removed from pandas in a future version. Use pandas.concat instead.\n",
      "  df_final = df_final.append({'Validation_within': ele}, ignore_index=True)\n",
      "/var/folders/p8/j40fdn353n30l2nvsd_70qgc0000gn/T/ipykernel_50701/348671543.py:51: FutureWarning: The frame.append method is deprecated and will be removed from pandas in a future version. Use pandas.concat instead.\n",
      "  df_final = df_final.append({'Validation_within': ele}, ignore_index=True)\n",
      "/var/folders/p8/j40fdn353n30l2nvsd_70qgc0000gn/T/ipykernel_50701/348671543.py:51: FutureWarning: The frame.append method is deprecated and will be removed from pandas in a future version. Use pandas.concat instead.\n",
      "  df_final = df_final.append({'Validation_within': ele}, ignore_index=True)\n",
      "/var/folders/p8/j40fdn353n30l2nvsd_70qgc0000gn/T/ipykernel_50701/348671543.py:51: FutureWarning: The frame.append method is deprecated and will be removed from pandas in a future version. Use pandas.concat instead.\n",
      "  df_final = df_final.append({'Validation_within': ele}, ignore_index=True)\n",
      "/var/folders/p8/j40fdn353n30l2nvsd_70qgc0000gn/T/ipykernel_50701/348671543.py:51: FutureWarning: The frame.append method is deprecated and will be removed from pandas in a future version. Use pandas.concat instead.\n",
      "  df_final = df_final.append({'Validation_within': ele}, ignore_index=True)\n",
      "/var/folders/p8/j40fdn353n30l2nvsd_70qgc0000gn/T/ipykernel_50701/348671543.py:51: FutureWarning: The frame.append method is deprecated and will be removed from pandas in a future version. Use pandas.concat instead.\n",
      "  df_final = df_final.append({'Validation_within': ele}, ignore_index=True)\n",
      "/var/folders/p8/j40fdn353n30l2nvsd_70qgc0000gn/T/ipykernel_50701/348671543.py:51: FutureWarning: The frame.append method is deprecated and will be removed from pandas in a future version. Use pandas.concat instead.\n",
      "  df_final = df_final.append({'Validation_within': ele}, ignore_index=True)\n",
      "/var/folders/p8/j40fdn353n30l2nvsd_70qgc0000gn/T/ipykernel_50701/348671543.py:51: FutureWarning: The frame.append method is deprecated and will be removed from pandas in a future version. Use pandas.concat instead.\n",
      "  df_final = df_final.append({'Validation_within': ele}, ignore_index=True)\n",
      "/var/folders/p8/j40fdn353n30l2nvsd_70qgc0000gn/T/ipykernel_50701/348671543.py:51: FutureWarning: The frame.append method is deprecated and will be removed from pandas in a future version. Use pandas.concat instead.\n",
      "  df_final = df_final.append({'Validation_within': ele}, ignore_index=True)\n",
      "/var/folders/p8/j40fdn353n30l2nvsd_70qgc0000gn/T/ipykernel_50701/348671543.py:51: FutureWarning: The frame.append method is deprecated and will be removed from pandas in a future version. Use pandas.concat instead.\n",
      "  df_final = df_final.append({'Validation_within': ele}, ignore_index=True)\n",
      "/var/folders/p8/j40fdn353n30l2nvsd_70qgc0000gn/T/ipykernel_50701/348671543.py:51: FutureWarning: The frame.append method is deprecated and will be removed from pandas in a future version. Use pandas.concat instead.\n",
      "  df_final = df_final.append({'Validation_within': ele}, ignore_index=True)\n",
      "/var/folders/p8/j40fdn353n30l2nvsd_70qgc0000gn/T/ipykernel_50701/348671543.py:51: FutureWarning: The frame.append method is deprecated and will be removed from pandas in a future version. Use pandas.concat instead.\n",
      "  df_final = df_final.append({'Validation_within': ele}, ignore_index=True)\n",
      "/var/folders/p8/j40fdn353n30l2nvsd_70qgc0000gn/T/ipykernel_50701/348671543.py:51: FutureWarning: The frame.append method is deprecated and will be removed from pandas in a future version. Use pandas.concat instead.\n",
      "  df_final = df_final.append({'Validation_within': ele}, ignore_index=True)\n",
      "/var/folders/p8/j40fdn353n30l2nvsd_70qgc0000gn/T/ipykernel_50701/348671543.py:51: FutureWarning: The frame.append method is deprecated and will be removed from pandas in a future version. Use pandas.concat instead.\n",
      "  df_final = df_final.append({'Validation_within': ele}, ignore_index=True)\n",
      "/var/folders/p8/j40fdn353n30l2nvsd_70qgc0000gn/T/ipykernel_50701/348671543.py:51: FutureWarning: The frame.append method is deprecated and will be removed from pandas in a future version. Use pandas.concat instead.\n",
      "  df_final = df_final.append({'Validation_within': ele}, ignore_index=True)\n",
      "/var/folders/p8/j40fdn353n30l2nvsd_70qgc0000gn/T/ipykernel_50701/348671543.py:51: FutureWarning: The frame.append method is deprecated and will be removed from pandas in a future version. Use pandas.concat instead.\n",
      "  df_final = df_final.append({'Validation_within': ele}, ignore_index=True)\n",
      "/var/folders/p8/j40fdn353n30l2nvsd_70qgc0000gn/T/ipykernel_50701/348671543.py:51: FutureWarning: The frame.append method is deprecated and will be removed from pandas in a future version. Use pandas.concat instead.\n",
      "  df_final = df_final.append({'Validation_within': ele}, ignore_index=True)\n",
      "/var/folders/p8/j40fdn353n30l2nvsd_70qgc0000gn/T/ipykernel_50701/348671543.py:51: FutureWarning: The frame.append method is deprecated and will be removed from pandas in a future version. Use pandas.concat instead.\n",
      "  df_final = df_final.append({'Validation_within': ele}, ignore_index=True)\n",
      "/var/folders/p8/j40fdn353n30l2nvsd_70qgc0000gn/T/ipykernel_50701/348671543.py:51: FutureWarning: The frame.append method is deprecated and will be removed from pandas in a future version. Use pandas.concat instead.\n",
      "  df_final = df_final.append({'Validation_within': ele}, ignore_index=True)\n",
      "/var/folders/p8/j40fdn353n30l2nvsd_70qgc0000gn/T/ipykernel_50701/348671543.py:51: FutureWarning: The frame.append method is deprecated and will be removed from pandas in a future version. Use pandas.concat instead.\n",
      "  df_final = df_final.append({'Validation_within': ele}, ignore_index=True)\n",
      "/var/folders/p8/j40fdn353n30l2nvsd_70qgc0000gn/T/ipykernel_50701/348671543.py:51: FutureWarning: The frame.append method is deprecated and will be removed from pandas in a future version. Use pandas.concat instead.\n",
      "  df_final = df_final.append({'Validation_within': ele}, ignore_index=True)\n",
      "/var/folders/p8/j40fdn353n30l2nvsd_70qgc0000gn/T/ipykernel_50701/348671543.py:51: FutureWarning: The frame.append method is deprecated and will be removed from pandas in a future version. Use pandas.concat instead.\n",
      "  df_final = df_final.append({'Validation_within': ele}, ignore_index=True)\n",
      "/var/folders/p8/j40fdn353n30l2nvsd_70qgc0000gn/T/ipykernel_50701/348671543.py:51: FutureWarning: The frame.append method is deprecated and will be removed from pandas in a future version. Use pandas.concat instead.\n",
      "  df_final = df_final.append({'Validation_within': ele}, ignore_index=True)\n",
      "/var/folders/p8/j40fdn353n30l2nvsd_70qgc0000gn/T/ipykernel_50701/348671543.py:51: FutureWarning: The frame.append method is deprecated and will be removed from pandas in a future version. Use pandas.concat instead.\n",
      "  df_final = df_final.append({'Validation_within': ele}, ignore_index=True)\n",
      "/var/folders/p8/j40fdn353n30l2nvsd_70qgc0000gn/T/ipykernel_50701/348671543.py:51: FutureWarning: The frame.append method is deprecated and will be removed from pandas in a future version. Use pandas.concat instead.\n",
      "  df_final = df_final.append({'Validation_within': ele}, ignore_index=True)\n",
      "/var/folders/p8/j40fdn353n30l2nvsd_70qgc0000gn/T/ipykernel_50701/348671543.py:51: FutureWarning: The frame.append method is deprecated and will be removed from pandas in a future version. Use pandas.concat instead.\n",
      "  df_final = df_final.append({'Validation_within': ele}, ignore_index=True)\n",
      "/var/folders/p8/j40fdn353n30l2nvsd_70qgc0000gn/T/ipykernel_50701/348671543.py:51: FutureWarning: The frame.append method is deprecated and will be removed from pandas in a future version. Use pandas.concat instead.\n",
      "  df_final = df_final.append({'Validation_within': ele}, ignore_index=True)\n",
      "/var/folders/p8/j40fdn353n30l2nvsd_70qgc0000gn/T/ipykernel_50701/348671543.py:51: FutureWarning: The frame.append method is deprecated and will be removed from pandas in a future version. Use pandas.concat instead.\n",
      "  df_final = df_final.append({'Validation_within': ele}, ignore_index=True)\n",
      "/var/folders/p8/j40fdn353n30l2nvsd_70qgc0000gn/T/ipykernel_50701/348671543.py:51: FutureWarning: The frame.append method is deprecated and will be removed from pandas in a future version. Use pandas.concat instead.\n",
      "  df_final = df_final.append({'Validation_within': ele}, ignore_index=True)\n",
      "/var/folders/p8/j40fdn353n30l2nvsd_70qgc0000gn/T/ipykernel_50701/348671543.py:51: FutureWarning: The frame.append method is deprecated and will be removed from pandas in a future version. Use pandas.concat instead.\n",
      "  df_final = df_final.append({'Validation_within': ele}, ignore_index=True)\n",
      "/var/folders/p8/j40fdn353n30l2nvsd_70qgc0000gn/T/ipykernel_50701/348671543.py:51: FutureWarning: The frame.append method is deprecated and will be removed from pandas in a future version. Use pandas.concat instead.\n",
      "  df_final = df_final.append({'Validation_within': ele}, ignore_index=True)\n",
      "/var/folders/p8/j40fdn353n30l2nvsd_70qgc0000gn/T/ipykernel_50701/348671543.py:51: FutureWarning: The frame.append method is deprecated and will be removed from pandas in a future version. Use pandas.concat instead.\n",
      "  df_final = df_final.append({'Validation_within': ele}, ignore_index=True)\n",
      "/var/folders/p8/j40fdn353n30l2nvsd_70qgc0000gn/T/ipykernel_50701/348671543.py:51: FutureWarning: The frame.append method is deprecated and will be removed from pandas in a future version. Use pandas.concat instead.\n",
      "  df_final = df_final.append({'Validation_within': ele}, ignore_index=True)\n",
      "/var/folders/p8/j40fdn353n30l2nvsd_70qgc0000gn/T/ipykernel_50701/348671543.py:51: FutureWarning: The frame.append method is deprecated and will be removed from pandas in a future version. Use pandas.concat instead.\n",
      "  df_final = df_final.append({'Validation_within': ele}, ignore_index=True)\n",
      "/var/folders/p8/j40fdn353n30l2nvsd_70qgc0000gn/T/ipykernel_50701/348671543.py:51: FutureWarning: The frame.append method is deprecated and will be removed from pandas in a future version. Use pandas.concat instead.\n",
      "  df_final = df_final.append({'Validation_within': ele}, ignore_index=True)\n",
      "/var/folders/p8/j40fdn353n30l2nvsd_70qgc0000gn/T/ipykernel_50701/348671543.py:51: FutureWarning: The frame.append method is deprecated and will be removed from pandas in a future version. Use pandas.concat instead.\n",
      "  df_final = df_final.append({'Validation_within': ele}, ignore_index=True)\n",
      "/var/folders/p8/j40fdn353n30l2nvsd_70qgc0000gn/T/ipykernel_50701/348671543.py:51: FutureWarning: The frame.append method is deprecated and will be removed from pandas in a future version. Use pandas.concat instead.\n",
      "  df_final = df_final.append({'Validation_within': ele}, ignore_index=True)\n",
      "/var/folders/p8/j40fdn353n30l2nvsd_70qgc0000gn/T/ipykernel_50701/348671543.py:51: FutureWarning: The frame.append method is deprecated and will be removed from pandas in a future version. Use pandas.concat instead.\n",
      "  df_final = df_final.append({'Validation_within': ele}, ignore_index=True)\n",
      "/var/folders/p8/j40fdn353n30l2nvsd_70qgc0000gn/T/ipykernel_50701/348671543.py:51: FutureWarning: The frame.append method is deprecated and will be removed from pandas in a future version. Use pandas.concat instead.\n",
      "  df_final = df_final.append({'Validation_within': ele}, ignore_index=True)\n",
      "/var/folders/p8/j40fdn353n30l2nvsd_70qgc0000gn/T/ipykernel_50701/348671543.py:51: FutureWarning: The frame.append method is deprecated and will be removed from pandas in a future version. Use pandas.concat instead.\n",
      "  df_final = df_final.append({'Validation_within': ele}, ignore_index=True)\n",
      "/var/folders/p8/j40fdn353n30l2nvsd_70qgc0000gn/T/ipykernel_50701/348671543.py:51: FutureWarning: The frame.append method is deprecated and will be removed from pandas in a future version. Use pandas.concat instead.\n",
      "  df_final = df_final.append({'Validation_within': ele}, ignore_index=True)\n",
      "/var/folders/p8/j40fdn353n30l2nvsd_70qgc0000gn/T/ipykernel_50701/348671543.py:51: FutureWarning: The frame.append method is deprecated and will be removed from pandas in a future version. Use pandas.concat instead.\n",
      "  df_final = df_final.append({'Validation_within': ele}, ignore_index=True)\n",
      "/var/folders/p8/j40fdn353n30l2nvsd_70qgc0000gn/T/ipykernel_50701/348671543.py:51: FutureWarning: The frame.append method is deprecated and will be removed from pandas in a future version. Use pandas.concat instead.\n",
      "  df_final = df_final.append({'Validation_within': ele}, ignore_index=True)\n",
      "/var/folders/p8/j40fdn353n30l2nvsd_70qgc0000gn/T/ipykernel_50701/348671543.py:51: FutureWarning: The frame.append method is deprecated and will be removed from pandas in a future version. Use pandas.concat instead.\n",
      "  df_final = df_final.append({'Validation_within': ele}, ignore_index=True)\n",
      "/var/folders/p8/j40fdn353n30l2nvsd_70qgc0000gn/T/ipykernel_50701/348671543.py:51: FutureWarning: The frame.append method is deprecated and will be removed from pandas in a future version. Use pandas.concat instead.\n",
      "  df_final = df_final.append({'Validation_within': ele}, ignore_index=True)\n",
      "/var/folders/p8/j40fdn353n30l2nvsd_70qgc0000gn/T/ipykernel_50701/348671543.py:51: FutureWarning: The frame.append method is deprecated and will be removed from pandas in a future version. Use pandas.concat instead.\n",
      "  df_final = df_final.append({'Validation_within': ele}, ignore_index=True)\n",
      "/var/folders/p8/j40fdn353n30l2nvsd_70qgc0000gn/T/ipykernel_50701/348671543.py:51: FutureWarning: The frame.append method is deprecated and will be removed from pandas in a future version. Use pandas.concat instead.\n",
      "  df_final = df_final.append({'Validation_within': ele}, ignore_index=True)\n",
      "/var/folders/p8/j40fdn353n30l2nvsd_70qgc0000gn/T/ipykernel_50701/348671543.py:51: FutureWarning: The frame.append method is deprecated and will be removed from pandas in a future version. Use pandas.concat instead.\n",
      "  df_final = df_final.append({'Validation_within': ele}, ignore_index=True)\n",
      "/var/folders/p8/j40fdn353n30l2nvsd_70qgc0000gn/T/ipykernel_50701/348671543.py:51: FutureWarning: The frame.append method is deprecated and will be removed from pandas in a future version. Use pandas.concat instead.\n",
      "  df_final = df_final.append({'Validation_within': ele}, ignore_index=True)\n",
      "/var/folders/p8/j40fdn353n30l2nvsd_70qgc0000gn/T/ipykernel_50701/348671543.py:51: FutureWarning: The frame.append method is deprecated and will be removed from pandas in a future version. Use pandas.concat instead.\n",
      "  df_final = df_final.append({'Validation_within': ele}, ignore_index=True)\n",
      "/var/folders/p8/j40fdn353n30l2nvsd_70qgc0000gn/T/ipykernel_50701/348671543.py:51: FutureWarning: The frame.append method is deprecated and will be removed from pandas in a future version. Use pandas.concat instead.\n",
      "  df_final = df_final.append({'Validation_within': ele}, ignore_index=True)\n",
      "/var/folders/p8/j40fdn353n30l2nvsd_70qgc0000gn/T/ipykernel_50701/348671543.py:51: FutureWarning: The frame.append method is deprecated and will be removed from pandas in a future version. Use pandas.concat instead.\n",
      "  df_final = df_final.append({'Validation_within': ele}, ignore_index=True)\n",
      "/var/folders/p8/j40fdn353n30l2nvsd_70qgc0000gn/T/ipykernel_50701/348671543.py:51: FutureWarning: The frame.append method is deprecated and will be removed from pandas in a future version. Use pandas.concat instead.\n",
      "  df_final = df_final.append({'Validation_within': ele}, ignore_index=True)\n",
      "/var/folders/p8/j40fdn353n30l2nvsd_70qgc0000gn/T/ipykernel_50701/348671543.py:51: FutureWarning: The frame.append method is deprecated and will be removed from pandas in a future version. Use pandas.concat instead.\n",
      "  df_final = df_final.append({'Validation_within': ele}, ignore_index=True)\n",
      "/var/folders/p8/j40fdn353n30l2nvsd_70qgc0000gn/T/ipykernel_50701/348671543.py:51: FutureWarning: The frame.append method is deprecated and will be removed from pandas in a future version. Use pandas.concat instead.\n",
      "  df_final = df_final.append({'Validation_within': ele}, ignore_index=True)\n",
      "/var/folders/p8/j40fdn353n30l2nvsd_70qgc0000gn/T/ipykernel_50701/348671543.py:51: FutureWarning: The frame.append method is deprecated and will be removed from pandas in a future version. Use pandas.concat instead.\n",
      "  df_final = df_final.append({'Validation_within': ele}, ignore_index=True)\n",
      "/var/folders/p8/j40fdn353n30l2nvsd_70qgc0000gn/T/ipykernel_50701/348671543.py:51: FutureWarning: The frame.append method is deprecated and will be removed from pandas in a future version. Use pandas.concat instead.\n",
      "  df_final = df_final.append({'Validation_within': ele}, ignore_index=True)\n",
      "/var/folders/p8/j40fdn353n30l2nvsd_70qgc0000gn/T/ipykernel_50701/348671543.py:51: FutureWarning: The frame.append method is deprecated and will be removed from pandas in a future version. Use pandas.concat instead.\n",
      "  df_final = df_final.append({'Validation_within': ele}, ignore_index=True)\n",
      "/var/folders/p8/j40fdn353n30l2nvsd_70qgc0000gn/T/ipykernel_50701/348671543.py:51: FutureWarning: The frame.append method is deprecated and will be removed from pandas in a future version. Use pandas.concat instead.\n",
      "  df_final = df_final.append({'Validation_within': ele}, ignore_index=True)\n",
      "/var/folders/p8/j40fdn353n30l2nvsd_70qgc0000gn/T/ipykernel_50701/348671543.py:51: FutureWarning: The frame.append method is deprecated and will be removed from pandas in a future version. Use pandas.concat instead.\n",
      "  df_final = df_final.append({'Validation_within': ele}, ignore_index=True)\n",
      "/var/folders/p8/j40fdn353n30l2nvsd_70qgc0000gn/T/ipykernel_50701/348671543.py:51: FutureWarning: The frame.append method is deprecated and will be removed from pandas in a future version. Use pandas.concat instead.\n",
      "  df_final = df_final.append({'Validation_within': ele}, ignore_index=True)\n",
      "/var/folders/p8/j40fdn353n30l2nvsd_70qgc0000gn/T/ipykernel_50701/348671543.py:51: FutureWarning: The frame.append method is deprecated and will be removed from pandas in a future version. Use pandas.concat instead.\n",
      "  df_final = df_final.append({'Validation_within': ele}, ignore_index=True)\n",
      "/var/folders/p8/j40fdn353n30l2nvsd_70qgc0000gn/T/ipykernel_50701/348671543.py:51: FutureWarning: The frame.append method is deprecated and will be removed from pandas in a future version. Use pandas.concat instead.\n",
      "  df_final = df_final.append({'Validation_within': ele}, ignore_index=True)\n",
      "/var/folders/p8/j40fdn353n30l2nvsd_70qgc0000gn/T/ipykernel_50701/348671543.py:51: FutureWarning: The frame.append method is deprecated and will be removed from pandas in a future version. Use pandas.concat instead.\n",
      "  df_final = df_final.append({'Validation_within': ele}, ignore_index=True)\n",
      "/var/folders/p8/j40fdn353n30l2nvsd_70qgc0000gn/T/ipykernel_50701/348671543.py:51: FutureWarning: The frame.append method is deprecated and will be removed from pandas in a future version. Use pandas.concat instead.\n",
      "  df_final = df_final.append({'Validation_within': ele}, ignore_index=True)\n",
      "/var/folders/p8/j40fdn353n30l2nvsd_70qgc0000gn/T/ipykernel_50701/348671543.py:51: FutureWarning: The frame.append method is deprecated and will be removed from pandas in a future version. Use pandas.concat instead.\n",
      "  df_final = df_final.append({'Validation_within': ele}, ignore_index=True)\n",
      "/var/folders/p8/j40fdn353n30l2nvsd_70qgc0000gn/T/ipykernel_50701/348671543.py:51: FutureWarning: The frame.append method is deprecated and will be removed from pandas in a future version. Use pandas.concat instead.\n",
      "  df_final = df_final.append({'Validation_within': ele}, ignore_index=True)\n",
      "/var/folders/p8/j40fdn353n30l2nvsd_70qgc0000gn/T/ipykernel_50701/348671543.py:51: FutureWarning: The frame.append method is deprecated and will be removed from pandas in a future version. Use pandas.concat instead.\n",
      "  df_final = df_final.append({'Validation_within': ele}, ignore_index=True)\n",
      "/var/folders/p8/j40fdn353n30l2nvsd_70qgc0000gn/T/ipykernel_50701/348671543.py:51: FutureWarning: The frame.append method is deprecated and will be removed from pandas in a future version. Use pandas.concat instead.\n",
      "  df_final = df_final.append({'Validation_within': ele}, ignore_index=True)\n",
      "/var/folders/p8/j40fdn353n30l2nvsd_70qgc0000gn/T/ipykernel_50701/348671543.py:51: FutureWarning: The frame.append method is deprecated and will be removed from pandas in a future version. Use pandas.concat instead.\n",
      "  df_final = df_final.append({'Validation_within': ele}, ignore_index=True)\n",
      "/var/folders/p8/j40fdn353n30l2nvsd_70qgc0000gn/T/ipykernel_50701/348671543.py:51: FutureWarning: The frame.append method is deprecated and will be removed from pandas in a future version. Use pandas.concat instead.\n",
      "  df_final = df_final.append({'Validation_within': ele}, ignore_index=True)\n",
      "/var/folders/p8/j40fdn353n30l2nvsd_70qgc0000gn/T/ipykernel_50701/348671543.py:51: FutureWarning: The frame.append method is deprecated and will be removed from pandas in a future version. Use pandas.concat instead.\n",
      "  df_final = df_final.append({'Validation_within': ele}, ignore_index=True)\n",
      "/var/folders/p8/j40fdn353n30l2nvsd_70qgc0000gn/T/ipykernel_50701/348671543.py:51: FutureWarning: The frame.append method is deprecated and will be removed from pandas in a future version. Use pandas.concat instead.\n",
      "  df_final = df_final.append({'Validation_within': ele}, ignore_index=True)\n",
      "/var/folders/p8/j40fdn353n30l2nvsd_70qgc0000gn/T/ipykernel_50701/348671543.py:51: FutureWarning: The frame.append method is deprecated and will be removed from pandas in a future version. Use pandas.concat instead.\n",
      "  df_final = df_final.append({'Validation_within': ele}, ignore_index=True)\n",
      "/var/folders/p8/j40fdn353n30l2nvsd_70qgc0000gn/T/ipykernel_50701/348671543.py:51: FutureWarning: The frame.append method is deprecated and will be removed from pandas in a future version. Use pandas.concat instead.\n",
      "  df_final = df_final.append({'Validation_within': ele}, ignore_index=True)\n"
     ]
    },
    {
     "data": {
      "text/plain": [
       "Text(122, 35, 'Avg: 122')"
      ]
     },
     "execution_count": 7,
     "metadata": {},
     "output_type": "execute_result"
    },
    {
     "data": {
      "image/png": "[encoded data removed]",
      "text/plain": [
       "<Figure size 432x288 with 1 Axes>"
      ]
     },
     "metadata": {
      "needs_background": "light"
     },
     "output_type": "display_data"
    }
   ],
   "source": [
    "df = pd.read_csv(\"/Users/patrickahrend/Developer/data-analytics-bugcrowd/data-octa/BugCrowd-Program-V3.csv\")\n",
    "\n",
    "df = df[\"Validation_within\"]\n",
    "df.dropna(inplace=True)\n",
    "df.str.replace('\\n', '').str.replace('days', '')\n",
    "\n",
    "df_final = pd.DataFrame()\n",
    "\n",
    "for ele in df:\n",
    "    if \"$\" in ele:\n",
    "        ele = ele.replace(ele, \"0\")\n",
    "        ele = ele.strip()\n",
    "    if \"days\" in ele:\n",
    "        ele = ele.replace(\"days\", \"\")\n",
    "        ele = ele.strip()\n",
    "        ele = int(ele)\n",
    "        ele = ele * 24\n",
    "        ele = str(ele) + \" hours\"\n",
    "    if \"day\" in ele:\n",
    "        ele = ele.replace(\"day\", \"\")\n",
    "        ele = ele.strip()\n",
    "        ele = int(ele)\n",
    "        ele = ele * 24\n",
    "        ele = str(ele) + \" hours\"\n",
    "    if \"about\" in ele:\n",
    "        ele = ele.replace(\"about\", \"\")\n",
    "        ele = ele.strip()\n",
    "    if \"month\" in ele:\n",
    "        ele = ele.replace(\"month\", \"\")\n",
    "        ele = ele.strip()\n",
    "        ele = int(ele)\n",
    "        ele = ele * 24 * 30\n",
    "        ele = str(ele) + \" hours\"\n",
    "    if \"minutes\" in ele:\n",
    "        ele = ele.replace(\"minutes\", \"\")\n",
    "        ele = ele.strip()\n",
    "        ele = int(ele)\n",
    "        ele = ele * 60\n",
    "        ele = str(ele) + \" hours\"\n",
    "    if \"hours\" in ele:\n",
    "        ele = ele.replace(\"hours\", \"\")\n",
    "        ele = ele.strip()\n",
    "    if \"hour\" in ele:\n",
    "        ele = ele.replace(\"hour\", \"\")\n",
    "        ele = ele.strip()\n",
    "    \n",
    "    df_final = df_final.append({'Validation_within': ele}, ignore_index=True)\n",
    "\n",
    "df_final = pd.to_numeric(df_final[\"Validation_within\"])\n",
    "df_final.plot.hist(bins=100)\n",
    "average = df_final.mean()\n",
    "average = int(average)\n",
    "# add a vertical line at the location of the average\n",
    "plt.axvline(average, color=\"r\", linestyle=\"dashed\", linewidth=1)\n",
    "# label the x and y axes\n",
    "plt.xlabel(\"Number of Hours\")\n",
    "plt.ylabel(\"Frequency\")\n",
    "plt.text(average, 35, \"Avg: \" + str(average),ha=\"center\",color=\"r\")\n",
    "    \n",
    "\n",
    "\n",
    "\n",
    "\n",
    "\n",
    "# df['Validation_within'] = df['Validation_within'].str.replace('\\n', '').str.replace('days', '')\n",
    "# # Extract the numerical values from the entries\n",
    "# df['Validation_within'] = df['Validation_within'].str.extract('(\\d+)')\n",
    "\n",
    "# # Convert the column to numeric type\n",
    "# df['Validation_within'] = pd.to_numeric(df['Validation_within'])\n",
    "\n",
    "# for element in df['Validation_within']:\n",
    "#     print(element)\n",
    "\n",
    "\n",
    "# df_new = pd.DateFrame(\"Validation_within\" , columns=[\"Validation_within\"])\n",
    "# df.dropna(inplace=True)\n",
    "# print(type(df))"
   ]
  },
  {
   "attachments": {},
   "cell_type": "markdown",
   "metadata": {},
   "source": [
    "## Scope Target Mobile"
   ]
  },
  {
   "cell_type": "code",
   "execution_count": null,
   "metadata": {},
   "outputs": [],
   "source": []
  },
  {
   "cell_type": "code",
   "execution_count": null,
   "metadata": {},
   "outputs": [],
   "source": []
  },
  {
   "attachments": {},
   "cell_type": "markdown",
   "metadata": {},
   "source": [
    "## Scope Target Android, IOS"
   ]
  },
  {
   "cell_type": "code",
   "execution_count": null,
   "metadata": {},
   "outputs": [],
   "source": []
  }
 ],
 "metadata": {
  "kernelspec": {
   "display_name": "Python 3.9.12 ('base')",
   "language": "python",
   "name": "python3"
  },
  "language_info": {
   "codemirror_mode": {
    "name": "ipython",
    "version": 3
   },
   "file_extension": ".py",
   "mimetype": "text/x-python",
   "name": "python",
   "nbconvert_exporter": "python",
   "pygments_lexer": "ipython3",
   "version": "3.9.12"
  },
  "orig_nbformat": 4,
  "vscode": {
   "interpreter": {
    "hash": "d3ddb9a339dcfec66cb1d066e0234a99f8d679773fa71ee722ae52c5be71efea"
   }
  }
 },
 "nbformat": 4,
 "nbformat_minor": 2
}
