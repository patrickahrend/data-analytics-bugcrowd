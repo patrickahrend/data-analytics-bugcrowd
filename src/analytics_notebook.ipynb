{
 "cells": [
  {
   "attachments": {},
   "cell_type": "markdown",
   "metadata": {},
   "source": [
    "# Analytics of the Bugcrowd programs"
   ]
  },
  {
   "cell_type": "code",
   "execution_count": 3,
   "metadata": {},
   "outputs": [],
   "source": [
    "import pandas as pd\n",
    "import matplotlib.pyplot as plt\n",
    "import csv\n",
    "import seaborn as sns\n",
    "import io "
   ]
  },
  {
   "cell_type": "code",
   "execution_count": 36,
   "metadata": {},
   "outputs": [],
   "source": [
    "# df_old = pd.read_csv(\"/Users/patrickahrend/Developer/data-analytics-bugcrowd/data-octa/BugCrowd-Program-V3.csv\")\n",
    "df = pd.read_excel(\"/Users/patrickahrend/Developer/data-analytics-bugcrowd/used_data/07.01withdiscovery.xlsx\")"
   ]
  },
  {
   "attachments": {},
   "cell_type": "markdown",
   "metadata": {},
   "source": [
    "## Data cleaning \n"
   ]
  },
  {
   "cell_type": "code",
   "execution_count": 37,
   "metadata": {},
   "outputs": [
    {
     "data": {
      "text/plain": [
       "Reward Range                 object\n",
       "Link                         object\n",
       "Title                        object\n",
       "Short Description            object\n",
       "Is Safe Harbor               object\n",
       "Vulnearbilities Rewarded    float64\n",
       "Validation Within            object\n",
       "Average Payout               object\n",
       "Hall of Famers               object\n",
       "Number People                object\n",
       "P4                           object\n",
       "P3                           object\n",
       "P2                           object\n",
       "P1                           object\n",
       "Maximum Reword               object\n",
       "programm_ruels               object\n",
       "annocument_count            float64\n",
       "Featured                     object\n",
       "Industry                     object\n",
       "Technology                   object\n",
       "dtype: object"
      ]
     },
     "execution_count": 37,
     "metadata": {},
     "output_type": "execute_result"
    }
   ],
   "source": [
    "df.dtypes"
   ]
  },
  {
   "cell_type": "code",
   "execution_count": 38,
   "metadata": {},
   "outputs": [],
   "source": [
    "df.drop(['Link','programm_ruels','Short Description'], axis=1, inplace=True)"
   ]
  },
  {
   "cell_type": "code",
   "execution_count": 39,
   "metadata": {},
   "outputs": [
    {
     "data": {
      "text/plain": [
       "Index(['Reward Range', 'Title', 'Is Safe Harbor', 'Vulnearbilities Rewarded',\n",
       "       'Validation Within', 'Average Payout', 'Hall of Famers',\n",
       "       'Number People', 'P4', 'P3', 'P2', 'P1', 'Maximum Reword',\n",
       "       'annocument_count', 'Featured', 'Industry', 'Technology'],\n",
       "      dtype='object')"
      ]
     },
     "execution_count": 39,
     "metadata": {},
     "output_type": "execute_result"
    }
   ],
   "source": [
    "df.columns"
   ]
  },
  {
   "cell_type": "code",
   "execution_count": 40,
   "metadata": {},
   "outputs": [
    {
     "data": {
      "text/plain": [
       "<bound method NDFrame.describe of        Reward Range                                              Title  \\\n",
       "0     $100 - $6,500    Transactional email service made for developers   \n",
       "1    $300 - $30,000                                          1Password   \n",
       "2               NaN                 ANZ Responsible Disclosure Program   \n",
       "3               NaN  AMEX - Global Business Travel Vulnerability Di...   \n",
       "4     $250 - $5,000                                         20 Minuten   \n",
       "..              ...                                                ...   \n",
       "325             NaN   Macquarie Group Vulnerability Disclosure Program   \n",
       "326             NaN   Comcast Xfinity Vulnerability Disclosure Program   \n",
       "327             NaN  Inter-American Foundation - Vulnerability Disc...   \n",
       "328             NaN                     The leader in transport fuels.   \n",
       "329             NaN                            ThousandEyes Bug Bounty   \n",
       "\n",
       "          Is Safe Harbor  Vulnearbilities Rewarded Validation Within  \\\n",
       "0            Safe harbor                       NaN               NaN   \n",
       "1                    NaN                     136.0            4 days   \n",
       "2    Partial safe harbor                       4.0            8 days   \n",
       "3            Safe harbor                     714.0               NaN   \n",
       "4                    NaN                      97.0            4 days   \n",
       "..                   ...                       ...               ...   \n",
       "325                  NaN                       NaN               NaN   \n",
       "326                  NaN                       NaN               NaN   \n",
       "327                  NaN                       NaN               NaN   \n",
       "328                  NaN                       NaN               NaN   \n",
       "329                  NaN                       NaN               NaN   \n",
       "\n",
       "    Average Payout Hall of Famers Number People           P4           P3  \\\n",
       "0              NaN            NaN           NaN          NaN          NaN   \n",
       "1           $2,350   View all 132     783 total         $300         $600   \n",
       "2              NaN  View the hall      12 total          NaN          NaN   \n",
       "3              NaN   View all 157     294 total          NaN          NaN   \n",
       "4             $600    View all 88     586 total  $250 – $300  $600 – $900   \n",
       "..             ...            ...           ...          ...          ...   \n",
       "325            NaN            NaN           NaN          NaN          NaN   \n",
       "326            NaN            NaN           NaN          NaN          NaN   \n",
       "327            NaN            NaN           NaN          NaN          NaN   \n",
       "328            NaN            NaN           NaN          NaN          NaN   \n",
       "329            NaN            NaN           NaN          NaN          NaN   \n",
       "\n",
       "                P2             P1 Maximum Reword  annocument_count  \\\n",
       "0              NaN            NaN            NaN               NaN   \n",
       "1            $6000         $30000       $1000000              12.0   \n",
       "2              NaN            NaN            NaN               NaN   \n",
       "3              NaN            NaN            NaN              10.0   \n",
       "4    $2000 – $2400  $4000 – $5000            NaN               9.0   \n",
       "..             ...            ...            ...               ...   \n",
       "325            NaN            NaN            NaN               NaN   \n",
       "326            NaN            NaN            NaN               NaN   \n",
       "327            NaN            NaN            NaN               NaN   \n",
       "328            NaN            NaN            NaN               NaN   \n",
       "329            NaN            NaN            NaN               NaN   \n",
       "\n",
       "                                        Featured  \\\n",
       "0                                            NaN   \n",
       "1    Highest Reward Range,Coordinated Disclosure   \n",
       "2                                            NaN   \n",
       "3                                            NaN   \n",
       "4                         Coordinated Disclosure   \n",
       "..                                           ...   \n",
       "325                                          NaN   \n",
       "326                                          NaN   \n",
       "327                                          NaN   \n",
       "328                                          NaN   \n",
       "329                                          NaN   \n",
       "\n",
       "                           Industry                               Technology  \n",
       "0                               NaN                  API Targets,Web Targets  \n",
       "1        Electronics and Technology                                      NaN  \n",
       "2    Banking and Financial Services                          Android Targets  \n",
       "3                               NaN                                      NaN  \n",
       "4                               NaN                                      NaN  \n",
       "..                              ...                                      ...  \n",
       "325  Banking and Financial Services                                      NaN  \n",
       "326                             NaN                         Hardware Targets  \n",
       "327                             NaN                              Web Targets  \n",
       "328                             NaN  Android Targets,API Targets,iOS Targets  \n",
       "329                             NaN                  API Targets,Web Targets  \n",
       "\n",
       "[330 rows x 17 columns]>"
      ]
     },
     "execution_count": 40,
     "metadata": {},
     "output_type": "execute_result"
    }
   ],
   "source": [
    "df.describe"
   ]
  },
  {
   "cell_type": "code",
   "execution_count": 41,
   "metadata": {},
   "outputs": [
    {
     "name": "stderr",
     "output_type": "stream",
     "text": [
      "/var/folders/p8/j40fdn353n30l2nvsd_70qgc0000gn/T/ipykernel_20043/2298797878.py:1: FutureWarning: The default value of regex will change from True to False in a future version. In addition, single character regular expressions will *not* be treated as literal strings when regex=True.\n",
      "  df['Reward Range'] = df['Reward Range'].str.replace('$', '').str.replace('Points', '0')\n"
     ]
    }
   ],
   "source": [
    "df['Reward Range'] = df['Reward Range'].str.replace('$', '').str.replace('Points', '0').str.p\n",
    "df['Reward Range'] = df['Reward Range'].fillna(0)\n"
   ]
  },
  {
   "cell_type": "code",
   "execution_count": 42,
   "metadata": {},
   "outputs": [
    {
     "name": "stdout",
     "output_type": "stream",
     "text": [
      "100 - 6,500\n",
      "300 - 30,000\n",
      "0\n",
      "0\n",
      "250 - 5,000\n",
      "150 - 2,500\n",
      "0 - 2,500\n",
      "200 - 3,500\n",
      "0 - 5,000\n",
      "100 - 1,500\n",
      "100 - 7,000\n",
      "0\n",
      "0\n",
      "100 - 6,000\n",
      "0\n",
      "0\n",
      "250 - 2,500\n",
      "300 - 6,500\n",
      "100 - 1,500\n",
      "200 - 10,000\n",
      "100 - 3,000\n",
      "200 - 4,500\n",
      "150 - 10,000\n",
      "50 - 2,500\n",
      "150 - 4,000\n",
      "500 - 20,000\n",
      "50 - 2,500\n",
      "50 - 10,000\n",
      "200 - 10,000\n",
      "0\n",
      "100 - 15,000\n",
      "200 - 5,000\n",
      "100 - 1,500\n",
      "0\n",
      "0 - 2,000\n",
      "0\n",
      "0 - 4,500\n",
      "150 - 2,500\n",
      "100 - 4,500\n",
      "300 - 10,000\n",
      "200 - 25,000\n",
      "200 - 12,000\n",
      "0\n",
      "0\n",
      "0\n",
      "100 - 5,000\n",
      "150 - 5,000\n",
      "100 - 10,000\n",
      "150 - 8,000\n",
      "0\n",
      "200 - 4,500\n",
      "250 - 10,000\n",
      "100 - 10,000\n",
      "0 - 2,100\n",
      "0 - 2,500\n",
      "200 - 6,500\n",
      "200 - 4,500\n",
      "0 - 4,000\n",
      "50 - 4,000\n",
      "0 - 2,500\n",
      "100 - 5,000\n",
      "200 - 10,000\n",
      "200 - 4,500\n",
      "0\n",
      "0 - 2,000\n",
      "150 - 10,000\n",
      "0\n",
      "0\n",
      "100 - 1,500\n",
      "100 - 5,000\n",
      "75 - 1,250\n",
      "0\n",
      "50 - 2,500\n",
      "200 - 5,000\n",
      "0\n",
      "0\n",
      "0\n",
      "0\n",
      "300 - 10,000\n",
      "0\n",
      "0\n",
      "150 - 2,500\n",
      "75 - 1,250\n",
      "0\n",
      "250 - 3,000\n",
      "100 - 5,000\n",
      "0\n",
      "100 - 2,250\n",
      "100 - 10,000\n",
      "0\n",
      "200 - 12,000\n",
      "0 - 4,000\n",
      "0\n",
      "100 - 10,000\n",
      "150 - 2,500\n",
      "0 - 100,000\n",
      "0\n",
      "0\n",
      "0\n",
      "100 - 6,000\n",
      "150 - 2,500\n",
      "25 - 600\n",
      "0\n",
      "200 - 6,000\n",
      "100 - 3,500\n",
      "0\n",
      "150 - 5,000\n",
      "150 - 4,000\n",
      "150 - 2,500\n",
      "0\n",
      "0\n",
      "0\n",
      "0\n",
      "200 - 4,000\n",
      "0\n",
      "0 - 4,500\n",
      "0\n",
      "0 - 2,500\n",
      "0\n",
      "0\n",
      "50 - 8,000\n",
      "50 - 5,000\n",
      "0\n",
      "125 - 2,000\n",
      "0\n",
      "0\n",
      "50 - 5,000\n",
      "150 - 2,500\n",
      "25 - 2,500\n",
      "50 - 10,000\n",
      "150 - 5,000\n",
      "150 - 5,000\n",
      "50 - 2,500\n",
      "150 - 3,000\n",
      "100 - 1,500\n",
      "100 - 6,000\n",
      "300 - 6,500\n",
      "50 - 4,500\n",
      "0\n",
      "250 - 25,000\n",
      "50 - 25,000\n",
      "0\n",
      "0 - 5,000\n",
      "0\n",
      "0\n",
      "0\n",
      "0\n",
      "0\n",
      "20 - 6,250\n",
      "200 - 7,000\n",
      "0\n",
      "0\n",
      "100 - 3,000\n",
      "0\n",
      "100 - 3,000\n",
      "150 - 7,000\n",
      "0\n",
      "0\n",
      "0 - 5,000\n",
      "0\n",
      "125 - 2,500\n",
      "0\n",
      "300 - 5,000\n",
      "300 - 6,500\n",
      "0\n",
      "100 - 3,500\n",
      "150 - 1,200\n",
      "0\n",
      "0 - 2,500\n",
      "0\n",
      "0\n",
      "0\n",
      "0\n",
      "200 - 20,000\n",
      "0\n",
      "0 - 4,500\n",
      "0\n",
      "200 - 4,500\n",
      "200 - 4,500\n",
      "100 - 1,500\n",
      "0\n",
      "0\n",
      "200 - 3,000\n",
      "0\n",
      "0\n",
      "0\n",
      "0\n",
      "0\n",
      "0\n",
      "0 - 1,000\n",
      "0\n",
      "200 - 6,000\n",
      "200 - 6,000\n",
      "0\n",
      "0\n",
      "0\n",
      "0\n",
      "100 - 25,000\n",
      "300 - 6,500\n",
      "50 - 10,000\n",
      "200 - 4,000\n",
      "0 - 2,500\n",
      "50 - 2,500\n",
      "0\n",
      "50 - 6,000\n",
      "0\n",
      "150 - 4,500\n",
      "150 - 3,500\n",
      "100 - 3,500\n",
      "100 - 3,500\n",
      "0\n",
      "200 - 4,500\n",
      "150 - 4,000\n",
      "100 - 6,000\n",
      "150 - 2,500\n",
      "0\n",
      "0 - 25,000\n",
      "100 - 6,000\n",
      "200 - 3,000\n",
      "300 - 5,000\n",
      "0\n",
      "0\n",
      "75 - 1,250\n",
      "100 - 1,250\n",
      "150 - 2,000\n",
      "0\n",
      "0\n",
      "0 - 5,000\n",
      "150 - 2,500\n",
      "125 - 4,500\n",
      "0\n",
      "100 - 3,500\n",
      "0\n",
      "100 - 10,000\n",
      "0\n",
      "50 - 10,000\n",
      "0\n",
      "0\n",
      "100 - 2,500\n",
      "0\n",
      "200 - 4,500\n",
      "20 - 3,500\n",
      "200 - 4,500\n",
      "0\n",
      "200 - 4,500\n",
      "0\n",
      "100 - 8,000\n",
      "100 - 2,500\n",
      "0\n",
      "100 - 6,000\n",
      "0 - 2,500\n",
      "0\n",
      "150 - 2,500\n",
      "100 - 50,000\n",
      "200 - 4,500\n",
      "0 - 25,000\n",
      "100 - 3,000\n",
      "500 - 8,000\n",
      "0\n",
      "0\n",
      "0 - 15,000\n",
      "100 - 10,000\n",
      "0\n",
      "150 - 6,000\n",
      "0\n",
      "200 - 4,000\n",
      "150 - 7,500\n",
      "200 - 10,000\n",
      "100 - 3,000\n",
      "0\n",
      "0 - 5,000\n",
      "100 - 2,500\n",
      "150 - 2,500\n",
      "150 - 2,100\n",
      "0\n",
      "0 - 2,000\n",
      "0\n",
      "200 - 4,500\n",
      "100 - 15,000\n",
      "0\n",
      "0\n",
      "0\n",
      "200 - 12,000\n",
      "200 - 4,500\n",
      "100 - 2,500\n",
      "300 - 10,000\n",
      "100 - 5,000\n",
      "100 - 9,500\n",
      "150 - 3,500\n",
      "0\n",
      "0\n",
      "0\n",
      "0\n",
      "100 - 6,000\n",
      "125 - 2,500\n",
      "0\n",
      "0\n",
      "0 - 2,500\n",
      "0\n",
      "0\n",
      "100 - 3,000\n",
      "120 - 5,000\n",
      "100 - 10,000\n",
      "200 - 4,500\n",
      "200 - 4,500\n",
      "50 - 1,000\n",
      "75 - 5,000\n",
      "200 - 9,000\n",
      "0 - 7,500\n",
      "0\n",
      "0\n",
      "100 - 3,000\n",
      "100 - 4,000\n",
      "100 - 4,000\n",
      "150 - 2,500\n",
      "50 - 1,000\n",
      "0 - 3,500\n",
      "150 - 3,000\n",
      "100 - 1,500\n",
      "100 - 1,500\n",
      "0\n",
      "200 - 5,000\n",
      "150 - 2,500\n",
      "200 - 7,000\n",
      "50 - 3,000\n",
      "0\n",
      "0\n",
      "0\n",
      "0\n",
      "0\n"
     ]
    }
   ],
   "source": [
    "for i in df[\"Reward Range\"]:\n",
    "    print(i)"
   ]
  },
  {
   "cell_type": "code",
   "execution_count": 50,
   "metadata": {},
   "outputs": [],
   "source": [
    "df[\"Reward Range\"] = df[\"Reward Range\"].astype(str)"
   ]
  },
  {
   "cell_type": "code",
   "execution_count": 51,
   "metadata": {},
   "outputs": [],
   "source": [
    "## calculate the average of the column Reward Range\n",
    "def avg_range(r):\n",
    "    if r == '0':\n",
    "        return None\n",
    "    min_max = r.split(\"-\")\n",
    "    min_value = int(min_max[0].replace(\",\",\"\"))\n",
    "    max_value = int(min_max[1].replace(\",\",\"\"))\n",
    "    return (min_value + max_value) / 2"
   ]
  },
  {
   "cell_type": "code",
   "execution_count": 54,
   "metadata": {},
   "outputs": [],
   "source": [
    "df['Reward Range Average'] = df['Reward Range'].apply(avg_range)\n"
   ]
  },
  {
   "cell_type": "code",
   "execution_count": 59,
   "metadata": {},
   "outputs": [
    {
     "data": {
      "text/plain": [
       "0       3300.0\n",
       "1      15150.0\n",
       "2          NaN\n",
       "3          NaN\n",
       "4       2625.0\n",
       "        ...   \n",
       "325        NaN\n",
       "326        NaN\n",
       "327        NaN\n",
       "328        NaN\n",
       "329        NaN\n",
       "Name: Reward Range average, Length: 330, dtype: float64"
      ]
     },
     "execution_count": 59,
     "metadata": {},
     "output_type": "execute_result"
    }
   ],
   "source": [
    "df['Reward Range average']"
   ]
  },
  {
   "cell_type": "code",
   "execution_count": 60,
   "metadata": {},
   "outputs": [
    {
     "data": {
      "text/plain": [
       "0         N/A\n",
       "1      4 days\n",
       "2      8 days\n",
       "3         N/A\n",
       "4      4 days\n",
       "        ...  \n",
       "325       N/A\n",
       "326       N/A\n",
       "327       N/A\n",
       "328       N/A\n",
       "329       N/A\n",
       "Name: Validation Within, Length: 330, dtype: object"
      ]
     },
     "execution_count": 60,
     "metadata": {},
     "output_type": "execute_result"
    }
   ],
   "source": [
    "# Apply the to_hours() function to the \"Validation Within\" column\n",
    "df[\"Validation Within\"].apply(lambda x: str(x))\n",
    "df[\"Validation Within\"] = df[\"Validation Within\"].fillna(value=\"N/A\")\n",
    "df[\"Validation Within\"].apply(lambda x: str(x))"
   ]
  },
  {
   "cell_type": "code",
   "execution_count": 65,
   "metadata": {},
   "outputs": [
    {
     "data": {
      "text/plain": [
       "0         N/A\n",
       "1      4 days\n",
       "2      8 days\n",
       "3         N/A\n",
       "4      4 days\n",
       "        ...  \n",
       "325       N/A\n",
       "326       N/A\n",
       "327       N/A\n",
       "328       N/A\n",
       "329       N/A\n",
       "Name: Validation Within, Length: 330, dtype: object"
      ]
     },
     "execution_count": 65,
     "metadata": {},
     "output_type": "execute_result"
    }
   ],
   "source": [
    "df[\"Validation Within\"] = df[\"Validation Within\"].astype(str)\n",
    "df[\"Validation Within\"].apply(lambda x: str(x))"
   ]
  },
  {
   "cell_type": "code",
   "execution_count": 66,
   "metadata": {},
   "outputs": [
    {
     "data": {
      "text/plain": [
       "0         N/A\n",
       "1      4 days\n",
       "2      8 days\n",
       "3         N/A\n",
       "4      4 days\n",
       "        ...  \n",
       "325       N/A\n",
       "326       N/A\n",
       "327       N/A\n",
       "328       N/A\n",
       "329       N/A\n",
       "Name: Validation Within, Length: 330, dtype: object"
      ]
     },
     "execution_count": 66,
     "metadata": {},
     "output_type": "execute_result"
    }
   ],
   "source": [
    "df[\"Validation Within\"]"
   ]
  },
  {
   "cell_type": "code",
   "execution_count": 68,
   "metadata": {},
   "outputs": [
    {
     "name": "stdout",
     "output_type": "stream",
     "text": [
      "Error: Invalid input: N/A\n",
      "Error: Invalid input: N/A\n",
      "Error: Invalid input: N/A\n",
      "Error: Invalid input: N/A\n",
      "Error: Invalid input: N/A\n",
      "Error: Invalid input: N/A\n",
      "Error: Invalid input: N/A\n",
      "Error: Invalid input: N/A\n",
      "Error: Invalid input: N/A\n",
      "Error: Invalid input: N/A\n",
      "Error: Invalid input: N/A\n",
      "Error: Invalid input: N/A\n",
      "Error: Invalid input: N/A\n",
      "Error: Invalid input: N/A\n",
      "Error: Invalid input: 1 day\n",
      "Error: Invalid input: 1 day\n",
      "Error: Invalid input: 1 day\n",
      "Error: Invalid input: N/A\n",
      "Error: Invalid input: 1 day\n",
      "Error: Invalid input: N/A\n",
      "Error: Invalid input: N/A\n",
      "Error: Invalid input: N/A\n",
      "Error: Invalid input: N/A\n",
      "Error: Invalid input: 1 month\n",
      "Error: Invalid input: 1 day\n",
      "Error: Invalid input: N/A\n",
      "Error: Invalid input: N/A\n",
      "Error: Invalid input: N/A\n",
      "Error: Invalid input: N/A\n",
      "Error: Invalid input: N/A\n",
      "Error: Invalid input: N/A\n",
      "Error: Invalid input: N/A\n",
      "Error: Invalid input: 1 day\n",
      "Error: Invalid input: 1 day\n",
      "Error: Invalid input: 1 day\n",
      "Error: Invalid input: N/A\n",
      "Error: Invalid input: 1 day\n",
      "Error: Invalid input: N/A\n",
      "Error: Invalid input: N/A\n",
      "Error: Invalid input: N/A\n",
      "Error: Invalid input: N/A\n",
      "Error: Invalid input: 1 day\n",
      "Error: Invalid input: N/A\n",
      "Error: Invalid input: N/A\n",
      "Error: Invalid input: 1 day\n",
      "Error: Invalid input: N/A\n",
      "Error: Invalid input: N/A\n",
      "Error: Invalid input: N/A\n",
      "Error: Invalid input: N/A\n",
      "Error: Invalid input: N/A\n",
      "Error: Invalid input: N/A\n",
      "Error: Invalid input: N/A\n",
      "Error: Invalid input: N/A\n",
      "Error: Invalid input: 1 day\n",
      "Error: Invalid input: 1 day\n",
      "Error: Invalid input: 1 day\n",
      "Error: Invalid input: N/A\n",
      "Error: Invalid input: N/A\n",
      "Error: Invalid input: 1 month\n",
      "Error: Invalid input: N/A\n",
      "Error: Invalid input: N/A\n",
      "Error: Invalid input: 1 day\n",
      "Error: Invalid input: N/A\n",
      "Error: Invalid input: N/A\n",
      "Error: Invalid input: N/A\n",
      "Error: Invalid input: N/A\n",
      "Error: Invalid input: N/A\n",
      "Error: Invalid input: N/A\n",
      "Error: Invalid input: N/A\n",
      "Error: Invalid input: N/A\n",
      "Error: Invalid input: 1 day\n",
      "Error: Invalid input: $1,500\n",
      "Error: Invalid input: N/A\n",
      "Error: Invalid input: N/A\n",
      "Error: Invalid input: N/A\n",
      "Error: Invalid input: N/A\n",
      "Error: Invalid input: N/A\n",
      "Error: Invalid input: N/A\n",
      "Error: Invalid input: N/A\n",
      "Error: Invalid input: 1 month\n",
      "Error: Invalid input: N/A\n",
      "Error: Invalid input: N/A\n",
      "Error: Invalid input: 1 day\n",
      "Error: Invalid input: N/A\n",
      "Error: Invalid input: N/A\n",
      "Error: Invalid input: N/A\n",
      "Error: Invalid input: 1 day\n",
      "Error: Invalid input: N/A\n",
      "Error: Invalid input: N/A\n",
      "Error: Invalid input: N/A\n",
      "Error: Invalid input: N/A\n",
      "Error: Invalid input: N/A\n",
      "Error: Invalid input: N/A\n",
      "Error: Invalid input: N/A\n",
      "Error: Invalid input: N/A\n",
      "Error: Invalid input: N/A\n",
      "Error: Invalid input: N/A\n",
      "Error: Invalid input: N/A\n",
      "Error: Invalid input: 1 day\n",
      "Error: Invalid input: 1 month\n",
      "Error: Invalid input: N/A\n",
      "Error: Invalid input: 1 day\n",
      "Error: Invalid input: N/A\n",
      "Error: Invalid input: 1 day\n",
      "Error: Invalid input: N/A\n",
      "Error: Invalid input: N/A\n",
      "Error: Invalid input: 1 month\n",
      "Error: Invalid input: N/A\n",
      "Error: Invalid input: N/A\n",
      "Error: Invalid input: N/A\n",
      "Error: Invalid input: N/A\n",
      "Error: Invalid input: N/A\n",
      "Error: Invalid input: N/A\n",
      "Error: Invalid input: N/A\n"
     ]
    },
    {
     "name": "stderr",
     "output_type": "stream",
     "text": [
      "/var/folders/p8/j40fdn353n30l2nvsd_70qgc0000gn/T/ipykernel_20043/390435476.py:23: FutureWarning: The pandas.np module is deprecated and will be removed from pandas in a future version. Import numpy directly instead.\n",
      "  return pd.np.nan\n"
     ]
    }
   ],
   "source": [
    "import re\n",
    "from datetime import timedelta\n",
    "\n",
    "def to_hours(s):\n",
    "    s = str(s)\n",
    "    if pd.isnull(s):\n",
    "        # If the input is NaN, return NaN\n",
    "        return pd.np.nan\n",
    "    elif s == \"\":\n",
    "        return pd.np.nan\n",
    "    else:\n",
    "        # Extract the numerical value and the unit of time from the string\n",
    "        m = re.match(r'(\\d+) (days|hours|weeks|months)', s)\n",
    "        if not m:\n",
    "            # If the input is not in the expected format, check if it starts with \"about\"\n",
    "            if s.startswith(\"about \"):\n",
    "                # If it does, remove the \"about\" prefix and try again\n",
    "                s = s[6:]\n",
    "                m = re.match(r'(\\d+) (days|hours|weeks|months)', s)\n",
    "            \n",
    "            if not m:\n",
    "                print(f\"Error: Invalid input: {s}\")\n",
    "                return pd.np.nan\n",
    "        value, unit = m.groups()\n",
    "\n",
    "        # Convert the value to a float and the unit to lowercase\n",
    "        value = float(value)\n",
    "        unit = unit.lower()\n",
    "\n",
    "        # Convert the value to hours\n",
    "        if unit == 'days':\n",
    "            value *= 24\n",
    "        elif unit == 'hours':\n",
    "            pass\n",
    "        elif unit == 'weeks':\n",
    "            value *= 7 * 24\n",
    "        elif unit == 'months':\n",
    "            # Estimate the number of hours in a month based on 30 days\n",
    "            value *= 30 * 24\n",
    "        else:\n",
    "            print(f\"Error: Invalid unit: {unit}\")\n",
    "            raise ValueError(f\"Invalid unit: {unit}\")\n",
    "    \n",
    "    return value\n",
    "\n",
    "\n",
    "\n",
    "df[\"Validation Within Hours\"] = df[\"Validation Within\"].apply(to_hours)\n"
   ]
  },
  {
   "cell_type": "code",
   "execution_count": 71,
   "metadata": {},
   "outputs": [
    {
     "name": "stderr",
     "output_type": "stream",
     "text": [
      "/var/folders/p8/j40fdn353n30l2nvsd_70qgc0000gn/T/ipykernel_20043/2961492079.py:1: FutureWarning: The default value of regex will change from True to False in a future version. In addition, single character regular expressions will *not* be treated as literal strings when regex=True.\n",
      "  df[\"Average Payout\"] = df[\"Average Payout\"].str.replace('$', '').str.replace(\",\",\"\")\n"
     ]
    }
   ],
   "source": [
    "df[\"Average Payout\"] = df[\"Average Payout\"].str.replace('$', '').str.replace(\",\",\"\")\n",
    "df[\"Average Payout\"] = df[\"Average Payout\"].fillna(\"0\")\n",
    "df[\"Average Payout\"] = df[\"Average Payout\"].astype(float)"
   ]
  },
  {
   "cell_type": "code",
   "execution_count": 72,
   "metadata": {},
   "outputs": [],
   "source": [
    "df[\"Number People\"]= df[\"Number People\"].str.replace(\"total\",\"\")\n",
    "df[\"Number People\"]= df[\"Number People\"].fillna(\"0\")\n",
    "df[\"Number People\"]= df[\"Number People\"].astype(int)"
   ]
  },
  {
   "cell_type": "code",
   "execution_count": 73,
   "metadata": {},
   "outputs": [
    {
     "name": "stdout",
     "output_type": "stream",
     "text": [
      "0\n",
      "783\n",
      "12\n",
      "294\n",
      "586\n",
      "0\n",
      "545\n",
      "1144\n",
      "336\n",
      "0\n",
      "178\n",
      "16\n",
      "410\n",
      "1310\n",
      "190\n",
      "236\n",
      "437\n",
      "976\n",
      "0\n",
      "2603\n",
      "93\n",
      "0\n",
      "0\n",
      "0\n",
      "361\n",
      "0\n",
      "243\n",
      "0\n",
      "2403\n",
      "695\n",
      "1846\n",
      "34\n",
      "49\n",
      "89\n",
      "1162\n",
      "122\n",
      "290\n",
      "114\n",
      "0\n",
      "2822\n",
      "158\n",
      "222\n",
      "24\n",
      "105\n",
      "35\n",
      "43\n",
      "1308\n",
      "924\n",
      "289\n",
      "530\n",
      "1287\n",
      "26\n",
      "1082\n",
      "0\n",
      "79\n",
      "0\n",
      "0\n",
      "1514\n",
      "998\n",
      "354\n",
      "566\n",
      "0\n",
      "0\n",
      "756\n",
      "171\n",
      "19\n",
      "40\n",
      "104\n",
      "62\n",
      "1070\n",
      "210\n",
      "313\n",
      "680\n",
      "104\n",
      "301\n",
      "141\n",
      "188\n",
      "129\n",
      "0\n",
      "94\n",
      "46\n",
      "0\n",
      "213\n",
      "21\n",
      "509\n",
      "0\n",
      "145\n",
      "0\n",
      "168\n",
      "45\n",
      "574\n",
      "453\n",
      "27\n",
      "1576\n",
      "511\n",
      "260\n",
      "247\n",
      "23\n",
      "38\n",
      "460\n",
      "0\n",
      "555\n",
      "0\n",
      "209\n",
      "0\n",
      "176\n",
      "0\n",
      "0\n",
      "105\n",
      "34\n",
      "54\n",
      "0\n",
      "2474\n",
      "44\n",
      "805\n",
      "188\n",
      "24\n",
      "120\n",
      "43\n",
      "34\n",
      "0\n",
      "1061\n",
      "1338\n",
      "0\n",
      "4\n",
      "137\n",
      "1220\n",
      "237\n",
      "1181\n",
      "3852\n",
      "0\n",
      "1006\n",
      "611\n",
      "307\n",
      "98\n",
      "323\n",
      "454\n",
      "925\n",
      "185\n",
      "284\n",
      "0\n",
      "0\n",
      "1524\n",
      "47\n",
      "154\n",
      "182\n",
      "140\n",
      "41\n",
      "142\n",
      "777\n",
      "191\n",
      "574\n",
      "1724\n",
      "61\n",
      "58\n",
      "0\n",
      "74\n",
      "96\n",
      "95\n",
      "95\n",
      "331\n",
      "266\n",
      "897\n",
      "0\n",
      "259\n",
      "264\n",
      "1210\n",
      "597\n",
      "110\n",
      "118\n",
      "730\n",
      "31\n",
      "79\n",
      "4742\n",
      "124\n",
      "142\n",
      "104\n",
      "0\n",
      "0\n",
      "31\n",
      "67\n",
      "4\n",
      "0\n",
      "36\n",
      "594\n",
      "21\n",
      "3\n",
      "14\n",
      "15\n",
      "59\n",
      "42\n",
      "708\n",
      "46\n",
      "35\n",
      "21\n",
      "59\n",
      "33\n",
      "787\n",
      "194\n",
      "633\n",
      "655\n",
      "681\n",
      "229\n",
      "60\n",
      "0\n",
      "860\n",
      "0\n",
      "0\n",
      "0\n",
      "0\n",
      "0\n",
      "0\n",
      "397\n",
      "371\n",
      "156\n",
      "194\n",
      "2432\n",
      "453\n",
      "677\n",
      "0\n",
      "25\n",
      "23\n",
      "179\n",
      "50\n",
      "431\n",
      "29\n",
      "290\n",
      "598\n",
      "252\n",
      "1691\n",
      "143\n",
      "53\n",
      "181\n",
      "0\n",
      "643\n",
      "2340\n",
      "56\n",
      "275\n",
      "55\n",
      "154\n",
      "0\n",
      "0\n",
      "168\n",
      "52\n",
      "183\n",
      "50\n",
      "1369\n",
      "0\n",
      "168\n",
      "407\n",
      "251\n",
      "98\n",
      "0\n",
      "1961\n",
      "1373\n",
      "397\n",
      "0\n",
      "0\n",
      "82\n",
      "558\n",
      "708\n",
      "106\n",
      "833\n",
      "0\n",
      "21\n",
      "1050\n",
      "1378\n",
      "95\n",
      "112\n",
      "100\n",
      "0\n",
      "1980\n",
      "354\n",
      "0\n",
      "1042\n",
      "0\n",
      "66\n",
      "0\n",
      "3004\n",
      "87\n",
      "390\n",
      "182\n",
      "0\n",
      "0\n",
      "0\n",
      "964\n",
      "2282\n",
      "2194\n",
      "1439\n",
      "47\n",
      "66\n",
      "39\n",
      "181\n",
      "833\n",
      "1769\n",
      "118\n",
      "1113\n",
      "0\n",
      "321\n",
      "153\n",
      "436\n",
      "1796\n",
      "191\n",
      "2051\n",
      "0\n",
      "0\n",
      "561\n",
      "359\n",
      "503\n",
      "237\n",
      "298\n",
      "2618\n",
      "193\n",
      "1265\n",
      "0\n",
      "162\n",
      "734\n",
      "927\n",
      "88\n",
      "214\n",
      "130\n",
      "0\n",
      "252\n",
      "788\n",
      "1024\n",
      "0\n",
      "0\n",
      "0\n",
      "0\n",
      "0\n"
     ]
    }
   ],
   "source": [
    "for i in df[\"Number People\"]:\n",
    "    print(i)"
   ]
  },
  {
   "cell_type": "code",
   "execution_count": 74,
   "metadata": {},
   "outputs": [],
   "source": [
    "df[\"Hall of Famers\"] = df[\"Hall of Famers\"].fillna(\"0\")\n",
    "df[\"Hall of Famers\"] = df[\"Hall of Famers\"].str.replace(\"View all \",\"\").str.replace(\"View the hall\",\"0\")\n",
    "df[\"Hall of Famers\"] = df[\"Hall of Famers\"].astype(int)"
   ]
  },
  {
   "cell_type": "code",
   "execution_count": 17,
   "metadata": {},
   "outputs": [],
   "source": [
    "def cleanse_priority(row):\n",
    "    row = row.fillna(\"0\")\n",
    "    row = row.str.replace(\"$\",\"\")\n",
    "    return row "
   ]
  },
  {
   "cell_type": "code",
   "execution_count": 75,
   "metadata": {},
   "outputs": [
    {
     "name": "stderr",
     "output_type": "stream",
     "text": [
      "/var/folders/p8/j40fdn353n30l2nvsd_70qgc0000gn/T/ipykernel_20043/631052674.py:3: FutureWarning: The default value of regex will change from True to False in a future version. In addition, single character regular expressions will *not* be treated as literal strings when regex=True.\n",
      "  row = row.str.replace(\"$\",\"\")\n"
     ]
    }
   ],
   "source": [
    "df[\"P1\"] = cleanse_priority(df[\"P1\"])\n",
    "df[\"P2\"] = cleanse_priority(df[\"P2\"])\n",
    "df[\"P3\"] = cleanse_priority(df[\"P3\"])\n",
    "df[\"P4\"] = cleanse_priority(df[\"P4\"])"
   ]
  },
  {
   "cell_type": "code",
   "execution_count": 78,
   "metadata": {},
   "outputs": [
    {
     "name": "stderr",
     "output_type": "stream",
     "text": [
      "/var/folders/p8/j40fdn353n30l2nvsd_70qgc0000gn/T/ipykernel_20043/631052674.py:3: FutureWarning: The default value of regex will change from True to False in a future version. In addition, single character regular expressions will *not* be treated as literal strings when regex=True.\n",
      "  row = row.str.replace(\"$\",\"\")\n"
     ]
    }
   ],
   "source": [
    "df[\"Maximum Reword\"] = cleanse_priority(df[\"Maximum Reword\"])"
   ]
  },
  {
   "cell_type": "code",
   "execution_count": 80,
   "metadata": {},
   "outputs": [],
   "source": [
    "df[\"annocument_count\"] = df[\"annocument_count\"].fillna(\"0\")"
   ]
  },
  {
   "cell_type": "code",
   "execution_count": 79,
   "metadata": {},
   "outputs": [],
   "source": [
    "df.to_excel('looking.xlsx', index=False)"
   ]
  },
  {
   "attachments": {},
   "cell_type": "markdown",
   "metadata": {},
   "source": [
    "### To change the category variables to numeric variables, we are using one-hot encoding \n"
   ]
  },
  {
   "cell_type": "code",
   "execution_count": null,
   "metadata": {},
   "outputs": [],
   "source": []
  },
  {
   "cell_type": "code",
   "execution_count": 19,
   "metadata": {},
   "outputs": [],
   "source": [
    "df.to_excel('/Users/patrickahrend/Developer/data-analytics-bugcrowd/data-octa/bugcrowd_modified_24.12.xlsx', index=False)"
   ]
  },
  {
   "attachments": {},
   "cell_type": "markdown",
   "metadata": {},
   "source": [
    "# Plotting"
   ]
  },
  {
   "cell_type": "code",
   "execution_count": 20,
   "metadata": {},
   "outputs": [],
   "source": [
    "df = pd.read_excel(\"/Users/patrickahrend/Developer/data-analytics-bugcrowd/data-octa/bugcrowd_modified_24.12.xlsx\")"
   ]
  },
  {
   "cell_type": "code",
   "execution_count": 21,
   "metadata": {},
   "outputs": [
    {
     "data": {
      "text/plain": [
       "Index(['Reward Range', 'Link', 'Title', 'Short Description', 'Is Safe Harbor',\n",
       "       'Vulnearbilities Rewarded', 'Validation Within', 'Average Payout',\n",
       "       'Hall of Famers', 'Number People', 'P4', 'P3', 'P2', 'P1',\n",
       "       'Maximum Reword', 'programm_ruels', 'annocument_count', 'Featured',\n",
       "       'Industry', 'Technology'],\n",
       "      dtype='object')"
      ]
     },
     "execution_count": 21,
     "metadata": {},
     "output_type": "execute_result"
    }
   ],
   "source": [
    "df.columns"
   ]
  },
  {
   "cell_type": "code",
   "execution_count": 22,
   "metadata": {},
   "outputs": [],
   "source": [
    "def plot_histogram(df, column, x_postfix,n):\n",
    "    # Create a histogram of the specified column\n",
    "    sns.histplot(df[column], bins=30)\n",
    "    plt.xlim(0, None)\n",
    "\n",
    "    # Add labels to the plot\n",
    "    plt.xlabel(column+ \" \" + x_postfix)\n",
    "    plt.ylabel(\"Frequency\")\n",
    "\n",
    "    # Add a vertical line for the mean value\n",
    "    mean = df[column].mean()\n",
    "    plt.axvline(mean, color=\"r\", linestyle=\"dashed\", linewidth=1)\n",
    "    plt.text(mean, 50, \" Avg: \" + str(int(mean)), ha=\"left\", color=\"r\")\n",
    "\n",
    "    # Add a vertical line for the median value\n",
    "    median = df[column].median()\n",
    "    plt.axvline(median, color=\"g\", linestyle=\"dashed\", linewidth=1)\n",
    "    plt.text(median, 40, \" Median: \" + str(int(median)), ha=\"left\", color=\"g\")\n",
    "\n",
    "    # Add a vertical line for the maximum value\n",
    "    max_value = df[column].max()\n",
    "    plt.text(max_value, 2, \" Max: \" + str(int(max_value)), ha=\"right\", color=\"b\")\n",
    "\n",
    "\n",
    "    # Add n to the top right corner\n",
    "    ax = plt.gca()\n",
    "    ax.text(1, 0.98, f\"n={n}\", horizontalalignment='right', verticalalignment='top', transform=ax.transAxes)\n",
    "\n",
    "    # Save the plot to a file\n",
    "    plt.savefig(f\"/Users/patrickahrend/Developer/data-analytics-bugcrowd/diagrams/histogram_{column}.png\",facecolor=\"white\", edgecolor=\"none\")"
   ]
  },
  {
   "cell_type": "code",
   "execution_count": 23,
   "metadata": {},
   "outputs": [],
   "source": [
    "def drop_nan(df, column):\n",
    "    # Drop all rows that have NaN values in the specified column\n",
    "    num_rows_dropped = df[column == 0].shape[0]\n",
    "\n",
    "    # Drop the rows with a value of 0 in the \"Average Payout\" column\n",
    "    df = df[column != 0]\n",
    "\n",
    "    # Count the number of rows remaining\n",
    "    num_rows_remaining = df.shape[0]\n",
    "\n",
    "    print(f\"{num_rows_dropped} rows were dropped.\")\n",
    "    print(f\"{num_rows_remaining} rows remaining.\")\n",
    "    return df, num_rows_remaining"
   ]
  },
  {
   "cell_type": "code",
   "execution_count": 24,
   "metadata": {},
   "outputs": [
    {
     "name": "stdout",
     "output_type": "stream",
     "text": [
      "8 rows were dropped.\n",
      "322 rows remaining.\n"
     ]
    },
    {
     "data": {
      "image/png": "[encoded data removed]",
      "text/plain": [
       "<Figure size 432x288 with 1 Axes>"
      ]
     },
     "metadata": {
      "needs_background": "light"
     },
     "output_type": "display_data"
    }
   ],
   "source": [
    "df = pd.read_excel(\"/Users/patrickahrend/Developer/data-analytics-bugcrowd/data-octa/bugcrowd_modified_24.12.xlsx\")\n",
    "df,n = drop_nan(df, df[\"Vulnearbilities Rewarded\"])\n",
    "\n",
    "plot_histogram(df, \"Vulnearbilities Rewarded\",\"\",n)"
   ]
  },
  {
   "cell_type": "code",
   "execution_count": 25,
   "metadata": {},
   "outputs": [
    {
     "name": "stdout",
     "output_type": "stream",
     "text": [
      "208 rows were dropped.\n",
      "122 rows remaining.\n"
     ]
    },
    {
     "data": {
      "image/png": "[encoded data removed]",
      "text/plain": [
       "<Figure size 432x288 with 1 Axes>"
      ]
     },
     "metadata": {
      "needs_background": "light"
     },
     "output_type": "display_data"
    }
   ],
   "source": [
    "df = pd.read_excel(\"/Users/patrickahrend/Developer/data-analytics-bugcrowd/data-octa/bugcrowd_modified_24.12.xlsx\")\n",
    "df,n = drop_nan(df, df[\"Average Payout\"])\n",
    "plot_histogram(df, \"Average Payout\", \"in $\",n)"
   ]
  },
  {
   "cell_type": "code",
   "execution_count": 26,
   "metadata": {},
   "outputs": [
    {
     "name": "stdout",
     "output_type": "stream",
     "text": [
      "0 rows were dropped.\n",
      "330 rows remaining.\n"
     ]
    },
    {
     "data": {
      "image/png": "[encoded data removed]",
      "text/plain": [
       "<Figure size 432x288 with 1 Axes>"
      ]
     },
     "metadata": {
      "needs_background": "light"
     },
     "output_type": "display_data"
    }
   ],
   "source": [
    "df = pd.read_excel(\"/Users/patrickahrend/Developer/data-analytics-bugcrowd/data-octa/bugcrowd_modified_24.12.xlsx\")\n",
    "df,n = drop_nan(df, df[\"Validation Within\"])\n",
    "plot_histogram(df, \"Validation Within\", \"in hours\",n)"
   ]
  },
  {
   "cell_type": "code",
   "execution_count": 27,
   "metadata": {},
   "outputs": [
    {
     "name": "stdout",
     "output_type": "stream",
     "text": [
      "68 rows were dropped.\n",
      "262 rows remaining.\n"
     ]
    },
    {
     "data": {
      "image/png": "[encoded data removed]",
      "text/plain": [
       "<Figure size 432x288 with 1 Axes>"
      ]
     },
     "metadata": {
      "needs_background": "light"
     },
     "output_type": "display_data"
    }
   ],
   "source": [
    "df = pd.read_excel(\"/Users/patrickahrend/Developer/data-analytics-bugcrowd/data-octa/bugcrowd_modified_24.12.xlsx\")\n",
    "df,n = drop_nan(df, df[\"Number People\"])\n",
    "plot_histogram(df, \"Number People\", \"\",n)"
   ]
  },
  {
   "cell_type": "code",
   "execution_count": 28,
   "metadata": {},
   "outputs": [
    {
     "name": "stdout",
     "output_type": "stream",
     "text": [
      "103 rows were dropped.\n",
      "227 rows remaining.\n"
     ]
    },
    {
     "data": {
      "image/png": "[encoded data removed]",
      "text/plain": [
       "<Figure size 432x288 with 1 Axes>"
      ]
     },
     "metadata": {
      "needs_background": "light"
     },
     "output_type": "display_data"
    }
   ],
   "source": [
    "\n",
    "df = pd.read_excel(\"/Users/patrickahrend/Developer/data-analytics-bugcrowd/data-octa/bugcrowd_modified_24.12.xlsx\")\n",
    "df,n = drop_nan(df, df[\"Hall of Famers\"])\n",
    "plot_histogram(df, \"Hall of Famers\", \"\",n)\n"
   ]
  },
  {
   "attachments": {},
   "cell_type": "markdown",
   "metadata": {},
   "source": [
    "### Safe habour"
   ]
  },
  {
   "cell_type": "code",
   "execution_count": 29,
   "metadata": {},
   "outputs": [
    {
     "name": "stdout",
     "output_type": "stream",
     "text": [
      "0 rows were dropped.\n",
      "330 rows remaining.\n"
     ]
    }
   ],
   "source": [
    "df = pd.read_excel(\"/Users/patrickahrend/Developer/data-analytics-bugcrowd/data-octa/bugcrowd_modified_24.12.xlsx\")\n",
    "# Plot the counts using seaborn\n",
    "df,n = drop_nan(df, df[\"Is Safe Harbor\"])\n",
    "counts = df[\"Is Safe Harbor\"].value_counts()\n",
    "count_n = counts.iloc[0] + counts.iloc[1]\n",
    "dropped_columns = n - count_n\n",
    "\n",
    "\n"
   ]
  },
  {
   "cell_type": "code",
   "execution_count": 30,
   "metadata": {},
   "outputs": [
    {
     "data": {
      "image/png": "[encoded data removed]",
      "text/plain": [
       "<Figure size 432x288 with 1 Axes>"
      ]
     },
     "metadata": {
      "needs_background": "light"
     },
     "output_type": "display_data"
    }
   ],
   "source": [
    "colors = [(0, 0, 1, 1), (0, 1, 0, 1), (1, 0, 0, 1)]\n",
    "sns.barplot(x=[\"Safe Harbor\", \"Partional Safe Harbor\", \"Not Harbor\"], y=[counts.iloc[0], counts.iloc[1], dropped_columns], data=df)\n",
    "plt.title(\"Counts of Safe Harbor Status\")\n",
    "ax = plt.gca()\n",
    "ax.text(1, 0.98, f\"n={n}\", horizontalalignment='right', verticalalignment='top', transform=ax.transAxes)\n",
    "plt.savefig(\"/Users/patrickahrend/Developer/data-analytics-bugcrowd/diagrams/histogram_safe_habor.png\",facecolor=\"white\", edgecolor=\"none\")"
   ]
  },
  {
   "attachments": {},
   "cell_type": "markdown",
   "metadata": {},
   "source": [
    "----------------"
   ]
  },
  {
   "attachments": {},
   "cell_type": "markdown",
   "metadata": {},
   "source": [
    "## Average payout plotting"
   ]
  },
  {
   "cell_type": "code",
   "execution_count": 31,
   "metadata": {},
   "outputs": [
    {
     "name": "stderr",
     "output_type": "stream",
     "text": [
      "/var/folders/p8/j40fdn353n30l2nvsd_70qgc0000gn/T/ipykernel_20043/1731563499.py:5: FutureWarning: The default value of regex will change from True to False in a future version. In addition, single character regular expressions will *not* be treated as literal strings when regex=True.\n",
      "  df[\"Average_payout\"] = df[\"Average_payout\"].str.replace(\"$\", \"\").str.replace(\",\", \"\")\n"
     ]
    },
    {
     "data": {
      "image/png": "[encoded data removed]",
      "text/plain": [
       "<Figure size 432x288 with 1 Axes>"
      ]
     },
     "metadata": {
      "needs_background": "light"
     },
     "output_type": "display_data"
    }
   ],
   "source": [
    "# read the CSV file into a DataFrame\n",
    "df = pd.read_csv(\"/Users/patrickahrend/Developer/data-analytics-bugcrowd/data-octa/BugCrowd-Program-V3.csv\")\n",
    "\n",
    "# remove the $ sign and the comma from the Average_payout column\n",
    "df[\"Average_payout\"] = df[\"Average_payout\"].str.replace(\"$\", \"\").str.replace(\",\", \"\")\n",
    "\n",
    "\n",
    "\n",
    "\n",
    "\n",
    "\n",
    "# convert the Average_payout column to a numeric data type\n",
    "df[\"Average_payout\"] = pd.to_numeric(df[\"Average_payout\"])\n",
    "avg = df[\"Average_payout\"].mean()\n",
    "\n",
    "max_value = df[\"Average_payout\"].max()\n",
    "# create a histogram of the Average_payout column\n",
    "df[\"Average_payout\"].plot.hist(bins=100)\n",
    "\n",
    "# label the x and y axes\n",
    "plt.xlabel(\"Average Payout in $\")\n",
    "plt.ylabel(\"Frequency\")\n",
    "\n",
    "plt.text(max_value, 1, \"Max: \" + str(max_value))\n",
    "\n",
    "plt.axvline(avg, color=\"r\", linestyle=\"dashed\", linewidth=1)\n",
    "plt.text(avg, 10, \"Avg: \" + str(int(avg)), ha=\"center\", color=\"r\")\n",
    "\n",
    "# save the figure as a PNG file\n",
    "plt.savefig(\"/Users/patrickahrend/Developer/data-analytics-bugcrowd/diagrams/Average_payout.png\")\n",
    "\n",
    "\n"
   ]
  },
  {
   "attachments": {},
   "cell_type": "markdown",
   "metadata": {},
   "source": [
    "## Num of white head hackers"
   ]
  },
  {
   "cell_type": "code",
   "execution_count": 32,
   "metadata": {},
   "outputs": [
    {
     "name": "stdout",
     "output_type": "stream",
     "text": [
      "Average number of hacks: 526\n"
     ]
    },
    {
     "data": {
      "image/png": "[encoded data removed]",
      "text/plain": [
       "<Figure size 432x288 with 1 Axes>"
      ]
     },
     "metadata": {
      "needs_background": "light"
     },
     "output_type": "display_data"
    }
   ],
   "source": [
    "# read the CSV file into a DataFrame\n",
    "df = pd.read_csv(\"/Users/patrickahrend/Developer/data-analytics-bugcrowd/data-octa/BugCrowd-Program-V3.csv\")\n",
    "\n",
    "\n",
    "avg = df[\"Num_Hacks\"].mean()\n",
    "\n",
    "# print the average\n",
    "print(\"Average number of hacks:\", int(avg))\n",
    "\n",
    "# convert the Num_Hacks column to a numeric data type\n",
    "df[\"Num_Hacks\"] = pd.to_numeric(df[\"Num_Hacks\"])\n",
    "\n",
    "# create a histogram of the Num_Hacks column\n",
    "df[\"Num_Hacks\"].plot.hist(bins=100)\n",
    "\n",
    "# add a vertical line at the location of the average\n",
    "plt.axvline(avg, color=\"r\", linestyle=\"dashed\", linewidth=1)\n",
    "# label the x and y axes\n",
    "plt.xlabel(\"Number of Hacks\")\n",
    "plt.ylabel(\"Frequency\")\n",
    "max_value = df[\"Num_Hacks\"].max()\n",
    "plt.text(max_value, 2, \"Max: \" + str(max_value),ha=\"center\")\n",
    "\n",
    "plt.text(avg, 30, \"Avg: \" + str(int(avg)), ha=\"center\", color=\"r\")\n",
    "\n",
    "# save the figure as a PNG file\n",
    "plt.savefig(\"/Users/patrickahrend/Developer/data-analytics-bugcrowd/diagrams/Num_hacks.png\")\n",
    "\n",
    "\n"
   ]
  },
  {
   "attachments": {},
   "cell_type": "markdown",
   "metadata": {},
   "source": [
    "## Reward Average\n"
   ]
  },
  {
   "cell_type": "code",
   "execution_count": 33,
   "metadata": {},
   "outputs": [
    {
     "name": "stdout",
     "output_type": "stream",
     "text": [
      "Total count of values in the reward element column 176\n",
      "Average reward in $: 3242\n",
      "[2525.0, 5100.0, 1800.0, 5050.0, 5025.0, 2350.0, 10250.0, 5150.0, 1275.0, 2500.0, 662.5, 662.5, 1575.0, 3135.0, 1325.0, 1825.0, 1325.0, 2312.5, 6100.0, 5050.0, 25050.0, 5075.0, 5125.0, 10100.0, 800.0, 3100.0, 1250.0, 3050.0, 3100.0, 525.0, 5075.0, 1000.0, 1550.0, 3400.0, 3400.0, 3750.0, 2250.0, 2250.0, 1250.0, 1250.0, 2250.0, 1250.0, 1550.0, 2600.0, 1600.0, 1300.0, 12600.0, 3400.0, 3050.0, 4600.0, 3575.0, 15150.0, 2075.0, 3600.0, 1825.0, 3050.0, 3025.0, 2000.0, 2000.0, 850.0, 800.0, 1750.0, 675.0, 2600.0, 1275.0, 12625.0, 2100.0, 1325.0, 1325.0, 1575.0, 1325.0, 1800.0, 2525.0, 1325.0, 800.0, 2575.0, 2350.0, 1325.0, 800.0, 2550.0, 4250.0, 12550.0, 50000.0, 6100.0, 4800.0, 1250.0, 1550.0, 3050.0, 3050.0, 3050.0, 800.0, 1550.0, 2550.0, 1525.0, 2050.0, 2350.0, 1375.0, 1850.0, 2575.0, 4075.0, 1325.0, 1275.0, 5025.0, 2625.0, 625.0, 2500.0, 2550.0, 800.0, 5050.0, 2350.0, 3050.0, 2275.0, 1600.0, 1625.0, 1325.0, 1300.0, 5100.0, 3100.0, 4050.0, 4025.0, 3825.0, 2075.0, 800.0, 7550.0, 1550.0, 7550.0, 2350.0, 2325.0, 2025.0, 3075.0, 800.0, 2350.0, 2050.0, 2575.0, 1300.0, 1125.0, 6100.0, 2350.0, 2500.0, 5100.0, 2350.0, 2350.0, 1800.0, 2350.0, 1800.0, 1325.0, 1062.5, 2100.0, 1000.0, 1050.0, 1800.0, 3350.0, 2650.0, 1325.0, 5150.0, 1312.5, 3400.0, 2650.0, 5050.0, 2075.0, 5050.0, 5050.0, 2600.0, 7500.0, 1825.0, 1175.0, 675.0, 5025.0, 2350.0, 1262.5, 2500.0, 525.0, 1550.0, 500.0, 2500.0, 1300.0]\n",
      "this is the median 2350.0\n"
     ]
    },
    {
     "data": {
      "image/png": "[encoded data removed]",
      "text/plain": [
       "<Figure size 432x288 with 1 Axes>"
      ]
     },
     "metadata": {
      "needs_background": "light"
     },
     "output_type": "display_data"
    }
   ],
   "source": [
    "import csv \n",
    "import pandas as pd\n",
    "# Open the CSV file\n",
    "with open(\"/Users/patrickahrend/Developer/data-analytics-bugcrowd/data-octa/BugCrowd-Program-V3.csv\", 'r') as f:\n",
    "  # Create a CSV reader\n",
    "  reader = csv.reader(f)\n",
    "  # Skip the header row\n",
    "  next(reader)\n",
    "  total_average = 0\n",
    "  averages = []\n",
    "  count = 0\n",
    "  # Iterate over the rows of the CSV\n",
    "  for row in reader:\n",
    "    # Get the reward value from the current row\n",
    "    reward_range = row[1]\n",
    "\n",
    "    if reward_range == \"\":continue\n",
    "    #Split the reward range on the \"-\" character\n",
    "    if \"-\" in reward_range:\n",
    "  # Split the string on the \"-\" character\n",
    "      count += 1\n",
    "      lower, upper = reward_range.split(\"-\")\n",
    "    else:\n",
    "      # Assign the entire string to the lower variable\n",
    "      lower = reward_range\n",
    "      upper = None\n",
    "\n",
    "    \n",
    "    # Remove the \"$\" and \",\" characters from the strings\n",
    "    lower = lower.replace(\"$\", \"\").replace(\",\", \"\")\n",
    "    upper = upper.replace(\"$\", \"\").replace(\",\", \"\") if upper else None\n",
    "\n",
    "    if \"Points\" in lower:\n",
    "      lower = 0\n",
    "\n",
    "    # Convert the strings to integers\n",
    "\n",
    "    try :\n",
    "      lower = int(lower)\n",
    "      upper = int(upper) if upper else None\n",
    "    except ValueError:\n",
    "      print(\"ValueError\", lower, upper)\n",
    "\n",
    "      continue\n",
    "\n",
    "    # Calculate the average of the lower and upper bounds\n",
    "    if upper:\n",
    "      average = (lower + upper) / 2\n",
    "      total_average += average\n",
    "      averages.append(average)\n",
    "    else:\n",
    "      average = lower\n",
    "      total_average += average\n",
    "      averages.append(average)\n",
    "\n",
    "\n",
    "  print(\"Total count of values in the reward element column\",count)  \n",
    "  print(\"Average reward in $:\", int(total_average / count))\n",
    "  print(averages)\n",
    "  df = pd.DataFrame(averages, columns=[\"Average\"])\n",
    "  df.plot.hist(bins=100)\n",
    "  df_average = df[\"Average\"].mean()\n",
    "  df_median= df[\"Average\"].median()\n",
    "  print(\"this is the median\",df_median)\n",
    "  plt.axvline(df_median, color=\"g\", linestyle=\"dashed\", linewidth=1)\n",
    "  plt.axvline(df_average, color=\"r\", linestyle=\"dashed\", linewidth=1)\n",
    "  plt.text(df_median, 25, \"Median: \" + str(int(df_median)), color=\"g\")\n",
    "  plt.text(df_average, 25, \"Avg: \" + str(int(df_average)), color=\"r\")\n",
    "\n",
    "\n",
    "\n",
    "\n",
    "\n",
    "\n",
    "\n"
   ]
  },
  {
   "attachments": {},
   "cell_type": "markdown",
   "metadata": {},
   "source": [
    "## Safe Habour Plotted"
   ]
  },
  {
   "cell_type": "code",
   "execution_count": 34,
   "metadata": {},
   "outputs": [
    {
     "name": "stdout",
     "output_type": "stream",
     "text": [
      "Safe Harbor: 111\n",
      "Partial Safe Harbor: 68\n",
      "Not Safe Harbor: 86\n"
     ]
    },
    {
     "data": {
      "image/png": "[encoded data removed]",
      "text/plain": [
       "<Figure size 432x288 with 1 Axes>"
      ]
     },
     "metadata": {
      "needs_background": "light"
     },
     "output_type": "display_data"
    }
   ],
   "source": [
    "# Initialize lists to store the data\n",
    "safe_harbor = []\n",
    "partial_safe_harbor = []\n",
    "not_safe_harbor = []\n",
    "\n",
    "# Open the CSV file\n",
    "with open(\"/Users/patrickahrend/Developer/data-analytics-bugcrowd/data-octa/BugCrowd-Program-V3.csv\", 'r') as f:\n",
    "  # Create a CSV reader\n",
    "  reader = csv.reader(f)\n",
    "  \n",
    "  # Iterate over the rows of the CSV\n",
    "  for row in reader:\n",
    "    # Get the \"Is_Safe_harbor\" value from the current row\n",
    "    value = row[4]\n",
    "    \n",
    "    # Check the value and increment the appropriate list\n",
    "    if value == \"True\":\n",
    "      safe_harbor.append(1)\n",
    "    elif \"Partial safe harbor\" in value:\n",
    "      partial_safe_harbor.append(1)\n",
    "    else:\n",
    "      not_safe_harbor.append(1)\n",
    "\n",
    "# Calculate the lengths of the lists\n",
    "safe_harbor_count = len(safe_harbor)\n",
    "print(\"Safe Harbor:\", safe_harbor_count)\n",
    "partial_safe_harbor_count = len(partial_safe_harbor)\n",
    "print(\"Partial Safe Harbor:\", partial_safe_harbor_count)\n",
    "not_safe_harbor_count = len(not_safe_harbor)\n",
    "print(\"Not Safe Harbor:\", not_safe_harbor_count)\n",
    "\n",
    "# Create the bar chart\n",
    "plt.bar([\"Safe Harbor\", \"Partial Safe Harbor\", \"Not Safe Harbor\"], [safe_harbor_count, partial_safe_harbor_count, not_safe_harbor_count], color=[\"green\", \"orange\", \"red\"])\n",
    "\n",
    "# Show the chart\n",
    "plt.show()\n"
   ]
  },
  {
   "attachments": {},
   "cell_type": "markdown",
   "metadata": {},
   "source": [
    "## Num hall of fame "
   ]
  },
  {
   "cell_type": "code",
   "execution_count": 35,
   "metadata": {},
   "outputs": [
    {
     "ename": "KeyError",
     "evalue": "'Hall_of_famers'",
     "output_type": "error",
     "traceback": [
      "\u001b[0;31m---------------------------------------------------------------------------\u001b[0m",
      "\u001b[0;31mKeyError\u001b[0m                                  Traceback (most recent call last)",
      "File \u001b[0;32m~/opt/anaconda3/lib/python3.9/site-packages/pandas/core/indexes/base.py:3803\u001b[0m, in \u001b[0;36mIndex.get_loc\u001b[0;34m(self, key, method, tolerance)\u001b[0m\n\u001b[1;32m   3802\u001b[0m \u001b[39mtry\u001b[39;00m:\n\u001b[0;32m-> 3803\u001b[0m     \u001b[39mreturn\u001b[39;00m \u001b[39mself\u001b[39;49m\u001b[39m.\u001b[39;49m_engine\u001b[39m.\u001b[39;49mget_loc(casted_key)\n\u001b[1;32m   3804\u001b[0m \u001b[39mexcept\u001b[39;00m \u001b[39mKeyError\u001b[39;00m \u001b[39mas\u001b[39;00m err:\n",
      "File \u001b[0;32m~/opt/anaconda3/lib/python3.9/site-packages/pandas/_libs/index.pyx:138\u001b[0m, in \u001b[0;36mpandas._libs.index.IndexEngine.get_loc\u001b[0;34m()\u001b[0m\n",
      "File \u001b[0;32m~/opt/anaconda3/lib/python3.9/site-packages/pandas/_libs/index.pyx:165\u001b[0m, in \u001b[0;36mpandas._libs.index.IndexEngine.get_loc\u001b[0;34m()\u001b[0m\n",
      "File \u001b[0;32mpandas/_libs/hashtable_class_helper.pxi:5745\u001b[0m, in \u001b[0;36mpandas._libs.hashtable.PyObjectHashTable.get_item\u001b[0;34m()\u001b[0m\n",
      "File \u001b[0;32mpandas/_libs/hashtable_class_helper.pxi:5753\u001b[0m, in \u001b[0;36mpandas._libs.hashtable.PyObjectHashTable.get_item\u001b[0;34m()\u001b[0m\n",
      "\u001b[0;31mKeyError\u001b[0m: 'Hall_of_famers'",
      "\nThe above exception was the direct cause of the following exception:\n",
      "\u001b[0;31mKeyError\u001b[0m                                  Traceback (most recent call last)",
      "\u001b[1;32m/Users/patrickahrend/Developer/data-analytics-bugcrowd/src/analytics_notebook.ipynb Cell 43\u001b[0m in \u001b[0;36m<cell line: 3>\u001b[0;34m()\u001b[0m\n\u001b[1;32m      <a href='vscode-notebook-cell:/Users/patrickahrend/Developer/data-analytics-bugcrowd/src/analytics_notebook.ipynb#X60sZmlsZQ%3D%3D?line=0'>1</a>\u001b[0m df \u001b[39m=\u001b[39m pd\u001b[39m.\u001b[39mread_excel(\u001b[39m\"\u001b[39m\u001b[39m/Users/patrickahrend/Developer/data-analytics-bugcrowd/data-octa/Bugcrowd_industry-asc_24.12.xlsx\u001b[39m\u001b[39m\"\u001b[39m)\n\u001b[0;32m----> <a href='vscode-notebook-cell:/Users/patrickahrend/Developer/data-analytics-bugcrowd/src/analytics_notebook.ipynb#X60sZmlsZQ%3D%3D?line=2'>3</a>\u001b[0m df \u001b[39m=\u001b[39m df_new[\u001b[39m\"\u001b[39;49m\u001b[39mHall_of_famers\u001b[39;49m\u001b[39m\"\u001b[39;49m]\n\u001b[1;32m      <a href='vscode-notebook-cell:/Users/patrickahrend/Developer/data-analytics-bugcrowd/src/analytics_notebook.ipynb#X60sZmlsZQ%3D%3D?line=3'>4</a>\u001b[0m df\u001b[39m.\u001b[39mdropna(inplace\u001b[39m=\u001b[39m\u001b[39mTrue\u001b[39;00m)\n\u001b[1;32m      <a href='vscode-notebook-cell:/Users/patrickahrend/Developer/data-analytics-bugcrowd/src/analytics_notebook.ipynb#X60sZmlsZQ%3D%3D?line=5'>6</a>\u001b[0m df \u001b[39m=\u001b[39m df\u001b[39m.\u001b[39mstr\u001b[39m.\u001b[39mreplace(\u001b[39m\"\u001b[39m\u001b[39mView the hall\u001b[39m\u001b[39m\"\u001b[39m, \u001b[39m\"\u001b[39m\u001b[39m\"\u001b[39m)\u001b[39m.\u001b[39mstr\u001b[39m.\u001b[39mreplace(\u001b[39m\"\u001b[39m\u001b[39mView all \u001b[39m\u001b[39m\"\u001b[39m, \u001b[39m\"\u001b[39m\u001b[39m\"\u001b[39m)\n",
      "File \u001b[0;32m~/opt/anaconda3/lib/python3.9/site-packages/pandas/core/frame.py:3804\u001b[0m, in \u001b[0;36mDataFrame.__getitem__\u001b[0;34m(self, key)\u001b[0m\n\u001b[1;32m   3802\u001b[0m \u001b[39mif\u001b[39;00m \u001b[39mself\u001b[39m\u001b[39m.\u001b[39mcolumns\u001b[39m.\u001b[39mnlevels \u001b[39m>\u001b[39m \u001b[39m1\u001b[39m:\n\u001b[1;32m   3803\u001b[0m     \u001b[39mreturn\u001b[39;00m \u001b[39mself\u001b[39m\u001b[39m.\u001b[39m_getitem_multilevel(key)\n\u001b[0;32m-> 3804\u001b[0m indexer \u001b[39m=\u001b[39m \u001b[39mself\u001b[39;49m\u001b[39m.\u001b[39;49mcolumns\u001b[39m.\u001b[39;49mget_loc(key)\n\u001b[1;32m   3805\u001b[0m \u001b[39mif\u001b[39;00m is_integer(indexer):\n\u001b[1;32m   3806\u001b[0m     indexer \u001b[39m=\u001b[39m [indexer]\n",
      "File \u001b[0;32m~/opt/anaconda3/lib/python3.9/site-packages/pandas/core/indexes/base.py:3805\u001b[0m, in \u001b[0;36mIndex.get_loc\u001b[0;34m(self, key, method, tolerance)\u001b[0m\n\u001b[1;32m   3803\u001b[0m     \u001b[39mreturn\u001b[39;00m \u001b[39mself\u001b[39m\u001b[39m.\u001b[39m_engine\u001b[39m.\u001b[39mget_loc(casted_key)\n\u001b[1;32m   3804\u001b[0m \u001b[39mexcept\u001b[39;00m \u001b[39mKeyError\u001b[39;00m \u001b[39mas\u001b[39;00m err:\n\u001b[0;32m-> 3805\u001b[0m     \u001b[39mraise\u001b[39;00m \u001b[39mKeyError\u001b[39;00m(key) \u001b[39mfrom\u001b[39;00m \u001b[39merr\u001b[39;00m\n\u001b[1;32m   3806\u001b[0m \u001b[39mexcept\u001b[39;00m \u001b[39mTypeError\u001b[39;00m:\n\u001b[1;32m   3807\u001b[0m     \u001b[39m# If we have a listlike key, _check_indexing_error will raise\u001b[39;00m\n\u001b[1;32m   3808\u001b[0m     \u001b[39m#  InvalidIndexError. Otherwise we fall through and re-raise\u001b[39;00m\n\u001b[1;32m   3809\u001b[0m     \u001b[39m#  the TypeError.\u001b[39;00m\n\u001b[1;32m   3810\u001b[0m     \u001b[39mself\u001b[39m\u001b[39m.\u001b[39m_check_indexing_error(key)\n",
      "\u001b[0;31mKeyError\u001b[0m: 'Hall_of_famers'"
     ]
    }
   ],
   "source": [
    "df = pd.read_excel(\"/Users/patrickahrend/Developer/data-analytics-bugcrowd/data-octa/Bugcrowd_industry-asc_24.12.xlsx\")\n",
    "\n",
    "df = df_new[\"Hall_of_famers\"]\n",
    "df.dropna(inplace=True)\n",
    "\n",
    "df = df.str.replace(\"View the hall\", \"\").str.replace(\"View all \", \"\")\n",
    "\n",
    "df = pd.to_numeric(df)\n",
    "# create a histogram of the Num_Hacks column\n",
    "df.plot.hist(bins=100)\n",
    "\n",
    "average = df.mean()\n",
    "average = int(average)\n",
    "median = int(df.median())\n",
    "# add a vertical line at the location of the average\n",
    "plt.axvline(average, color=\"r\", linestyle=\"dashed\", linewidth=1)\n",
    "plt.axvline(median, color=\"g\", linestyle=\"dashed\", linewidth=1)\n",
    "plt.text(median, 20, \"Median: \" + str(median),ha=\"left\",color=\"g\")\n",
    "# label the x and y axes\n",
    "plt.xlabel(\"Number of Hacks\")\n",
    "plt.ylabel(\"Frequency\")\n",
    "plt.text(average, 15, \"Max: \" + str(average),ha=\"center\",color=\"r\")\n",
    "\n",
    "\n",
    "\n",
    "\n"
   ]
  },
  {
   "cell_type": "code",
   "execution_count": null,
   "metadata": {},
   "outputs": [],
   "source": [
    "df = df_new[\"Hall_of_famers\"]\n",
    "df.dropna(inplace=True)\n",
    "\n",
    "for ele in df:\n",
    "  if ele == \"View the hall\":\n",
    "    df.replace(ele, 0, inplace=True)\n",
    "    \n",
    "\n",
    "df = pd.to_numeric(df)\n",
    "# create a histogram of the Num_Hacks column\n",
    "df.plot.hist(bins=100)\n",
    "\n",
    "average = df.mean()\n",
    "average = int(average)\n",
    "# add a vertical line at the location of the average\n",
    "plt.axvline(average, color=\"r\", linestyle=\"dashed\", linewidth=1)\n",
    "# label the x and y axes\n",
    "plt.xlabel(\"Number of Hacks\")\n",
    "plt.ylabel(\"Frequency\")\n",
    "plt.text(average, 15, \"Max: \" + str(average),ha=\"center\",color=\"r\")\n",
    "\n",
    "\n"
   ]
  },
  {
   "attachments": {},
   "cell_type": "markdown",
   "metadata": {},
   "source": [
    "## Validation within "
   ]
  },
  {
   "cell_type": "code",
   "execution_count": null,
   "metadata": {},
   "outputs": [],
   "source": [
    "df = pd.read_csv(\"/Users/patrickahrend/Developer/data-analytics-bugcrowd/data-octa/BugCrowd-Program-V3.csv\")\n",
    "\n",
    "df = df[\"Validation_within\"]\n",
    "df.dropna(inplace=True)\n",
    "df.str.replace('\\n', '').str.replace('days', '')\n",
    "\n",
    "df_final = pd.DataFrame()\n",
    "\n",
    "for ele in df:\n",
    "    if \"$\" in ele:\n",
    "        ele = ele.replace(ele, \"0\")\n",
    "        ele = ele.strip()\n",
    "    if \"days\" in ele:\n",
    "        ele = ele.replace(\"days\", \"\")\n",
    "        ele = ele.strip()\n",
    "        ele = int(ele)\n",
    "        ele = ele * 24\n",
    "        ele = str(ele) + \" hours\"\n",
    "    if \"day\" in ele:\n",
    "        ele = ele.replace(\"day\", \"\")\n",
    "        ele = ele.strip()\n",
    "        ele = int(ele)\n",
    "        ele = ele * 24\n",
    "        ele = str(ele) + \" hours\"\n",
    "    if \"about\" in ele:\n",
    "        ele = ele.replace(\"about\", \"\")\n",
    "        ele = ele.strip()\n",
    "    if \"month\" in ele:\n",
    "        ele = ele.replace(\"month\", \"\")\n",
    "        ele = ele.strip()\n",
    "        ele = int(ele)\n",
    "        ele = ele * 24 * 30\n",
    "        ele = str(ele) + \" hours\"\n",
    "    if \"minutes\" in ele:\n",
    "        ele = ele.replace(\"minutes\", \"\")\n",
    "        ele = ele.strip()\n",
    "        ele = int(ele)\n",
    "        ele = ele * 60\n",
    "        ele = str(ele) + \" hours\"\n",
    "    if \"hours\" in ele:\n",
    "        ele = ele.replace(\"hours\", \"\")\n",
    "        ele = ele.strip()\n",
    "    if \"hour\" in ele:\n",
    "        ele = ele.replace(\"hour\", \"\")\n",
    "        ele = ele.strip()\n",
    "    \n",
    "    df_final = df_final.append({'Validation_within': ele}, ignore_index=True)\n",
    "\n",
    "df_final = pd.to_numeric(df_final[\"Validation_within\"])\n",
    "df_final.plot.hist(bins=100)\n",
    "average = df_final.mean()\n",
    "average = int(average)\n",
    "# add a vertical line at the location of the average\n",
    "plt.axvline(average, color=\"r\", linestyle=\"dashed\", linewidth=1)\n",
    "# label the x and y axes\n",
    "plt.xlabel(\"Number of Hours\")\n",
    "plt.ylabel(\"Frequency\")\n",
    "plt.text(average, 35, \"Avg: \" + str(average),ha=\"center\",color=\"r\")\n",
    "    \n",
    "\n",
    "\n",
    "\n",
    "\n",
    "\n",
    "# df['Validation_within'] = df['Validation_within'].str.replace('\\n', '').str.replace('days', '')\n",
    "# # Extract the numerical values from the entries\n",
    "# df['Validation_within'] = df['Validation_within'].str.extract('(\\d+)')\n",
    "\n",
    "# # Convert the column to numeric type\n",
    "# df['Validation_within'] = pd.to_numeric(df['Validation_within'])\n",
    "\n",
    "# for element in df['Validation_within']:\n",
    "#     print(element)\n",
    "\n",
    "\n",
    "# df_new = pd.DateFrame(\"Validation_within\" , columns=[\"Validation_within\"])\n",
    "# df.dropna(inplace=True)\n",
    "# print(type(df))"
   ]
  },
  {
   "attachments": {},
   "cell_type": "markdown",
   "metadata": {},
   "source": [
    "## Scope Target Mobile"
   ]
  },
  {
   "cell_type": "code",
   "execution_count": null,
   "metadata": {},
   "outputs": [],
   "source": []
  },
  {
   "cell_type": "code",
   "execution_count": null,
   "metadata": {},
   "outputs": [],
   "source": []
  },
  {
   "attachments": {},
   "cell_type": "markdown",
   "metadata": {},
   "source": [
    "## Scope Target Android, IOS"
   ]
  },
  {
   "cell_type": "code",
   "execution_count": null,
   "metadata": {},
   "outputs": [],
   "source": []
  }
 ],
 "metadata": {
  "kernelspec": {
   "display_name": "Python 3.9.12 ('base')",
   "language": "python",
   "name": "python3"
  },
  "language_info": {
   "codemirror_mode": {
    "name": "ipython",
    "version": 3
   },
   "file_extension": ".py",
   "mimetype": "text/x-python",
   "name": "python",
   "nbconvert_exporter": "python",
   "pygments_lexer": "ipython3",
   "version": "3.9.12"
  },
  "orig_nbformat": 4,
  "vscode": {
   "interpreter": {
    "hash": "d3ddb9a339dcfec66cb1d066e0234a99f8d679773fa71ee722ae52c5be71efea"
   }
  }
 },
 "nbformat": 4,
 "nbformat_minor": 2
}
