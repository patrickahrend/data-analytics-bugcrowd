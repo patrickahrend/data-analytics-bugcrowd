{
 "cells": [
  {
   "attachments": {},
   "cell_type": "markdown",
   "metadata": {},
   "source": [
    "# Analytics of the Bugcrowd programs"
   ]
  },
  {
   "attachments": {},
   "cell_type": "markdown",
   "metadata": {},
   "source": [
    "## Vulnerability plotting"
   ]
  },
  {
   "cell_type": "code",
   "execution_count": 58,
   "metadata": {},
   "outputs": [
    {
     "data": {
      "image/png": "[encoded data removed]",
      "text/plain": [
       "<Figure size 432x288 with 1 Axes>"
      ]
     },
     "metadata": {
      "needs_background": "light"
     },
     "output_type": "display_data"
    }
   ],
   "source": [
    "import pandas as pd\n",
    "import matplotlib.pyplot as plt\n",
    "\n",
    "# read the CSV file into a DataFrame\n",
    "df = pd.read_csv(\"/Users/patrickahrend/Developer/data-analytics-bugcrowd/data-octa/BugCrowd-Program-V3.csv\")\n",
    "\n",
    "# print the maximum and minimum values of the Vulnerabilities_rewarded column\n",
    "max_value = df[\"Vulnearbilities_rewarded\"].max()\n",
    "\n",
    "# create a histogram of the Vulnerabilities_rewarded column\n",
    "df[\"Vulnearbilities_rewarded\"].plot.hist(bins=30)\n",
    "plt.xlabel(\"Vulnerabilities Rewarded\")\n",
    "plt.ylabel(\"Frequency\")\n",
    "plt.text(max_value, 1, \"Max: \" + str(max_value))\n",
    "\n",
    "\n",
    "avg = df[\"Vulnearbilities_rewarded\"].mean()\n",
    "plt.axvline(avg, color=\"r\", linestyle=\"dashed\", linewidth=1)\n",
    "plt.text(avg, 100, \"Avg: \" + str(int(avg)), ha=\"center\", color=\"r\")\n",
    "\n",
    "plt.savefig(\"/Users/patrickahrend/Developer/data-analytics-bugcrowd/diagrams/Vulnearbilities_rewarded.png\")\n",
    "\n",
    "\n",
    "\n"
   ]
  },
  {
   "attachments": {},
   "cell_type": "markdown",
   "metadata": {},
   "source": [
    "## Average payout plotting"
   ]
  },
  {
   "cell_type": "code",
   "execution_count": 53,
   "metadata": {},
   "outputs": [
    {
     "name": "stderr",
     "output_type": "stream",
     "text": [
      "/var/folders/p8/j40fdn353n30l2nvsd_70qgc0000gn/T/ipykernel_49603/3818711280.py:8: FutureWarning: The default value of regex will change from True to False in a future version. In addition, single character regular expressions will *not* be treated as literal strings when regex=True.\n",
      "  df[\"Average_payout\"] = df[\"Average_payout\"].str.replace(\"$\", \"\").str.replace(\",\", \"\")\n"
     ]
    },
    {
     "data": {
      "image/png": "[encoded data removed]",
      "text/plain": [
       "<Figure size 432x288 with 1 Axes>"
      ]
     },
     "metadata": {
      "needs_background": "light"
     },
     "output_type": "display_data"
    }
   ],
   "source": [
    "import pandas as pd\n",
    "import matplotlib.pyplot as plt\n",
    "\n",
    "# read the CSV file into a DataFrame\n",
    "df = pd.read_csv(\"/Users/patrickahrend/Developer/data-analytics-bugcrowd/data-octa/BugCrowd-Program-V3.csv\")\n",
    "\n",
    "# remove the $ sign and the comma from the Average_payout column\n",
    "df[\"Average_payout\"] = df[\"Average_payout\"].str.replace(\"$\", \"\").str.replace(\",\", \"\")\n",
    "\n",
    "\n",
    "\n",
    "\n",
    "\n",
    "\n",
    "# convert the Average_payout column to a numeric data type\n",
    "df[\"Average_payout\"] = pd.to_numeric(df[\"Average_payout\"])\n",
    "avg = df[\"Average_payout\"].mean()\n",
    "\n",
    "max_value = df[\"Average_payout\"].max()\n",
    "# create a histogram of the Average_payout column\n",
    "df[\"Average_payout\"].plot.hist(bins=100)\n",
    "\n",
    "# label the x and y axes\n",
    "plt.xlabel(\"Average Payout in $\")\n",
    "plt.ylabel(\"Frequency\")\n",
    "\n",
    "plt.text(max_value, 1, \"Max: \" + str(max_value))\n",
    "\n",
    "plt.axvline(avg, color=\"r\", linestyle=\"dashed\", linewidth=1)\n",
    "plt.text(avg, 10, \"Avg: \" + str(int(avg)), ha=\"center\", color=\"r\")\n",
    "\n",
    "# save the figure as a PNG file\n",
    "plt.savefig(\"/Users/patrickahrend/Developer/data-analytics-bugcrowd/diagrams/Average_payout.png\")\n",
    "\n",
    "\n"
   ]
  },
  {
   "attachments": {},
   "cell_type": "markdown",
   "metadata": {},
   "source": [
    "## Num of white head hackers"
   ]
  },
  {
   "cell_type": "code",
   "execution_count": 45,
   "metadata": {},
   "outputs": [
    {
     "name": "stdout",
     "output_type": "stream",
     "text": [
      "Average number of hacks: 526\n"
     ]
    },
    {
     "data": {
      "image/png": "[encoded data removed]",
      "text/plain": [
       "<Figure size 432x288 with 1 Axes>"
      ]
     },
     "metadata": {
      "needs_background": "light"
     },
     "output_type": "display_data"
    }
   ],
   "source": [
    "import pandas as pd\n",
    "import matplotlib.pyplot as plt\n",
    "\n",
    "# read the CSV file into a DataFrame\n",
    "df = pd.read_csv(\"/Users/patrickahrend/Developer/data-analytics-bugcrowd/data-octa/BugCrowd-Program-V3.csv\")\n",
    "\n",
    "\n",
    "avg = df[\"Num_Hacks\"].mean()\n",
    "\n",
    "# print the average\n",
    "print(\"Average number of hacks:\", int(avg))\n",
    "\n",
    "# convert the Num_Hacks column to a numeric data type\n",
    "df[\"Num_Hacks\"] = pd.to_numeric(df[\"Num_Hacks\"])\n",
    "\n",
    "# create a histogram of the Num_Hacks column\n",
    "df[\"Num_Hacks\"].plot.hist(bins=100)\n",
    "\n",
    "# add a vertical line at the location of the average\n",
    "plt.axvline(avg, color=\"r\", linestyle=\"dashed\", linewidth=1)\n",
    "# label the x and y axes\n",
    "plt.xlabel(\"Number of Hacks\")\n",
    "plt.ylabel(\"Frequency\")\n",
    "max_value = df[\"Num_Hacks\"].max()\n",
    "plt.text(max_value, 2, \"Max: \" + str(max_value),ha=\"center\")\n",
    "\n",
    "plt.text(avg, 30, \"Avg: \" + str(int(avg)), ha=\"center\", color=\"r\")\n",
    "\n",
    "# save the figure as a PNG file\n",
    "plt.savefig(\"/Users/patrickahrend/Developer/data-analytics-bugcrowd/diagrams/Num_hacks.png\")\n",
    "\n",
    "\n"
   ]
  },
  {
   "attachments": {},
   "cell_type": "markdown",
   "metadata": {},
   "source": [
    "## Reward Average\n"
   ]
  },
  {
   "cell_type": "code",
   "execution_count": null,
   "metadata": {},
   "outputs": [],
   "source": [
    "import csv \n",
    "# Open the CSV file\n",
    "with open('./data-octa/BugCrowd-Program-V3.csv', 'r') as f:\n",
    "  # Create a CSV reader\n",
    "  reader = csv.reader(f)\n",
    "  \n",
    "  # Iterate over the rows of the CSV\n",
    "  for row in reader:\n",
    "    # Get the reward value from the current row\n",
    "    reward_range = row[1]\n",
    "    \n",
    "    # Split the reward range on the \"-\" character\n",
    "    lower, upper = reward_range.split(\"-\")\n",
    "    \n",
    "    # Remove any leading or trailing whitespace from the strings\n",
    "    lower = lower.strip()\n",
    "    upper = upper.strip()\n",
    "    \n",
    "    # Remove the \"$\" character from the strings\n",
    "    lower = lower[1:]\n",
    "    upper = upper[1:]\n",
    "    \n",
    "    # Convert the strings to integers\n",
    "    lower = int(lower)\n",
    "    upper = int(upper)\n",
    "    \n",
    "    # Calculate the average of the lower and upper bounds\n",
    "    average = (lower + upper) / 2\n",
    "    \n",
    "    # Print the average reward\n",
    "    print(average)"
   ]
  },
  {
   "cell_type": "code",
   "execution_count": null,
   "metadata": {},
   "outputs": [],
   "source": []
  },
  {
   "attachments": {},
   "cell_type": "markdown",
   "metadata": {},
   "source": [
    "## Safe Habour Plotted"
   ]
  },
  {
   "cell_type": "code",
   "execution_count": null,
   "metadata": {},
   "outputs": [],
   "source": []
  },
  {
   "cell_type": "code",
   "execution_count": null,
   "metadata": {},
   "outputs": [],
   "source": []
  },
  {
   "cell_type": "code",
   "execution_count": null,
   "metadata": {},
   "outputs": [],
   "source": []
  },
  {
   "attachments": {},
   "cell_type": "markdown",
   "metadata": {},
   "source": [
    "## Num hall of fame "
   ]
  },
  {
   "cell_type": "code",
   "execution_count": null,
   "metadata": {},
   "outputs": [],
   "source": []
  },
  {
   "cell_type": "code",
   "execution_count": null,
   "metadata": {},
   "outputs": [],
   "source": []
  },
  {
   "attachments": {},
   "cell_type": "markdown",
   "metadata": {},
   "source": [
    "## Scope Target Mobile"
   ]
  },
  {
   "cell_type": "code",
   "execution_count": null,
   "metadata": {},
   "outputs": [],
   "source": []
  },
  {
   "cell_type": "code",
   "execution_count": null,
   "metadata": {},
   "outputs": [],
   "source": []
  },
  {
   "attachments": {},
   "cell_type": "markdown",
   "metadata": {},
   "source": [
    "## Scope Target Android, IOS"
   ]
  }
 ],
 "metadata": {
  "kernelspec": {
   "display_name": "Python 3.9.12 ('base')",
   "language": "python",
   "name": "python3"
  },
  "language_info": {
   "codemirror_mode": {
    "name": "ipython",
    "version": 3
   },
   "file_extension": ".py",
   "mimetype": "text/x-python",
   "name": "python",
   "nbconvert_exporter": "python",
   "pygments_lexer": "ipython3",
   "version": "3.9.12 (main, Apr  5 2022, 01:53:17) \n[Clang 12.0.0 ]"
  },
  "orig_nbformat": 4,
  "vscode": {
   "interpreter": {
    "hash": "d3ddb9a339dcfec66cb1d066e0234a99f8d679773fa71ee722ae52c5be71efea"
   }
  }
 },
 "nbformat": 4,
 "nbformat_minor": 2
}
