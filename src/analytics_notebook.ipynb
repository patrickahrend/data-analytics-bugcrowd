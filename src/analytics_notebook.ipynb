{
 "cells": [
  {
   "attachments": {},
   "cell_type": "markdown",
   "metadata": {},
   "source": [
    "# Analytics of the Bugcrowd programs"
   ]
  },
  {
   "cell_type": "code",
   "execution_count": 96,
   "metadata": {},
   "outputs": [],
   "source": [
    "import pandas as pd\n",
    "import matplotlib.pyplot as plt\n",
    "import csv\n",
    "import seaborn as sns\n",
    "import io \n",
    "import numpy as np"
   ]
  },
  {
   "cell_type": "code",
   "execution_count": 97,
   "metadata": {},
   "outputs": [],
   "source": [
    "# df_old = pd.read_csv(\"/Users/patrickahrend/Developer/data-analytics-bugcrowd/data-octa/BugCrowd-Program-V3.csv\")\n",
    "df = pd.read_excel(\"../used_data/data-one-hot.xlsx\")"
   ]
  },
  {
   "attachments": {},
   "cell_type": "markdown",
   "metadata": {},
   "source": [
    "## Data cleaning \n"
   ]
  },
  {
   "cell_type": "code",
   "execution_count": 98,
   "metadata": {},
   "outputs": [
    {
     "data": {
      "text/plain": [
       "Unnamed: 0                                  int64\n",
       "Reward Range                               object\n",
       "Link                                       object\n",
       "Title                                      object\n",
       "Short Description                          object\n",
       "Is Safe Harbor                             object\n",
       "Vulnearbilities Rewarded                  float64\n",
       "Validation Within                          object\n",
       "Average Payout                             object\n",
       "Hall of Famers                             object\n",
       "Number People                              object\n",
       "P4                                         object\n",
       "P3                                         object\n",
       "P2                                         object\n",
       "P1                                         object\n",
       "Maximum Reword                             object\n",
       "programm_ruels                             object\n",
       "annocument_count                          float64\n",
       "Featured                                   object\n",
       "Industry                                   object\n",
       "Technology                                 object\n",
       "Technology API Target                       int64\n",
       "Technology Web Targets                      int64\n",
       "Technology Android Targets                  int64\n",
       "Technology IoT Targets                      int64\n",
       "Technology iOS Targets                      int64\n",
       "Technology Hardware Targets                 int64\n",
       "Featured Staff Picks                        int64\n",
       "Featured BCTeamHunt2022                     int64\n",
       "Featured New Scope & Increased Rewards      int64\n",
       "Featured Self Service                       int64\n",
       "Featured Highest Reward Range               int64\n",
       "Featured Coordinated Disclosure             int64\n",
       "Featured Atlassian                          int64\n",
       "Featured Needs a P1 warrior                 int64\n",
       "Has Technology                               bool\n",
       "Has Featured                                 bool\n",
       "Has Industry                                 bool\n",
       "dtype: object"
      ]
     },
     "execution_count": 98,
     "metadata": {},
     "output_type": "execute_result"
    }
   ],
   "source": [
    "df.dtypes"
   ]
  },
  {
   "cell_type": "code",
   "execution_count": 99,
   "metadata": {},
   "outputs": [
    {
     "data": {
      "text/plain": [
       "Index(['Unnamed: 0', 'Reward Range', 'Link', 'Title', 'Short Description',\n",
       "       'Is Safe Harbor', 'Vulnearbilities Rewarded', 'Validation Within',\n",
       "       'Average Payout', 'Hall of Famers', 'Number People', 'P4', 'P3', 'P2',\n",
       "       'P1', 'Maximum Reword', 'programm_ruels', 'annocument_count',\n",
       "       'Featured', 'Industry', 'Technology', 'Technology API Target',\n",
       "       'Technology Web Targets', 'Technology Android Targets',\n",
       "       'Technology IoT Targets', 'Technology iOS Targets',\n",
       "       'Technology Hardware Targets', 'Featured Staff Picks',\n",
       "       'Featured BCTeamHunt2022', 'Featured New Scope & Increased Rewards',\n",
       "       'Featured Self Service', 'Featured Highest Reward Range',\n",
       "       'Featured Coordinated Disclosure', 'Featured Atlassian',\n",
       "       'Featured Needs a P1 warrior', 'Has Technology', 'Has Featured',\n",
       "       'Has Industry'],\n",
       "      dtype='object')"
      ]
     },
     "execution_count": 99,
     "metadata": {},
     "output_type": "execute_result"
    }
   ],
   "source": [
    "df.columns"
   ]
  },
  {
   "cell_type": "code",
   "execution_count": 100,
   "metadata": {},
   "outputs": [],
   "source": [
    "df[\"Is Safe Harbor\"] = df[\"Is Safe Harbor\"].astype('category')"
   ]
  },
  {
   "cell_type": "code",
   "execution_count": 101,
   "metadata": {},
   "outputs": [
    {
     "data": {
      "text/plain": [
       "<bound method NDFrame.describe of      Unnamed: 0     Reward Range  \\\n",
       "0             0    $100 - $6,500   \n",
       "1             1   $300 - $30,000   \n",
       "2             2              NaN   \n",
       "3             3              NaN   \n",
       "4             4    $250 - $5,000   \n",
       "..          ...              ...   \n",
       "324         324  Points – $1,250   \n",
       "325         325              NaN   \n",
       "326         326              NaN   \n",
       "327         327    $150 – $2,500   \n",
       "328         328              NaN   \n",
       "\n",
       "                                                  Link  \\\n",
       "0    https://bugcrowd.com/programs/teasers/9ivBQDeA...   \n",
       "1                       https://bugcrowd.com/agilebits   \n",
       "2                         https://bugcrowd.com/anz-vdp   \n",
       "3                     https://bugcrowd.com/amexgbt-vdp   \n",
       "4                   https://bugcrowd.com/twentyminuten   \n",
       "..                                                 ...   \n",
       "324          https://bugcrowd.com/macquarie-group-vdp    \n",
       "325                    https://bugcrowd.com/comcastvdp   \n",
       "326                       https://bugcrowd.com/iaf-vdp   \n",
       "327  https://bugcrowd.com/programs/teasers/pinkJ5Me...   \n",
       "328                                                NaN   \n",
       "\n",
       "                                                 Title  \\\n",
       "0      Transactional email service made for developers   \n",
       "1                                            1Password   \n",
       "2                   ANZ Responsible Disclosure Program   \n",
       "3    AMEX - Global Business Travel Vulnerability Di...   \n",
       "4                                           20 Minuten   \n",
       "..                                                 ...   \n",
       "324   Macquarie Group Vulnerability Disclosure Program   \n",
       "325   Comcast Xfinity Vulnerability Disclosure Program   \n",
       "326  Inter-American Foundation - Vulnerability Disc...   \n",
       "327                     The leader in transport fuels.   \n",
       "328                                                NaN   \n",
       "\n",
       "                                     Short Description       Is Safe Harbor  \\\n",
       "0    Help us secure our web interface for an applic...          Safe harbor   \n",
       "1    1Password is the world's best password manager...                  NaN   \n",
       "2    Submit your findings to ANZ's responsible disc...  Partial safe harbor   \n",
       "3    We make it our business to meet your company's...          Safe harbor   \n",
       "4                        20 Minuten Bug Bounty Program                  NaN   \n",
       "..                                                 ...                  ...   \n",
       "324  Submit your finding to the Macquarie Group Vul...                  NaN   \n",
       "325  Digital Cable TV, Internet and Phone for Resid...                  NaN   \n",
       "326       Please submit your findings to our program !          Safe harbor   \n",
       "327  Android and IoS applications, with multiple APIs.          Safe harbor   \n",
       "328                                                NaN                  NaN   \n",
       "\n",
       "     Vulnearbilities Rewarded Validation Within Average Payout Hall of Famers  \\\n",
       "0                         NaN               NaN            NaN            NaN   \n",
       "1                       138.0            6 days      $3,162.50   View all 132   \n",
       "2                         5.0            8 days            NaN             10   \n",
       "3                       714.0               NaN            NaN   View all 157   \n",
       "4                        98.0            5 days        $483.33    View all 88   \n",
       "..                        ...               ...            ...            ...   \n",
       "324                       0.0            3 days            NaN  View the hall   \n",
       "325                    1072.0            5 days      $1,227.27   View all 661   \n",
       "326                       5.0             1 day            NaN    View all 16   \n",
       "327                       NaN               NaN            NaN            NaN   \n",
       "328                       NaN               NaN            NaN            NaN   \n",
       "\n",
       "     ... Featured BCTeamHunt2022 Featured New Scope & Increased Rewards  \\\n",
       "0    ...                       0                                      0   \n",
       "1    ...                       0                                      0   \n",
       "2    ...                       0                                      0   \n",
       "3    ...                       0                                      0   \n",
       "4    ...                       0                                      0   \n",
       "..   ...                     ...                                    ...   \n",
       "324  ...                       0                                      0   \n",
       "325  ...                       0                                      0   \n",
       "326  ...                       0                                      0   \n",
       "327  ...                       0                                      0   \n",
       "328  ...                       0                                      0   \n",
       "\n",
       "    Featured Self Service Featured Highest Reward Range  \\\n",
       "0                       0                             0   \n",
       "1                       0                             1   \n",
       "2                       0                             0   \n",
       "3                       0                             0   \n",
       "4                       0                             0   \n",
       "..                    ...                           ...   \n",
       "324                     0                             0   \n",
       "325                     0                             0   \n",
       "326                     0                             0   \n",
       "327                     0                             0   \n",
       "328                     0                             0   \n",
       "\n",
       "    Featured Coordinated Disclosure Featured Atlassian  \\\n",
       "0                                 0                  0   \n",
       "1                                 1                  0   \n",
       "2                                 0                  0   \n",
       "3                                 0                  0   \n",
       "4                                 1                  0   \n",
       "..                              ...                ...   \n",
       "324                               0                  0   \n",
       "325                               0                  0   \n",
       "326                               0                  0   \n",
       "327                               0                  0   \n",
       "328                               0                  0   \n",
       "\n",
       "    Featured Needs a P1 warrior  Has Technology Has Featured Has Industry  \n",
       "0                             0            True        False        False  \n",
       "1                             0           False         True         True  \n",
       "2                             0            True        False         True  \n",
       "3                             0           False        False        False  \n",
       "4                             0           False         True        False  \n",
       "..                          ...             ...          ...          ...  \n",
       "324                           0           False        False         True  \n",
       "325                           0            True        False        False  \n",
       "326                           0            True        False        False  \n",
       "327                           0            True        False        False  \n",
       "328                           0            True        False        False  \n",
       "\n",
       "[329 rows x 38 columns]>"
      ]
     },
     "execution_count": 101,
     "metadata": {},
     "output_type": "execute_result"
    }
   ],
   "source": [
    "df.describe"
   ]
  },
  {
   "cell_type": "code",
   "execution_count": 102,
   "metadata": {},
   "outputs": [
    {
     "name": "stderr",
     "output_type": "stream",
     "text": [
      "/var/folders/p8/j40fdn353n30l2nvsd_70qgc0000gn/T/ipykernel_82363/2298797878.py:1: FutureWarning: The default value of regex will change from True to False in a future version. In addition, single character regular expressions will *not* be treated as literal strings when regex=True.\n",
      "  df['Reward Range'] = df['Reward Range'].str.replace('$', '').str.replace('Points', '0')\n"
     ]
    }
   ],
   "source": [
    "df['Reward Range'] = df['Reward Range'].str.replace('$', '').str.replace('Points', '0')\n",
    "df['Reward Range'] = df['Reward Range'].fillna(0)\n"
   ]
  },
  {
   "cell_type": "code",
   "execution_count": 103,
   "metadata": {},
   "outputs": [
    {
     "name": "stdout",
     "output_type": "stream",
     "text": [
      "100 - 6,500\n",
      "300 - 30,000\n",
      "0\n",
      "0\n",
      "250 - 5,000\n",
      "0 - 2,500\n",
      "200 - 3,500\n",
      "0 - 5,000\n",
      "100 - 1,500\n",
      "100 - 7,000\n",
      "0\n",
      "0\n",
      "100 - 6,000\n",
      "0\n",
      "0\n",
      "250 - 2,500\n",
      "300 - 6,500\n",
      "100 - 1,500\n",
      "200 - 10,000\n",
      "100 - 3,000\n",
      "200 - 4,500\n",
      "150 - 10,000\n",
      "50 - 2,500\n",
      "150 - 4,000\n",
      "500 - 20,000\n",
      "50 - 2,500\n",
      "50 - 10,000\n",
      "200 - 10,000\n",
      "0\n",
      "100 - 15,000\n",
      "200 - 5,000\n",
      "100 - 1,500\n",
      "0\n",
      "0 - 2,000\n",
      "0\n",
      "0 - 4,500\n",
      "150 - 2,500\n",
      "100 - 4,500\n",
      "300 - 10,000\n",
      "200 - 25,000\n",
      "200 - 12,000\n",
      "0\n",
      "0\n",
      "0\n",
      "100 - 5,000\n",
      "150 - 5,000\n",
      "100 - 10,000\n",
      "150 - 8,000\n",
      "0\n",
      "200 - 4,500\n",
      "250 - 10,000\n",
      "100 - 10,000\n",
      "0 - 2,100\n",
      "0 - 2,500\n",
      "200 - 6,500\n",
      "200 - 4,500\n",
      "0 - 4,000\n",
      "50 - 4,000\n",
      "0 - 2,500\n",
      "100 - 5,000\n",
      "200 - 10,000\n",
      "200 - 4,500\n",
      "0\n",
      "0 - 2,000\n",
      "150 - 10,000\n",
      "0\n",
      "0\n",
      "100 - 1,500\n",
      "100 - 5,000\n",
      "75 - 1,250\n",
      "0\n",
      "50 - 2,500\n",
      "200 - 5,000\n",
      "0\n",
      "0\n",
      "0\n",
      "0\n",
      "300 - 10,000\n",
      "0\n",
      "0\n",
      "150 - 2,500\n",
      "75 - 1,250\n",
      "0\n",
      "250 - 3,000\n",
      "100 - 5,000\n",
      "0\n",
      "100 - 2,250\n",
      "100 - 10,000\n",
      "0\n",
      "200 - 12,000\n",
      "0 - 4,000\n",
      "0\n",
      "100 - 10,000\n",
      "150 - 2,500\n",
      "0 - 100,000\n",
      "0\n",
      "0\n",
      "0\n",
      "100 - 6,000\n",
      "150 - 2,500\n",
      "25 - 600\n",
      "0\n",
      "200 - 6,000\n",
      "100 - 3,500\n",
      "0\n",
      "150 - 5,000\n",
      "150 - 4,000\n",
      "150 - 2,500\n",
      "0\n",
      "0\n",
      "0\n",
      "0\n",
      "200 - 4,000\n",
      "0\n",
      "0 - 4,500\n",
      "0\n",
      "0 - 2,500\n",
      "0\n",
      "0\n",
      "50 - 8,000\n",
      "50 - 5,000\n",
      "0\n",
      "125 - 2,000\n",
      "0\n",
      "0\n",
      "50 - 5,000\n",
      "150 - 2,500\n",
      "25 - 2,500\n",
      "50 - 10,000\n",
      "150 - 5,000\n",
      "150 - 5,000\n",
      "50 - 2,500\n",
      "150 - 3,000\n",
      "100 - 1,500\n",
      "100 - 6,000\n",
      "300 - 6,500\n",
      "50 - 4,500\n",
      "0\n",
      "250 - 25,000\n",
      "50 - 25,000\n",
      "0\n",
      "0 - 5,000\n",
      "0\n",
      "0\n",
      "0\n",
      "0\n",
      "0\n",
      "20 - 6,250\n",
      "200 - 7,000\n",
      "0\n",
      "0\n",
      "100 - 3,000\n",
      "0\n",
      "100 - 3,000\n",
      "150 - 7,000\n",
      "0\n",
      "0\n",
      "0 - 5,000\n",
      "0\n",
      "125 - 2,500\n",
      "0\n",
      "300 - 5,000\n",
      "300 - 6,500\n",
      "0\n",
      "100 - 3,500\n",
      "150 - 1,200\n",
      "0\n",
      "0 - 2,500\n",
      "0\n",
      "0\n",
      "0\n",
      "0\n",
      "200 - 20,000\n",
      "0\n",
      "0 - 4,500\n",
      "0\n",
      "200 - 4,500\n",
      "200 - 4,500\n",
      "100 - 1,500\n",
      "0\n",
      "0\n",
      "200 - 3,000\n",
      "0\n",
      "0\n",
      "0\n",
      "0\n",
      "0\n",
      "0\n",
      "0 - 1,000\n",
      "0\n",
      "200 - 6,000\n",
      "200 - 6,000\n",
      "0\n",
      "0\n",
      "0\n",
      "0\n",
      "100 - 25,000\n",
      "300 - 6,500\n",
      "50 - 10,000\n",
      "200 - 4,000\n",
      "0 - 2,500\n",
      "50 - 2,500\n",
      "0\n",
      "50 - 6,000\n",
      "0\n",
      "150 - 4,500\n",
      "150 - 3,500\n",
      "100 - 3,500\n",
      "100 - 3,500\n",
      "0\n",
      "200 - 4,500\n",
      "150 - 4,000\n",
      "100 - 6,000\n",
      "150 - 2,500\n",
      "0\n",
      "0 - 25,000\n",
      "100 - 6,000\n",
      "200 - 3,000\n",
      "300 - 5,000\n",
      "0\n",
      "0\n",
      "75 - 1,250\n",
      "100 - 1,250\n",
      "150 - 2,000\n",
      "0\n",
      "0\n",
      "0 - 5,000\n",
      "150 - 2,500\n",
      "125 - 4,500\n",
      "0\n",
      "100 - 3,500\n",
      "0\n",
      "100 - 10,000\n",
      "0\n",
      "50 - 10,000\n",
      "0\n",
      "0\n",
      "100 - 2,500\n",
      "0\n",
      "200 - 4,500\n",
      "20 - 3,500\n",
      "200 - 4,500\n",
      "0\n",
      "200 - 4,500\n",
      "0\n",
      "100 - 8,000\n",
      "100 - 2,500\n",
      "0\n",
      "100 - 6,000\n",
      "0 - 2,500\n",
      "0\n",
      "150 - 2,500\n",
      "100 - 50,000\n",
      "200 - 4,500\n",
      "0 - 25,000\n",
      "100 - 3,000\n",
      "500 - 8,000\n",
      "0\n",
      "0\n",
      "0 - 15,000\n",
      "100 - 10,000\n",
      "0\n",
      "150 - 6,000\n",
      "0\n",
      "200 - 4,000\n",
      "150 - 7,500\n",
      "200 - 10,000\n",
      "100 - 3,000\n",
      "0\n",
      "0 - 5,000\n",
      "100 - 2,500\n",
      "150 - 2,500\n",
      "150 - 2,100\n",
      "0\n",
      "0 - 2,000\n",
      "0\n",
      "200 - 4,500\n",
      "100 - 15,000\n",
      "0\n",
      "0\n",
      "0\n",
      "200 - 12,000\n",
      "200 - 4,500\n",
      "100 - 2,500\n",
      "300 - 10,000\n",
      "100 - 5,000\n",
      "100 - 9,500\n",
      "150 - 3,500\n",
      "0\n",
      "0\n",
      "0\n",
      "0\n",
      "100 - 6,000\n",
      "125 - 2,500\n",
      "0\n",
      "0\n",
      "0 - 2,500\n",
      "0\n",
      "0\n",
      "100 - 3,000\n",
      "120 - 5,000\n",
      "100 - 10,000\n",
      "200 - 4,500\n",
      "200 - 4,500\n",
      "50 - 1,000\n",
      "75 - 5,000\n",
      "200 - 9,000\n",
      "0 - 7,500\n",
      "0\n",
      "0\n",
      "100 - 3,000\n",
      "100 - 4,000\n",
      "100 - 4,000\n",
      "150 - 2,500\n",
      "50 - 1,000\n",
      "0 - 3,500\n",
      "150 - 3,000\n",
      "100 - 1,500\n",
      "100 - 1,500\n",
      "0\n",
      "200 - 5,000\n",
      "150 - 2,500\n",
      "200 - 7,000\n",
      "50 - 3,000\n",
      "0 – 1,250\n",
      "0\n",
      "0\n",
      "150 – 2,500\n",
      "0\n"
     ]
    }
   ],
   "source": [
    "for i in df[\"Reward Range\"]:\n",
    "    print(i)"
   ]
  },
  {
   "cell_type": "code",
   "execution_count": 104,
   "metadata": {},
   "outputs": [],
   "source": [
    "df[\"Reward Range\"] = df[\"Reward Range\"].astype(str)"
   ]
  },
  {
   "cell_type": "code",
   "execution_count": 105,
   "metadata": {},
   "outputs": [],
   "source": [
    "def avg_range(r):\n",
    "    if r == '0':\n",
    "        return None\n",
    "    if ' – ' in r:\n",
    "        r = r.replace(' – ','-')\n",
    "    min_max = r.split(\"-\")\n",
    "    min_value = int(min_max[0].replace(\",\",\"\"))\n",
    "    max_value = int(min_max[1].replace(\",\",\"\"))\n",
    "    return (min_value + max_value) / 2\n"
   ]
  },
  {
   "cell_type": "code",
   "execution_count": 106,
   "metadata": {},
   "outputs": [],
   "source": [
    "df['Reward Range Average'] = df['Reward Range'].apply(avg_range)\n"
   ]
  },
  {
   "cell_type": "code",
   "execution_count": 107,
   "metadata": {},
   "outputs": [
    {
     "data": {
      "text/plain": [
       "0       3300.0\n",
       "1      15150.0\n",
       "2          NaN\n",
       "3          NaN\n",
       "4       2625.0\n",
       "        ...   \n",
       "324      625.0\n",
       "325        NaN\n",
       "326        NaN\n",
       "327     1325.0\n",
       "328        NaN\n",
       "Name: Reward Range Average, Length: 329, dtype: float64"
      ]
     },
     "execution_count": 107,
     "metadata": {},
     "output_type": "execute_result"
    }
   ],
   "source": [
    "df['Reward Range Average']"
   ]
  },
  {
   "cell_type": "code",
   "execution_count": 108,
   "metadata": {},
   "outputs": [],
   "source": [
    "df[\"Reward Range Average\"].fillna(0, inplace = True)"
   ]
  },
  {
   "cell_type": "code",
   "execution_count": 109,
   "metadata": {},
   "outputs": [
    {
     "data": {
      "text/plain": [
       "0         N/A\n",
       "1      6 days\n",
       "2      8 days\n",
       "3         N/A\n",
       "4      5 days\n",
       "        ...  \n",
       "324    3 days\n",
       "325    5 days\n",
       "326     1 day\n",
       "327       N/A\n",
       "328       N/A\n",
       "Name: Validation Within, Length: 329, dtype: object"
      ]
     },
     "execution_count": 109,
     "metadata": {},
     "output_type": "execute_result"
    }
   ],
   "source": [
    "# Apply the to_hours() function to the \"Validation Within\" column\n",
    "df[\"Validation Within\"].apply(lambda x: str(x))\n",
    "df[\"Validation Within\"] = df[\"Validation Within\"].fillna(value=\"N/A\")\n",
    "df[\"Validation Within\"].apply(lambda x: str(x))"
   ]
  },
  {
   "cell_type": "code",
   "execution_count": 110,
   "metadata": {},
   "outputs": [],
   "source": [
    "df[\"Validation Within\"] = df[\"Validation Within\"].astype(str)\n",
    "df[\"Validation Within\"] = df[\"Validation Within\"].apply(lambda x: str(x))"
   ]
  },
  {
   "cell_type": "code",
   "execution_count": 111,
   "metadata": {},
   "outputs": [
    {
     "data": {
      "text/plain": [
       "0         N/A\n",
       "1      6 days\n",
       "2      8 days\n",
       "3         N/A\n",
       "4      5 days\n",
       "        ...  \n",
       "324    3 days\n",
       "325    5 days\n",
       "326     1 day\n",
       "327       N/A\n",
       "328       N/A\n",
       "Name: Validation Within, Length: 329, dtype: object"
      ]
     },
     "execution_count": 111,
     "metadata": {},
     "output_type": "execute_result"
    }
   ],
   "source": [
    "df[\"Validation Within\"]"
   ]
  },
  {
   "cell_type": "code",
   "execution_count": 112,
   "metadata": {},
   "outputs": [
    {
     "name": "stdout",
     "output_type": "stream",
     "text": [
      "['N/A' '6 days' '8 days' '5 days' '3 days' '4 days' 'about 21 hours'\n",
      " '22 days' '11 days' '20 days' '1 days' '12 days' '1 day' '2 day'\n",
      " '27 days' '2 days' '14 days' 'about 1 month' 'about 12 hours' '7 days'\n",
      " 'about 2 months' 'about 2 hours' '15 days' 'about 7 hours'\n",
      " 'about 18 hours' '17 days' '2 months' 'about 13 hours' '9 days' '28 days'\n",
      " 'about 6 hours' '18 days' 'about 23 hours' '16 days' '19 days' '25 days'\n",
      " 'about 20 hours' 'about 11 hours' '10 days' 'about 9 hours'\n",
      " 'about 4 hours' 'about 16 hours' 'about 19 hours' 'about 22 hours']\n"
     ]
    }
   ],
   "source": [
    "print(df[\"Validation Within\"].unique())"
   ]
  },
  {
   "cell_type": "code",
   "execution_count": 113,
   "metadata": {},
   "outputs": [],
   "source": [
    "df[\"Validation Within\"] = df[\"Validation Within\"].replace([\"1 days\", \"2 day\", \"2 months\"], [\"1 day\", \"2 days\", \"60 days\"])\n"
   ]
  },
  {
   "cell_type": "code",
   "execution_count": 114,
   "metadata": {},
   "outputs": [
    {
     "data": {
      "text/plain": [
       "array(['N/A', '6 days', '8 days', '5 days', '3 days', '4 days',\n",
       "       'about 21 hours', '22 days', '11 days', '20 days', '1 day',\n",
       "       '12 days', '2 days', '27 days', '14 days', 'about 1 month',\n",
       "       'about 12 hours', '7 days', 'about 2 months', 'about 2 hours',\n",
       "       '15 days', 'about 7 hours', 'about 18 hours', '17 days', '60 days',\n",
       "       'about 13 hours', '9 days', '28 days', 'about 6 hours', '18 days',\n",
       "       'about 23 hours', '16 days', '19 days', '25 days',\n",
       "       'about 20 hours', 'about 11 hours', '10 days', 'about 9 hours',\n",
       "       'about 4 hours', 'about 16 hours', 'about 19 hours',\n",
       "       'about 22 hours'], dtype=object)"
      ]
     },
     "execution_count": 114,
     "metadata": {},
     "output_type": "execute_result"
    }
   ],
   "source": [
    "df[\"Validation Within\"].unique()"
   ]
  },
  {
   "cell_type": "code",
   "execution_count": 115,
   "metadata": {},
   "outputs": [],
   "source": [
    "df[\"Validation Within\"] = df[\"Validation Within\"].str.replace(\"about \",\"\")\n",
    "\n"
   ]
  },
  {
   "cell_type": "code",
   "execution_count": 116,
   "metadata": {},
   "outputs": [
    {
     "data": {
      "text/plain": [
       "array(['N/A', '6 days', '8 days', '5 days', '3 days', '4 days',\n",
       "       '21 hours', '22 days', '11 days', '20 days', '1 day', '12 days',\n",
       "       '2 days', '27 days', '14 days', '1 month', '12 hours', '7 days',\n",
       "       '2 months', '2 hours', '15 days', '7 hours', '18 hours', '17 days',\n",
       "       '60 days', '13 hours', '9 days', '28 days', '6 hours', '18 days',\n",
       "       '23 hours', '16 days', '19 days', '25 days', '20 hours',\n",
       "       '11 hours', '10 days', '9 hours', '4 hours', '16 hours',\n",
       "       '19 hours', '22 hours'], dtype=object)"
      ]
     },
     "execution_count": 116,
     "metadata": {},
     "output_type": "execute_result"
    }
   ],
   "source": [
    "df[\"Validation Within\"].unique()"
   ]
  },
  {
   "cell_type": "code",
   "execution_count": 117,
   "metadata": {},
   "outputs": [],
   "source": [
    "df[\"Validation Within\"] = df[\"Validation Within\"].str.replace(\"1 month\",\"30 days\")\n",
    "df[\"Validation Within\"] = df[\"Validation Within\"].str.replace(\"2 months\",\"60 days\")"
   ]
  },
  {
   "cell_type": "code",
   "execution_count": 118,
   "metadata": {},
   "outputs": [
    {
     "data": {
      "text/plain": [
       "array(['N/A', '6 days', '8 days', '5 days', '3 days', '4 days',\n",
       "       '21 hours', '22 days', '11 days', '20 days', '1 day', '12 days',\n",
       "       '2 days', '27 days', '14 days', '30 days', '12 hours', '7 days',\n",
       "       '60 days', '2 hours', '15 days', '7 hours', '18 hours', '17 days',\n",
       "       '13 hours', '9 days', '28 days', '6 hours', '18 days', '23 hours',\n",
       "       '16 days', '19 days', '25 days', '20 hours', '11 hours', '10 days',\n",
       "       '9 hours', '4 hours', '16 hours', '19 hours', '22 hours'],\n",
       "      dtype=object)"
      ]
     },
     "execution_count": 118,
     "metadata": {},
     "output_type": "execute_result"
    }
   ],
   "source": [
    "df[\"Validation Within\"].unique()"
   ]
  },
  {
   "cell_type": "code",
   "execution_count": 119,
   "metadata": {},
   "outputs": [],
   "source": [
    "df[\"Validation Within Hours\"] = df[\"Validation Within\"].str.extract('(\\d+)', expand=False).astype(float)*24\n"
   ]
  },
  {
   "cell_type": "code",
   "execution_count": 120,
   "metadata": {},
   "outputs": [
    {
     "data": {
      "text/plain": [
       "Unnamed: 0                                   int64\n",
       "Reward Range                                object\n",
       "Link                                        object\n",
       "Title                                       object\n",
       "Short Description                           object\n",
       "Is Safe Harbor                            category\n",
       "Vulnearbilities Rewarded                   float64\n",
       "Validation Within                           object\n",
       "Average Payout                              object\n",
       "Hall of Famers                              object\n",
       "Number People                               object\n",
       "P4                                          object\n",
       "P3                                          object\n",
       "P2                                          object\n",
       "P1                                          object\n",
       "Maximum Reword                              object\n",
       "programm_ruels                              object\n",
       "annocument_count                           float64\n",
       "Featured                                    object\n",
       "Industry                                    object\n",
       "Technology                                  object\n",
       "Technology API Target                        int64\n",
       "Technology Web Targets                       int64\n",
       "Technology Android Targets                   int64\n",
       "Technology IoT Targets                       int64\n",
       "Technology iOS Targets                       int64\n",
       "Technology Hardware Targets                  int64\n",
       "Featured Staff Picks                         int64\n",
       "Featured BCTeamHunt2022                      int64\n",
       "Featured New Scope & Increased Rewards       int64\n",
       "Featured Self Service                        int64\n",
       "Featured Highest Reward Range                int64\n",
       "Featured Coordinated Disclosure              int64\n",
       "Featured Atlassian                           int64\n",
       "Featured Needs a P1 warrior                  int64\n",
       "Has Technology                                bool\n",
       "Has Featured                                  bool\n",
       "Has Industry                                  bool\n",
       "Reward Range Average                       float64\n",
       "Validation Within Hours                    float64\n",
       "dtype: object"
      ]
     },
     "execution_count": 120,
     "metadata": {},
     "output_type": "execute_result"
    }
   ],
   "source": [
    "df.dtypes"
   ]
  },
  {
   "cell_type": "code",
   "execution_count": 121,
   "metadata": {},
   "outputs": [],
   "source": [
    "df[\"Validation Within Hours\"] = np.where(df[\"Validation Within\"].str.contains('hours'), df[\"Validation Within\"], df[\"Validation Within Hours\"])"
   ]
  },
  {
   "cell_type": "code",
   "execution_count": 122,
   "metadata": {},
   "outputs": [],
   "source": [
    "df[\"Validation Within Hours\"] = df[\"Validation Within Hours\"].astype(str)"
   ]
  },
  {
   "cell_type": "code",
   "execution_count": 123,
   "metadata": {},
   "outputs": [
    {
     "data": {
      "text/plain": [
       "array(['nan', '144.0', '192.0', '120.0', '72.0', '96.0', '21 hours',\n",
       "       '528.0', '264.0', '480.0', '24.0', '288.0', '48.0', '648.0',\n",
       "       '336.0', '720.0', '12 hours', '168.0', '1440.0', '2 hours',\n",
       "       '360.0', '7 hours', '18 hours', '408.0', '13 hours', '216.0',\n",
       "       '672.0', '6 hours', '432.0', '23 hours', '384.0', '456.0', '600.0',\n",
       "       '20 hours', '11 hours', '240.0', '9 hours', '4 hours', '16 hours',\n",
       "       '19 hours', '22 hours'], dtype=object)"
      ]
     },
     "execution_count": 123,
     "metadata": {},
     "output_type": "execute_result"
    }
   ],
   "source": [
    "df[\"Validation Within Hours\"].unique()"
   ]
  },
  {
   "cell_type": "code",
   "execution_count": 124,
   "metadata": {},
   "outputs": [],
   "source": [
    "df[\"Validation Within Hours\"] = df[\"Validation Within Hours\"].str.replace(\" hours\",\"\").str.replace(\" hour\",\"\")"
   ]
  },
  {
   "cell_type": "code",
   "execution_count": 125,
   "metadata": {},
   "outputs": [
    {
     "data": {
      "text/plain": [
       "array(['nan', '144.0', '192.0', '120.0', '72.0', '96.0', '21', '528.0',\n",
       "       '264.0', '480.0', '24.0', '288.0', '48.0', '648.0', '336.0',\n",
       "       '720.0', '12', '168.0', '1440.0', '2', '360.0', '7', '18', '408.0',\n",
       "       '13', '216.0', '672.0', '6', '432.0', '23', '384.0', '456.0',\n",
       "       '600.0', '20', '11', '240.0', '9', '4', '16', '19', '22'],\n",
       "      dtype=object)"
      ]
     },
     "execution_count": 125,
     "metadata": {},
     "output_type": "execute_result"
    }
   ],
   "source": [
    "df[\"Validation Within Hours\"].unique()"
   ]
  },
  {
   "cell_type": "code",
   "execution_count": 126,
   "metadata": {},
   "outputs": [],
   "source": [
    "df[\"Validation Within Hours\"].fillna(0, inplace = True)\n",
    "df[\"Validation Within Hours\"] = df[\"Validation Within Hours\"].astype(float)\n",
    "df[\"Validation Within Hours\"].fillna(0, inplace = True)"
   ]
  },
  {
   "cell_type": "code",
   "execution_count": 127,
   "metadata": {},
   "outputs": [
    {
     "data": {
      "text/plain": [
       "Unnamed: 0                                   int64\n",
       "Reward Range                                object\n",
       "Link                                        object\n",
       "Title                                       object\n",
       "Short Description                           object\n",
       "Is Safe Harbor                            category\n",
       "Vulnearbilities Rewarded                   float64\n",
       "Validation Within                           object\n",
       "Average Payout                              object\n",
       "Hall of Famers                              object\n",
       "Number People                               object\n",
       "P4                                          object\n",
       "P3                                          object\n",
       "P2                                          object\n",
       "P1                                          object\n",
       "Maximum Reword                              object\n",
       "programm_ruels                              object\n",
       "annocument_count                           float64\n",
       "Featured                                    object\n",
       "Industry                                    object\n",
       "Technology                                  object\n",
       "Technology API Target                        int64\n",
       "Technology Web Targets                       int64\n",
       "Technology Android Targets                   int64\n",
       "Technology IoT Targets                       int64\n",
       "Technology iOS Targets                       int64\n",
       "Technology Hardware Targets                  int64\n",
       "Featured Staff Picks                         int64\n",
       "Featured BCTeamHunt2022                      int64\n",
       "Featured New Scope & Increased Rewards       int64\n",
       "Featured Self Service                        int64\n",
       "Featured Highest Reward Range                int64\n",
       "Featured Coordinated Disclosure              int64\n",
       "Featured Atlassian                           int64\n",
       "Featured Needs a P1 warrior                  int64\n",
       "Has Technology                                bool\n",
       "Has Featured                                  bool\n",
       "Has Industry                                  bool\n",
       "Reward Range Average                       float64\n",
       "Validation Within Hours                    float64\n",
       "dtype: object"
      ]
     },
     "execution_count": 127,
     "metadata": {},
     "output_type": "execute_result"
    }
   ],
   "source": [
    "df.dtypes"
   ]
  },
  {
   "cell_type": "code",
   "execution_count": 128,
   "metadata": {},
   "outputs": [],
   "source": [
    "import re\n",
    "from datetime import timedelta\n",
    "\n",
    "def to_hours(s):\n",
    "    s = str(s)\n",
    "    if pd.isnull(s) or s == \"N/A\":\n",
    "        return pd.np.nan\n",
    "    else:\n",
    "        # Extract the numerical value and the unit of time from the string\n",
    "        m = re.match(r'(\\d+) (days|hours|weeks|months)', s)\n",
    "        if not m:\n",
    "            # If the input is not in the expected format, check if it starts with \"about\"\n",
    "            if s.startswith(\"about \"):\n",
    "                # If it does, remove the \"about\" prefix and try again\n",
    "                s = s[6:]\n",
    "                m = re.match(r'(\\d+) (days|hours|weeks|months)', s)\n",
    "            if not m:\n",
    "                s = re.sub(r\"(\\d)(days|hours|weeks|months)\", r\"\\1 \\2\",s)\n",
    "                m = re.match(r'(\\d+) (days|hours|weeks|months)', s)\n",
    "                if not m:\n",
    "                    print(f\"Error: Invalid input: {s}\")\n",
    "                    return pd.np.nan\n",
    "        value, unit = m.groups()\n",
    "\n",
    "        # Convert the value to a float and the unit to lowercase\n",
    "        value = float(value)\n",
    "        unit = unit.lower()\n",
    "\n",
    "        # Convert the value to hours\n",
    "        if unit == 'days':\n",
    "            value *= 24\n",
    "        elif unit == 'hours':\n",
    "            pass\n",
    "        elif unit == 'weeks':\n",
    "            value *= 7 * 24\n",
    "        elif unit == 'months':\n",
    "            # Estimate the number of hours in a month based on 30 days\n",
    "            value *= 30 * 24\n",
    "        else:\n",
    "            print(f\"Error: Invalid unit: {unit}\")\n",
    "            raise ValueError(f\"Invalid unit: {unit}\")\n",
    "\n",
    "    return value\n",
    "\n",
    "\n"
   ]
  },
  {
   "cell_type": "code",
   "execution_count": 129,
   "metadata": {},
   "outputs": [
    {
     "name": "stderr",
     "output_type": "stream",
     "text": [
      "/var/folders/p8/j40fdn353n30l2nvsd_70qgc0000gn/T/ipykernel_82363/3992068291.py:2: FutureWarning: The default value of regex will change from True to False in a future version. In addition, single character regular expressions will *not* be treated as literal strings when regex=True.\n",
      "  df[\"Average Payout\"] = df[\"Average Payout\"].str.replace('$', '').str.replace(\",\",\"\")\n"
     ]
    }
   ],
   "source": [
    "df[\"Average Payout\"]= df[\"Average Payout\"].astype(str)\n",
    "df[\"Average Payout\"] = df[\"Average Payout\"].str.replace('$', '').str.replace(\",\",\"\")\n",
    "df[\"Average Payout\"] = df[\"Average Payout\"].astype(float)\n",
    "df[\"Average Payout\"] = df[\"Average Payout\"].fillna(0)\n"
   ]
  },
  {
   "cell_type": "code",
   "execution_count": null,
   "metadata": {},
   "outputs": [],
   "source": []
  },
  {
   "cell_type": "code",
   "execution_count": 130,
   "metadata": {},
   "outputs": [
    {
     "data": {
      "text/plain": [
       "0         0.00\n",
       "1      3162.50\n",
       "2         0.00\n",
       "3         0.00\n",
       "4       483.33\n",
       "        ...   \n",
       "324       0.00\n",
       "325    1227.27\n",
       "326       0.00\n",
       "327       0.00\n",
       "328       0.00\n",
       "Name: Average Payout, Length: 329, dtype: float64"
      ]
     },
     "execution_count": 130,
     "metadata": {},
     "output_type": "execute_result"
    }
   ],
   "source": [
    "df[\"Average Payout\"] "
   ]
  },
  {
   "cell_type": "code",
   "execution_count": 131,
   "metadata": {},
   "outputs": [
    {
     "data": {
      "text/plain": [
       "Unnamed: 0                                   int64\n",
       "Reward Range                                object\n",
       "Link                                        object\n",
       "Title                                       object\n",
       "Short Description                           object\n",
       "Is Safe Harbor                            category\n",
       "Vulnearbilities Rewarded                   float64\n",
       "Validation Within                           object\n",
       "Average Payout                             float64\n",
       "Hall of Famers                              object\n",
       "Number People                               object\n",
       "P4                                          object\n",
       "P3                                          object\n",
       "P2                                          object\n",
       "P1                                          object\n",
       "Maximum Reword                              object\n",
       "programm_ruels                              object\n",
       "annocument_count                           float64\n",
       "Featured                                    object\n",
       "Industry                                    object\n",
       "Technology                                  object\n",
       "Technology API Target                        int64\n",
       "Technology Web Targets                       int64\n",
       "Technology Android Targets                   int64\n",
       "Technology IoT Targets                       int64\n",
       "Technology iOS Targets                       int64\n",
       "Technology Hardware Targets                  int64\n",
       "Featured Staff Picks                         int64\n",
       "Featured BCTeamHunt2022                      int64\n",
       "Featured New Scope & Increased Rewards       int64\n",
       "Featured Self Service                        int64\n",
       "Featured Highest Reward Range                int64\n",
       "Featured Coordinated Disclosure              int64\n",
       "Featured Atlassian                           int64\n",
       "Featured Needs a P1 warrior                  int64\n",
       "Has Technology                                bool\n",
       "Has Featured                                  bool\n",
       "Has Industry                                  bool\n",
       "Reward Range Average                       float64\n",
       "Validation Within Hours                    float64\n",
       "dtype: object"
      ]
     },
     "execution_count": 131,
     "metadata": {},
     "output_type": "execute_result"
    }
   ],
   "source": [
    "df.dtypes"
   ]
  },
  {
   "cell_type": "code",
   "execution_count": 132,
   "metadata": {},
   "outputs": [
    {
     "data": {
      "text/plain": [
       "0         0\n",
       "1       783\n",
       "2        13\n",
       "3       294\n",
       "4       590\n",
       "       ... \n",
       "324      21\n",
       "325    1249\n",
       "326      35\n",
       "327       0\n",
       "328       0\n",
       "Name: Number People, Length: 329, dtype: int64"
      ]
     },
     "execution_count": 132,
     "metadata": {},
     "output_type": "execute_result"
    }
   ],
   "source": [
    "df[\"Number People\"]= df[\"Number People\"].str.replace(\"total\",\"\")\n",
    "df[\"Number People\"].fillna(0, inplace = True)\n",
    "df[\"Number People\"]= df[\"Number People\"].astype(int)\n",
    "df[\"Number People\"]"
   ]
  },
  {
   "cell_type": "code",
   "execution_count": 133,
   "metadata": {},
   "outputs": [],
   "source": [
    "df[\"Hall of Famers\"] = df[\"Hall of Famers\"].fillna(\"0\")\n",
    "df[\"Hall of Famers\"] = df[\"Hall of Famers\"].str.replace(\"View all \",\"\").str.replace(\"View the hall\",\"0\")\n",
    "df[\"Hall of Famers\"] = df[\"Hall of Famers\"].fillna(\"0\")\n",
    "df[\"Hall of Famers\"]= df[\"Hall of Famers\"].astype(int)"
   ]
  },
  {
   "cell_type": "code",
   "execution_count": 134,
   "metadata": {},
   "outputs": [],
   "source": [
    "def cleanse_priority(row):\n",
    "    row = row.fillna(\"0\")\n",
    "    row = row.str.replace(\"$\",\"\")\n",
    "    return row "
   ]
  },
  {
   "cell_type": "code",
   "execution_count": 135,
   "metadata": {},
   "outputs": [
    {
     "name": "stderr",
     "output_type": "stream",
     "text": [
      "/var/folders/p8/j40fdn353n30l2nvsd_70qgc0000gn/T/ipykernel_82363/631052674.py:3: FutureWarning: The default value of regex will change from True to False in a future version. In addition, single character regular expressions will *not* be treated as literal strings when regex=True.\n",
      "  row = row.str.replace(\"$\",\"\")\n"
     ]
    }
   ],
   "source": [
    "df[\"P1\"] = cleanse_priority(df[\"P1\"])\n",
    "df[\"P2\"] = cleanse_priority(df[\"P2\"])\n",
    "df[\"P3\"] = cleanse_priority(df[\"P3\"])\n",
    "df[\"P4\"] = cleanse_priority(df[\"P4\"])"
   ]
  },
  {
   "cell_type": "code",
   "execution_count": 136,
   "metadata": {},
   "outputs": [
    {
     "data": {
      "text/plain": [
       "Unnamed: 0                                   int64\n",
       "Reward Range                                object\n",
       "Link                                        object\n",
       "Title                                       object\n",
       "Short Description                           object\n",
       "Is Safe Harbor                            category\n",
       "Vulnearbilities Rewarded                   float64\n",
       "Validation Within                           object\n",
       "Average Payout                             float64\n",
       "Hall of Famers                               int64\n",
       "Number People                                int64\n",
       "P4                                          object\n",
       "P3                                          object\n",
       "P2                                          object\n",
       "P1                                          object\n",
       "Maximum Reword                              object\n",
       "programm_ruels                              object\n",
       "annocument_count                           float64\n",
       "Featured                                    object\n",
       "Industry                                    object\n",
       "Technology                                  object\n",
       "Technology API Target                        int64\n",
       "Technology Web Targets                       int64\n",
       "Technology Android Targets                   int64\n",
       "Technology IoT Targets                       int64\n",
       "Technology iOS Targets                       int64\n",
       "Technology Hardware Targets                  int64\n",
       "Featured Staff Picks                         int64\n",
       "Featured BCTeamHunt2022                      int64\n",
       "Featured New Scope & Increased Rewards       int64\n",
       "Featured Self Service                        int64\n",
       "Featured Highest Reward Range                int64\n",
       "Featured Coordinated Disclosure              int64\n",
       "Featured Atlassian                           int64\n",
       "Featured Needs a P1 warrior                  int64\n",
       "Has Technology                                bool\n",
       "Has Featured                                  bool\n",
       "Has Industry                                  bool\n",
       "Reward Range Average                       float64\n",
       "Validation Within Hours                    float64\n",
       "dtype: object"
      ]
     },
     "execution_count": 136,
     "metadata": {},
     "output_type": "execute_result"
    }
   ],
   "source": [
    "df.dtypes"
   ]
  },
  {
   "cell_type": "code",
   "execution_count": 137,
   "metadata": {},
   "outputs": [],
   "source": [
    "df[\"P1\"].fillna(\"0\", inplace = True)\n",
    "df[\"P2\"].fillna(\"0\", inplace = True)\n",
    "df[\"P3\"].fillna(\"0\", inplace = True)\n",
    "df[\"P4\"].fillna(\"0\", inplace = True)\n",
    "df[\"P1\"] = df[\"P1\"].astype(str)\n",
    "df[\"P2\"] = df[\"P2\"].astype(str)\n",
    "df[\"P3\"] = df[\"P3\"].astype(str)\n",
    "df[\"P4\"] = df[\"P4\"].astype(str)\n"
   ]
  },
  {
   "cell_type": "code",
   "execution_count": 138,
   "metadata": {},
   "outputs": [],
   "source": [
    "df[\"P1\"] = df[\"P1\"].apply(lambda x: str(x))\n",
    "df[\"P2\"] = df[\"P2\"].apply(lambda x: str(x))\n",
    "df[\"P3\"] = df[\"P3\"].apply(lambda x: str(x))\n",
    "df[\"P4\"] = df[\"P4\"].apply(lambda x: str(x))"
   ]
  },
  {
   "cell_type": "code",
   "execution_count": 139,
   "metadata": {},
   "outputs": [],
   "source": [
    "df[\"P1\"] = df[\"P1\"].str.replace('\\xa0', ' ')\n",
    "df[\"P1\"]= df[\"P1\"].str.replace(\",\",\"\")\n",
    "df[\"P2\"] = df[\"P2\"].str.replace('\\xa0', ' ')\n",
    "df[\"P2\"]= df[\"P2\"].str.replace(\",\",\"\")\n",
    "df[\"P3\"] = df[\"P3\"].str.replace('\\xa0', ' ')\n",
    "df[\"P3\"]= df[\"P3\"].str.replace(\",\",\"\")\n",
    "df[\"P4\"] = df[\"P4\"].str.replace('\\xa0', ' ')\n",
    "df[\"P4\"]= df[\"P4\"].str.replace(\",\",\"\")"
   ]
  },
  {
   "cell_type": "code",
   "execution_count": 140,
   "metadata": {},
   "outputs": [],
   "source": [
    "def avg_range(r):\n",
    "    r = str(r)\n",
    "    r = r.replace(\"–\",\"-\")\n",
    "    if r == '0':\n",
    "        return None\n",
    "    min_max = r.split(\"-\")\n",
    "    print(min_max)\n",
    "    if len(min_max) == 1:\n",
    "        return min_max[0]\n",
    "    else:\n",
    "        min_value = float(min_max[0].replace(\",\",\"\"))\n",
    "        max_value = float(min_max[1].replace(\",\",\"\"))\n",
    "        return (min_value + max_value) / 2\n",
    "\n"
   ]
  },
  {
   "cell_type": "code",
   "execution_count": 141,
   "metadata": {},
   "outputs": [
    {
     "name": "stdout",
     "output_type": "stream",
     "text": [
      "['2500 ', ' 6500']\n",
      "['30000']\n",
      "['4000 ', ' 5000']\n",
      "['2100 ', ' 2500']\n",
      "['3500']\n",
      "['0 ', ' 5000']\n",
      "['1500']\n",
      "['6500 ', ' 7000']\n",
      "['6000']\n",
      "['2000']\n",
      "['6100 ', ' 6500']\n",
      "['10000']\n",
      "['3000']\n",
      "['4100 ', ' 4500']\n",
      "['2500 ', ' 10000']\n",
      "['2100 ', ' 2500']\n",
      "['2500 ', ' 4000']\n",
      "['1500 ', ' 2500']\n",
      "['3000 ', ' 10000']\n",
      "['5000 ', ' 10000']\n",
      "['3500 ', ' 15000']\n",
      "['2500 ', ' 5000']\n",
      "['1000 ', ' 1500']\n",
      "['1000 ', ' 2000']\n",
      "['4100 ', ' 4500']\n",
      "['2100 ', ' 2500']\n",
      "['3000', '4500']\n",
      "['2501 ', ' 10000']\n",
      "['8000 ', ' 25000']\n",
      "['7000 ', ' 12000']\n",
      "['2500 ', ' 5000']\n",
      "['2000 ', ' 5000']\n",
      "['10000']\n",
      "['6000 ', ' 8000']\n",
      "['4100 ', ' 4500']\n",
      "['5000 ', ' 10000']\n",
      "['1500 ', ' 10000']\n",
      "['1000 ', ' 2100']\n",
      "['1000 ', ' 2500']\n",
      "['3500 ', ' 6500']\n",
      "['4100 ', ' 4500']\n",
      "['2000 ', ' 4000']\n",
      "['3000 ', ' 4000']\n",
      "['2000 ', ' 2500']\n",
      "['2000 ', ' 5000']\n",
      "['4000 ', ' 10000']\n",
      "['4100 ', ' 4500']\n",
      "['1250 ', ' 2000']\n",
      "['5000 ', ' 10000']\n",
      "['1500']\n",
      "['2500 ', ' 5000']\n",
      "['1000 ', ' 1250']\n",
      "['2100 ', ' 2500']\n",
      "['5000']\n",
      "['5000 ', ' 10000']\n",
      "['25000 ', ' 50000']\n",
      "['\\t2100 ', ' 2500']\n",
      "['1000 ', ' 1250']\n",
      "['2500 ', ' 3000']\n",
      "['4000 ', ' 5000']\n",
      "['5000 ', ' 10000']\n",
      "['5000 ', ' 12000']\n",
      "['2000 ', ' 4000']\n",
      "['5000 ', ' 10000']\n",
      "['2100 ', ' 2500']\n",
      "['10000 ', ' 25000']\n",
      "['6000']\n",
      "['2100 ', ' 2500']\n",
      "['300 ', ' 600']\n",
      "['5000 ', ' 6000']\n",
      "['2000 ', ' 3500']\n",
      "['4000 ', ' 5000']\n",
      "['2000 ', ' 4000']\n",
      "['2100 ', ' 2500']\n",
      "['20 ', ' 10000']\n",
      "['4000']\n",
      "['4100 ', ' 4500']\n",
      "['2100 ', ' 2500']\n",
      "['4000 ', ' 8000']\n",
      "['5000']\n",
      "['1750 ', ' 2000']\n",
      "['2251 ', ' 5000']\n",
      "['2100 ', ' 2500']\n",
      "['1500 ', ' 2500']\n",
      "['4000 ', ' 10000']\n",
      "['2500 ', ' 5000']\n",
      "['5000']\n",
      "['1000 ', ' 2500']\n",
      "['2500 ', ' 3000']\n",
      "['1500']\n",
      "['6000']\n",
      "['6100 ', ' 6500']\n",
      "['3000 ', ' 4500']\n",
      "['11000 ', ' 25000']\n",
      "['2000 ', ' 10000']\n",
      "['2200 ', ' 5000']\n",
      "['4000 ', ' 6250']\n",
      "['4000 ', ' 7000']\n",
      "['1000 ', ' 3000']\n",
      "['1000 ', ' 3000']\n",
      "['3000 ', ' 5000']\n",
      "['2100 ', ' 2500']\n",
      "['4000 ', ' 5000']\n",
      "['6100 ', ' 6500']\n",
      "['3500']\n",
      "['1200']\n",
      "['2100 ', ' 2500']\n",
      "['4000 ', ' 20000']\n",
      "['4100 ', ' 4500']\n",
      "['1500']\n",
      "['1000', '10000']\n",
      "['2000 ', ' 3000']\n",
      "['0 ', ' 1000']\n",
      "['6000']\n",
      "['6000']\n",
      "['5000 ', ' 25000']\n",
      "['3001 ', ' 6500']\n",
      "['3000 ', ' 10000']\n",
      "['4000']\n",
      "['2000 ', ' 2500']\n",
      "['1500 ', ' 2500']\n",
      "['2100 ', ' 4500']\n",
      "['3500']\n",
      "['3000 ', ' 3500']\n",
      "['3000 ', ' 3500']\n",
      "['4100 ', ' 4500']\n",
      "['3000 ', ' 4000']\n",
      "['6000']\n",
      "['2100 ', ' 2500']\n",
      "['20000 ', ' 25000']\n",
      "['6000']\n",
      "['2000 ', ' 3000']\n",
      "['1000 ', ' 1250']\n",
      "['800 ', ' 1250']\n",
      "['1500 ', ' 2000']\n",
      "['3000 ', ' 5000']\n",
      "['2100 ', ' 2500']\n",
      "['3000 ', ' 4500']\n",
      "['3000 ', ' 3500']\n",
      "['5000 ', ' 10000']\n",
      "['5000 ', ' 10000']\n",
      "['2000 ', ' 2500']\n",
      "['4100 ', ' 4500']\n",
      "['3000 ', ' 3500']\n",
      "['4100 ', ' 4500']\n",
      "['4100 ', ' 4500']\n",
      "['3000 ', ' 8000']\n",
      "['2100 ', ' 2500']\n",
      "['6000']\n",
      "['2100 ', ' 2500']\n",
      "['2100 ', ' 2500']\n",
      "['50000']\n",
      "['4100 ', ' 4500']\n",
      "['0 ', ' 25000']\n",
      "['2100 ', ' 3000']\n",
      "['4500 ', ' 8000']\n",
      "['5000 ', ' 15000']\n",
      "['1000 ', ' 10000']\n",
      "['5000 ', ' 6000']\n",
      "['4000']\n",
      "['1500 ', ' 7500']\n",
      "['10000']\n",
      "['3000']\n",
      "['2000 ', ' 2500']\n",
      "['2100 ', ' 2500']\n",
      "['1500 ', ' 2100']\n",
      "['300 ', ' 2000']\n",
      "['4100 ', ' 4500']\n",
      "['3000 ', ' 15000']\n",
      "['5000 ', ' 12000']\n",
      "['4100 ', ' 4500']\n",
      "['2000 ', ' 2500']\n",
      "['10000']\n",
      "['5000']\n",
      "['2000 ', ' 2500']\n",
      "['2100 ', ' 2500']\n",
      "['5000 ', ' 6000']\n",
      "['1200 ', ' 2500']\n",
      "['1500 ', ' 2500']\n",
      "['12000']\n",
      "['2000 ', ' 3000']\n",
      "['5000']\n",
      "['5000 ', ' 10000']\n",
      "['4100 ', ' 4500']\n",
      "['4100 ', ' 4500']\n",
      "['750 ', ' 1000']\n",
      "['0 ', ' 5000']\n",
      "['6000 ', ' 9000']\n",
      "['5500 ', ' 7500']\n",
      "['1500 ', ' 3000']\n",
      "['2100 ', ' 4000']\n",
      "['3000 ', ' 4000']\n",
      "['2100 ', ' 2500']\n",
      "['500 ', ' 1000']\n",
      "['1500 ', ' 3500']\n",
      "['3000']\n",
      "['1500']\n",
      "['1500']\n",
      "['2100 ', ' 2500']\n",
      "['4200 ', ' 7000']\n",
      "['2700 ', ' 3000']\n",
      "['0 ', ' 1250']\n",
      "['2100 ', ' 2500']\n",
      "['1400 ', ' 2500']\n",
      "['6000']\n",
      "['2000 ', ' 2400']\n",
      "['1000 ', ' 1250']\n",
      "['1750']\n",
      "['0 ', ' 1250']\n",
      "['900']\n",
      "['1250 ', ' 1500']\n",
      "['2500']\n",
      "['1200']\n",
      "['2100 ', ' 2500']\n",
      "['3600']\n",
      "['1800']\n",
      "['1500 ', ' 1750']\n",
      "['1500 ', ' 6000']\n",
      "['1000 ', ' 1250']\n",
      "['1000 ', ' 2000']\n",
      "['800 ', ' 1200']\n",
      "['750 ', ' 2000']\n",
      "['1500 ', ' 5000']\n",
      "['1500 ', ' 5000']\n",
      "['1000 ', ' 2500']\n",
      "['500 ', ' 1000']\n",
      "['250 ', ' 500']\n",
      "['2100 ', ' 2500']\n",
      "['1000 ', ' 1250']\n",
      "['1000', '2250']\n",
      "['901 ', ' 2500']\n",
      "['4000 ', ' 9000']\n",
      "['3500 ', ' 7000']\n",
      "['1000 ', ' 2500']\n",
      "['800 ', ' 1100']\n",
      "['2500']\n",
      "['2500 ', ' 3000']\n",
      "['1500 ', ' 1750']\n",
      "['2500 ', ' 4000']\n",
      "['1000 ', ' 6000']\n",
      "['500 ', ' 1000']\n",
      "['450 ', ' 1000']\n",
      "['1500 ', ' 2500']\n",
      "['1500 ', ' 1750']\n",
      "['500 ', ' 2000']\n",
      "['1500 ', ' 2000']\n",
      "['750 ', ' 1250']\n",
      "['1000 ', ' 1500']\n",
      "['1500 ', ' 3000']\n",
      "['1500 ', ' 1750']\n",
      "['700 ', ' 1200']\n",
      "['800 ', ' 1000']\n",
      "['900']\n",
      "['1000 ', ' 2250']\n",
      "['500 ', ' 650']\n",
      "['1200 ', ' 1500']\n",
      "['3000']\n",
      "['2000 ', ' 4000']\n",
      "['10000 ', ' 25000']\n",
      "['1200 ', ' 1500']\n",
      "['500 ', ' 650']\n",
      "['1500 ', ' 2000']\n",
      "['1800 ', ' 2100']\n",
      "['1000 ', ' 5000']\n",
      "['4000 ', ' 6000']\n",
      "['500 ', ' 2000']\n",
      "['1000 ', ' 5000']\n",
      "['1000 ', ' 1250']\n",
      "['2500 ', ' 10000']\n",
      "['2500']\n",
      "['1000 ', ' 1250']\n",
      "['100 ', ' 250']\n",
      "['1500 ', ' 4000']\n",
      "['1250 ', ' 1800']\n",
      "['1800 ', ' 2000']\n",
      "['900 ', ' 3000']\n",
      "['1000 ', ' 1250']\n",
      "['0 ', ' 5000']\n",
      "['1200']\n",
      "['2100 ', ' 2500']\n",
      "['1000 ', ' 1250']\n",
      "['2000 ', ' 3000']\n",
      "['900']\n",
      "['900 ', ' 1200']\n",
      "['901 ', ' 2250']\n",
      "['1000 ', ' 1250']\n",
      "['1000 ', ' 1250']\n",
      "['1000 ', ' 4000']\n",
      "['1000 ', ' 2500']\n",
      "['1500']\n",
      "['500 ', ' 1000']\n",
      "['1500 ', ' 2000']\n",
      "['900']\n",
      "['2500']\n",
      "['2100 ', ' 2500']\n",
      "['1500 ', ' 1750']\n",
      "['3000 ', ' 10000']\n",
      "['1200 ', ' 1500']\n",
      "['600 ', ' 2000']\n",
      "['1000 ', ' 2000']\n",
      "['2000 ', ' 3500']\n",
      "['300 ', ' 900']\n",
      "['300 ', ' 900']\n",
      "['1500 ', ' 2000']\n",
      "['1000 ', ' 1200']\n",
      "['2000 ', ' 3000']\n",
      "['2100 ', ' 2500']\n",
      "['1200']\n",
      "['600']\n",
      "['1000 ', ' 1250']\n",
      "['1500 ', ' 4000']\n",
      "['2100 ', ' 2500']\n",
      "['900']\n",
      "['400', '1000']\n",
      "['1000 ', ' 1200']\n",
      "['2000 ', ' 3000']\n",
      "['2000 ', ' 3000']\n",
      "['750 ', ' 7500']\n",
      "['801 ', ' 3000']\n",
      "['500 ', ' 3000']\n",
      "['1200']\n",
      "['1000 ', ' 1250']\n",
      "['1000 ', ' 1500']\n",
      "['1000 ', ' 1750']\n",
      "['1500']\n",
      "['2000 ', ' 2500']\n",
      "['2000 ', ' 2500']\n",
      "['1500 ', ' 1750']\n",
      "['1200 ', ' 2000']\n",
      "['2500']\n",
      "['1000 ', ' 1250']\n",
      "['2500 ', ' 3500']\n",
      "['2500']\n",
      "['1250 ', ' 2250']\n",
      "['500 ', ' 650']\n",
      "['500 ', ' 750']\n",
      "['1000 ', ' 1250']\n",
      "['500 ', ' 2500']\n",
      "['1000 ', ' 1250']\n",
      "['1250 ', ' 2000']\n",
      "['1000 ', ' 1250']\n",
      "['1000 ', ' 5000']\n",
      "['700 ', ' 5000']\n",
      "['1000 ', ' 1500']\n",
      "['1500 ', ' 1750']\n",
      "['750 ', ' 1000']\n",
      "['1500 ', ' 1750']\n",
      "['1500 ', ' 1750']\n",
      "['900 ', ' 3000']\n",
      "['1000 ', ' 1250']\n",
      "['2500']\n",
      "['1000 ', ' 1250']\n",
      "['1000 ', ' 1250']\n",
      "['1000 ', ' 3000']\n",
      "['1500 ', ' 1750']\n",
      "['0 ', ' 10000']\n",
      "['1500 ', ' 1800']\n",
      "['2100 ', ' 4000']\n",
      "['2500 ', ' 5000']\n",
      "['750']\n",
      "['2400 ', ' 3000']\n",
      "['1200']\n",
      "['800 ', ' 1500']\n",
      "['5000']\n",
      "['1800']\n",
      "['1200']\n",
      "['1000 ', ' 1250']\n",
      "['800 ', ' 1250']\n",
      "['100 ', ' 1000']\n",
      "['1500 ', ' 1750']\n",
      "['500 ', ' 3000']\n",
      "['4000 ', ' 6000']\n",
      "['1500 ', ' 1750']\n",
      "['800 ', ' 1300']\n",
      "['3600']\n",
      "['2500']\n",
      "['1000 ', ' 1250']\n",
      "['1000 ', ' 1250']\n",
      "['1800 ', ' 2200']\n",
      "['1000 ', ' 1200']\n",
      "['700 ', ' 1000']\n",
      "['6000']\n",
      "['750 ', ' 1200']\n",
      "['2000']\n",
      "['1250 ', ' 2500']\n",
      "['2000 ', ' 2300']\n",
      "['1500 ', ' 1750']\n",
      "['500 ', ' 750']\n",
      "['0 ', ' 2000']\n",
      "['3000 ', ' 4000']\n",
      "['3000 ', ' 4000']\n",
      "['700 ', ' 1500']\n",
      "['800 ', ' 2000']\n",
      "['1000 ', ' 1500']\n",
      "['1000 ', ' 1250']\n",
      "['250 ', ' 350']\n",
      "['750 ', ' 1200']\n",
      "['1350']\n",
      "['900']\n",
      "['900']\n",
      "['1000 ', ' 1250']\n",
      "['2400 ', ' 3000']\n",
      "['1000 ', ' 1200']\n",
      "['1200 ', ' 1500']\n",
      "['500 ', ' 1000']\n",
      "['600']\n",
      "['600 ', ' 900']\n",
      "['450 ', ' 600']\n",
      "['650']\n",
      "['0 ', ' 450']\n",
      "['300']\n",
      "['250 ', ' 350']\n",
      "['600']\n",
      "['500']\n",
      "['850 ', ' 1000']\n",
      "['1200']\n",
      "['600']\n",
      "['\\t600 ', ' 850']\n",
      "['500 ', ' 3000']\n",
      "['150 ', ' 200']\n",
      "['500 ', ' 750']\n",
      "['350 ', ' 500']\n",
      "['250 ', ' 750']\n",
      "['600 ', ' 1500']\n",
      "['200 ', ' 1000']\n",
      "['500 ', ' 1000']\n",
      "['200 ', ' 500']\n",
      "['450 ', ' 600']\n",
      "['450 ', ' 600']\n",
      "['301 ', ' 900']\n",
      "['1500 ', ' 5000']\n",
      "['1500 ', ' 4000']\n",
      "['350 ', ' 1000']\n",
      "['350 ', ' 600']\n",
      "['850']\n",
      "['900 ', ' 1200']\n",
      "['600 ', ' 850']\n",
      "['1000 ', ' 2000']\n",
      "['500 ', ' 2500']\n",
      "['200 ', ' 450']\n",
      "['50 ', ' 450']\n",
      "['600 ', ' 1500']\n",
      "['600 ', ' 850']\n",
      "['0 ', ' 500']\n",
      "['100 ', ' 300']\n",
      "['250 ', ' 500']\n",
      "['500 ', ' 1000']\n",
      "['600 ', ' 1200']\n",
      "['600 ', ' 850']\n",
      "['200 ', ' 500']\n",
      "['450 ', ' 600']\n",
      "['300']\n",
      "['300 ', ' 700']\n",
      "['150 ', ' 300']\n",
      "['500 ', ' 750']\n",
      "['1500']\n",
      "['500 ', ' 1000']\n",
      "['2000 ', ' 10000']\n",
      "['500 ', ' 750']\n",
      "['150 ', ' 300']\n",
      "['500 ', ' 750']\n",
      "['750 ', ' 1000']\n",
      "['250 ', ' 1000']\n",
      "['600 ', ' 850']\n",
      "['0 ', ' 500']\n",
      "['300 ', ' 800']\n",
      "['450 ', ' 600']\n",
      "['200 ', ' 2500']\n",
      "['850']\n",
      "['450 ', ' 600']\n",
      "['75 ', ' 100']\n",
      "['600 ', ' 850']\n",
      "['300 ', ' 750']\n",
      "['750 ', ' 1000']\n",
      "['450 ', ' 1000']\n",
      "['450 ', ' 600']\n",
      "['0 ', ' 1000']\n",
      "['500']\n",
      "['450 ', ' 600']\n",
      "['300 ', ' 500']\n",
      "['500 ', ' 1000']\n",
      "['200']\n",
      "['450 ', ' 600']\n",
      "['301 ', ' 750']\n",
      "['450 ', ' 600']\n",
      "['300 ', ' 600']\n",
      "['200 ', ' 1000']\n",
      "['450 ', ' 600']\n",
      "['500']\n",
      "['100 ', ' 500']\n",
      "['450 ', ' 600']\n",
      "['300']\n",
      "['850']\n",
      "['850 ', ' 1000']\n",
      "['150 ', ' 300']\n",
      "['600 ', ' 2000']\n",
      "['550 ', ' 1000']\n",
      "['150 ', ' 500']\n",
      "['300 ', ' 500']\n",
      "['500 ', ' 1500']\n",
      "['100 ', ' 300']\n",
      "['100 ', ' 300']\n",
      "['500 ', ' 1000']\n",
      "['400 ', ' 600']\n",
      "['750 ', ' 1000']\n",
      "['850 ', ' 1000']\n",
      "['300']\n",
      "['300']\n",
      "['450 ', ' 600']\n",
      "['500 ', ' 1500']\n",
      "['450 ', ' 600']\n",
      "['300']\n",
      "['200', '400']\n",
      "['400 ', ' 500']\n",
      "['500 ', ' 1000']\n",
      "['500 ', ' 1000']\n",
      "['100 ', ' 1000']\n",
      "['501 ', ' 800']\n",
      "['200 ', ' 500']\n",
      "['500']\n",
      "['500 ', ' 1000']\n",
      "['450 ', ' 850']\n",
      "['550']\n",
      "['500 ', ' 750']\n",
      "['400 ', ' 750']\n",
      "['600 ', ' 850']\n",
      "['550 ', ' 700']\n",
      "['850']\n",
      "['450 ', ' 600']\n",
      "['600 ', ' 1000']\n",
      "['850']\n",
      "['800 ', ' 1500']\n",
      "['150 ', ' 300']\n",
      "['250']\n",
      "['450 ', ' 600']\n",
      "['50 ', ' 300']\n",
      "['450 ', ' 600']\n",
      "['500 ', ' 1000']\n",
      "['200 ', ' 250']\n",
      "['300 ', ' 800']\n",
      "['200 ', ' 700']\n",
      "['500 ', ' 750']\n",
      "['600 ', ' 850']\n",
      "['150 ', ' 250']\n",
      "['600 ', ' 850']\n",
      "['600 ', ' 850']\n",
      "['300 ', ' 500']\n",
      "['\\t450 ', ' 600']\n",
      "['850']\n",
      "['450 ', ' 600']\n",
      "['450 ', ' 600']\n",
      "['300 ', ' 1000']\n",
      "['600 ', ' 850']\n",
      "['0 ', ' 5000']\n",
      "['600 ', ' 750']\n",
      "['1000 ', ' 2000']\n",
      "['500']\n",
      "['500']\n",
      "['600 ', ' 750']\n",
      "['500']\n",
      "['450 ', ' 800']\n",
      "['600']\n",
      "['600']\n",
      "['500']\n",
      "['450 ', ' 600']\n",
      "['450 ', ' 600']\n",
      "['50 ', ' 400']\n",
      "['600 ', ' 850']\n",
      "['200 ', ' 500']\n",
      "['600 ', ' 850']\n",
      "['600 ', ' 850']\n",
      "['400 ', ' 600']\n",
      "['1200']\n",
      "['1800']\n",
      "['300 ', ' 600']\n",
      "['450 ', ' 600']\n",
      "['550 ', ' 700']\n",
      "['400 ', ' 600']\n",
      "['300 ', ' 600']\n",
      "['3000']\n",
      "['250 ', ' 500']\n",
      "['480 ', ' 720']\n",
      "['250 ', ' 500']\n",
      "['600 ', ' 850']\n",
      "['600 ', ' 850']\n",
      "['200 ', ' 400']\n",
      "['0 ', ' 1250']\n",
      "['600 ', ' 1200']\n",
      "['600 ', ' 900']\n",
      "['300 ', ' 700']\n",
      "['300 ', ' 800']\n",
      "['300 ', ' 500']\n",
      "['450 ', ' 600']\n",
      "['100 ', ' 200']\n",
      "['300 ', ' 600']\n",
      "['800']\n",
      "['300']\n",
      "['300']\n",
      "['450 ', ' 600']\n",
      "['1000 ', ' 1500']\n",
      "['300 ', ' 500']\n",
      "['500 ', ' 750']\n",
      "['100 ', ' 500']\n",
      "['300']\n",
      "['250 ', ' 300']\n",
      "['200']\n",
      "['0 ', ' 150']\n",
      "['100 ']\n",
      "['100 ', ' 150']\n",
      "['300']\n",
      "['250']\n",
      "['300 ', ' 500']\n",
      "['300']\n",
      "['200']\n",
      "['200 ', ' 250']\n",
      "['150 ', ' 1500']\n",
      "['50 ', ' 75']\n",
      "['150 ', ' 250']\n",
      "['50 ', ' 150']\n",
      "['50 ', ' 250']\n",
      "['200 ', ' 600']\n",
      "['100 ', ' 500']\n",
      "['200 ', ' 500']\n",
      "['100 ', ' 200']\n",
      "['150 ', ' 200']\n",
      "['300']\n",
      "['200 ', ' 2000']\n",
      "['200 ', ' 2000']\n",
      "['100 ', ' 350']\n",
      "['150 ', ' 300']\n",
      "['100']\n",
      "['150 ', ' 200']\n",
      "['200 ', ' 250']\n",
      "['250 ', ' 500']\n",
      "['100 ', ' 500']\n",
      "['0 ', ' 150']\n",
      "['200 ', ' 500']\n",
      "['200 ', ' 250']\n",
      "['50 ', ' 100']\n",
      "['200 ', ' 300']\n",
      "['200 ', ' 300']\n",
      "['200 ', ' 250']\n",
      "['0 ', ' 150']\n",
      "['150 ', ' 200']\n",
      "['100']\n",
      "['100 ', ' 250']\n",
      "['75 ', ' 100']\n",
      "['50 ', ' 100']\n",
      "['200']\n",
      "['500 ', ' 2000']\n",
      "['150 ', ' 200']\n",
      "['75 ', ' 100']\n",
      "['250 ', ' 300']\n",
      "['100 ', ' 200']\n",
      "['100 ', ' 250']\n",
      "['200 ', ' 250']\n",
      "['100 ', ' 200']\n",
      "['150 ', ' 200']\n",
      "['0 ', ' 200']\n",
      "['100']\n",
      "['150 ', ' 200']\n",
      "['25 ', ' 50']\n",
      "['200 ', ' 250']\n",
      "['100 ', ' 250']\n",
      "['150 ', ' 200']\n",
      "['150 ', ' 800']\n",
      "['150 ', ' 200']\n",
      "['0 ', ' 301']\n",
      "['200']\n",
      "['50 ', ' 200']\n",
      "['50']\n",
      "['125 ', ' 150']\n",
      "['101 ', ' 250']\n",
      "['150 ', ' 200']\n",
      "['50 ', ' 100']\n",
      "['50 ', ' 200']\n",
      "['150 ', ' 200']\n",
      "['150']\n",
      "['50 ', ' 100']\n",
      "['150 ', ' 200']\n",
      "['100']\n",
      "['100']\n",
      "['300 ', ' 500']\n",
      "['50 ', ' 100']\n",
      "['250 ', ' 500']\n",
      "['150 ', ' 200']\n",
      "['0 ', ' 100']\n",
      "['20 ', ' 150']\n",
      "['200 ', ' 450']\n",
      "['100']\n",
      "['100']\n",
      "['125']\n",
      "['300 ', ' 500']\n",
      "['300 ', ' 500']\n",
      "['100']\n",
      "['150']\n",
      "['200 ', ' 500']\n",
      "['100']\n",
      "['0', '200']\n",
      "['\\t200 ', ' 300']\n",
      "['200 ', ' 300']\n",
      "['200 ', ' 300']\n",
      "['100 ', ' 200']\n",
      "['300 ', ' 500']\n",
      "['100 ', ' 200']\n",
      "['200']\n",
      "['50 ', ' 500']\n",
      "['150 ', ' 250']\n",
      "['150']\n",
      "['100 ', ' 200']\n",
      "['100 ', ' 200']\n",
      "['200 ', ' 250']\n",
      "['150 ', ' 250']\n",
      "['100']\n",
      "['150 ', ' 200']\n",
      "['0 ', ' 200']\n",
      "['100']\n",
      "['200 ', ' 1000']\n",
      "['75 ', ' 100']\n",
      "['100']\n",
      "['150 ', ' 200']\n",
      "['0 ', ' 50']\n",
      "['150 ', ' 200']\n",
      "['125 ', ' 400']\n",
      "['100 ', ' 150']\n",
      "['100 ', ' 200']\n",
      "['50 ', ' 200']\n",
      "['100 ', ' 200']\n",
      "['200 ', ' 250']\n",
      "['20 ', ' 75']\n",
      "['200 ', ' 250']\n",
      "['200 ', ' 250']\n",
      "['100 ', ' 150']\n",
      "['100 ', ' 200']\n",
      "['100']\n",
      "['150 ', ' 200']\n",
      "['100 ', ' 200']\n",
      "['200 ', ' 250']\n",
      "['0 ', ' 1000']\n",
      "['100 ', ' 200']\n",
      "['500 ', ' 1000']\n",
      "['100']\n",
      "['150 ', ' 200']\n",
      "['200']\n",
      "['150 ', ' 400']\n",
      "['200']\n",
      "['200']\n",
      "['100']\n",
      "['150 ', ' 200']\n",
      "['150 ', ' 200']\n",
      "['200 ', ' 250']\n",
      "['100 ', ' 200']\n",
      "['200 ', ' 250']\n",
      "['200 ', ' 250']\n",
      "['100 ', ' 150']\n",
      "['300']\n",
      "['500']\n",
      "['100']\n",
      "['150 ', ' 200']\n",
      "['200']\n",
      "['125']\n",
      "['0 ', ' 200']\n",
      "['600']\n",
      "['100 ', ' 200']\n",
      "['120 ', ' 300']\n",
      "['100 ', ' 150']\n",
      "['200 ', ' 250']\n",
      "['200 ', ' 250']\n",
      "['50 ', ' 100']\n",
      "['200 ', ' 600']\n",
      "['100 ', ' 200']\n",
      "['100 ', ' 200']\n",
      "['100 ', ' 150']\n",
      "['150 ', ' 200']\n",
      "['50 ', ' 75']\n",
      "['0 ', ' 250']\n",
      "['150']\n",
      "['100']\n",
      "['100']\n",
      "['150 ', ' 200']\n",
      "['0 ', ' 200']\n",
      "['50']\n",
      "['150 ', ' 200']\n"
     ]
    }
   ],
   "source": [
    "df[\"P1 Average\"] = df[\"P1\"].apply(avg_range)\n",
    "df[\"P2 Average\"] = df[\"P2\"].apply(avg_range)\n",
    "df[\"P3 Average\"] = df[\"P3\"].apply(avg_range)\n",
    "df[\"P4 Average\"] = df[\"P4\"].apply(avg_range)"
   ]
  },
  {
   "cell_type": "code",
   "execution_count": 142,
   "metadata": {},
   "outputs": [
    {
     "name": "stderr",
     "output_type": "stream",
     "text": [
      "/var/folders/p8/j40fdn353n30l2nvsd_70qgc0000gn/T/ipykernel_82363/631052674.py:3: FutureWarning: The default value of regex will change from True to False in a future version. In addition, single character regular expressions will *not* be treated as literal strings when regex=True.\n",
      "  row = row.str.replace(\"$\",\"\")\n"
     ]
    }
   ],
   "source": [
    "df[\"Maximum Reword\"] = cleanse_priority(df[\"Maximum Reword\"])"
   ]
  },
  {
   "cell_type": "code",
   "execution_count": 143,
   "metadata": {},
   "outputs": [],
   "source": [
    "df[\"annocument_count\"] = df[\"annocument_count\"].fillna(\"0\")"
   ]
  },
  {
   "cell_type": "code",
   "execution_count": 144,
   "metadata": {},
   "outputs": [],
   "source": [
    "df[\"P1 Average\"] = df[\"P1 Average\"].replace('None', 0)\n",
    "df[\"P1 Average\"] = df[\"P1 Average\"].astype(float)\n",
    "df[\"P1 Average\"] = df[\"P1 Average\"].fillna(\"0\")\n",
    "\n",
    "df[\"P2 Average\"] = df[\"P2 Average\"].replace('None', 0)\n",
    "df[\"P2 Average\"] = df[\"P2 Average\"].astype(float)\n",
    "df[\"P2 Average\"] = df[\"P2 Average\"].fillna(\"0\")\n",
    "\n",
    "df[\"P3 Average\"] = df[\"P3 Average\"].replace('None', 0)\n",
    "df[\"P3 Average\"] = df[\"P3 Average\"].astype(float)\n",
    "df[\"P3 Average\"] = df[\"P3 Average\"].fillna(\"0\")\n",
    "\n",
    "df[\"P4 Average\"] = df[\"P4 Average\"].replace('None', 0)\n",
    "df[\"P4 Average\"] = df[\"P4 Average\"].astype(float)\n",
    "df[\"P4 Average\"] = df[\"P4 Average\"].fillna(\"0\")\n"
   ]
  },
  {
   "cell_type": "code",
   "execution_count": 145,
   "metadata": {},
   "outputs": [],
   "source": [
    "df['Is Private'] = np.where(df['Link'].str.contains('teaser'), True, False)\n",
    "df['Is Private']= df['Is Private'].map({True: 1, False: 0})"
   ]
  },
  {
   "cell_type": "markdown",
   "metadata": {},
   "source": []
  },
  {
   "cell_type": "code",
   "execution_count": 146,
   "metadata": {},
   "outputs": [],
   "source": [
    "df = df.drop(columns=['P1','P2','P3','P4',\"Validation Within\",\"Reward Range\"])\n",
    "df = df.drop(columns=[\"Featured\",\"Unnamed: 0\",\"Short Description\",\"Link\",\"programm_ruels\"])"
   ]
  },
  {
   "attachments": {},
   "cell_type": "markdown",
   "metadata": {},
   "source": [
    "### To change the category variables to numeric variables, we are using one-hot encoding \n"
   ]
  },
  {
   "cell_type": "code",
   "execution_count": 147,
   "metadata": {},
   "outputs": [],
   "source": [
    "df['Is Safe Harbor'] = df['Is Safe Harbor'].cat.add_categories([\"Not Safe Harbor\"])\n",
    "df.rename(columns={'Is Safe Harbor': 'Safe Harbor'}, inplace=True)\n",
    "df['Safe Harbor'].fillna(\"Not Safe Harbor\", inplace=True)"
   ]
  },
  {
   "cell_type": "code",
   "execution_count": 148,
   "metadata": {},
   "outputs": [],
   "source": [
    "# df = pd.get_dummies(df, columns=[\"Is Safe Harbor\"])"
   ]
  },
  {
   "cell_type": "code",
   "execution_count": 149,
   "metadata": {},
   "outputs": [
    {
     "data": {
      "text/plain": [
       "0            0\n",
       "1      1000000\n",
       "2            0\n",
       "3            0\n",
       "4            0\n",
       "        ...   \n",
       "324          0\n",
       "325          0\n",
       "326          0\n",
       "327       4000\n",
       "328          0\n",
       "Name: Maximum Reword, Length: 329, dtype: int64"
      ]
     },
     "execution_count": 149,
     "metadata": {},
     "output_type": "execute_result"
    }
   ],
   "source": [
    "df[\"Maximum Reword\"]= df[\"Maximum Reword\"].str.replace(\",\",\"\")\n",
    "df[\"Maximum Reword\"]= df[\"Maximum Reword\"].astype(int)\n",
    "df[\"Maximum Reword\"]"
   ]
  },
  {
   "cell_type": "code",
   "execution_count": 150,
   "metadata": {},
   "outputs": [
    {
     "data": {
      "text/plain": [
       "0       0\n",
       "1      12\n",
       "2       0\n",
       "3      10\n",
       "4       9\n",
       "       ..\n",
       "324     1\n",
       "325     7\n",
       "326     1\n",
       "327     0\n",
       "328     0\n",
       "Name: annocument_count, Length: 329, dtype: int64"
      ]
     },
     "execution_count": 150,
     "metadata": {},
     "output_type": "execute_result"
    }
   ],
   "source": [
    "df[\"annocument_count\"]= df[\"annocument_count\"].astype(int)\n",
    "df[\"annocument_count\"]"
   ]
  },
  {
   "cell_type": "code",
   "execution_count": 151,
   "metadata": {},
   "outputs": [],
   "source": [
    "df[\"Vulnearbilities Rewarded\"]= df[\"Vulnearbilities Rewarded\"].fillna(0)"
   ]
  },
  {
   "cell_type": "code",
   "execution_count": 152,
   "metadata": {},
   "outputs": [],
   "source": [
    "df[\"Industry\"] = df[\"Industry\"].str.replace(\"nan\",\"\")"
   ]
  },
  {
   "cell_type": "code",
   "execution_count": null,
   "metadata": {},
   "outputs": [],
   "source": []
  },
  {
   "cell_type": "code",
   "execution_count": 153,
   "metadata": {},
   "outputs": [],
   "source": [
    "df.to_excel('../used_data/cleaned-dataset.xlsx', index=False)"
   ]
  },
  {
   "cell_type": "code",
   "execution_count": 154,
   "metadata": {},
   "outputs": [
    {
     "data": {
      "text/plain": [
       "Index(['Title', 'Safe Harbor', 'Vulnearbilities Rewarded', 'Average Payout',\n",
       "       'Hall of Famers', 'Number People', 'Maximum Reword', 'annocument_count',\n",
       "       'Industry', 'Technology', 'Technology API Target',\n",
       "       'Technology Web Targets', 'Technology Android Targets',\n",
       "       'Technology IoT Targets', 'Technology iOS Targets',\n",
       "       'Technology Hardware Targets', 'Featured Staff Picks',\n",
       "       'Featured BCTeamHunt2022', 'Featured New Scope & Increased Rewards',\n",
       "       'Featured Self Service', 'Featured Highest Reward Range',\n",
       "       'Featured Coordinated Disclosure', 'Featured Atlassian',\n",
       "       'Featured Needs a P1 warrior', 'Has Technology', 'Has Featured',\n",
       "       'Has Industry', 'Reward Range Average', 'Validation Within Hours',\n",
       "       'P1 Average', 'P2 Average', 'P3 Average', 'P4 Average', 'Is Private'],\n",
       "      dtype='object')"
      ]
     },
     "execution_count": 154,
     "metadata": {},
     "output_type": "execute_result"
    }
   ],
   "source": [
    "df.columns"
   ]
  },
  {
   "cell_type": "code",
   "execution_count": 155,
   "metadata": {},
   "outputs": [
    {
     "data": {
      "text/plain": [
       "(329, 34)"
      ]
     },
     "execution_count": 155,
     "metadata": {},
     "output_type": "execute_result"
    }
   ],
   "source": [
    "df.shape"
   ]
  },
  {
   "cell_type": "code",
   "execution_count": 156,
   "metadata": {},
   "outputs": [
    {
     "data": {
      "text/plain": [
       "(329, 34)"
      ]
     },
     "execution_count": 156,
     "metadata": {},
     "output_type": "execute_result"
    }
   ],
   "source": [
    "df.shape"
   ]
  },
  {
   "cell_type": "code",
   "execution_count": 157,
   "metadata": {},
   "outputs": [],
   "source": [
    "df.to_excel('../used_data/cleaned-no-one-hot-encoding-technology.xlsx', index=False)"
   ]
  },
  {
   "cell_type": "code",
   "execution_count": 158,
   "metadata": {},
   "outputs": [
    {
     "data": {
      "text/plain": [
       "Index(['Title', 'Safe Harbor', 'Vulnearbilities Rewarded', 'Average Payout',\n",
       "       'Hall of Famers', 'Number People', 'Maximum Reword', 'annocument_count',\n",
       "       'Industry', 'Technology', 'Technology API Target',\n",
       "       'Technology Web Targets', 'Technology Android Targets',\n",
       "       'Technology IoT Targets', 'Technology iOS Targets',\n",
       "       'Technology Hardware Targets', 'Featured Staff Picks',\n",
       "       'Featured BCTeamHunt2022', 'Featured New Scope & Increased Rewards',\n",
       "       'Featured Self Service', 'Featured Highest Reward Range',\n",
       "       'Featured Coordinated Disclosure', 'Featured Atlassian',\n",
       "       'Featured Needs a P1 warrior', 'Has Technology', 'Has Featured',\n",
       "       'Has Industry', 'Reward Range Average', 'Validation Within Hours',\n",
       "       'P1 Average', 'P2 Average', 'P3 Average', 'P4 Average', 'Is Private'],\n",
       "      dtype='object')"
      ]
     },
     "execution_count": 158,
     "metadata": {},
     "output_type": "execute_result"
    }
   ],
   "source": [
    "df.columns"
   ]
  },
  {
   "cell_type": "code",
   "execution_count": 159,
   "metadata": {},
   "outputs": [],
   "source": [
    "transformed_columns = ['Vulnearbilities Rewarded','Average Payout','Hall of Famers','Number People','annocument_count','Reward Range Average','Validation Within Hours','P1 Average','P2 Average','P3 Average','P4 Average']"
   ]
  },
  {
   "cell_type": "code",
   "execution_count": 160,
   "metadata": {},
   "outputs": [],
   "source": [
    "df_log = df.copy()\n",
    "df_log[transformed_columns] = df_log[transformed_columns].astype(float)\n",
    "df_log[transformed_columns] = df_log[transformed_columns].replace(0, np.nan)\n",
    "df_log[transformed_columns] = np.log(df_log[transformed_columns].values )\n",
    "df_log.fillna(0, inplace=True)\n"
   ]
  },
  {
   "cell_type": "code",
   "execution_count": 161,
   "metadata": {},
   "outputs": [],
   "source": [
    "df_2021 = pd.read_excel(\"../used_data/bugcrowd-19.01.2021.xlsx\")"
   ]
  },
  {
   "cell_type": "code",
   "execution_count": 162,
   "metadata": {},
   "outputs": [
    {
     "data": {
      "text/plain": [
       "71"
      ]
     },
     "execution_count": 162,
     "metadata": {},
     "output_type": "execute_result"
    }
   ],
   "source": [
    "df_2021[\"Title\"].nunique()"
   ]
  },
  {
   "cell_type": "code",
   "execution_count": 163,
   "metadata": {},
   "outputs": [],
   "source": [
    "df_log[\"Older Than 2 Year\"] = df_log[\"Title\"].isin(df_2021[\"Title\"])"
   ]
  },
  {
   "cell_type": "code",
   "execution_count": 164,
   "metadata": {},
   "outputs": [
    {
     "data": {
      "text/plain": [
       "0      False\n",
       "1      False\n",
       "2      False\n",
       "3      False\n",
       "4      False\n",
       "       ...  \n",
       "324     True\n",
       "325    False\n",
       "326     True\n",
       "327    False\n",
       "328    False\n",
       "Name: Older Than 2 Year, Length: 329, dtype: bool"
      ]
     },
     "execution_count": 164,
     "metadata": {},
     "output_type": "execute_result"
    }
   ],
   "source": [
    "df_log[\"Older Than 2 Year\"]"
   ]
  },
  {
   "cell_type": "code",
   "execution_count": 165,
   "metadata": {},
   "outputs": [
    {
     "data": {
      "text/plain": [
       "False    283\n",
       "True      46\n",
       "Name: Older Than 2 Year, dtype: int64"
      ]
     },
     "execution_count": 165,
     "metadata": {},
     "output_type": "execute_result"
    }
   ],
   "source": [
    "df_log[\"Older Than 2 Year\"].value_counts()"
   ]
  },
  {
   "cell_type": "code",
   "execution_count": 166,
   "metadata": {},
   "outputs": [],
   "source": [
    "df_2016 = pd.read_excel(\"../used_data/14-February-2016.xlsx\")"
   ]
  },
  {
   "cell_type": "code",
   "execution_count": 167,
   "metadata": {},
   "outputs": [],
   "source": [
    "df_log[\"Older Than 6 Year\"] = df_log[\"Title\"].isin(df_2016[\"Title\"])"
   ]
  },
  {
   "cell_type": "code",
   "execution_count": 190,
   "metadata": {},
   "outputs": [
    {
     "data": {
      "text/plain": [
       "False    316\n",
       "True      13\n",
       "Name: Older Than 6 Year, dtype: int64"
      ]
     },
     "execution_count": 190,
     "metadata": {},
     "output_type": "execute_result"
    }
   ],
   "source": [
    "df_log[\"Older Than 6 Year\"].value_counts()"
   ]
  },
  {
   "cell_type": "code",
   "execution_count": 168,
   "metadata": {},
   "outputs": [],
   "source": [
    "df_log.to_excel('../used_data/cleaned-log-nan.xlsx', index=False)"
   ]
  },
  {
   "cell_type": "code",
   "execution_count": 169,
   "metadata": {},
   "outputs": [],
   "source": [
    "df_sqrt = df.copy()\n",
    "df_sqrt[transformed_columns] = df_sqrt[transformed_columns].astype(float)\n",
    "df_sqrt[transformed_columns] = df_sqrt[transformed_columns].replace(0, np.nan)\n",
    "df_sqrt[transformed_columns] = np.sqrt(df_sqrt[transformed_columns].values )\n",
    "df_sqrt.fillna(0, inplace=True)\n"
   ]
  },
  {
   "cell_type": "code",
   "execution_count": 170,
   "metadata": {},
   "outputs": [],
   "source": [
    "df_sqrt.to_excel('../used_data/cleaned-sqrt.xlsx', index=False)"
   ]
  },
  {
   "cell_type": "code",
   "execution_count": 171,
   "metadata": {},
   "outputs": [],
   "source": [
    "from scipy.stats import boxcox\n",
    "df[transformed_columns] = df[transformed_columns].astype(float)\n",
    "df_transformed = df.copy()\n",
    "\n",
    "for col in transformed_columns:\n",
    "    x = df[col].replace(0, np.nan)\n",
    "    transformed_x, lambda_ = boxcox(x)\n",
    "    df_transformed[col] = transformed_x\n"
   ]
  },
  {
   "cell_type": "code",
   "execution_count": 172,
   "metadata": {},
   "outputs": [],
   "source": [
    "df_transformed.to_excel('../used_data/cleaned-boxcox.xlsx', index=False)"
   ]
  },
  {
   "attachments": {},
   "cell_type": "markdown",
   "metadata": {},
   "source": [
    "# Plotting"
   ]
  },
  {
   "cell_type": "code",
   "execution_count": 173,
   "metadata": {},
   "outputs": [],
   "source": [
    "# df = pd.read_excel(\"/Users/patrickahrend/Developer/data-analytics-bugcrowd/data-octa/bugcrowd_modified_24.12.xlsx\")"
   ]
  },
  {
   "cell_type": "code",
   "execution_count": 174,
   "metadata": {},
   "outputs": [
    {
     "data": {
      "text/plain": [
       "Index(['Title', 'Safe Harbor', 'Vulnearbilities Rewarded', 'Average Payout',\n",
       "       'Hall of Famers', 'Number People', 'Maximum Reword', 'annocument_count',\n",
       "       'Industry', 'Technology', 'Technology API Target',\n",
       "       'Technology Web Targets', 'Technology Android Targets',\n",
       "       'Technology IoT Targets', 'Technology iOS Targets',\n",
       "       'Technology Hardware Targets', 'Featured Staff Picks',\n",
       "       'Featured BCTeamHunt2022', 'Featured New Scope & Increased Rewards',\n",
       "       'Featured Self Service', 'Featured Highest Reward Range',\n",
       "       'Featured Coordinated Disclosure', 'Featured Atlassian',\n",
       "       'Featured Needs a P1 warrior', 'Has Technology', 'Has Featured',\n",
       "       'Has Industry', 'Reward Range Average', 'Validation Within Hours',\n",
       "       'P1 Average', 'P2 Average', 'P3 Average', 'P4 Average', 'Is Private'],\n",
       "      dtype='object')"
      ]
     },
     "execution_count": 174,
     "metadata": {},
     "output_type": "execute_result"
    }
   ],
   "source": [
    "df.columns"
   ]
  },
  {
   "cell_type": "code",
   "execution_count": 175,
   "metadata": {},
   "outputs": [],
   "source": [
    "def plot_histogram(df, column, x_postfix,n):\n",
    "    # Create a histogram of the specified column\n",
    "    sns.histplot(df[column], bins=30)\n",
    "    plt.xlim(0, None)\n",
    "\n",
    "    # Add labels to the plot\n",
    "    plt.xlabel(column+ \" \" + x_postfix)\n",
    "    plt.ylabel(\"Frequency\")\n",
    "\n",
    "    # Add a vertical line for the mean value\n",
    "    mean = df[column].mean()\n",
    "    plt.axvline(mean, color=\"r\", linestyle=\"dashed\", linewidth=1)\n",
    "    plt.text(mean, 50, \" Avg: \" + str(int(mean)), ha=\"left\", color=\"r\")\n",
    "\n",
    "    # Add a vertical line for the median value\n",
    "    median = df[column].median()\n",
    "    plt.axvline(median, color=\"g\", linestyle=\"dashed\", linewidth=1)\n",
    "    plt.text(median, 40, \" Median: \" + str(int(median)), ha=\"left\", color=\"g\")\n",
    "\n",
    "    # Add a vertical line for the maximum value\n",
    "    max_value = df[column].max()\n",
    "    plt.text(max_value, 2, \" Max: \" + str(int(max_value)), ha=\"right\", color=\"b\")\n",
    "\n",
    "\n",
    "    # Add n to the top right corner\n",
    "    ax = plt.gca()\n",
    "    ax.text(1, 0.98, f\"n={n}\", horizontalalignment='right', verticalalignment='top', transform=ax.transAxes)\n",
    "\n",
    "    # Save the plot to a file\n",
    "    plt.savefig(f\"/Users/patrickahrend/Developer/data-analytics-bugcrowd/diagrams/histogram_{column}.png\",facecolor=\"white\", edgecolor=\"none\")"
   ]
  },
  {
   "cell_type": "code",
   "execution_count": 176,
   "metadata": {},
   "outputs": [],
   "source": [
    "def drop_nan(df, column):\n",
    "    # Drop all rows that have NaN values in the specified column\n",
    "    num_rows_dropped = df[column == 0].shape[0]\n",
    "\n",
    "    # Drop the rows with a value of 0 in the \"Average Payout\" column\n",
    "    df = df[column != 0]\n",
    "\n",
    "    # Count the number of rows remaining\n",
    "    num_rows_remaining = df.shape[0]\n",
    "\n",
    "    print(f\"{num_rows_dropped} rows were dropped.\")\n",
    "    print(f\"{num_rows_remaining} rows remaining.\")\n",
    "    return df, num_rows_remaining"
   ]
  },
  {
   "cell_type": "code",
   "execution_count": 177,
   "metadata": {},
   "outputs": [
    {
     "name": "stdout",
     "output_type": "stream",
     "text": [
      "7 rows were dropped.\n",
      "257 rows remaining.\n"
     ]
    },
    {
     "data": {
      "image/png": "[encoded data removed]",
      "text/plain": [
       "<Figure size 432x288 with 1 Axes>"
      ]
     },
     "metadata": {
      "needs_background": "light"
     },
     "output_type": "display_data"
    }
   ],
   "source": [
    "df = pd.read_excel(\"/Users/patrickahrend/Developer/data-analytics-bugcrowd/data-octa/bugcrowd_modified_24.12.xlsx\")\n",
    "df,n = drop_nan(df, df[\"Vulnearbilities Rewarded\"])\n",
    "\n",
    "plot_histogram(df, \"Vulnearbilities Rewarded\",\"\",n)"
   ]
  },
  {
   "cell_type": "code",
   "execution_count": 178,
   "metadata": {},
   "outputs": [
    {
     "name": "stdout",
     "output_type": "stream",
     "text": [
      "153 rows were dropped.\n",
      "111 rows remaining.\n"
     ]
    },
    {
     "data": {
      "image/png": "[encoded data removed]",
      "text/plain": [
       "<Figure size 432x288 with 1 Axes>"
      ]
     },
     "metadata": {
      "needs_background": "light"
     },
     "output_type": "display_data"
    }
   ],
   "source": [
    "df = pd.read_excel(\"/Users/patrickahrend/Developer/data-analytics-bugcrowd/data-octa/bugcrowd_modified_24.12.xlsx\")\n",
    "df,n = drop_nan(df, df[\"Average Payout\"])\n",
    "plot_histogram(df, \"Average Payout\", \"in $\",n)"
   ]
  },
  {
   "cell_type": "code",
   "execution_count": 179,
   "metadata": {},
   "outputs": [
    {
     "name": "stdout",
     "output_type": "stream",
     "text": [
      "0 rows were dropped.\n",
      "264 rows remaining.\n"
     ]
    },
    {
     "data": {
      "image/png": "[encoded data removed]",
      "text/plain": [
       "<Figure size 432x288 with 1 Axes>"
      ]
     },
     "metadata": {
      "needs_background": "light"
     },
     "output_type": "display_data"
    }
   ],
   "source": [
    "df = pd.read_excel(\"/Users/patrickahrend/Developer/data-analytics-bugcrowd/data-octa/bugcrowd_modified_24.12.xlsx\")\n",
    "df,n = drop_nan(df, df[\"Validation Within\"])\n",
    "plot_histogram(df, \"Validation Within\", \"in hours\",n)"
   ]
  },
  {
   "cell_type": "code",
   "execution_count": 180,
   "metadata": {},
   "outputs": [
    {
     "name": "stdout",
     "output_type": "stream",
     "text": [
      "47 rows were dropped.\n",
      "217 rows remaining.\n"
     ]
    },
    {
     "data": {
      "image/png": "[encoded data removed]",
      "text/plain": [
       "<Figure size 432x288 with 1 Axes>"
      ]
     },
     "metadata": {
      "needs_background": "light"
     },
     "output_type": "display_data"
    }
   ],
   "source": [
    "df = pd.read_excel(\"/Users/patrickahrend/Developer/data-analytics-bugcrowd/data-octa/bugcrowd_modified_24.12.xlsx\")\n",
    "df,n = drop_nan(df, df[\"Number People\"])\n",
    "plot_histogram(df, \"Number People\", \"\",n)"
   ]
  },
  {
   "cell_type": "code",
   "execution_count": 181,
   "metadata": {},
   "outputs": [
    {
     "name": "stdout",
     "output_type": "stream",
     "text": [
      "74 rows were dropped.\n",
      "190 rows remaining.\n"
     ]
    },
    {
     "data": {
      "image/png": "[encoded data removed]",
      "text/plain": [
       "<Figure size 432x288 with 1 Axes>"
      ]
     },
     "metadata": {
      "needs_background": "light"
     },
     "output_type": "display_data"
    }
   ],
   "source": [
    "\n",
    "df = pd.read_excel(\"/Users/patrickahrend/Developer/data-analytics-bugcrowd/data-octa/bugcrowd_modified_24.12.xlsx\")\n",
    "df,n = drop_nan(df, df[\"Hall of Famers\"])\n",
    "plot_histogram(df, \"Hall of Famers\", \"\",n)\n"
   ]
  },
  {
   "attachments": {},
   "cell_type": "markdown",
   "metadata": {},
   "source": [
    "### Safe habour"
   ]
  },
  {
   "cell_type": "code",
   "execution_count": 182,
   "metadata": {},
   "outputs": [
    {
     "name": "stdout",
     "output_type": "stream",
     "text": [
      "0 rows were dropped.\n",
      "264 rows remaining.\n"
     ]
    }
   ],
   "source": [
    "df = pd.read_excel(\"/Users/patrickahrend/Developer/data-analytics-bugcrowd/data-octa/bugcrowd_modified_24.12.xlsx\")\n",
    "# Plot the counts using seaborn\n",
    "df,n = drop_nan(df, df[\"Is Safe Harbor\"])\n",
    "counts = df[\"Is Safe Harbor\"].value_counts()\n",
    "count_n = counts.iloc[0] + counts.iloc[1]\n",
    "dropped_columns = n - count_n\n",
    "\n",
    "\n"
   ]
  },
  {
   "cell_type": "code",
   "execution_count": 183,
   "metadata": {},
   "outputs": [
    {
     "data": {
      "image/png": "[encoded data removed]",
      "text/plain": [
       "<Figure size 432x288 with 1 Axes>"
      ]
     },
     "metadata": {
      "needs_background": "light"
     },
     "output_type": "display_data"
    }
   ],
   "source": [
    "colors = [(0, 0, 1, 1), (0, 1, 0, 1), (1, 0, 0, 1)]\n",
    "sns.barplot(x=[\"Safe Harbor\", \"Partional Safe Harbor\", \"Not Harbor\"], y=[counts.iloc[0], counts.iloc[1], dropped_columns], data=df)\n",
    "plt.title(\"Counts of Safe Harbor Status\")\n",
    "ax = plt.gca()\n",
    "ax.text(1, 0.98, f\"n={n}\", horizontalalignment='right', verticalalignment='top', transform=ax.transAxes)\n",
    "plt.savefig(\"/Users/patrickahrend/Developer/data-analytics-bugcrowd/diagrams/histogram_safe_habor.png\",facecolor=\"white\", edgecolor=\"none\")"
   ]
  },
  {
   "attachments": {},
   "cell_type": "markdown",
   "metadata": {},
   "source": [
    "----------------"
   ]
  },
  {
   "attachments": {},
   "cell_type": "markdown",
   "metadata": {},
   "source": [
    "## Average payout plotting"
   ]
  },
  {
   "cell_type": "code",
   "execution_count": 184,
   "metadata": {},
   "outputs": [
    {
     "name": "stderr",
     "output_type": "stream",
     "text": [
      "/var/folders/p8/j40fdn353n30l2nvsd_70qgc0000gn/T/ipykernel_82363/1731563499.py:5: FutureWarning: The default value of regex will change from True to False in a future version. In addition, single character regular expressions will *not* be treated as literal strings when regex=True.\n",
      "  df[\"Average_payout\"] = df[\"Average_payout\"].str.replace(\"$\", \"\").str.replace(\",\", \"\")\n"
     ]
    },
    {
     "data": {
      "image/png": "[encoded data removed]",
      "text/plain": [
       "<Figure size 432x288 with 1 Axes>"
      ]
     },
     "metadata": {
      "needs_background": "light"
     },
     "output_type": "display_data"
    }
   ],
   "source": [
    "# read the CSV file into a DataFrame\n",
    "df = pd.read_csv(\"/Users/patrickahrend/Developer/data-analytics-bugcrowd/data-octa/BugCrowd-Program-V3.csv\")\n",
    "\n",
    "# remove the $ sign and the comma from the Average_payout column\n",
    "df[\"Average_payout\"] = df[\"Average_payout\"].str.replace(\"$\", \"\").str.replace(\",\", \"\")\n",
    "\n",
    "\n",
    "\n",
    "\n",
    "\n",
    "\n",
    "# convert the Average_payout column to a numeric data type\n",
    "df[\"Average_payout\"] = pd.to_numeric(df[\"Average_payout\"])\n",
    "avg = df[\"Average_payout\"].mean()\n",
    "\n",
    "max_value = df[\"Average_payout\"].max()\n",
    "# create a histogram of the Average_payout column\n",
    "df[\"Average_payout\"].plot.hist(bins=100)\n",
    "\n",
    "# label the x and y axes\n",
    "plt.xlabel(\"Average Payout in $\")\n",
    "plt.ylabel(\"Frequency\")\n",
    "\n",
    "plt.text(max_value, 1, \"Max: \" + str(max_value))\n",
    "\n",
    "plt.axvline(avg, color=\"r\", linestyle=\"dashed\", linewidth=1)\n",
    "plt.text(avg, 10, \"Avg: \" + str(int(avg)), ha=\"center\", color=\"r\")\n",
    "\n",
    "# save the figure as a PNG file\n",
    "plt.savefig(\"/Users/patrickahrend/Developer/data-analytics-bugcrowd/diagrams/Average_payout.png\")\n",
    "\n",
    "\n"
   ]
  },
  {
   "attachments": {},
   "cell_type": "markdown",
   "metadata": {},
   "source": [
    "## Num of white head hackers"
   ]
  },
  {
   "cell_type": "code",
   "execution_count": 185,
   "metadata": {},
   "outputs": [
    {
     "name": "stdout",
     "output_type": "stream",
     "text": [
      "Average number of hacks: 526\n"
     ]
    },
    {
     "data": {
      "image/png": "[encoded data removed]",
      "text/plain": [
       "<Figure size 432x288 with 1 Axes>"
      ]
     },
     "metadata": {
      "needs_background": "light"
     },
     "output_type": "display_data"
    }
   ],
   "source": [
    "# read the CSV file into a DataFrame\n",
    "df = pd.read_csv(\"/Users/patrickahrend/Developer/data-analytics-bugcrowd/data-octa/BugCrowd-Program-V3.csv\")\n",
    "\n",
    "\n",
    "avg = df[\"Num_Hacks\"].mean()\n",
    "\n",
    "# print the average\n",
    "print(\"Average number of hacks:\", int(avg))\n",
    "\n",
    "# convert the Num_Hacks column to a numeric data type\n",
    "df[\"Num_Hacks\"] = pd.to_numeric(df[\"Num_Hacks\"])\n",
    "\n",
    "# create a histogram of the Num_Hacks column\n",
    "df[\"Num_Hacks\"].plot.hist(bins=100)\n",
    "\n",
    "# add a vertical line at the location of the average\n",
    "plt.axvline(avg, color=\"r\", linestyle=\"dashed\", linewidth=1)\n",
    "# label the x and y axes\n",
    "plt.xlabel(\"Number of Hacks\")\n",
    "plt.ylabel(\"Frequency\")\n",
    "max_value = df[\"Num_Hacks\"].max()\n",
    "plt.text(max_value, 2, \"Max: \" + str(max_value),ha=\"center\")\n",
    "\n",
    "plt.text(avg, 30, \"Avg: \" + str(int(avg)), ha=\"center\", color=\"r\")\n",
    "\n",
    "# save the figure as a PNG file\n",
    "plt.savefig(\"/Users/patrickahrend/Developer/data-analytics-bugcrowd/diagrams/Num_hacks.png\")\n",
    "\n",
    "\n"
   ]
  },
  {
   "attachments": {},
   "cell_type": "markdown",
   "metadata": {},
   "source": [
    "## Reward Average\n"
   ]
  },
  {
   "cell_type": "code",
   "execution_count": 186,
   "metadata": {},
   "outputs": [
    {
     "name": "stdout",
     "output_type": "stream",
     "text": [
      "Total count of values in the reward element column 176\n",
      "Average reward in $: 3242\n",
      "[2525.0, 5100.0, 1800.0, 5050.0, 5025.0, 2350.0, 10250.0, 5150.0, 1275.0, 2500.0, 662.5, 662.5, 1575.0, 3135.0, 1325.0, 1825.0, 1325.0, 2312.5, 6100.0, 5050.0, 25050.0, 5075.0, 5125.0, 10100.0, 800.0, 3100.0, 1250.0, 3050.0, 3100.0, 525.0, 5075.0, 1000.0, 1550.0, 3400.0, 3400.0, 3750.0, 2250.0, 2250.0, 1250.0, 1250.0, 2250.0, 1250.0, 1550.0, 2600.0, 1600.0, 1300.0, 12600.0, 3400.0, 3050.0, 4600.0, 3575.0, 15150.0, 2075.0, 3600.0, 1825.0, 3050.0, 3025.0, 2000.0, 2000.0, 850.0, 800.0, 1750.0, 675.0, 2600.0, 1275.0, 12625.0, 2100.0, 1325.0, 1325.0, 1575.0, 1325.0, 1800.0, 2525.0, 1325.0, 800.0, 2575.0, 2350.0, 1325.0, 800.0, 2550.0, 4250.0, 12550.0, 50000.0, 6100.0, 4800.0, 1250.0, 1550.0, 3050.0, 3050.0, 3050.0, 800.0, 1550.0, 2550.0, 1525.0, 2050.0, 2350.0, 1375.0, 1850.0, 2575.0, 4075.0, 1325.0, 1275.0, 5025.0, 2625.0, 625.0, 2500.0, 2550.0, 800.0, 5050.0, 2350.0, 3050.0, 2275.0, 1600.0, 1625.0, 1325.0, 1300.0, 5100.0, 3100.0, 4050.0, 4025.0, 3825.0, 2075.0, 800.0, 7550.0, 1550.0, 7550.0, 2350.0, 2325.0, 2025.0, 3075.0, 800.0, 2350.0, 2050.0, 2575.0, 1300.0, 1125.0, 6100.0, 2350.0, 2500.0, 5100.0, 2350.0, 2350.0, 1800.0, 2350.0, 1800.0, 1325.0, 1062.5, 2100.0, 1000.0, 1050.0, 1800.0, 3350.0, 2650.0, 1325.0, 5150.0, 1312.5, 3400.0, 2650.0, 5050.0, 2075.0, 5050.0, 5050.0, 2600.0, 7500.0, 1825.0, 1175.0, 675.0, 5025.0, 2350.0, 1262.5, 2500.0, 525.0, 1550.0, 500.0, 2500.0, 1300.0]\n",
      "this is the median 2350.0\n"
     ]
    },
    {
     "data": {
      "image/png": "[encoded data removed]",
      "text/plain": [
       "<Figure size 432x288 with 1 Axes>"
      ]
     },
     "metadata": {
      "needs_background": "light"
     },
     "output_type": "display_data"
    }
   ],
   "source": [
    "import csv \n",
    "import pandas as pd\n",
    "# Open the CSV file\n",
    "with open(\"/Users/patrickahrend/Developer/data-analytics-bugcrowd/data-octa/BugCrowd-Program-V3.csv\", 'r') as f:\n",
    "  # Create a CSV reader\n",
    "  reader = csv.reader(f)\n",
    "  # Skip the header row\n",
    "  next(reader)\n",
    "  total_average = 0\n",
    "  averages = []\n",
    "  count = 0\n",
    "  # Iterate over the rows of the CSV\n",
    "  for row in reader:\n",
    "    # Get the reward value from the current row\n",
    "    reward_range = row[1]\n",
    "\n",
    "    if reward_range == \"\":continue\n",
    "    #Split the reward range on the \"-\" character\n",
    "    if \"-\" in reward_range:\n",
    "  # Split the string on the \"-\" character\n",
    "      count += 1\n",
    "      lower, upper = reward_range.split(\"-\")\n",
    "    else:\n",
    "      # Assign the entire string to the lower variable\n",
    "      lower = reward_range\n",
    "      upper = None\n",
    "\n",
    "    \n",
    "    # Remove the \"$\" and \",\" characters from the strings\n",
    "    lower = lower.replace(\"$\", \"\").replace(\",\", \"\")\n",
    "    upper = upper.replace(\"$\", \"\").replace(\",\", \"\") if upper else None\n",
    "\n",
    "    if \"Points\" in lower:\n",
    "      lower = 0\n",
    "\n",
    "    # Convert the strings to integers\n",
    "\n",
    "    try :\n",
    "      lower = int(lower)\n",
    "      upper = int(upper) if upper else None\n",
    "    except ValueError:\n",
    "      print(\"ValueError\", lower, upper)\n",
    "\n",
    "      continue\n",
    "\n",
    "    # Calculate the average of the lower and upper bounds\n",
    "    if upper:\n",
    "      average = (lower + upper) / 2\n",
    "      total_average += average\n",
    "      averages.append(average)\n",
    "    else:\n",
    "      average = lower\n",
    "      total_average += average\n",
    "      averages.append(average)\n",
    "\n",
    "\n",
    "  print(\"Total count of values in the reward element column\",count)  \n",
    "  print(\"Average reward in $:\", int(total_average / count))\n",
    "  print(averages)\n",
    "  df = pd.DataFrame(averages, columns=[\"Average\"])\n",
    "  df.plot.hist(bins=100)\n",
    "  df_average = df[\"Average\"].mean()\n",
    "  df_median= df[\"Average\"].median()\n",
    "  print(\"this is the median\",df_median)\n",
    "  plt.axvline(df_median, color=\"g\", linestyle=\"dashed\", linewidth=1)\n",
    "  plt.axvline(df_average, color=\"r\", linestyle=\"dashed\", linewidth=1)\n",
    "  plt.text(df_median, 25, \"Median: \" + str(int(df_median)), color=\"g\")\n",
    "  plt.text(df_average, 25, \"Avg: \" + str(int(df_average)), color=\"r\")\n",
    "\n",
    "\n",
    "\n",
    "\n",
    "\n",
    "\n",
    "\n"
   ]
  },
  {
   "attachments": {},
   "cell_type": "markdown",
   "metadata": {},
   "source": [
    "## Safe Habour Plotted"
   ]
  },
  {
   "cell_type": "code",
   "execution_count": 187,
   "metadata": {},
   "outputs": [
    {
     "name": "stdout",
     "output_type": "stream",
     "text": [
      "Safe Harbor: 111\n",
      "Partial Safe Harbor: 68\n",
      "Not Safe Harbor: 86\n"
     ]
    },
    {
     "data": {
      "image/png": "[encoded data removed]",
      "text/plain": [
       "<Figure size 432x288 with 1 Axes>"
      ]
     },
     "metadata": {
      "needs_background": "light"
     },
     "output_type": "display_data"
    }
   ],
   "source": [
    "# Initialize lists to store the data\n",
    "safe_harbor = []\n",
    "partial_safe_harbor = []\n",
    "not_safe_harbor = []\n",
    "\n",
    "# Open the CSV file\n",
    "with open(\"/Users/patrickahrend/Developer/data-analytics-bugcrowd/data-octa/BugCrowd-Program-V3.csv\", 'r') as f:\n",
    "  # Create a CSV reader\n",
    "  reader = csv.reader(f)\n",
    "  \n",
    "  # Iterate over the rows of the CSV\n",
    "  for row in reader:\n",
    "    # Get the \"Is_Safe_harbor\" value from the current row\n",
    "    value = row[4]\n",
    "    \n",
    "    # Check the value and increment the appropriate list\n",
    "    if value == \"True\":\n",
    "      safe_harbor.append(1)\n",
    "    elif \"Partial safe harbor\" in value:\n",
    "      partial_safe_harbor.append(1)\n",
    "    else:\n",
    "      not_safe_harbor.append(1)\n",
    "\n",
    "# Calculate the lengths of the lists\n",
    "safe_harbor_count = len(safe_harbor)\n",
    "print(\"Safe Harbor:\", safe_harbor_count)\n",
    "partial_safe_harbor_count = len(partial_safe_harbor)\n",
    "print(\"Partial Safe Harbor:\", partial_safe_harbor_count)\n",
    "not_safe_harbor_count = len(not_safe_harbor)\n",
    "print(\"Not Safe Harbor:\", not_safe_harbor_count)\n",
    "\n",
    "# Create the bar chart\n",
    "plt.bar([\"Safe Harbor\", \"Partial Safe Harbor\", \"Not Safe Harbor\"], [safe_harbor_count, partial_safe_harbor_count, not_safe_harbor_count], color=[\"green\", \"orange\", \"red\"])\n",
    "\n",
    "# Show the chart\n",
    "plt.show()\n"
   ]
  },
  {
   "attachments": {},
   "cell_type": "markdown",
   "metadata": {},
   "source": [
    "## Num hall of fame "
   ]
  },
  {
   "cell_type": "code",
   "execution_count": 188,
   "metadata": {},
   "outputs": [
    {
     "ename": "NameError",
     "evalue": "name 'df_new' is not defined",
     "output_type": "error",
     "traceback": [
      "\u001b[0;31m---------------------------------------------------------------------------\u001b[0m",
      "\u001b[0;31mNameError\u001b[0m                                 Traceback (most recent call last)",
      "\u001b[1;32m/Users/patrickahrend/Developer/data-analytics-bugcrowd/src/analytics_notebook.ipynb Cell 108\u001b[0m in \u001b[0;36m<cell line: 3>\u001b[0;34m()\u001b[0m\n\u001b[1;32m      <a href='vscode-notebook-cell:/Users/patrickahrend/Developer/data-analytics-bugcrowd/src/analytics_notebook.ipynb#Y201sZmlsZQ%3D%3D?line=0'>1</a>\u001b[0m df \u001b[39m=\u001b[39m pd\u001b[39m.\u001b[39mread_excel(\u001b[39m\"\u001b[39m\u001b[39m/Users/patrickahrend/Developer/data-analytics-bugcrowd/data-octa/Bugcrowd_industry-asc_24.12.xlsx\u001b[39m\u001b[39m\"\u001b[39m)\n\u001b[0;32m----> <a href='vscode-notebook-cell:/Users/patrickahrend/Developer/data-analytics-bugcrowd/src/analytics_notebook.ipynb#Y201sZmlsZQ%3D%3D?line=2'>3</a>\u001b[0m df \u001b[39m=\u001b[39m df_new[\u001b[39m\"\u001b[39m\u001b[39mHall_of_famers\u001b[39m\u001b[39m\"\u001b[39m]\n\u001b[1;32m      <a href='vscode-notebook-cell:/Users/patrickahrend/Developer/data-analytics-bugcrowd/src/analytics_notebook.ipynb#Y201sZmlsZQ%3D%3D?line=3'>4</a>\u001b[0m df\u001b[39m.\u001b[39mdropna(inplace\u001b[39m=\u001b[39m\u001b[39mTrue\u001b[39;00m)\n\u001b[1;32m      <a href='vscode-notebook-cell:/Users/patrickahrend/Developer/data-analytics-bugcrowd/src/analytics_notebook.ipynb#Y201sZmlsZQ%3D%3D?line=5'>6</a>\u001b[0m df \u001b[39m=\u001b[39m df\u001b[39m.\u001b[39mstr\u001b[39m.\u001b[39mreplace(\u001b[39m\"\u001b[39m\u001b[39mView the hall\u001b[39m\u001b[39m\"\u001b[39m, \u001b[39m\"\u001b[39m\u001b[39m\"\u001b[39m)\u001b[39m.\u001b[39mstr\u001b[39m.\u001b[39mreplace(\u001b[39m\"\u001b[39m\u001b[39mView all \u001b[39m\u001b[39m\"\u001b[39m, \u001b[39m\"\u001b[39m\u001b[39m\"\u001b[39m)\n",
      "\u001b[0;31mNameError\u001b[0m: name 'df_new' is not defined"
     ]
    }
   ],
   "source": [
    "df = pd.read_excel(\"/Users/patrickahrend/Developer/data-analytics-bugcrowd/data-octa/Bugcrowd_industry-asc_24.12.xlsx\")\n",
    "\n",
    "df = df_new[\"Hall_of_famers\"]\n",
    "df.dropna(inplace=True)\n",
    "\n",
    "df = df.str.replace(\"View the hall\", \"\").str.replace(\"View all \", \"\")\n",
    "\n",
    "df = pd.to_numeric(df)\n",
    "# create a histogram of the Num_Hacks column\n",
    "df.plot.hist(bins=100)\n",
    "\n",
    "average = df.mean()\n",
    "average = int(average)\n",
    "median = int(df.median())\n",
    "# add a vertical line at the location of the average\n",
    "plt.axvline(average, color=\"r\", linestyle=\"dashed\", linewidth=1)\n",
    "plt.axvline(median, color=\"g\", linestyle=\"dashed\", linewidth=1)\n",
    "plt.text(median, 20, \"Median: \" + str(median),ha=\"left\",color=\"g\")\n",
    "# label the x and y axes\n",
    "plt.xlabel(\"Number of Hacks\")\n",
    "plt.ylabel(\"Frequency\")\n",
    "plt.text(average, 15, \"Max: \" + str(average),ha=\"center\",color=\"r\")\n",
    "\n",
    "\n",
    "\n",
    "\n"
   ]
  },
  {
   "cell_type": "code",
   "execution_count": null,
   "metadata": {},
   "outputs": [],
   "source": [
    "df = df_new[\"Hall_of_famers\"]\n",
    "df.dropna(inplace=True)\n",
    "\n",
    "for ele in df:\n",
    "  if ele == \"View the hall\":\n",
    "    df.replace(ele, 0, inplace=True)\n",
    "    \n",
    "\n",
    "df = pd.to_numeric(df)\n",
    "# create a histogram of the Num_Hacks column\n",
    "df.plot.hist(bins=100)\n",
    "\n",
    "average = df.mean()\n",
    "average = int(average)\n",
    "# add a vertical line at the location of the average\n",
    "plt.axvline(average, color=\"r\", linestyle=\"dashed\", linewidth=1)\n",
    "# label the x and y axes\n",
    "plt.xlabel(\"Number of Hacks\")\n",
    "plt.ylabel(\"Frequency\")\n",
    "plt.text(average, 15, \"Max: \" + str(average),ha=\"center\",color=\"r\")\n",
    "\n",
    "\n"
   ]
  },
  {
   "attachments": {},
   "cell_type": "markdown",
   "metadata": {},
   "source": [
    "## Validation within "
   ]
  },
  {
   "cell_type": "code",
   "execution_count": null,
   "metadata": {},
   "outputs": [],
   "source": [
    "df = pd.read_csv(\"/Users/patrickahrend/Developer/data-analytics-bugcrowd/data-octa/BugCrowd-Program-V3.csv\")\n",
    "\n",
    "df = df[\"Validation_within\"]\n",
    "df.dropna(inplace=True)\n",
    "df.str.replace('\\n', '').str.replace('days', '')\n",
    "\n",
    "df_final = pd.DataFrame()\n",
    "\n",
    "for ele in df:\n",
    "    if \"$\" in ele:\n",
    "        ele = ele.replace(ele, \"0\")\n",
    "        ele = ele.strip()\n",
    "    if \"days\" in ele:\n",
    "        ele = ele.replace(\"days\", \"\")\n",
    "        ele = ele.strip()\n",
    "        ele = int(ele)\n",
    "        ele = ele * 24\n",
    "        ele = str(ele) + \" hours\"\n",
    "    if \"day\" in ele:\n",
    "        ele = ele.replace(\"day\", \"\")\n",
    "        ele = ele.strip()\n",
    "        ele = int(ele)\n",
    "        ele = ele * 24\n",
    "        ele = str(ele) + \" hours\"\n",
    "    if \"about\" in ele:\n",
    "        ele = ele.replace(\"about\", \"\")\n",
    "        ele = ele.strip()\n",
    "    if \"month\" in ele:\n",
    "        ele = ele.replace(\"month\", \"\")\n",
    "        ele = ele.strip()\n",
    "        ele = int(ele)\n",
    "        ele = ele * 24 * 30\n",
    "        ele = str(ele) + \" hours\"\n",
    "    if \"minutes\" in ele:\n",
    "        ele = ele.replace(\"minutes\", \"\")\n",
    "        ele = ele.strip()\n",
    "        ele = int(ele)\n",
    "        ele = ele * 60\n",
    "        ele = str(ele) + \" hours\"\n",
    "    if \"hours\" in ele:\n",
    "        ele = ele.replace(\"hours\", \"\")\n",
    "        ele = ele.strip()\n",
    "    if \"hour\" in ele:\n",
    "        ele = ele.replace(\"hour\", \"\")\n",
    "        ele = ele.strip()\n",
    "    \n",
    "    df_final = df_final.append({'Validation_within': ele}, ignore_index=True)\n",
    "\n",
    "df_final = pd.to_numeric(df_final[\"Validation_within\"])\n",
    "df_final.plot.hist(bins=100)\n",
    "average = df_final.mean()\n",
    "average = int(average)\n",
    "# add a vertical line at the location of the average\n",
    "plt.axvline(average, color=\"r\", linestyle=\"dashed\", linewidth=1)\n",
    "# label the x and y axes\n",
    "plt.xlabel(\"Number of Hours\")\n",
    "plt.ylabel(\"Frequency\")\n",
    "plt.text(average, 35, \"Avg: \" + str(average),ha=\"center\",color=\"r\")\n",
    "    \n",
    "\n",
    "\n",
    "\n",
    "\n",
    "\n",
    "# df['Validation_within'] = df['Validation_within'].str.replace('\\n', '').str.replace('days', '')\n",
    "# # Extract the numerical values from the entries\n",
    "# df['Validation_within'] = df['Validation_within'].str.extract('(\\d+)')\n",
    "\n",
    "# # Convert the column to numeric type\n",
    "# df['Validation_within'] = pd.to_numeric(df['Validation_within'])\n",
    "\n",
    "# for element in df['Validation_within']:\n",
    "#     print(element)\n",
    "\n",
    "\n",
    "# df_new = pd.DateFrame(\"Validation_within\" , columns=[\"Validation_within\"])\n",
    "# df.dropna(inplace=True)\n",
    "# print(type(df))"
   ]
  },
  {
   "attachments": {},
   "cell_type": "markdown",
   "metadata": {},
   "source": [
    "## Scope Target Mobile"
   ]
  },
  {
   "cell_type": "code",
   "execution_count": null,
   "metadata": {},
   "outputs": [],
   "source": []
  },
  {
   "cell_type": "code",
   "execution_count": null,
   "metadata": {},
   "outputs": [],
   "source": []
  },
  {
   "attachments": {},
   "cell_type": "markdown",
   "metadata": {},
   "source": [
    "## Scope Target Android, IOS"
   ]
  },
  {
   "cell_type": "code",
   "execution_count": null,
   "metadata": {},
   "outputs": [],
   "source": []
  }
 ],
 "metadata": {
  "kernelspec": {
   "display_name": "Python 3.9.12 ('base')",
   "language": "python",
   "name": "python3"
  },
  "language_info": {
   "codemirror_mode": {
    "name": "ipython",
    "version": 3
   },
   "file_extension": ".py",
   "mimetype": "text/x-python",
   "name": "python",
   "nbconvert_exporter": "python",
   "pygments_lexer": "ipython3",
   "version": "3.9.12"
  },
  "orig_nbformat": 4,
  "vscode": {
   "interpreter": {
    "hash": "d3ddb9a339dcfec66cb1d066e0234a99f8d679773fa71ee722ae52c5be71efea"
   }
  }
 },
 "nbformat": 4,
 "nbformat_minor": 2
}
